{
  "nbformat": 4,
  "nbformat_minor": 0,
  "metadata": {
    "colab": {
      "name": "Caso 2. Comparación y evaluación de métricas de regresión lineal simple vs regresión polinomial con datos FIFA Python.ipynb",
      "provenance": [],
      "collapsed_sections": [],
      "authorship_tag": "ABX9TyM/XhIGzhXpVG6FFDKpHWj3",
      "include_colab_link": true
    },
    "kernelspec": {
      "name": "python3",
      "display_name": "Python 3"
    },
    "language_info": {
      "name": "python"
    }
  },
  "cells": [
    {
      "cell_type": "markdown",
      "metadata": {
        "id": "view-in-github",
        "colab_type": "text"
      },
      "source": [
        "<a href=\"https://colab.research.google.com/github/rpizarrog/Analisis-Inteligente-de-datos/blob/main/Pyhton%20documentos/Caso_2_Comparaci%C3%B3n_y_evaluaci%C3%B3n_de_m%C3%A9tricas_de_regresi%C3%B3n_lineal_simple_vs_regresi%C3%B3n_polinomial_con_datos_FIFA_Python.ipynb\" target=\"_parent\"><img src=\"https://colab.research.google.com/assets/colab-badge.svg\" alt=\"Open In Colab\"/></a>"
      ]
    },
    {
      "cell_type": "code",
      "execution_count": null,
      "metadata": {
        "id": "80Oe9jD0Ky6a"
      },
      "outputs": [],
      "source": [
        ""
      ]
    },
    {
      "cell_type": "markdown",
      "source": [
        "# Author: \"RUBÉN PIZARRO GURROLA\"\n",
        "# Date: \"10-03-2022\""
      ],
      "metadata": {
        "id": "BvNolQJkLNCx"
      }
    },
    {
      "cell_type": "markdown",
      "source": [
        "# Objetivo\n",
        "\n",
        "Construir modelos de regresión lineal simple y polinómico importando datos FIFA con variable Overall y Valor para realizar predicciones evaluando y comparando su rendimiento en métricas incialmente establecidas."
      ],
      "metadata": {
        "id": "jSMZLMdALVAh"
      }
    },
    {
      "cell_type": "markdown",
      "source": [
        "# Descripción\n",
        "\n",
        "* Cargar librerías\n",
        "\n",
        "* Cargar datos de FIFA\n",
        "\n",
        "* Métricas a evaluar\n",
        "\n",
        "* Explorar datos\n",
        "\n",
        "  * Variables independiente y dependiente\n",
        "\n",
        "  * Visualizar dispersión de los datos\n",
        "\n",
        "* Construir datos de entrenamiento y datos de validación.\n",
        "\n",
        "* Regresión Lineal Simple\n",
        "\n",
        "  * Construir el modelo\n",
        "\n",
        "  * Predicciones\n",
        "\n",
        "  * Metricas del modelo\n",
        "\n",
        "* Regresión Polinómica de segundo\n",
        "\n",
        "* Construir el modelo\n",
        "\n",
        "  * Predicciones\n",
        "\n",
        "  * Métricas del modelo\n",
        "\n",
        "* Regresión Polinómica de quinto nivel\n",
        "\n",
        "  * Construir el modelo\n",
        "\n",
        "  * Predicciones\n",
        "\n",
        "  * Métricas del modelo\n",
        "\n",
        "* Interpretación"
      ],
      "metadata": {
        "id": "beKfFKz1MbpS"
      }
    },
    {
      "cell_type": "markdown",
      "source": [
        "# Desarrollo\n",
        "\n"
      ],
      "metadata": {
        "id": "x0Lb50BFNK45"
      }
    },
    {
      "cell_type": "markdown",
      "source": [
        "## Métricas a valorar en los modelos\n",
        "Se van a realizar y evaluar métricas de las predicciones con los modelos de regresión lineal simple y regresión polinómica con los mismos datos.\n",
        "\n",
        "Los modelos se aceptan si las métricas cumplen estos requisitos:\n",
        "\n",
        "* El valor de R Square y R Square ajustado sobrepasa el 50%,\n",
        "\n",
        "* Que sus variables sea estadísticamente significativas al 95%. Al menos un ‘*’\n",
        "\n",
        "* Que el valor de RMSE (Raiz del Error Estándar Medio) sea menor que : 2 000 000 (dos millones).\n",
        "\n",
        "Al final se deben comparar los modelos."
      ],
      "metadata": {
        "id": "dY0fE3r2NSRA"
      }
    },
    {
      "cell_type": "markdown",
      "source": [
        "## Cargar librerías\n",
        "\n"
      ],
      "metadata": {
        "id": "ErdMrWD9NZBR"
      }
    },
    {
      "cell_type": "code",
      "source": [
        "import pandas as pd\n",
        "import numpy as np\n",
        "from sklearn import linear_model\n",
        "from sklearn.linear_model import LinearRegression\n",
        "from sklearn.preprocessing import PolynomialFeatures # Polinomial\n",
        "\n",
        "import matplotlib.pyplot as plt\n",
        "from sklearn.model_selection import train_test_split\n",
        "from sklearn import metrics\n",
        "from sklearn.metrics import mean_squared_error, r2_score\n",
        "#%matplotlib inline"
      ],
      "metadata": {
        "id": "5J2myhObNk75"
      },
      "execution_count": 1,
      "outputs": []
    },
    {
      "cell_type": "markdown",
      "source": [
        "## Cargar datos\n",
        "\n",
        "Los datos se encuentran en la URL: https://raw.githubusercontent.com/rpizarrog/Analisis-Inteligente-de-datos/main/datos/datos.FIFA.limpios.csv\n"
      ],
      "metadata": {
        "id": "0L06HMyBNaxx"
      }
    },
    {
      "cell_type": "code",
      "source": [
        "datos = pd.read_csv(\"https://raw.githubusercontent.com/rpizarrog/Analisis-Inteligente-de-datos/main/datos/datos.limpios.csv\", encoding='latin1')\n",
        "datos"
      ],
      "metadata": {
        "colab": {
          "base_uri": "https://localhost:8080/",
          "height": 678
        },
        "id": "tKT3K8OZNpyp",
        "outputId": "2f86d3bf-5621-4ee9-b979-6cef13d0cd43"
      },
      "execution_count": 2,
      "outputs": [
        {
          "output_type": "execute_result",
          "data": {
            "text/html": [
              "\n",
              "  <div id=\"df-a6973625-2d4b-4bb8-a903-e1e39fcd7734\">\n",
              "    <div class=\"colab-df-container\">\n",
              "      <div>\n",
              "<style scoped>\n",
              "    .dataframe tbody tr th:only-of-type {\n",
              "        vertical-align: middle;\n",
              "    }\n",
              "\n",
              "    .dataframe tbody tr th {\n",
              "        vertical-align: top;\n",
              "    }\n",
              "\n",
              "    .dataframe thead th {\n",
              "        text-align: right;\n",
              "    }\n",
              "</style>\n",
              "<table border=\"1\" class=\"dataframe\">\n",
              "  <thead>\n",
              "    <tr style=\"text-align: right;\">\n",
              "      <th></th>\n",
              "      <th>Unnamed: 0</th>\n",
              "      <th>X</th>\n",
              "      <th>Name</th>\n",
              "      <th>Age</th>\n",
              "      <th>Nationality</th>\n",
              "      <th>Overall</th>\n",
              "      <th>Potential</th>\n",
              "      <th>Club</th>\n",
              "      <th>Preferred.Foot</th>\n",
              "      <th>International.Reputation</th>\n",
              "      <th>...</th>\n",
              "      <th>StandingTackle</th>\n",
              "      <th>SlidingTackle</th>\n",
              "      <th>GKDiving</th>\n",
              "      <th>GKHandling</th>\n",
              "      <th>GKKicking</th>\n",
              "      <th>GKPositioning</th>\n",
              "      <th>GKReflexes</th>\n",
              "      <th>Valor</th>\n",
              "      <th>Estatura</th>\n",
              "      <th>PesoKgs</th>\n",
              "    </tr>\n",
              "  </thead>\n",
              "  <tbody>\n",
              "    <tr>\n",
              "      <th>0</th>\n",
              "      <td>1</td>\n",
              "      <td>1</td>\n",
              "      <td>L. Messi</td>\n",
              "      <td>31</td>\n",
              "      <td>Argentina</td>\n",
              "      <td>94</td>\n",
              "      <td>94</td>\n",
              "      <td>FC Barcelona</td>\n",
              "      <td>Left</td>\n",
              "      <td>5</td>\n",
              "      <td>...</td>\n",
              "      <td>28</td>\n",
              "      <td>26</td>\n",
              "      <td>6</td>\n",
              "      <td>11</td>\n",
              "      <td>15</td>\n",
              "      <td>14</td>\n",
              "      <td>8</td>\n",
              "      <td>110500000</td>\n",
              "      <td>1.70</td>\n",
              "      <td>72.12</td>\n",
              "    </tr>\n",
              "    <tr>\n",
              "      <th>1</th>\n",
              "      <td>2</td>\n",
              "      <td>2</td>\n",
              "      <td>Cristiano Ronaldo</td>\n",
              "      <td>33</td>\n",
              "      <td>Portugal</td>\n",
              "      <td>94</td>\n",
              "      <td>94</td>\n",
              "      <td>Juventus</td>\n",
              "      <td>Right</td>\n",
              "      <td>5</td>\n",
              "      <td>...</td>\n",
              "      <td>31</td>\n",
              "      <td>23</td>\n",
              "      <td>7</td>\n",
              "      <td>11</td>\n",
              "      <td>15</td>\n",
              "      <td>14</td>\n",
              "      <td>11</td>\n",
              "      <td>77000000</td>\n",
              "      <td>1.88</td>\n",
              "      <td>83.01</td>\n",
              "    </tr>\n",
              "    <tr>\n",
              "      <th>2</th>\n",
              "      <td>3</td>\n",
              "      <td>3</td>\n",
              "      <td>Neymar Jr</td>\n",
              "      <td>26</td>\n",
              "      <td>Brazil</td>\n",
              "      <td>92</td>\n",
              "      <td>93</td>\n",
              "      <td>Paris Saint-Germain</td>\n",
              "      <td>Right</td>\n",
              "      <td>5</td>\n",
              "      <td>...</td>\n",
              "      <td>24</td>\n",
              "      <td>33</td>\n",
              "      <td>9</td>\n",
              "      <td>9</td>\n",
              "      <td>15</td>\n",
              "      <td>15</td>\n",
              "      <td>11</td>\n",
              "      <td>118500000</td>\n",
              "      <td>1.75</td>\n",
              "      <td>68.04</td>\n",
              "    </tr>\n",
              "    <tr>\n",
              "      <th>3</th>\n",
              "      <td>4</td>\n",
              "      <td>4</td>\n",
              "      <td>De Gea</td>\n",
              "      <td>27</td>\n",
              "      <td>Spain</td>\n",
              "      <td>91</td>\n",
              "      <td>93</td>\n",
              "      <td>Manchester United</td>\n",
              "      <td>Right</td>\n",
              "      <td>4</td>\n",
              "      <td>...</td>\n",
              "      <td>21</td>\n",
              "      <td>13</td>\n",
              "      <td>90</td>\n",
              "      <td>85</td>\n",
              "      <td>87</td>\n",
              "      <td>88</td>\n",
              "      <td>94</td>\n",
              "      <td>72000000</td>\n",
              "      <td>1.93</td>\n",
              "      <td>76.20</td>\n",
              "    </tr>\n",
              "    <tr>\n",
              "      <th>4</th>\n",
              "      <td>5</td>\n",
              "      <td>5</td>\n",
              "      <td>K. De Bruyne</td>\n",
              "      <td>27</td>\n",
              "      <td>Belgium</td>\n",
              "      <td>91</td>\n",
              "      <td>92</td>\n",
              "      <td>Manchester City</td>\n",
              "      <td>Right</td>\n",
              "      <td>4</td>\n",
              "      <td>...</td>\n",
              "      <td>58</td>\n",
              "      <td>51</td>\n",
              "      <td>15</td>\n",
              "      <td>13</td>\n",
              "      <td>5</td>\n",
              "      <td>10</td>\n",
              "      <td>13</td>\n",
              "      <td>102000000</td>\n",
              "      <td>1.80</td>\n",
              "      <td>69.85</td>\n",
              "    </tr>\n",
              "    <tr>\n",
              "      <th>...</th>\n",
              "      <td>...</td>\n",
              "      <td>...</td>\n",
              "      <td>...</td>\n",
              "      <td>...</td>\n",
              "      <td>...</td>\n",
              "      <td>...</td>\n",
              "      <td>...</td>\n",
              "      <td>...</td>\n",
              "      <td>...</td>\n",
              "      <td>...</td>\n",
              "      <td>...</td>\n",
              "      <td>...</td>\n",
              "      <td>...</td>\n",
              "      <td>...</td>\n",
              "      <td>...</td>\n",
              "      <td>...</td>\n",
              "      <td>...</td>\n",
              "      <td>...</td>\n",
              "      <td>...</td>\n",
              "      <td>...</td>\n",
              "      <td>...</td>\n",
              "    </tr>\n",
              "    <tr>\n",
              "      <th>17902</th>\n",
              "      <td>17951</td>\n",
              "      <td>17951</td>\n",
              "      <td>J. Lundstram</td>\n",
              "      <td>19</td>\n",
              "      <td>England</td>\n",
              "      <td>47</td>\n",
              "      <td>65</td>\n",
              "      <td>Crewe Alexandra</td>\n",
              "      <td>Right</td>\n",
              "      <td>1</td>\n",
              "      <td>...</td>\n",
              "      <td>48</td>\n",
              "      <td>47</td>\n",
              "      <td>10</td>\n",
              "      <td>13</td>\n",
              "      <td>7</td>\n",
              "      <td>8</td>\n",
              "      <td>9</td>\n",
              "      <td>60000</td>\n",
              "      <td>1.75</td>\n",
              "      <td>60.78</td>\n",
              "    </tr>\n",
              "    <tr>\n",
              "      <th>17903</th>\n",
              "      <td>17952</td>\n",
              "      <td>17952</td>\n",
              "      <td>N. Christoffersson</td>\n",
              "      <td>19</td>\n",
              "      <td>Sweden</td>\n",
              "      <td>47</td>\n",
              "      <td>63</td>\n",
              "      <td>Trelleborgs FF</td>\n",
              "      <td>Right</td>\n",
              "      <td>1</td>\n",
              "      <td>...</td>\n",
              "      <td>15</td>\n",
              "      <td>19</td>\n",
              "      <td>10</td>\n",
              "      <td>9</td>\n",
              "      <td>9</td>\n",
              "      <td>5</td>\n",
              "      <td>12</td>\n",
              "      <td>60000</td>\n",
              "      <td>1.91</td>\n",
              "      <td>77.11</td>\n",
              "    </tr>\n",
              "    <tr>\n",
              "      <th>17904</th>\n",
              "      <td>17953</td>\n",
              "      <td>17953</td>\n",
              "      <td>B. Worman</td>\n",
              "      <td>16</td>\n",
              "      <td>England</td>\n",
              "      <td>47</td>\n",
              "      <td>67</td>\n",
              "      <td>Cambridge United</td>\n",
              "      <td>Right</td>\n",
              "      <td>1</td>\n",
              "      <td>...</td>\n",
              "      <td>13</td>\n",
              "      <td>11</td>\n",
              "      <td>6</td>\n",
              "      <td>5</td>\n",
              "      <td>10</td>\n",
              "      <td>6</td>\n",
              "      <td>13</td>\n",
              "      <td>60000</td>\n",
              "      <td>1.73</td>\n",
              "      <td>67.13</td>\n",
              "    </tr>\n",
              "    <tr>\n",
              "      <th>17905</th>\n",
              "      <td>17954</td>\n",
              "      <td>17954</td>\n",
              "      <td>D. Walker-Rice</td>\n",
              "      <td>17</td>\n",
              "      <td>England</td>\n",
              "      <td>47</td>\n",
              "      <td>66</td>\n",
              "      <td>Tranmere Rovers</td>\n",
              "      <td>Right</td>\n",
              "      <td>1</td>\n",
              "      <td>...</td>\n",
              "      <td>25</td>\n",
              "      <td>27</td>\n",
              "      <td>14</td>\n",
              "      <td>6</td>\n",
              "      <td>14</td>\n",
              "      <td>8</td>\n",
              "      <td>9</td>\n",
              "      <td>60000</td>\n",
              "      <td>1.78</td>\n",
              "      <td>69.85</td>\n",
              "    </tr>\n",
              "    <tr>\n",
              "      <th>17906</th>\n",
              "      <td>17955</td>\n",
              "      <td>17955</td>\n",
              "      <td>G. Nugent</td>\n",
              "      <td>16</td>\n",
              "      <td>England</td>\n",
              "      <td>46</td>\n",
              "      <td>66</td>\n",
              "      <td>Tranmere Rovers</td>\n",
              "      <td>Right</td>\n",
              "      <td>1</td>\n",
              "      <td>...</td>\n",
              "      <td>43</td>\n",
              "      <td>50</td>\n",
              "      <td>10</td>\n",
              "      <td>15</td>\n",
              "      <td>9</td>\n",
              "      <td>12</td>\n",
              "      <td>9</td>\n",
              "      <td>60000</td>\n",
              "      <td>1.78</td>\n",
              "      <td>79.83</td>\n",
              "    </tr>\n",
              "  </tbody>\n",
              "</table>\n",
              "<p>17907 rows × 51 columns</p>\n",
              "</div>\n",
              "      <button class=\"colab-df-convert\" onclick=\"convertToInteractive('df-a6973625-2d4b-4bb8-a903-e1e39fcd7734')\"\n",
              "              title=\"Convert this dataframe to an interactive table.\"\n",
              "              style=\"display:none;\">\n",
              "        \n",
              "  <svg xmlns=\"http://www.w3.org/2000/svg\" height=\"24px\"viewBox=\"0 0 24 24\"\n",
              "       width=\"24px\">\n",
              "    <path d=\"M0 0h24v24H0V0z\" fill=\"none\"/>\n",
              "    <path d=\"M18.56 5.44l.94 2.06.94-2.06 2.06-.94-2.06-.94-.94-2.06-.94 2.06-2.06.94zm-11 1L8.5 8.5l.94-2.06 2.06-.94-2.06-.94L8.5 2.5l-.94 2.06-2.06.94zm10 10l.94 2.06.94-2.06 2.06-.94-2.06-.94-.94-2.06-.94 2.06-2.06.94z\"/><path d=\"M17.41 7.96l-1.37-1.37c-.4-.4-.92-.59-1.43-.59-.52 0-1.04.2-1.43.59L10.3 9.45l-7.72 7.72c-.78.78-.78 2.05 0 2.83L4 21.41c.39.39.9.59 1.41.59.51 0 1.02-.2 1.41-.59l7.78-7.78 2.81-2.81c.8-.78.8-2.07 0-2.86zM5.41 20L4 18.59l7.72-7.72 1.47 1.35L5.41 20z\"/>\n",
              "  </svg>\n",
              "      </button>\n",
              "      \n",
              "  <style>\n",
              "    .colab-df-container {\n",
              "      display:flex;\n",
              "      flex-wrap:wrap;\n",
              "      gap: 12px;\n",
              "    }\n",
              "\n",
              "    .colab-df-convert {\n",
              "      background-color: #E8F0FE;\n",
              "      border: none;\n",
              "      border-radius: 50%;\n",
              "      cursor: pointer;\n",
              "      display: none;\n",
              "      fill: #1967D2;\n",
              "      height: 32px;\n",
              "      padding: 0 0 0 0;\n",
              "      width: 32px;\n",
              "    }\n",
              "\n",
              "    .colab-df-convert:hover {\n",
              "      background-color: #E2EBFA;\n",
              "      box-shadow: 0px 1px 2px rgba(60, 64, 67, 0.3), 0px 1px 3px 1px rgba(60, 64, 67, 0.15);\n",
              "      fill: #174EA6;\n",
              "    }\n",
              "\n",
              "    [theme=dark] .colab-df-convert {\n",
              "      background-color: #3B4455;\n",
              "      fill: #D2E3FC;\n",
              "    }\n",
              "\n",
              "    [theme=dark] .colab-df-convert:hover {\n",
              "      background-color: #434B5C;\n",
              "      box-shadow: 0px 1px 3px 1px rgba(0, 0, 0, 0.15);\n",
              "      filter: drop-shadow(0px 1px 2px rgba(0, 0, 0, 0.3));\n",
              "      fill: #FFFFFF;\n",
              "    }\n",
              "  </style>\n",
              "\n",
              "      <script>\n",
              "        const buttonEl =\n",
              "          document.querySelector('#df-a6973625-2d4b-4bb8-a903-e1e39fcd7734 button.colab-df-convert');\n",
              "        buttonEl.style.display =\n",
              "          google.colab.kernel.accessAllowed ? 'block' : 'none';\n",
              "\n",
              "        async function convertToInteractive(key) {\n",
              "          const element = document.querySelector('#df-a6973625-2d4b-4bb8-a903-e1e39fcd7734');\n",
              "          const dataTable =\n",
              "            await google.colab.kernel.invokeFunction('convertToInteractive',\n",
              "                                                     [key], {});\n",
              "          if (!dataTable) return;\n",
              "\n",
              "          const docLinkHtml = 'Like what you see? Visit the ' +\n",
              "            '<a target=\"_blank\" href=https://colab.research.google.com/notebooks/data_table.ipynb>data table notebook</a>'\n",
              "            + ' to learn more about interactive tables.';\n",
              "          element.innerHTML = '';\n",
              "          dataTable['output_type'] = 'display_data';\n",
              "          await google.colab.output.renderOutput(dataTable, element);\n",
              "          const docLink = document.createElement('div');\n",
              "          docLink.innerHTML = docLinkHtml;\n",
              "          element.appendChild(docLink);\n",
              "        }\n",
              "      </script>\n",
              "    </div>\n",
              "  </div>\n",
              "  "
            ],
            "text/plain": [
              "       Unnamed: 0      X                Name  Age Nationality  Overall  \\\n",
              "0               1      1            L. Messi   31   Argentina       94   \n",
              "1               2      2   Cristiano Ronaldo   33    Portugal       94   \n",
              "2               3      3           Neymar Jr   26      Brazil       92   \n",
              "3               4      4              De Gea   27       Spain       91   \n",
              "4               5      5        K. De Bruyne   27     Belgium       91   \n",
              "...           ...    ...                 ...  ...         ...      ...   \n",
              "17902       17951  17951        J. Lundstram   19     England       47   \n",
              "17903       17952  17952  N. Christoffersson   19      Sweden       47   \n",
              "17904       17953  17953           B. Worman   16     England       47   \n",
              "17905       17954  17954      D. Walker-Rice   17     England       47   \n",
              "17906       17955  17955           G. Nugent   16     England       46   \n",
              "\n",
              "       Potential                 Club Preferred.Foot  \\\n",
              "0             94         FC Barcelona           Left   \n",
              "1             94             Juventus          Right   \n",
              "2             93  Paris Saint-Germain          Right   \n",
              "3             93    Manchester United          Right   \n",
              "4             92      Manchester City          Right   \n",
              "...          ...                  ...            ...   \n",
              "17902         65      Crewe Alexandra          Right   \n",
              "17903         63       Trelleborgs FF          Right   \n",
              "17904         67     Cambridge United          Right   \n",
              "17905         66      Tranmere Rovers          Right   \n",
              "17906         66      Tranmere Rovers          Right   \n",
              "\n",
              "       International.Reputation  ...  StandingTackle  SlidingTackle GKDiving  \\\n",
              "0                             5  ...              28             26        6   \n",
              "1                             5  ...              31             23        7   \n",
              "2                             5  ...              24             33        9   \n",
              "3                             4  ...              21             13       90   \n",
              "4                             4  ...              58             51       15   \n",
              "...                         ...  ...             ...            ...      ...   \n",
              "17902                         1  ...              48             47       10   \n",
              "17903                         1  ...              15             19       10   \n",
              "17904                         1  ...              13             11        6   \n",
              "17905                         1  ...              25             27       14   \n",
              "17906                         1  ...              43             50       10   \n",
              "\n",
              "      GKHandling  GKKicking  GKPositioning  GKReflexes      Valor  Estatura  \\\n",
              "0             11         15             14           8  110500000      1.70   \n",
              "1             11         15             14          11   77000000      1.88   \n",
              "2              9         15             15          11  118500000      1.75   \n",
              "3             85         87             88          94   72000000      1.93   \n",
              "4             13          5             10          13  102000000      1.80   \n",
              "...          ...        ...            ...         ...        ...       ...   \n",
              "17902         13          7              8           9      60000      1.75   \n",
              "17903          9          9              5          12      60000      1.91   \n",
              "17904          5         10              6          13      60000      1.73   \n",
              "17905          6         14              8           9      60000      1.78   \n",
              "17906         15          9             12           9      60000      1.78   \n",
              "\n",
              "       PesoKgs  \n",
              "0        72.12  \n",
              "1        83.01  \n",
              "2        68.04  \n",
              "3        76.20  \n",
              "4        69.85  \n",
              "...        ...  \n",
              "17902    60.78  \n",
              "17903    77.11  \n",
              "17904    67.13  \n",
              "17905    69.85  \n",
              "17906    79.83  \n",
              "\n",
              "[17907 rows x 51 columns]"
            ]
          },
          "metadata": {},
          "execution_count": 2
        }
      ]
    },
    {
      "cell_type": "markdown",
      "source": [
        ""
      ],
      "metadata": {
        "id": "zujQk-m1N1fr"
      }
    },
    {
      "cell_type": "code",
      "source": [
        "print(\"Observaciones y variables: \", datos.shape)\n",
        "print(\"Columnas y tipo de dato\")\n",
        "# datos.columns\n",
        "datos.dtypes"
      ],
      "metadata": {
        "colab": {
          "base_uri": "https://localhost:8080/"
        },
        "id": "JqMdn8q2OiVh",
        "outputId": "539a0757-b0bb-4ff9-ffb0-fa1e645359b5"
      },
      "execution_count": 3,
      "outputs": [
        {
          "output_type": "stream",
          "name": "stdout",
          "text": [
            "Observaciones y variables:  (17907, 51)\n",
            "Columnas y tipo de dato\n"
          ]
        },
        {
          "output_type": "execute_result",
          "data": {
            "text/plain": [
              "Unnamed: 0                    int64\n",
              "X                             int64\n",
              "Name                         object\n",
              "Age                           int64\n",
              "Nationality                  object\n",
              "Overall                       int64\n",
              "Potential                     int64\n",
              "Club                         object\n",
              "Preferred.Foot               object\n",
              "International.Reputation      int64\n",
              "Weak.Foot                     int64\n",
              "Skill.Moves                   int64\n",
              "Height                       object\n",
              "Weight                       object\n",
              "Crossing                      int64\n",
              "Finishing                     int64\n",
              "HeadingAccuracy               int64\n",
              "ShortPassing                  int64\n",
              "Volleys                       int64\n",
              "Dribbling                     int64\n",
              "Curve                         int64\n",
              "FKAccuracy                    int64\n",
              "LongPassing                   int64\n",
              "BallControl                   int64\n",
              "Acceleration                  int64\n",
              "SprintSpeed                   int64\n",
              "Agility                       int64\n",
              "Reactions                     int64\n",
              "Balance                       int64\n",
              "ShotPower                     int64\n",
              "Jumping                       int64\n",
              "Stamina                       int64\n",
              "Strength                      int64\n",
              "LongShots                     int64\n",
              "Aggression                    int64\n",
              "Interceptions                 int64\n",
              "Positioning                   int64\n",
              "Vision                        int64\n",
              "Penalties                     int64\n",
              "Composure                     int64\n",
              "Marking                       int64\n",
              "StandingTackle                int64\n",
              "SlidingTackle                 int64\n",
              "GKDiving                      int64\n",
              "GKHandling                    int64\n",
              "GKKicking                     int64\n",
              "GKPositioning                 int64\n",
              "GKReflexes                    int64\n",
              "Valor                         int64\n",
              "Estatura                    float64\n",
              "PesoKgs                     float64\n",
              "dtype: object"
            ]
          },
          "metadata": {},
          "execution_count": 3
        }
      ]
    },
    {
      "cell_type": "markdown",
      "source": [
        "### Variables independiente y dependiente\n",
        "\n",
        "Se identifican dos variables numéricas de interés:\n",
        "\n",
        "* *Overall*: Reputación y jerarquía internacional numérica del jugador\n",
        "\n",
        "* *Valor*: Sería el valor económico internacional de los jugadores\n",
        "\n",
        "Se define a la variable independiente como *Overall* y la variable dependiente Valor, es decir, *Overall* impacta sobre *Valor* o los números económicos de la variable Valor dependen de *Overall*."
      ],
      "metadata": {
        "id": "V2WzMsZAO9oC"
      }
    },
    {
      "cell_type": "code",
      "source": [
        "datos['Overall'].describe()"
      ],
      "metadata": {
        "colab": {
          "base_uri": "https://localhost:8080/"
        },
        "id": "lV7P4azuPTWK",
        "outputId": "49f0e868-ccb2-477c-e9d1-879a34cd4f9d"
      },
      "execution_count": 4,
      "outputs": [
        {
          "output_type": "execute_result",
          "data": {
            "text/plain": [
              "count    17907.000000\n",
              "mean        66.239571\n",
              "std          6.926818\n",
              "min         46.000000\n",
              "25%         62.000000\n",
              "50%         66.000000\n",
              "75%         71.000000\n",
              "max         94.000000\n",
              "Name: Overall, dtype: float64"
            ]
          },
          "metadata": {},
          "execution_count": 4
        }
      ]
    },
    {
      "cell_type": "code",
      "source": [
        "datos['Valor'].describe()"
      ],
      "metadata": {
        "colab": {
          "base_uri": "https://localhost:8080/"
        },
        "id": "GwBXRm7OPaFg",
        "outputId": "68e7c4e7-214d-4abd-d13a-bbeb65dcf10f"
      },
      "execution_count": 5,
      "outputs": [
        {
          "output_type": "execute_result",
          "data": {
            "text/plain": [
              "count    1.790700e+04\n",
              "mean     2.450133e+06\n",
              "std      5.633207e+06\n",
              "min      1.000000e+04\n",
              "25%      3.250000e+05\n",
              "50%      7.000000e+05\n",
              "75%      2.100000e+06\n",
              "max      1.185000e+08\n",
              "Name: Valor, dtype: float64"
            ]
          },
          "metadata": {},
          "execution_count": 5
        }
      ]
    },
    {
      "cell_type": "markdown",
      "source": [
        "## Dispersión de los datos\n"
      ],
      "metadata": {
        "id": "II5Aa3OYQvCR"
      }
    },
    {
      "cell_type": "code",
      "source": [
        "plt.plot(datos['Overall'], datos['Valor'], 'o', color= 'blue')"
      ],
      "metadata": {
        "colab": {
          "base_uri": "https://localhost:8080/",
          "height": 294
        },
        "id": "tL6I63vcQwoJ",
        "outputId": "f081ea65-6546-462f-cb85-cf1a4c59acf5"
      },
      "execution_count": 6,
      "outputs": [
        {
          "output_type": "execute_result",
          "data": {
            "text/plain": [
              "[<matplotlib.lines.Line2D at 0x7fdd9256a8d0>]"
            ]
          },
          "metadata": {},
          "execution_count": 6
        },
        {
          "output_type": "display_data",
          "data": {
            "image/png": "[encoded data removed]",
            "text/plain": [
              "<Figure size 432x288 with 1 Axes>"
            ]
          },
          "metadata": {
            "needs_background": "light"
          }
        }
      ]
    },
    {
      "cell_type": "markdown",
      "source": [
        "Se observa que la relación de los datos no es del todo lineal, pero se construirán los modelos de regresión lineal simple y polinómico con las mismas variables."
      ],
      "metadata": {
        "id": "h_Q7EllxRHLx"
      }
    },
    {
      "cell_type": "markdown",
      "source": [
        "## Datos de entrenamiento y datos de validación\n",
        "\n",
        "Se parten los datos 70% datos de entrenamiento y 30% datos de validación"
      ],
      "metadata": {
        "id": "f5VbED7PRIHN"
      }
    },
    {
      "cell_type": "code",
      "source": [
        "overall = datos[['Overall']].to_numpy()\n",
        "valor = datos[['Valor']].to_numpy()"
      ],
      "metadata": {
        "id": "vjQd7yC5_NCd"
      },
      "execution_count": 7,
      "outputs": []
    },
    {
      "cell_type": "markdown",
      "source": [
        "Ahora que se tiene la variable independiente overall y la variable dependiente valor, el siguiente paso es dividir estos datos en conjuntos de entrenamiento y prueba o validación.\n",
        "\n",
        "Se utiiza el método *train_test_split()* que forma parte de la librería Scikit-Learn.\n",
        "\n",
        "El argumento test_size establece el 30% para datos de validación por lo que el 70% pertenece a los datos de entrenamiento"
      ],
      "metadata": {
        "id": "tWz_GErp_gtf"
      }
    },
    {
      "cell_type": "code",
      "source": [
        "overall_train, overall_test, valor_train, valor_test = train_test_split(overall, valor, test_size=0.3, random_state=2022)"
      ],
      "metadata": {
        "id": "yZ8f9OqB_r_V"
      },
      "execution_count": 9,
      "outputs": []
    },
    {
      "cell_type": "code",
      "source": [
        "overall_train"
      ],
      "metadata": {
        "colab": {
          "base_uri": "https://localhost:8080/"
        },
        "id": "AmdF9jeC_9Lu",
        "outputId": "4a7272e7-52f4-486f-ccff-67e377b23ba2"
      },
      "execution_count": 10,
      "outputs": [
        {
          "output_type": "execute_result",
          "data": {
            "text/plain": [
              "array([[54],\n",
              "       [63],\n",
              "       [64],\n",
              "       ...,\n",
              "       [70],\n",
              "       [56],\n",
              "       [76]])"
            ]
          },
          "metadata": {},
          "execution_count": 10
        }
      ]
    },
    {
      "cell_type": "markdown",
      "source": [
        "## Modelos de regresión"
      ],
      "metadata": {
        "id": "izQBmH3_BC_t"
      }
    },
    {
      "cell_type": "markdown",
      "source": [
        "### Modelo de Regresión Lineal Simple"
      ],
      "metadata": {
        "id": "BdhlN1qGAAnp"
      }
    },
    {
      "cell_type": "code",
      "source": [
        "modelo_ls = LinearRegression()\n",
        "modelo_ls.fit(overall_train, valor_train)"
      ],
      "metadata": {
        "colab": {
          "base_uri": "https://localhost:8080/"
        },
        "id": "wTpePudVANm2",
        "outputId": "6de241d1-5359-4c63-b299-58e20be3eac2"
      },
      "execution_count": 11,
      "outputs": [
        {
          "output_type": "execute_result",
          "data": {
            "text/plain": [
              "LinearRegression()"
            ]
          },
          "metadata": {},
          "execution_count": 11
        }
      ]
    },
    {
      "cell_type": "markdown",
      "source": [
        "#### Coeficientes del modelo\n",
        "\n",
        "Se determinan los valores de a y b de la fórmula\n",
        "$$\n",
        "Y=a+bx \n",
        "$$\n",
        "ó\n",
        "$$\n",
        "Y=β0+β1⋅x\n",
        "$$"
      ],
      "metadata": {
        "id": "-21QLnoAAZhl"
      }
    },
    {
      "cell_type": "code",
      "source": [
        "a = modelo_ls.intercept_\n",
        "b = modelo_ls.coef_\n",
        "\n",
        "print(\"Valor de a: \", a)\n",
        "print(\"Valor de b; \", b)\n"
      ],
      "metadata": {
        "colab": {
          "base_uri": "https://localhost:8080/"
        },
        "id": "K3fEPSzyAb7V",
        "outputId": "1bb8a0cf-44d0-4f07-9f9c-8239dda8884d"
      },
      "execution_count": 12,
      "outputs": [
        {
          "output_type": "stream",
          "name": "stdout",
          "text": [
            "Valor de a:  [-31408538.06038756]\n",
            "Valor de b;  [[511065.1225897]]\n"
          ]
        }
      ]
    },
    {
      "cell_type": "markdown",
      "source": [
        "#### Linea de tendencia del modelo\n",
        "Con la el valor de los valores de tendencia o valores ajustados del modelo se visualiza la recta de tendencia del modelo.\n",
        "\n",
        "La gráfica g se construye por partes, primero la dispersión, segundo la linea de tendencia, tercero se agrega el título, para luego solo mostrar la gráfica g."
      ],
      "metadata": {
        "id": "-E15rZz1BPT_"
      }
    },
    {
      "cell_type": "code",
      "source": [
        "linea_tendencia = modelo_ls.predict(overall_train)\n",
        "plt.plot(overall_train, valor_train, 'o', color= 'blue')\n",
        "plt.plot(overall_train, linea_tendencia, color=\"red\")"
      ],
      "metadata": {
        "colab": {
          "base_uri": "https://localhost:8080/",
          "height": 294
        },
        "id": "9BzI0JHeBZyA",
        "outputId": "0605bdd2-5cd8-4536-be52-b98ec127a06d"
      },
      "execution_count": 13,
      "outputs": [
        {
          "output_type": "execute_result",
          "data": {
            "text/plain": [
              "[<matplotlib.lines.Line2D at 0x7fdd925bcbd0>]"
            ]
          },
          "metadata": {},
          "execution_count": 13
        },
        {
          "output_type": "display_data",
          "data": {
            "image/png": "[encoded data removed]",
            "text/plain": [
              "<Figure size 432x288 with 1 Axes>"
            ]
          },
          "metadata": {
            "needs_background": "light"
          }
        }
      ]
    },
    {
      "cell_type": "markdown",
      "source": [
        "Se observa visualmente que la linea recta no es precisamente el mejor modelo para realizar predicciones."
      ],
      "metadata": {
        "id": "AtpzJHeWB2wd"
      }
    },
    {
      "cell_type": "markdown",
      "source": [
        "### Predicciones\n",
        "\n",
        "Las predicciones se hacen con el conjunto de datos de validación.\n"
      ],
      "metadata": {
        "id": "Ze-yJ0W9AxQ3"
      }
    },
    {
      "cell_type": "code",
      "source": [
        "predicciones = modelo_ls.predict(overall_test)\n",
        "predicciones"
      ],
      "metadata": {
        "colab": {
          "base_uri": "https://localhost:8080/"
        },
        "id": "ScNZ547BA0Rm",
        "outputId": "c3ef57fd-a87c-43f7-83d2-a5cabed83fa2"
      },
      "execution_count": 18,
      "outputs": [
        {
          "output_type": "execute_result",
          "data": {
            "text/plain": [
              "array([[-1766760.95018503],\n",
              "       [ 6410281.01125015],\n",
              "       [ 5388150.76607075],\n",
              "       ...,\n",
              "       [ 9476671.74678834],\n",
              "       [ -233565.58241594],\n",
              "       [ 4366020.52089135]])"
            ]
          },
          "metadata": {},
          "execution_count": 18
        }
      ]
    },
    {
      "cell_type": "markdown",
      "source": [
        "### Determinando métricas\n",
        "\n",
        "Crear un data.frame llamado comparaciones a partir de la creación de un diccionario con los valores reales del conjunto de entrenamiento y las predicciones calculadas.\n",
        "\n",
        "Con la función flatten().tolist() convierte el arreglo a una lista de una dimensión.\n",
        "\n"
      ],
      "metadata": {
        "id": "wrdhWi22CE8m"
      }
    },
    {
      "cell_type": "code",
      "source": [
        "diccionario = {'Overall': overall_test .flatten().tolist(),\n",
        "                'Real' : valor_test.flatten().tolist(), \n",
        "               'Predicho' : predicciones.flatten().tolist()}\n",
        "diccionario\n",
        "\n",
        "comparaciones = pd.DataFrame(diccionario)\n",
        "comparaciones"
      ],
      "metadata": {
        "colab": {
          "base_uri": "https://localhost:8080/",
          "height": 423
        },
        "id": "Cs3-EjB3CJu2",
        "outputId": "bfaf4b12-7862-4c59-9735-17bdae010b45"
      },
      "execution_count": 19,
      "outputs": [
        {
          "output_type": "execute_result",
          "data": {
            "text/html": [
              "\n",
              "  <div id=\"df-bd7d6271-5318-4007-b828-a6a5d9ee13a8\">\n",
              "    <div class=\"colab-df-container\">\n",
              "      <div>\n",
              "<style scoped>\n",
              "    .dataframe tbody tr th:only-of-type {\n",
              "        vertical-align: middle;\n",
              "    }\n",
              "\n",
              "    .dataframe tbody tr th {\n",
              "        vertical-align: top;\n",
              "    }\n",
              "\n",
              "    .dataframe thead th {\n",
              "        text-align: right;\n",
              "    }\n",
              "</style>\n",
              "<table border=\"1\" class=\"dataframe\">\n",
              "  <thead>\n",
              "    <tr style=\"text-align: right;\">\n",
              "      <th></th>\n",
              "      <th>Overall</th>\n",
              "      <th>Real</th>\n",
              "      <th>Predicho</th>\n",
              "    </tr>\n",
              "  </thead>\n",
              "  <tbody>\n",
              "    <tr>\n",
              "      <th>0</th>\n",
              "      <td>58</td>\n",
              "      <td>270000</td>\n",
              "      <td>-1.766761e+06</td>\n",
              "    </tr>\n",
              "    <tr>\n",
              "      <th>1</th>\n",
              "      <td>74</td>\n",
              "      <td>7500000</td>\n",
              "      <td>6.410281e+06</td>\n",
              "    </tr>\n",
              "    <tr>\n",
              "      <th>2</th>\n",
              "      <td>72</td>\n",
              "      <td>1600000</td>\n",
              "      <td>5.388151e+06</td>\n",
              "    </tr>\n",
              "    <tr>\n",
              "      <th>3</th>\n",
              "      <td>61</td>\n",
              "      <td>240000</td>\n",
              "      <td>-2.335656e+05</td>\n",
              "    </tr>\n",
              "    <tr>\n",
              "      <th>4</th>\n",
              "      <td>67</td>\n",
              "      <td>750000</td>\n",
              "      <td>2.832825e+06</td>\n",
              "    </tr>\n",
              "    <tr>\n",
              "      <th>...</th>\n",
              "      <td>...</td>\n",
              "      <td>...</td>\n",
              "      <td>...</td>\n",
              "    </tr>\n",
              "    <tr>\n",
              "      <th>5368</th>\n",
              "      <td>64</td>\n",
              "      <td>675000</td>\n",
              "      <td>1.299630e+06</td>\n",
              "    </tr>\n",
              "    <tr>\n",
              "      <th>5369</th>\n",
              "      <td>62</td>\n",
              "      <td>400000</td>\n",
              "      <td>2.774995e+05</td>\n",
              "    </tr>\n",
              "    <tr>\n",
              "      <th>5370</th>\n",
              "      <td>80</td>\n",
              "      <td>6000000</td>\n",
              "      <td>9.476672e+06</td>\n",
              "    </tr>\n",
              "    <tr>\n",
              "      <th>5371</th>\n",
              "      <td>61</td>\n",
              "      <td>290000</td>\n",
              "      <td>-2.335656e+05</td>\n",
              "    </tr>\n",
              "    <tr>\n",
              "      <th>5372</th>\n",
              "      <td>70</td>\n",
              "      <td>3000000</td>\n",
              "      <td>4.366021e+06</td>\n",
              "    </tr>\n",
              "  </tbody>\n",
              "</table>\n",
              "<p>5373 rows × 3 columns</p>\n",
              "</div>\n",
              "      <button class=\"colab-df-convert\" onclick=\"convertToInteractive('df-bd7d6271-5318-4007-b828-a6a5d9ee13a8')\"\n",
              "              title=\"Convert this dataframe to an interactive table.\"\n",
              "              style=\"display:none;\">\n",
              "        \n",
              "  <svg xmlns=\"http://www.w3.org/2000/svg\" height=\"24px\"viewBox=\"0 0 24 24\"\n",
              "       width=\"24px\">\n",
              "    <path d=\"M0 0h24v24H0V0z\" fill=\"none\"/>\n",
              "    <path d=\"M18.56 5.44l.94 2.06.94-2.06 2.06-.94-2.06-.94-.94-2.06-.94 2.06-2.06.94zm-11 1L8.5 8.5l.94-2.06 2.06-.94-2.06-.94L8.5 2.5l-.94 2.06-2.06.94zm10 10l.94 2.06.94-2.06 2.06-.94-2.06-.94-.94-2.06-.94 2.06-2.06.94z\"/><path d=\"M17.41 7.96l-1.37-1.37c-.4-.4-.92-.59-1.43-.59-.52 0-1.04.2-1.43.59L10.3 9.45l-7.72 7.72c-.78.78-.78 2.05 0 2.83L4 21.41c.39.39.9.59 1.41.59.51 0 1.02-.2 1.41-.59l7.78-7.78 2.81-2.81c.8-.78.8-2.07 0-2.86zM5.41 20L4 18.59l7.72-7.72 1.47 1.35L5.41 20z\"/>\n",
              "  </svg>\n",
              "      </button>\n",
              "      \n",
              "  <style>\n",
              "    .colab-df-container {\n",
              "      display:flex;\n",
              "      flex-wrap:wrap;\n",
              "      gap: 12px;\n",
              "    }\n",
              "\n",
              "    .colab-df-convert {\n",
              "      background-color: #E8F0FE;\n",
              "      border: none;\n",
              "      border-radius: 50%;\n",
              "      cursor: pointer;\n",
              "      display: none;\n",
              "      fill: #1967D2;\n",
              "      height: 32px;\n",
              "      padding: 0 0 0 0;\n",
              "      width: 32px;\n",
              "    }\n",
              "\n",
              "    .colab-df-convert:hover {\n",
              "      background-color: #E2EBFA;\n",
              "      box-shadow: 0px 1px 2px rgba(60, 64, 67, 0.3), 0px 1px 3px 1px rgba(60, 64, 67, 0.15);\n",
              "      fill: #174EA6;\n",
              "    }\n",
              "\n",
              "    [theme=dark] .colab-df-convert {\n",
              "      background-color: #3B4455;\n",
              "      fill: #D2E3FC;\n",
              "    }\n",
              "\n",
              "    [theme=dark] .colab-df-convert:hover {\n",
              "      background-color: #434B5C;\n",
              "      box-shadow: 0px 1px 3px 1px rgba(0, 0, 0, 0.15);\n",
              "      filter: drop-shadow(0px 1px 2px rgba(0, 0, 0, 0.3));\n",
              "      fill: #FFFFFF;\n",
              "    }\n",
              "  </style>\n",
              "\n",
              "      <script>\n",
              "        const buttonEl =\n",
              "          document.querySelector('#df-bd7d6271-5318-4007-b828-a6a5d9ee13a8 button.colab-df-convert');\n",
              "        buttonEl.style.display =\n",
              "          google.colab.kernel.accessAllowed ? 'block' : 'none';\n",
              "\n",
              "        async function convertToInteractive(key) {\n",
              "          const element = document.querySelector('#df-bd7d6271-5318-4007-b828-a6a5d9ee13a8');\n",
              "          const dataTable =\n",
              "            await google.colab.kernel.invokeFunction('convertToInteractive',\n",
              "                                                     [key], {});\n",
              "          if (!dataTable) return;\n",
              "\n",
              "          const docLinkHtml = 'Like what you see? Visit the ' +\n",
              "            '<a target=\"_blank\" href=https://colab.research.google.com/notebooks/data_table.ipynb>data table notebook</a>'\n",
              "            + ' to learn more about interactive tables.';\n",
              "          element.innerHTML = '';\n",
              "          dataTable['output_type'] = 'display_data';\n",
              "          await google.colab.output.renderOutput(dataTable, element);\n",
              "          const docLink = document.createElement('div');\n",
              "          docLink.innerHTML = docLinkHtml;\n",
              "          element.appendChild(docLink);\n",
              "        }\n",
              "      </script>\n",
              "    </div>\n",
              "  </div>\n",
              "  "
            ],
            "text/plain": [
              "      Overall     Real      Predicho\n",
              "0          58   270000 -1.766761e+06\n",
              "1          74  7500000  6.410281e+06\n",
              "2          72  1600000  5.388151e+06\n",
              "3          61   240000 -2.335656e+05\n",
              "4          67   750000  2.832825e+06\n",
              "...       ...      ...           ...\n",
              "5368       64   675000  1.299630e+06\n",
              "5369       62   400000  2.774995e+05\n",
              "5370       80  6000000  9.476672e+06\n",
              "5371       61   290000 -2.335656e+05\n",
              "5372       70  3000000  4.366021e+06\n",
              "\n",
              "[5373 rows x 3 columns]"
            ]
          },
          "metadata": {},
          "execution_count": 19
        }
      ]
    },
    {
      "cell_type": "markdown",
      "source": [
        "¡Salen predicciones negativas!, ¿que significa? , no debiera haber predicciones negativas, sin embargo, esto sucede porque el modelo así lo calcula por lo estricto de la linea de recta de tendencia.\n",
        "\n",
        "#### R Square\n",
        "\n",
        "Es el valor de la correlación al cuadrado de las predicciones y los valores reales.Se interpreta como la representación que tienen la variable indeéndiente sobre la variabel dependinte. En este caso, que tanto Overall representa a Valor en los datos.\n",
        "\n",
        "R2 es el coeficiente de determinación, y tiene que ver con la capacidad de un modelo para predecir futuros resultados\n"
      ],
      "metadata": {
        "id": "FGcBBgT4CgVx"
      }
    },
    {
      "cell_type": "code",
      "source": [
        "# r = np.corrcoef(overall_train.flatten().tolist(), valor_train.flatten().tolist())\n",
        "# r = r ** 2\n",
        "# r = r.reshape(-1,2)\n",
        "# r = r[0, 1]\n",
        "# print('R Square :', np.round(r, 4) )\n",
        "\n",
        "# Con lo real vs predicciones\n",
        "r = np.corrcoef(comparaciones['Real'], comparaciones['Predicho'])\n",
        "r = r ** 2\n",
        "r = r.reshape(-1,2)\n",
        "r = r[0, 1]\n",
        "print('R Square :', np.round(r, 4) )\n",
        "\n",
        "# con r2_score([2, 5, 9], [3, 5, 11])\n",
        "print('R Square :', r2_score(comparaciones['Real'], comparaciones['Predicho'] ))\n"
      ],
      "metadata": {
        "colab": {
          "base_uri": "https://localhost:8080/"
        },
        "id": "Dpq_LTwqC3jt",
        "outputId": "ad964177-4d54-4c1a-cd5d-5c88c0140d83"
      },
      "execution_count": 20,
      "outputs": [
        {
          "output_type": "stream",
          "name": "stdout",
          "text": [
            "R Square : 0.3831\n",
            "R Square : 0.38299355370512567\n"
          ]
        }
      ]
    },
    {
      "cell_type": "markdown",
      "source": [
        "El valor de R Square es por debajo del 40% por lo que no sobrepasa el 50% como critero, por lo cual, por este criterio el modelo **NO SE ACEPTA**."
      ],
      "metadata": {
        "id": "xC9k_lfsDBnY"
      }
    },
    {
      "cell_type": "markdown",
      "source": [
        "#### rmse\n",
        "\n",
        "$$\n",
        "rmse = \\sqrt{\\frac{\\sum(predicho_i - real_i)^{2}}{n}}\n",
        "$$\n"
      ],
      "metadata": {
        "id": "4a8TR9DjDV4Z"
      }
    },
    {
      "cell_type": "code",
      "source": [
        "print('Mean Squared Error: MSE', metrics.mean_squared_error(valor_test, predicciones))\n",
        "print('Root Mean Squared Error RMSE:', np.sqrt(metrics.mean_squared_error(valor_test, predicciones)))\n"
      ],
      "metadata": {
        "colab": {
          "base_uri": "https://localhost:8080/"
        },
        "id": "MdqA4LHjDiB_",
        "outputId": "e2046ce0-b0b0-4681-b7ae-de723dabe76e"
      },
      "execution_count": 22,
      "outputs": [
        {
          "output_type": "stream",
          "name": "stdout",
          "text": [
            "Mean Squared Error: MSE 20862415870369.51\n",
            "Root Mean Squared Error RMSE: 4567539.367139544\n"
          ]
        }
      ]
    },
    {
      "cell_type": "markdown",
      "source": [
        "El valor de **rmse** está por encima los 2,000,000 (dos millones) por lo que de acuerdo a la métrica inicial establecida el modelo **¡NO SE ACEPTA!**\n",
        "\n"
      ],
      "metadata": {
        "id": "VFr_zwiWDuDI"
      }
    },
    {
      "cell_type": "markdown",
      "source": [
        "### Modelo de Regresión Polinomial de segundo nivel\n",
        "\n",
        "Desde Sklearn con PolynomialFeatures, se crea un objeto polinómico de segundo nivel. Se crea otro objeto de X_poly a partir de los datos de entrenamiento y finalmente se cra el modelo polinómico de segundo nivel."
      ],
      "metadata": {
        "id": "qcfyU1f0FJLH"
      }
    },
    {
      "cell_type": "code",
      "source": [
        "from sklearn.preprocessing import PolynomialFeatures\n",
        "poly_reg =  PolynomialFeatures(degree = 2)\n",
        "overall_poly = poly_reg.fit_transform(overall_train)\n",
        "modelo_poly2 = LinearRegression()\n",
        "modelo_poly2.fit(overall_poly, valor_train)\n",
        "\n"
      ],
      "metadata": {
        "colab": {
          "base_uri": "https://localhost:8080/"
        },
        "id": "DdE7qwW-FWb_",
        "outputId": "321ba43f-ba5a-4715-e662-59383b830476"
      },
      "execution_count": 21,
      "outputs": [
        {
          "output_type": "execute_result",
          "data": {
            "text/plain": [
              "LinearRegression()"
            ]
          },
          "metadata": {},
          "execution_count": 21
        }
      ]
    },
    {
      "cell_type": "markdown",
      "source": [
        "#### Curva de tendencia\n",
        "\n"
      ],
      "metadata": {
        "id": "MHwtdG8DKx3n"
      }
    },
    {
      "cell_type": "code",
      "source": [
        "     #                     model.predict(overall_poly)\n",
        "curva_tendencia = modelo_poly2.predict(poly_reg.fit_transform(overall_train))\n",
        "plt.scatter(overall_train, valor_train, color = 'b', )\n",
        "plt.scatter(overall_train, curva_tendencia, color='r', linestyle = 'solid')\n",
        "plt.show()\n"
      ],
      "metadata": {
        "colab": {
          "base_uri": "https://localhost:8080/",
          "height": 276
        },
        "id": "rivaOunXK0SH",
        "outputId": "7e3ffe6c-d41c-4d93-edfc-91b5342dab6b"
      },
      "execution_count": 22,
      "outputs": [
        {
          "output_type": "display_data",
          "data": {
            "image/png": "[encoded data removed]",
            "text/plain": [
              "<Figure size 432x288 with 1 Axes>"
            ]
          },
          "metadata": {
            "needs_background": "light"
          }
        }
      ]
    },
    {
      "cell_type": "markdown",
      "source": [
        "#### Predicciones\n",
        "\n"
      ],
      "metadata": {
        "id": "vLr01nXeWdPm"
      }
    },
    {
      "cell_type": "code",
      "source": [
        "predicciones = modelo_poly2.predict(poly_reg.fit_transform(overall_test))\n",
        "predicciones"
      ],
      "metadata": {
        "colab": {
          "base_uri": "https://localhost:8080/"
        },
        "id": "trzSDm8lWjkd",
        "outputId": "f8d19210-4a6f-42ed-9574-21d5319285fd"
      },
      "execution_count": 23,
      "outputs": [
        {
          "output_type": "execute_result",
          "data": {
            "text/plain": [
              "array([[ -631932.43541962],\n",
              "       [ 6840320.94375098],\n",
              "       [ 4550834.29102248],\n",
              "       ...,\n",
              "       [16032418.0110774 ],\n",
              "       [-1118840.07800207],\n",
              "       [ 2648620.48981744]])"
            ]
          },
          "metadata": {},
          "execution_count": 23
        }
      ]
    },
    {
      "cell_type": "markdown",
      "source": [
        "### Determinando métricas\n",
        "\n",
        "Crear un data.frame llamado comparaciones a partir de la creación de un diccionario con los valores reales del conjunto de entrenamiento y las predicciones calculadas.\n",
        "\n",
        "Con la función flatten().tolist() convierte el arreglo a \n",
        "una lista de una dimensión.\n",
        "\n"
      ],
      "metadata": {
        "id": "AjVKpZFHWwoN"
      }
    },
    {
      "cell_type": "code",
      "source": [
        "diccionario = {'Overall': overall_test.flatten().tolist(),\n",
        "                'Real' : valor_test.flatten().tolist(), \n",
        "               'Predicho' : predicciones.flatten().tolist()}\n",
        "diccionario\n",
        "\n",
        "comparaciones = pd.DataFrame(diccionario)\n",
        "comparaciones.head(20)"
      ],
      "metadata": {
        "colab": {
          "base_uri": "https://localhost:8080/",
          "height": 676
        },
        "id": "8mPY9OaMWxmd",
        "outputId": "b575dd66-40ba-4a4d-a38a-bb26f65dd567"
      },
      "execution_count": 24,
      "outputs": [
        {
          "output_type": "execute_result",
          "data": {
            "text/html": [
              "\n",
              "  <div id=\"df-fa555f75-7030-40c1-9a38-ab96ba4b63a3\">\n",
              "    <div class=\"colab-df-container\">\n",
              "      <div>\n",
              "<style scoped>\n",
              "    .dataframe tbody tr th:only-of-type {\n",
              "        vertical-align: middle;\n",
              "    }\n",
              "\n",
              "    .dataframe tbody tr th {\n",
              "        vertical-align: top;\n",
              "    }\n",
              "\n",
              "    .dataframe thead th {\n",
              "        text-align: right;\n",
              "    }\n",
              "</style>\n",
              "<table border=\"1\" class=\"dataframe\">\n",
              "  <thead>\n",
              "    <tr style=\"text-align: right;\">\n",
              "      <th></th>\n",
              "      <th>Overall</th>\n",
              "      <th>Real</th>\n",
              "      <th>Predicho</th>\n",
              "    </tr>\n",
              "  </thead>\n",
              "  <tbody>\n",
              "    <tr>\n",
              "      <th>0</th>\n",
              "      <td>58</td>\n",
              "      <td>270000</td>\n",
              "      <td>-6.319324e+05</td>\n",
              "    </tr>\n",
              "    <tr>\n",
              "      <th>1</th>\n",
              "      <td>74</td>\n",
              "      <td>7500000</td>\n",
              "      <td>6.840321e+06</td>\n",
              "    </tr>\n",
              "    <tr>\n",
              "      <th>2</th>\n",
              "      <td>72</td>\n",
              "      <td>1600000</td>\n",
              "      <td>4.550834e+06</td>\n",
              "    </tr>\n",
              "    <tr>\n",
              "      <th>3</th>\n",
              "      <td>61</td>\n",
              "      <td>240000</td>\n",
              "      <td>-1.118840e+06</td>\n",
              "    </tr>\n",
              "    <tr>\n",
              "      <th>4</th>\n",
              "      <td>67</td>\n",
              "      <td>750000</td>\n",
              "      <td>5.214364e+05</td>\n",
              "    </tr>\n",
              "    <tr>\n",
              "      <th>5</th>\n",
              "      <td>74</td>\n",
              "      <td>4800000</td>\n",
              "      <td>6.840321e+06</td>\n",
              "    </tr>\n",
              "    <tr>\n",
              "      <th>6</th>\n",
              "      <td>55</td>\n",
              "      <td>120000</td>\n",
              "      <td>7.263391e+05</td>\n",
              "    </tr>\n",
              "    <tr>\n",
              "      <th>7</th>\n",
              "      <td>56</td>\n",
              "      <td>190000</td>\n",
              "      <td>1.767637e+05</td>\n",
              "    </tr>\n",
              "    <tr>\n",
              "      <th>8</th>\n",
              "      <td>63</td>\n",
              "      <td>375000</td>\n",
              "      <td>-9.593541e+05</td>\n",
              "    </tr>\n",
              "    <tr>\n",
              "      <th>9</th>\n",
              "      <td>64</td>\n",
              "      <td>475000</td>\n",
              "      <td>-7.343838e+05</td>\n",
              "    </tr>\n",
              "    <tr>\n",
              "      <th>10</th>\n",
              "      <td>58</td>\n",
              "      <td>240000</td>\n",
              "      <td>-6.319324e+05</td>\n",
              "    </tr>\n",
              "    <tr>\n",
              "      <th>11</th>\n",
              "      <td>64</td>\n",
              "      <td>325000</td>\n",
              "      <td>-7.343838e+05</td>\n",
              "    </tr>\n",
              "    <tr>\n",
              "      <th>12</th>\n",
              "      <td>63</td>\n",
              "      <td>260000</td>\n",
              "      <td>-9.593541e+05</td>\n",
              "    </tr>\n",
              "    <tr>\n",
              "      <th>13</th>\n",
              "      <td>67</td>\n",
              "      <td>1000000</td>\n",
              "      <td>5.214364e+05</td>\n",
              "    </tr>\n",
              "    <tr>\n",
              "      <th>14</th>\n",
              "      <td>60</td>\n",
              "      <td>325000</td>\n",
              "      <td>-1.053356e+06</td>\n",
              "    </tr>\n",
              "    <tr>\n",
              "      <th>15</th>\n",
              "      <td>77</td>\n",
              "      <td>12500000</td>\n",
              "      <td>1.100069e+07</td>\n",
              "    </tr>\n",
              "    <tr>\n",
              "      <th>16</th>\n",
              "      <td>52</td>\n",
              "      <td>90000</td>\n",
              "      <td>2.955975e+06</td>\n",
              "    </tr>\n",
              "    <tr>\n",
              "      <th>17</th>\n",
              "      <td>64</td>\n",
              "      <td>400000</td>\n",
              "      <td>-7.343838e+05</td>\n",
              "    </tr>\n",
              "    <tr>\n",
              "      <th>18</th>\n",
              "      <td>69</td>\n",
              "      <td>1100000</td>\n",
              "      <td>1.842741e+06</td>\n",
              "    </tr>\n",
              "    <tr>\n",
              "      <th>19</th>\n",
              "      <td>74</td>\n",
              "      <td>4900000</td>\n",
              "      <td>6.840321e+06</td>\n",
              "    </tr>\n",
              "  </tbody>\n",
              "</table>\n",
              "</div>\n",
              "      <button class=\"colab-df-convert\" onclick=\"convertToInteractive('df-fa555f75-7030-40c1-9a38-ab96ba4b63a3')\"\n",
              "              title=\"Convert this dataframe to an interactive table.\"\n",
              "              style=\"display:none;\">\n",
              "        \n",
              "  <svg xmlns=\"http://www.w3.org/2000/svg\" height=\"24px\"viewBox=\"0 0 24 24\"\n",
              "       width=\"24px\">\n",
              "    <path d=\"M0 0h24v24H0V0z\" fill=\"none\"/>\n",
              "    <path d=\"M18.56 5.44l.94 2.06.94-2.06 2.06-.94-2.06-.94-.94-2.06-.94 2.06-2.06.94zm-11 1L8.5 8.5l.94-2.06 2.06-.94-2.06-.94L8.5 2.5l-.94 2.06-2.06.94zm10 10l.94 2.06.94-2.06 2.06-.94-2.06-.94-.94-2.06-.94 2.06-2.06.94z\"/><path d=\"M17.41 7.96l-1.37-1.37c-.4-.4-.92-.59-1.43-.59-.52 0-1.04.2-1.43.59L10.3 9.45l-7.72 7.72c-.78.78-.78 2.05 0 2.83L4 21.41c.39.39.9.59 1.41.59.51 0 1.02-.2 1.41-.59l7.78-7.78 2.81-2.81c.8-.78.8-2.07 0-2.86zM5.41 20L4 18.59l7.72-7.72 1.47 1.35L5.41 20z\"/>\n",
              "  </svg>\n",
              "      </button>\n",
              "      \n",
              "  <style>\n",
              "    .colab-df-container {\n",
              "      display:flex;\n",
              "      flex-wrap:wrap;\n",
              "      gap: 12px;\n",
              "    }\n",
              "\n",
              "    .colab-df-convert {\n",
              "      background-color: #E8F0FE;\n",
              "      border: none;\n",
              "      border-radius: 50%;\n",
              "      cursor: pointer;\n",
              "      display: none;\n",
              "      fill: #1967D2;\n",
              "      height: 32px;\n",
              "      padding: 0 0 0 0;\n",
              "      width: 32px;\n",
              "    }\n",
              "\n",
              "    .colab-df-convert:hover {\n",
              "      background-color: #E2EBFA;\n",
              "      box-shadow: 0px 1px 2px rgba(60, 64, 67, 0.3), 0px 1px 3px 1px rgba(60, 64, 67, 0.15);\n",
              "      fill: #174EA6;\n",
              "    }\n",
              "\n",
              "    [theme=dark] .colab-df-convert {\n",
              "      background-color: #3B4455;\n",
              "      fill: #D2E3FC;\n",
              "    }\n",
              "\n",
              "    [theme=dark] .colab-df-convert:hover {\n",
              "      background-color: #434B5C;\n",
              "      box-shadow: 0px 1px 3px 1px rgba(0, 0, 0, 0.15);\n",
              "      filter: drop-shadow(0px 1px 2px rgba(0, 0, 0, 0.3));\n",
              "      fill: #FFFFFF;\n",
              "    }\n",
              "  </style>\n",
              "\n",
              "      <script>\n",
              "        const buttonEl =\n",
              "          document.querySelector('#df-fa555f75-7030-40c1-9a38-ab96ba4b63a3 button.colab-df-convert');\n",
              "        buttonEl.style.display =\n",
              "          google.colab.kernel.accessAllowed ? 'block' : 'none';\n",
              "\n",
              "        async function convertToInteractive(key) {\n",
              "          const element = document.querySelector('#df-fa555f75-7030-40c1-9a38-ab96ba4b63a3');\n",
              "          const dataTable =\n",
              "            await google.colab.kernel.invokeFunction('convertToInteractive',\n",
              "                                                     [key], {});\n",
              "          if (!dataTable) return;\n",
              "\n",
              "          const docLinkHtml = 'Like what you see? Visit the ' +\n",
              "            '<a target=\"_blank\" href=https://colab.research.google.com/notebooks/data_table.ipynb>data table notebook</a>'\n",
              "            + ' to learn more about interactive tables.';\n",
              "          element.innerHTML = '';\n",
              "          dataTable['output_type'] = 'display_data';\n",
              "          await google.colab.output.renderOutput(dataTable, element);\n",
              "          const docLink = document.createElement('div');\n",
              "          docLink.innerHTML = docLinkHtml;\n",
              "          element.appendChild(docLink);\n",
              "        }\n",
              "      </script>\n",
              "    </div>\n",
              "  </div>\n",
              "  "
            ],
            "text/plain": [
              "    Overall      Real      Predicho\n",
              "0        58    270000 -6.319324e+05\n",
              "1        74   7500000  6.840321e+06\n",
              "2        72   1600000  4.550834e+06\n",
              "3        61    240000 -1.118840e+06\n",
              "4        67    750000  5.214364e+05\n",
              "5        74   4800000  6.840321e+06\n",
              "6        55    120000  7.263391e+05\n",
              "7        56    190000  1.767637e+05\n",
              "8        63    375000 -9.593541e+05\n",
              "9        64    475000 -7.343838e+05\n",
              "10       58    240000 -6.319324e+05\n",
              "11       64    325000 -7.343838e+05\n",
              "12       63    260000 -9.593541e+05\n",
              "13       67   1000000  5.214364e+05\n",
              "14       60    325000 -1.053356e+06\n",
              "15       77  12500000  1.100069e+07\n",
              "16       52     90000  2.955975e+06\n",
              "17       64    400000 -7.343838e+05\n",
              "18       69   1100000  1.842741e+06\n",
              "19       74   4900000  6.840321e+06"
            ]
          },
          "metadata": {},
          "execution_count": 24
        }
      ]
    },
    {
      "cell_type": "markdown",
      "source": [
        "#### R Square\n",
        "\n"
      ],
      "metadata": {
        "id": "5TKNFQAKS9zT"
      }
    },
    {
      "cell_type": "code",
      "source": [
        "# Con lo real vs predicciones\n",
        "r = np.corrcoef(comparaciones['Real'], comparaciones['Predicho'])\n",
        "r = r ** 2\n",
        "r = r.reshape(-1,2)\n",
        "r = r[0, 1]\n",
        "print('R Square :', np.round(r, 4) )\n",
        "\n",
        "# con r2_score([2, 5, 9], [3, 5, 11])\n",
        "print('R Square :', r2_score(comparaciones['Real'], comparaciones['Predicho'] ))"
      ],
      "metadata": {
        "colab": {
          "base_uri": "https://localhost:8080/"
        },
        "id": "Nd6kGpAuS_ET",
        "outputId": "4f460140-94f8-4a3c-c514-ebf6d75f743e"
      },
      "execution_count": 25,
      "outputs": [
        {
          "output_type": "stream",
          "name": "stdout",
          "text": [
            "R Square : 0.7415\n",
            "R Square : 0.7410581411870364\n"
          ]
        }
      ]
    },
    {
      "cell_type": "markdown",
      "source": [
        "Como el valor de R Square está por encima del 50% el modelo **¡ SE ACEPTA!**"
      ],
      "metadata": {
        "id": "QPkmufVNTH1Z"
      }
    },
    {
      "cell_type": "markdown",
      "source": [
        "#### rmse\n"
      ],
      "metadata": {
        "id": "G5teI4QdS_jL"
      }
    },
    {
      "cell_type": "code",
      "source": [
        "print('Mean Squared Error: MSE', metrics.mean_squared_error(valor_test, predicciones))\n",
        "print('Root Mean Squared Error RMSE:', np.sqrt(metrics.mean_squared_error(valor_test, predicciones)))"
      ],
      "metadata": {
        "colab": {
          "base_uri": "https://localhost:8080/"
        },
        "id": "vmPGV4w3TBW6",
        "outputId": "70f0641a-22b6-4450-d747-de99f718fc02"
      },
      "execution_count": 26,
      "outputs": [
        {
          "output_type": "stream",
          "name": "stdout",
          "text": [
            "Mean Squared Error: MSE 8755423508526.527\n",
            "Root Mean Squared Error RMSE: 2958956.489799491\n"
          ]
        }
      ]
    },
    {
      "cell_type": "markdown",
      "source": [
        "El valor de **rmse** está por encima los 2,000,000 (dos millones) por lo que de acuerdo a la métrica inicial establecida el modelo polinomial de segunda potencia  **¡NO SE ACEPTA!**"
      ],
      "metadata": {
        "id": "dOKudKhGTd0U"
      }
    },
    {
      "cell_type": "markdown",
      "source": [
        "### Modelo de Regresión Polinomial de segundo nivel"
      ],
      "metadata": {
        "id": "9F5jkZYDUTTa"
      }
    },
    {
      "cell_type": "code",
      "source": [
        "poly_reg =  PolynomialFeatures(degree = 5)\n",
        "overall_poly = poly_reg.fit_transform(overall_train)\n",
        "modelo_poly5 = LinearRegression()\n",
        "modelo_poly5.fit(overall_poly, valor_train)\n"
      ],
      "metadata": {
        "colab": {
          "base_uri": "https://localhost:8080/"
        },
        "id": "-4xigSpDUYdj",
        "outputId": "b18ec44a-24ba-4b39-b258-89ea47865bdf"
      },
      "execution_count": 27,
      "outputs": [
        {
          "output_type": "execute_result",
          "data": {
            "text/plain": [
              "LinearRegression()"
            ]
          },
          "metadata": {},
          "execution_count": 27
        }
      ]
    },
    {
      "cell_type": "markdown",
      "source": [
        "#### Curva de tendencia\n"
      ],
      "metadata": {
        "id": "lRhttU0wUgva"
      }
    },
    {
      "cell_type": "code",
      "source": [
        "curva_tendencia = modelo_poly5.predict(poly_reg.fit_transform(overall_train))\n",
        "plt.scatter(overall_train, valor_train, color = 'b', )\n",
        "plt.scatter(overall_train, curva_tendencia, color='r', linestyle = 'solid')\n",
        "plt.show()"
      ],
      "metadata": {
        "colab": {
          "base_uri": "https://localhost:8080/",
          "height": 276
        },
        "id": "MMxgnT7rUiD_",
        "outputId": "74c7ba8c-1289-4e30-f0dc-37bee5409b27"
      },
      "execution_count": 29,
      "outputs": [
        {
          "output_type": "display_data",
          "data": {
            "image/png": "[encoded data removed]",
            "text/plain": [
              "<Figure size 432x288 with 1 Axes>"
            ]
          },
          "metadata": {
            "needs_background": "light"
          }
        }
      ]
    },
    {
      "cell_type": "markdown",
      "source": [
        "Se observa que la curva de tendencia tiene mejor ajuste que los anteriores modelos.\n"
      ],
      "metadata": {
        "id": "xYhWcqXUUogi"
      }
    },
    {
      "cell_type": "markdown",
      "source": [
        "#### Predicciones"
      ],
      "metadata": {
        "id": "V7YhI7O7UzAV"
      }
    },
    {
      "cell_type": "code",
      "source": [
        "predicciones = modelo_poly5.predict(poly_reg.fit_transform(overall_test))\n",
        "predicciones"
      ],
      "metadata": {
        "colab": {
          "base_uri": "https://localhost:8080/"
        },
        "id": "pziBB4MCU1zj",
        "outputId": "959c884b-d60a-43f5-996f-078edce002f6"
      },
      "execution_count": 31,
      "outputs": [
        {
          "output_type": "execute_result",
          "data": {
            "text/plain": [
              "array([[  244142.86845899],\n",
              "       [ 4806810.8417902 ],\n",
              "       [ 3018948.37114573],\n",
              "       ...,\n",
              "       [15593296.0537405 ],\n",
              "       [  325567.50042605],\n",
              "       [ 1833119.39136076]])"
            ]
          },
          "metadata": {},
          "execution_count": 31
        }
      ]
    },
    {
      "cell_type": "markdown",
      "source": [
        "### Determinando métricas\n",
        "\n",
        "Crear un data.frame llamado comparaciones a partir de la creación de un diccionario con los valores reales del conjunto de entrenamiento y las predicciones calculadas.\n",
        "\n",
        "Con la función flatten().tolist() convierte el arreglo a una lista de una dimensión."
      ],
      "metadata": {
        "id": "dkRciXpvU8r7"
      }
    },
    {
      "cell_type": "code",
      "source": [
        "diccionario = {'Overall': overall_test.flatten().tolist(),\n",
        "                'Real' : valor_test.flatten().tolist(), \n",
        "               'Predicho' : predicciones.flatten().tolist()}\n",
        "diccionario\n",
        "\n",
        "comparaciones = pd.DataFrame(diccionario)\n",
        "comparaciones.head(20)"
      ],
      "metadata": {
        "colab": {
          "base_uri": "https://localhost:8080/",
          "height": 676
        },
        "id": "JPxD5dbEU_rT",
        "outputId": "82e31608-5d18-4199-9a0a-98271fd7d6c6"
      },
      "execution_count": 32,
      "outputs": [
        {
          "output_type": "execute_result",
          "data": {
            "text/html": [
              "\n",
              "  <div id=\"df-d37bbc2e-a55f-4509-a563-a869090a06cc\">\n",
              "    <div class=\"colab-df-container\">\n",
              "      <div>\n",
              "<style scoped>\n",
              "    .dataframe tbody tr th:only-of-type {\n",
              "        vertical-align: middle;\n",
              "    }\n",
              "\n",
              "    .dataframe tbody tr th {\n",
              "        vertical-align: top;\n",
              "    }\n",
              "\n",
              "    .dataframe thead th {\n",
              "        text-align: right;\n",
              "    }\n",
              "</style>\n",
              "<table border=\"1\" class=\"dataframe\">\n",
              "  <thead>\n",
              "    <tr style=\"text-align: right;\">\n",
              "      <th></th>\n",
              "      <th>Overall</th>\n",
              "      <th>Real</th>\n",
              "      <th>Predicho</th>\n",
              "    </tr>\n",
              "  </thead>\n",
              "  <tbody>\n",
              "    <tr>\n",
              "      <th>0</th>\n",
              "      <td>58</td>\n",
              "      <td>270000</td>\n",
              "      <td>2.441429e+05</td>\n",
              "    </tr>\n",
              "    <tr>\n",
              "      <th>1</th>\n",
              "      <td>74</td>\n",
              "      <td>7500000</td>\n",
              "      <td>4.806811e+06</td>\n",
              "    </tr>\n",
              "    <tr>\n",
              "      <th>2</th>\n",
              "      <td>72</td>\n",
              "      <td>1600000</td>\n",
              "      <td>3.018948e+06</td>\n",
              "    </tr>\n",
              "    <tr>\n",
              "      <th>3</th>\n",
              "      <td>61</td>\n",
              "      <td>240000</td>\n",
              "      <td>3.255675e+05</td>\n",
              "    </tr>\n",
              "    <tr>\n",
              "      <th>4</th>\n",
              "      <td>67</td>\n",
              "      <td>750000</td>\n",
              "      <td>8.540914e+05</td>\n",
              "    </tr>\n",
              "    <tr>\n",
              "      <th>5</th>\n",
              "      <td>74</td>\n",
              "      <td>4800000</td>\n",
              "      <td>4.806811e+06</td>\n",
              "    </tr>\n",
              "    <tr>\n",
              "      <th>6</th>\n",
              "      <td>55</td>\n",
              "      <td>120000</td>\n",
              "      <td>1.272687e+05</td>\n",
              "    </tr>\n",
              "    <tr>\n",
              "      <th>7</th>\n",
              "      <td>56</td>\n",
              "      <td>190000</td>\n",
              "      <td>1.704024e+05</td>\n",
              "    </tr>\n",
              "    <tr>\n",
              "      <th>8</th>\n",
              "      <td>63</td>\n",
              "      <td>375000</td>\n",
              "      <td>3.984379e+05</td>\n",
              "    </tr>\n",
              "    <tr>\n",
              "      <th>9</th>\n",
              "      <td>64</td>\n",
              "      <td>475000</td>\n",
              "      <td>4.592944e+05</td>\n",
              "    </tr>\n",
              "    <tr>\n",
              "      <th>10</th>\n",
              "      <td>58</td>\n",
              "      <td>240000</td>\n",
              "      <td>2.441429e+05</td>\n",
              "    </tr>\n",
              "    <tr>\n",
              "      <th>11</th>\n",
              "      <td>64</td>\n",
              "      <td>325000</td>\n",
              "      <td>4.592944e+05</td>\n",
              "    </tr>\n",
              "    <tr>\n",
              "      <th>12</th>\n",
              "      <td>63</td>\n",
              "      <td>260000</td>\n",
              "      <td>3.984379e+05</td>\n",
              "    </tr>\n",
              "    <tr>\n",
              "      <th>13</th>\n",
              "      <td>67</td>\n",
              "      <td>1000000</td>\n",
              "      <td>8.540914e+05</td>\n",
              "    </tr>\n",
              "    <tr>\n",
              "      <th>14</th>\n",
              "      <td>60</td>\n",
              "      <td>325000</td>\n",
              "      <td>2.995016e+05</td>\n",
              "    </tr>\n",
              "    <tr>\n",
              "      <th>15</th>\n",
              "      <td>77</td>\n",
              "      <td>12500000</td>\n",
              "      <td>8.998763e+06</td>\n",
              "    </tr>\n",
              "    <tr>\n",
              "      <th>16</th>\n",
              "      <td>52</td>\n",
              "      <td>90000</td>\n",
              "      <td>1.483130e+04</td>\n",
              "    </tr>\n",
              "    <tr>\n",
              "      <th>17</th>\n",
              "      <td>64</td>\n",
              "      <td>400000</td>\n",
              "      <td>4.592944e+05</td>\n",
              "    </tr>\n",
              "    <tr>\n",
              "      <th>18</th>\n",
              "      <td>69</td>\n",
              "      <td>1100000</td>\n",
              "      <td>1.417406e+06</td>\n",
              "    </tr>\n",
              "    <tr>\n",
              "      <th>19</th>\n",
              "      <td>74</td>\n",
              "      <td>4900000</td>\n",
              "      <td>4.806811e+06</td>\n",
              "    </tr>\n",
              "  </tbody>\n",
              "</table>\n",
              "</div>\n",
              "      <button class=\"colab-df-convert\" onclick=\"convertToInteractive('df-d37bbc2e-a55f-4509-a563-a869090a06cc')\"\n",
              "              title=\"Convert this dataframe to an interactive table.\"\n",
              "              style=\"display:none;\">\n",
              "        \n",
              "  <svg xmlns=\"http://www.w3.org/2000/svg\" height=\"24px\"viewBox=\"0 0 24 24\"\n",
              "       width=\"24px\">\n",
              "    <path d=\"M0 0h24v24H0V0z\" fill=\"none\"/>\n",
              "    <path d=\"M18.56 5.44l.94 2.06.94-2.06 2.06-.94-2.06-.94-.94-2.06-.94 2.06-2.06.94zm-11 1L8.5 8.5l.94-2.06 2.06-.94-2.06-.94L8.5 2.5l-.94 2.06-2.06.94zm10 10l.94 2.06.94-2.06 2.06-.94-2.06-.94-.94-2.06-.94 2.06-2.06.94z\"/><path d=\"M17.41 7.96l-1.37-1.37c-.4-.4-.92-.59-1.43-.59-.52 0-1.04.2-1.43.59L10.3 9.45l-7.72 7.72c-.78.78-.78 2.05 0 2.83L4 21.41c.39.39.9.59 1.41.59.51 0 1.02-.2 1.41-.59l7.78-7.78 2.81-2.81c.8-.78.8-2.07 0-2.86zM5.41 20L4 18.59l7.72-7.72 1.47 1.35L5.41 20z\"/>\n",
              "  </svg>\n",
              "      </button>\n",
              "      \n",
              "  <style>\n",
              "    .colab-df-container {\n",
              "      display:flex;\n",
              "      flex-wrap:wrap;\n",
              "      gap: 12px;\n",
              "    }\n",
              "\n",
              "    .colab-df-convert {\n",
              "      background-color: #E8F0FE;\n",
              "      border: none;\n",
              "      border-radius: 50%;\n",
              "      cursor: pointer;\n",
              "      display: none;\n",
              "      fill: #1967D2;\n",
              "      height: 32px;\n",
              "      padding: 0 0 0 0;\n",
              "      width: 32px;\n",
              "    }\n",
              "\n",
              "    .colab-df-convert:hover {\n",
              "      background-color: #E2EBFA;\n",
              "      box-shadow: 0px 1px 2px rgba(60, 64, 67, 0.3), 0px 1px 3px 1px rgba(60, 64, 67, 0.15);\n",
              "      fill: #174EA6;\n",
              "    }\n",
              "\n",
              "    [theme=dark] .colab-df-convert {\n",
              "      background-color: #3B4455;\n",
              "      fill: #D2E3FC;\n",
              "    }\n",
              "\n",
              "    [theme=dark] .colab-df-convert:hover {\n",
              "      background-color: #434B5C;\n",
              "      box-shadow: 0px 1px 3px 1px rgba(0, 0, 0, 0.15);\n",
              "      filter: drop-shadow(0px 1px 2px rgba(0, 0, 0, 0.3));\n",
              "      fill: #FFFFFF;\n",
              "    }\n",
              "  </style>\n",
              "\n",
              "      <script>\n",
              "        const buttonEl =\n",
              "          document.querySelector('#df-d37bbc2e-a55f-4509-a563-a869090a06cc button.colab-df-convert');\n",
              "        buttonEl.style.display =\n",
              "          google.colab.kernel.accessAllowed ? 'block' : 'none';\n",
              "\n",
              "        async function convertToInteractive(key) {\n",
              "          const element = document.querySelector('#df-d37bbc2e-a55f-4509-a563-a869090a06cc');\n",
              "          const dataTable =\n",
              "            await google.colab.kernel.invokeFunction('convertToInteractive',\n",
              "                                                     [key], {});\n",
              "          if (!dataTable) return;\n",
              "\n",
              "          const docLinkHtml = 'Like what you see? Visit the ' +\n",
              "            '<a target=\"_blank\" href=https://colab.research.google.com/notebooks/data_table.ipynb>data table notebook</a>'\n",
              "            + ' to learn more about interactive tables.';\n",
              "          element.innerHTML = '';\n",
              "          dataTable['output_type'] = 'display_data';\n",
              "          await google.colab.output.renderOutput(dataTable, element);\n",
              "          const docLink = document.createElement('div');\n",
              "          docLink.innerHTML = docLinkHtml;\n",
              "          element.appendChild(docLink);\n",
              "        }\n",
              "      </script>\n",
              "    </div>\n",
              "  </div>\n",
              "  "
            ],
            "text/plain": [
              "    Overall      Real      Predicho\n",
              "0        58    270000  2.441429e+05\n",
              "1        74   7500000  4.806811e+06\n",
              "2        72   1600000  3.018948e+06\n",
              "3        61    240000  3.255675e+05\n",
              "4        67    750000  8.540914e+05\n",
              "5        74   4800000  4.806811e+06\n",
              "6        55    120000  1.272687e+05\n",
              "7        56    190000  1.704024e+05\n",
              "8        63    375000  3.984379e+05\n",
              "9        64    475000  4.592944e+05\n",
              "10       58    240000  2.441429e+05\n",
              "11       64    325000  4.592944e+05\n",
              "12       63    260000  3.984379e+05\n",
              "13       67   1000000  8.540914e+05\n",
              "14       60    325000  2.995016e+05\n",
              "15       77  12500000  8.998763e+06\n",
              "16       52     90000  1.483130e+04\n",
              "17       64    400000  4.592944e+05\n",
              "18       69   1100000  1.417406e+06\n",
              "19       74   4900000  4.806811e+06"
            ]
          },
          "metadata": {},
          "execution_count": 32
        }
      ]
    },
    {
      "cell_type": "markdown",
      "source": [
        "#### R  Square\n"
      ],
      "metadata": {
        "id": "cSZ0Yk4dVSQ1"
      }
    },
    {
      "cell_type": "code",
      "source": [
        "# Con lo real vs predicciones\n",
        "r = np.corrcoef(comparaciones['Real'], comparaciones['Predicho'])\n",
        "r = r ** 2\n",
        "r = r.reshape(-1,2)\n",
        "r = r[0, 1]\n",
        "print('R Square :', np.round(r, 4) )\n",
        "\n",
        "# con r2_score([2, 5, 9], [3, 5, 11])\n",
        "print('R Square :', r2_score(comparaciones['Real'], comparaciones['Predicho'] ))"
      ],
      "metadata": {
        "colab": {
          "base_uri": "https://localhost:8080/"
        },
        "id": "kVtb5in4VV8E",
        "outputId": "a3e300b7-7ac1-4798-f4f3-645cd7c260eb"
      },
      "execution_count": 33,
      "outputs": [
        {
          "output_type": "stream",
          "name": "stdout",
          "text": [
            "R Square : 0.8953\n",
            "R Square : 0.8930997184094596\n"
          ]
        }
      ]
    },
    {
      "cell_type": "markdown",
      "source": [
        "Como el valor de R Square está por encima del 50% el modelo **¡SE ACEPTA!**, inclusive está mejor que el modelo de regresión polinomial de segundo nivel."
      ],
      "metadata": {
        "id": "j56DLS-mVjUi"
      }
    },
    {
      "cell_type": "markdown",
      "source": [
        "#### rmse"
      ],
      "metadata": {
        "id": "Km23JzccVWRY"
      }
    },
    {
      "cell_type": "code",
      "source": [
        "print('Mean Squared Error: MSE', metrics.mean_squared_error(valor_test, predicciones))\n",
        "print('Root Mean Squared Error RMSE:', np.sqrt(metrics.mean_squared_error(valor_test, predicciones)))"
      ],
      "metadata": {
        "colab": {
          "base_uri": "https://localhost:8080/"
        },
        "id": "L21r38_OVYC3",
        "outputId": "abe49053-8623-4931-9c62-116a364c523b"
      },
      "execution_count": 34,
      "outputs": [
        {
          "output_type": "stream",
          "name": "stdout",
          "text": [
            "Mean Squared Error: MSE 3614545916973.49\n",
            "Root Mean Squared Error RMSE: 1901195.9175670166\n"
          ]
        }
      ]
    },
    {
      "cell_type": "markdown",
      "source": [
        "El modelo **SI** **¡SE ACEPTA!** ya que el valor de **rmse** etá por debajo de los 2,000,000 (dos millones) que fue una métrica inicial establecida. ESte modelo se acepta en mejor en comparación con el polinómioc d esegndo nivel y el modelo de regresipon lineal simple."
      ],
      "metadata": {
        "id": "fwuTTf8xVw7N"
      }
    },
    {
      "cell_type": "markdown",
      "source": [
        "# Interpretación\n",
        "Pendiente ... ..."
      ],
      "metadata": {
        "id": "MjpwKG2XUJ3z"
      }
    },
    {
      "cell_type": "markdown",
      "source": [
        "# Bibliografía\n",
        "\n",
        "[https://ichi.pro/es/regresion-polinomial-con-python-73720766034197](https://ichi.pro/es/regresion-polinomial-con-python-73720766034197)\n",
        "\n",
        "[https://ichi.pro/es/regresion-polinomial-en-python-239345094233430](https://ichi.pro/es/regresion-polinomial-en-python-239345094233430)"
      ],
      "metadata": {
        "id": "Tt5yzkjfHSx-"
      }
    }
  ]
}