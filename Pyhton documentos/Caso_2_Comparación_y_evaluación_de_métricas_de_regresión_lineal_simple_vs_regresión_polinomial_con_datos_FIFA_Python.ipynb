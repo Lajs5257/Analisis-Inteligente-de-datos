{
  "cells": [
    {
      "cell_type": "markdown",
      "metadata": {
        "colab_type": "text",
        "id": "view-in-github"
      },
      "source": [
        "<a href=\"https://colab.research.google.com/github/rpizarrog/Analisis-Inteligente-de-datos/blob/main/Pyhton%20documentos/Caso_2_Comparaci%C3%B3n_y_evaluaci%C3%B3n_de_m%C3%A9tricas_de_regresi%C3%B3n_lineal_simple_vs_regresi%C3%B3n_polinomial_con_datos_FIFA_Python.ipynb\" target=\"_parent\"><img src=\"https://colab.research.google.com/assets/colab-badge.svg\" alt=\"Open In Colab\"/></a>"
      ]
    },
    {
      "cell_type": "code",
      "execution_count": null,
      "metadata": {
        "id": "80Oe9jD0Ky6a"
      },
      "outputs": [],
      "source": []
    },
    {
      "cell_type": "markdown",
      "metadata": {
        "id": "BvNolQJkLNCx"
      },
      "source": [
        "# Author: \"Luis Alberto Jimenez Soto\"\n",
        "# Date 20-10-2022\""
      ]
    },
    {
      "cell_type": "markdown",
      "metadata": {
        "id": "jSMZLMdALVAh"
      },
      "source": [
        "# Objetivo\n",
        "\n",
        "Construir modelos de regresión lineal simple y polinómico importando datos FIFA con variable Overall y Valor para realizar predicciones evaluando y comparando su rendimiento en métricas incialmente establecidas."
      ]
    },
    {
      "cell_type": "markdown",
      "metadata": {
        "id": "beKfFKz1MbpS"
      },
      "source": [
        "# Descripción\n",
        "\n",
        "* Cargar librerías\n",
        "\n",
        "* Cargar datos de FIFA\n",
        "\n",
        "* Métricas a evaluar\n",
        "\n",
        "* Explorar datos\n",
        "\n",
        "  * Variables independiente y dependiente\n",
        "\n",
        "  * Visualizar dispersión de los datos\n",
        "\n",
        "* Construir datos de entrenamiento y datos de validación.\n",
        "\n",
        "* Regresión Lineal Simple\n",
        "\n",
        "  * Construir el modelo\n",
        "\n",
        "  * Predicciones\n",
        "\n",
        "  * Metricas del modelo\n",
        "\n",
        "* Regresión Polinómica de segundo\n",
        "\n",
        "* Construir el modelo\n",
        "\n",
        "  * Predicciones\n",
        "\n",
        "  * Métricas del modelo\n",
        "\n",
        "* Regresión Polinómica de quinto nivel\n",
        "\n",
        "  * Construir el modelo\n",
        "\n",
        "  * Predicciones\n",
        "\n",
        "  * Métricas del modelo\n",
        "\n",
        "* Interpretación"
      ]
    },
    {
      "cell_type": "markdown",
      "metadata": {
        "id": "x0Lb50BFNK45"
      },
      "source": [
        "# Desarrollo\n",
        "\n"
      ]
    },
    {
      "cell_type": "markdown",
      "metadata": {
        "id": "dY0fE3r2NSRA"
      },
      "source": [
        "## Métricas a valorar en los modelos\n",
        "Se van a realizar y evaluar métricas de las predicciones con los modelos de regresión lineal simple y regresión polinómica con los mismos datos.\n",
        "\n",
        "Los modelos se aceptan si las métricas cumplen estos requisitos:\n",
        "\n",
        "* El valor de R Square y R Square ajustado sobrepasa el 50%,\n",
        "\n",
        "* Que sus variables sea estadísticamente significativas al 95%. Al menos un ‘*’\n",
        "\n",
        "* Que el valor de RMSE (Raiz del Error Estándar Medio) sea menor que : 2 000 000 (dos millones).\n",
        "\n",
        "Al final se deben comparar los modelos."
      ]
    },
    {
      "cell_type": "markdown",
      "metadata": {
        "id": "ErdMrWD9NZBR"
      },
      "source": [
        "## Cargar librerías\n",
        "\n"
      ]
    },
    {
      "cell_type": "code",
      "execution_count": 46,
      "metadata": {
        "id": "5J2myhObNk75"
      },
      "outputs": [],
      "source": [
        "import pandas as pd\n",
        "import numpy as np\n",
        "from sklearn import linear_model\n",
        "from sklearn.linear_model import LinearRegression\n",
        "from sklearn.preprocessing import PolynomialFeatures # Polinomial\n",
        "\n",
        "import matplotlib.pyplot as plt\n",
        "from sklearn.model_selection import train_test_split\n",
        "from sklearn import metrics\n",
        "from sklearn.metrics import mean_squared_error, r2_score\n",
        "#%matplotlib inline"
      ]
    },
    {
      "cell_type": "markdown",
      "metadata": {
        "id": "0L06HMyBNaxx"
      },
      "source": [
        "## Cargar datos\n",
        "\n",
        "Los datos se encuentran en la URL: https://raw.githubusercontent.com/rpizarrog/Analisis-Inteligente-de-datos/main/datos/datos.FIFA.limpios.csv\n"
      ]
    },
    {
      "cell_type": "code",
      "execution_count": 47,
      "metadata": {
        "colab": {
          "base_uri": "https://localhost:8080/",
          "height": 678
        },
        "id": "tKT3K8OZNpyp",
        "outputId": "2f86d3bf-5621-4ee9-b979-6cef13d0cd43"
      },
      "outputs": [
        {
          "data": {
            "text/html": [
              "<div>\n",
              "<style scoped>\n",
              "    .dataframe tbody tr th:only-of-type {\n",
              "        vertical-align: middle;\n",
              "    }\n",
              "\n",
              "    .dataframe tbody tr th {\n",
              "        vertical-align: top;\n",
              "    }\n",
              "\n",
              "    .dataframe thead th {\n",
              "        text-align: right;\n",
              "    }\n",
              "</style>\n",
              "<table border=\"1\" class=\"dataframe\">\n",
              "  <thead>\n",
              "    <tr style=\"text-align: right;\">\n",
              "      <th></th>\n",
              "      <th>Unnamed: 0</th>\n",
              "      <th>X</th>\n",
              "      <th>Name</th>\n",
              "      <th>Age</th>\n",
              "      <th>Nationality</th>\n",
              "      <th>Overall</th>\n",
              "      <th>Potential</th>\n",
              "      <th>Club</th>\n",
              "      <th>Preferred.Foot</th>\n",
              "      <th>International.Reputation</th>\n",
              "      <th>...</th>\n",
              "      <th>StandingTackle</th>\n",
              "      <th>SlidingTackle</th>\n",
              "      <th>GKDiving</th>\n",
              "      <th>GKHandling</th>\n",
              "      <th>GKKicking</th>\n",
              "      <th>GKPositioning</th>\n",
              "      <th>GKReflexes</th>\n",
              "      <th>Valor</th>\n",
              "      <th>Estatura</th>\n",
              "      <th>PesoKgs</th>\n",
              "    </tr>\n",
              "  </thead>\n",
              "  <tbody>\n",
              "    <tr>\n",
              "      <th>0</th>\n",
              "      <td>1</td>\n",
              "      <td>1</td>\n",
              "      <td>L. Messi</td>\n",
              "      <td>31</td>\n",
              "      <td>Argentina</td>\n",
              "      <td>94</td>\n",
              "      <td>94</td>\n",
              "      <td>FC Barcelona</td>\n",
              "      <td>Left</td>\n",
              "      <td>5</td>\n",
              "      <td>...</td>\n",
              "      <td>28</td>\n",
              "      <td>26</td>\n",
              "      <td>6</td>\n",
              "      <td>11</td>\n",
              "      <td>15</td>\n",
              "      <td>14</td>\n",
              "      <td>8</td>\n",
              "      <td>110500000</td>\n",
              "      <td>1.70</td>\n",
              "      <td>72.12</td>\n",
              "    </tr>\n",
              "    <tr>\n",
              "      <th>1</th>\n",
              "      <td>2</td>\n",
              "      <td>2</td>\n",
              "      <td>Cristiano Ronaldo</td>\n",
              "      <td>33</td>\n",
              "      <td>Portugal</td>\n",
              "      <td>94</td>\n",
              "      <td>94</td>\n",
              "      <td>Juventus</td>\n",
              "      <td>Right</td>\n",
              "      <td>5</td>\n",
              "      <td>...</td>\n",
              "      <td>31</td>\n",
              "      <td>23</td>\n",
              "      <td>7</td>\n",
              "      <td>11</td>\n",
              "      <td>15</td>\n",
              "      <td>14</td>\n",
              "      <td>11</td>\n",
              "      <td>77000000</td>\n",
              "      <td>1.88</td>\n",
              "      <td>83.01</td>\n",
              "    </tr>\n",
              "    <tr>\n",
              "      <th>2</th>\n",
              "      <td>3</td>\n",
              "      <td>3</td>\n",
              "      <td>Neymar Jr</td>\n",
              "      <td>26</td>\n",
              "      <td>Brazil</td>\n",
              "      <td>92</td>\n",
              "      <td>93</td>\n",
              "      <td>Paris Saint-Germain</td>\n",
              "      <td>Right</td>\n",
              "      <td>5</td>\n",
              "      <td>...</td>\n",
              "      <td>24</td>\n",
              "      <td>33</td>\n",
              "      <td>9</td>\n",
              "      <td>9</td>\n",
              "      <td>15</td>\n",
              "      <td>15</td>\n",
              "      <td>11</td>\n",
              "      <td>118500000</td>\n",
              "      <td>1.75</td>\n",
              "      <td>68.04</td>\n",
              "    </tr>\n",
              "    <tr>\n",
              "      <th>3</th>\n",
              "      <td>4</td>\n",
              "      <td>4</td>\n",
              "      <td>De Gea</td>\n",
              "      <td>27</td>\n",
              "      <td>Spain</td>\n",
              "      <td>91</td>\n",
              "      <td>93</td>\n",
              "      <td>Manchester United</td>\n",
              "      <td>Right</td>\n",
              "      <td>4</td>\n",
              "      <td>...</td>\n",
              "      <td>21</td>\n",
              "      <td>13</td>\n",
              "      <td>90</td>\n",
              "      <td>85</td>\n",
              "      <td>87</td>\n",
              "      <td>88</td>\n",
              "      <td>94</td>\n",
              "      <td>72000000</td>\n",
              "      <td>1.93</td>\n",
              "      <td>76.20</td>\n",
              "    </tr>\n",
              "    <tr>\n",
              "      <th>4</th>\n",
              "      <td>5</td>\n",
              "      <td>5</td>\n",
              "      <td>K. De Bruyne</td>\n",
              "      <td>27</td>\n",
              "      <td>Belgium</td>\n",
              "      <td>91</td>\n",
              "      <td>92</td>\n",
              "      <td>Manchester City</td>\n",
              "      <td>Right</td>\n",
              "      <td>4</td>\n",
              "      <td>...</td>\n",
              "      <td>58</td>\n",
              "      <td>51</td>\n",
              "      <td>15</td>\n",
              "      <td>13</td>\n",
              "      <td>5</td>\n",
              "      <td>10</td>\n",
              "      <td>13</td>\n",
              "      <td>102000000</td>\n",
              "      <td>1.80</td>\n",
              "      <td>69.85</td>\n",
              "    </tr>\n",
              "    <tr>\n",
              "      <th>...</th>\n",
              "      <td>...</td>\n",
              "      <td>...</td>\n",
              "      <td>...</td>\n",
              "      <td>...</td>\n",
              "      <td>...</td>\n",
              "      <td>...</td>\n",
              "      <td>...</td>\n",
              "      <td>...</td>\n",
              "      <td>...</td>\n",
              "      <td>...</td>\n",
              "      <td>...</td>\n",
              "      <td>...</td>\n",
              "      <td>...</td>\n",
              "      <td>...</td>\n",
              "      <td>...</td>\n",
              "      <td>...</td>\n",
              "      <td>...</td>\n",
              "      <td>...</td>\n",
              "      <td>...</td>\n",
              "      <td>...</td>\n",
              "      <td>...</td>\n",
              "    </tr>\n",
              "    <tr>\n",
              "      <th>17902</th>\n",
              "      <td>17951</td>\n",
              "      <td>17951</td>\n",
              "      <td>J. Lundstram</td>\n",
              "      <td>19</td>\n",
              "      <td>England</td>\n",
              "      <td>47</td>\n",
              "      <td>65</td>\n",
              "      <td>Crewe Alexandra</td>\n",
              "      <td>Right</td>\n",
              "      <td>1</td>\n",
              "      <td>...</td>\n",
              "      <td>48</td>\n",
              "      <td>47</td>\n",
              "      <td>10</td>\n",
              "      <td>13</td>\n",
              "      <td>7</td>\n",
              "      <td>8</td>\n",
              "      <td>9</td>\n",
              "      <td>60000</td>\n",
              "      <td>1.75</td>\n",
              "      <td>60.78</td>\n",
              "    </tr>\n",
              "    <tr>\n",
              "      <th>17903</th>\n",
              "      <td>17952</td>\n",
              "      <td>17952</td>\n",
              "      <td>N. Christoffersson</td>\n",
              "      <td>19</td>\n",
              "      <td>Sweden</td>\n",
              "      <td>47</td>\n",
              "      <td>63</td>\n",
              "      <td>Trelleborgs FF</td>\n",
              "      <td>Right</td>\n",
              "      <td>1</td>\n",
              "      <td>...</td>\n",
              "      <td>15</td>\n",
              "      <td>19</td>\n",
              "      <td>10</td>\n",
              "      <td>9</td>\n",
              "      <td>9</td>\n",
              "      <td>5</td>\n",
              "      <td>12</td>\n",
              "      <td>60000</td>\n",
              "      <td>1.91</td>\n",
              "      <td>77.11</td>\n",
              "    </tr>\n",
              "    <tr>\n",
              "      <th>17904</th>\n",
              "      <td>17953</td>\n",
              "      <td>17953</td>\n",
              "      <td>B. Worman</td>\n",
              "      <td>16</td>\n",
              "      <td>England</td>\n",
              "      <td>47</td>\n",
              "      <td>67</td>\n",
              "      <td>Cambridge United</td>\n",
              "      <td>Right</td>\n",
              "      <td>1</td>\n",
              "      <td>...</td>\n",
              "      <td>13</td>\n",
              "      <td>11</td>\n",
              "      <td>6</td>\n",
              "      <td>5</td>\n",
              "      <td>10</td>\n",
              "      <td>6</td>\n",
              "      <td>13</td>\n",
              "      <td>60000</td>\n",
              "      <td>1.73</td>\n",
              "      <td>67.13</td>\n",
              "    </tr>\n",
              "    <tr>\n",
              "      <th>17905</th>\n",
              "      <td>17954</td>\n",
              "      <td>17954</td>\n",
              "      <td>D. Walker-Rice</td>\n",
              "      <td>17</td>\n",
              "      <td>England</td>\n",
              "      <td>47</td>\n",
              "      <td>66</td>\n",
              "      <td>Tranmere Rovers</td>\n",
              "      <td>Right</td>\n",
              "      <td>1</td>\n",
              "      <td>...</td>\n",
              "      <td>25</td>\n",
              "      <td>27</td>\n",
              "      <td>14</td>\n",
              "      <td>6</td>\n",
              "      <td>14</td>\n",
              "      <td>8</td>\n",
              "      <td>9</td>\n",
              "      <td>60000</td>\n",
              "      <td>1.78</td>\n",
              "      <td>69.85</td>\n",
              "    </tr>\n",
              "    <tr>\n",
              "      <th>17906</th>\n",
              "      <td>17955</td>\n",
              "      <td>17955</td>\n",
              "      <td>G. Nugent</td>\n",
              "      <td>16</td>\n",
              "      <td>England</td>\n",
              "      <td>46</td>\n",
              "      <td>66</td>\n",
              "      <td>Tranmere Rovers</td>\n",
              "      <td>Right</td>\n",
              "      <td>1</td>\n",
              "      <td>...</td>\n",
              "      <td>43</td>\n",
              "      <td>50</td>\n",
              "      <td>10</td>\n",
              "      <td>15</td>\n",
              "      <td>9</td>\n",
              "      <td>12</td>\n",
              "      <td>9</td>\n",
              "      <td>60000</td>\n",
              "      <td>1.78</td>\n",
              "      <td>79.83</td>\n",
              "    </tr>\n",
              "  </tbody>\n",
              "</table>\n",
              "<p>17907 rows × 51 columns</p>\n",
              "</div>"
            ],
            "text/plain": [
              "       Unnamed: 0      X                Name  Age Nationality  Overall  \\\n",
              "0               1      1            L. Messi   31   Argentina       94   \n",
              "1               2      2   Cristiano Ronaldo   33    Portugal       94   \n",
              "2               3      3           Neymar Jr   26      Brazil       92   \n",
              "3               4      4              De Gea   27       Spain       91   \n",
              "4               5      5        K. De Bruyne   27     Belgium       91   \n",
              "...           ...    ...                 ...  ...         ...      ...   \n",
              "17902       17951  17951        J. Lundstram   19     England       47   \n",
              "17903       17952  17952  N. Christoffersson   19      Sweden       47   \n",
              "17904       17953  17953           B. Worman   16     England       47   \n",
              "17905       17954  17954      D. Walker-Rice   17     England       47   \n",
              "17906       17955  17955           G. Nugent   16     England       46   \n",
              "\n",
              "       Potential                 Club Preferred.Foot  \\\n",
              "0             94         FC Barcelona           Left   \n",
              "1             94             Juventus          Right   \n",
              "2             93  Paris Saint-Germain          Right   \n",
              "3             93    Manchester United          Right   \n",
              "4             92      Manchester City          Right   \n",
              "...          ...                  ...            ...   \n",
              "17902         65      Crewe Alexandra          Right   \n",
              "17903         63       Trelleborgs FF          Right   \n",
              "17904         67     Cambridge United          Right   \n",
              "17905         66      Tranmere Rovers          Right   \n",
              "17906         66      Tranmere Rovers          Right   \n",
              "\n",
              "       International.Reputation  ...  StandingTackle  SlidingTackle GKDiving  \\\n",
              "0                             5  ...              28             26        6   \n",
              "1                             5  ...              31             23        7   \n",
              "2                             5  ...              24             33        9   \n",
              "3                             4  ...              21             13       90   \n",
              "4                             4  ...              58             51       15   \n",
              "...                         ...  ...             ...            ...      ...   \n",
              "17902                         1  ...              48             47       10   \n",
              "17903                         1  ...              15             19       10   \n",
              "17904                         1  ...              13             11        6   \n",
              "17905                         1  ...              25             27       14   \n",
              "17906                         1  ...              43             50       10   \n",
              "\n",
              "      GKHandling  GKKicking  GKPositioning  GKReflexes      Valor  Estatura  \\\n",
              "0             11         15             14           8  110500000      1.70   \n",
              "1             11         15             14          11   77000000      1.88   \n",
              "2              9         15             15          11  118500000      1.75   \n",
              "3             85         87             88          94   72000000      1.93   \n",
              "4             13          5             10          13  102000000      1.80   \n",
              "...          ...        ...            ...         ...        ...       ...   \n",
              "17902         13          7              8           9      60000      1.75   \n",
              "17903          9          9              5          12      60000      1.91   \n",
              "17904          5         10              6          13      60000      1.73   \n",
              "17905          6         14              8           9      60000      1.78   \n",
              "17906         15          9             12           9      60000      1.78   \n",
              "\n",
              "       PesoKgs  \n",
              "0        72.12  \n",
              "1        83.01  \n",
              "2        68.04  \n",
              "3        76.20  \n",
              "4        69.85  \n",
              "...        ...  \n",
              "17902    60.78  \n",
              "17903    77.11  \n",
              "17904    67.13  \n",
              "17905    69.85  \n",
              "17906    79.83  \n",
              "\n",
              "[17907 rows x 51 columns]"
            ]
          },
          "execution_count": 47,
          "metadata": {},
          "output_type": "execute_result"
        }
      ],
      "source": [
        "datos = pd.read_csv(\"https://raw.githubusercontent.com/rpizarrog/Analisis-Inteligente-de-datos/main/datos/datos.limpios.csv\", encoding='latin1')\n",
        "datos"
      ]
    },
    {
      "cell_type": "markdown",
      "metadata": {
        "id": "zujQk-m1N1fr"
      },
      "source": []
    },
    {
      "cell_type": "code",
      "execution_count": 48,
      "metadata": {
        "colab": {
          "base_uri": "https://localhost:8080/"
        },
        "id": "JqMdn8q2OiVh",
        "outputId": "539a0757-b0bb-4ff9-ffb0-fa1e645359b5"
      },
      "outputs": [
        {
          "name": "stdout",
          "output_type": "stream",
          "text": [
            "Observaciones y variables:  (17907, 51)\n",
            "Columnas y tipo de dato\n"
          ]
        },
        {
          "data": {
            "text/plain": [
              "Unnamed: 0                    int64\n",
              "X                             int64\n",
              "Name                         object\n",
              "Age                           int64\n",
              "Nationality                  object\n",
              "Overall                       int64\n",
              "Potential                     int64\n",
              "Club                         object\n",
              "Preferred.Foot               object\n",
              "International.Reputation      int64\n",
              "Weak.Foot                     int64\n",
              "Skill.Moves                   int64\n",
              "Height                       object\n",
              "Weight                       object\n",
              "Crossing                      int64\n",
              "Finishing                     int64\n",
              "HeadingAccuracy               int64\n",
              "ShortPassing                  int64\n",
              "Volleys                       int64\n",
              "Dribbling                     int64\n",
              "Curve                         int64\n",
              "FKAccuracy                    int64\n",
              "LongPassing                   int64\n",
              "BallControl                   int64\n",
              "Acceleration                  int64\n",
              "SprintSpeed                   int64\n",
              "Agility                       int64\n",
              "Reactions                     int64\n",
              "Balance                       int64\n",
              "ShotPower                     int64\n",
              "Jumping                       int64\n",
              "Stamina                       int64\n",
              "Strength                      int64\n",
              "LongShots                     int64\n",
              "Aggression                    int64\n",
              "Interceptions                 int64\n",
              "Positioning                   int64\n",
              "Vision                        int64\n",
              "Penalties                     int64\n",
              "Composure                     int64\n",
              "Marking                       int64\n",
              "StandingTackle                int64\n",
              "SlidingTackle                 int64\n",
              "GKDiving                      int64\n",
              "GKHandling                    int64\n",
              "GKKicking                     int64\n",
              "GKPositioning                 int64\n",
              "GKReflexes                    int64\n",
              "Valor                         int64\n",
              "Estatura                    float64\n",
              "PesoKgs                     float64\n",
              "dtype: object"
            ]
          },
          "execution_count": 48,
          "metadata": {},
          "output_type": "execute_result"
        }
      ],
      "source": [
        "print(\"Observaciones y variables: \", datos.shape)\n",
        "print(\"Columnas y tipo de dato\")\n",
        "# datos.columns\n",
        "datos.dtypes"
      ]
    },
    {
      "cell_type": "markdown",
      "metadata": {
        "id": "V2WzMsZAO9oC"
      },
      "source": [
        "### Variables independiente y dependiente\n",
        "\n",
        "Se identifican dos variables numéricas de interés:\n",
        "\n",
        "* *Overall*: Reputación y jerarquía internacional numérica del jugador\n",
        "\n",
        "* *Valor*: Sería el valor económico internacional de los jugadores\n",
        "\n",
        "Se define a la variable independiente como *Overall* y la variable dependiente Valor, es decir, *Overall* impacta sobre *Valor* o los números económicos de la variable Valor dependen de *Overall*."
      ]
    },
    {
      "cell_type": "code",
      "execution_count": 49,
      "metadata": {
        "colab": {
          "base_uri": "https://localhost:8080/"
        },
        "id": "lV7P4azuPTWK",
        "outputId": "49f0e868-ccb2-477c-e9d1-879a34cd4f9d"
      },
      "outputs": [
        {
          "data": {
            "text/plain": [
              "count    17907.000000\n",
              "mean        66.239571\n",
              "std          6.926818\n",
              "min         46.000000\n",
              "25%         62.000000\n",
              "50%         66.000000\n",
              "75%         71.000000\n",
              "max         94.000000\n",
              "Name: Overall, dtype: float64"
            ]
          },
          "execution_count": 49,
          "metadata": {},
          "output_type": "execute_result"
        }
      ],
      "source": [
        "datos['Overall'].describe()"
      ]
    },
    {
      "cell_type": "code",
      "execution_count": 50,
      "metadata": {
        "colab": {
          "base_uri": "https://localhost:8080/"
        },
        "id": "GwBXRm7OPaFg",
        "outputId": "68e7c4e7-214d-4abd-d13a-bbeb65dcf10f"
      },
      "outputs": [
        {
          "data": {
            "text/plain": [
              "count    1.790700e+04\n",
              "mean     2.450133e+06\n",
              "std      5.633207e+06\n",
              "min      1.000000e+04\n",
              "25%      3.250000e+05\n",
              "50%      7.000000e+05\n",
              "75%      2.100000e+06\n",
              "max      1.185000e+08\n",
              "Name: Valor, dtype: float64"
            ]
          },
          "execution_count": 50,
          "metadata": {},
          "output_type": "execute_result"
        }
      ],
      "source": [
        "datos['Valor'].describe()"
      ]
    },
    {
      "cell_type": "markdown",
      "metadata": {
        "id": "II5Aa3OYQvCR"
      },
      "source": [
        "## Dispersión de los datos\n"
      ]
    },
    {
      "cell_type": "code",
      "execution_count": 51,
      "metadata": {
        "colab": {
          "base_uri": "https://localhost:8080/",
          "height": 294
        },
        "id": "tL6I63vcQwoJ",
        "outputId": "f081ea65-6546-462f-cb85-cf1a4c59acf5"
      },
      "outputs": [
        {
          "data": {
            "text/plain": [
              "[<matplotlib.lines.Line2D at 0x158f7a26c50>]"
            ]
          },
          "execution_count": 51,
          "metadata": {},
          "output_type": "execute_result"
        },
        {
          "data": {
            "image/png": "[encoded data removed]",
            "text/plain": [
              "<Figure size 640x480 with 1 Axes>"
            ]
          },
          "metadata": {},
          "output_type": "display_data"
        }
      ],
      "source": [
        "plt.plot(datos['Overall'], datos['Valor'], 'o', color= 'blue')"
      ]
    },
    {
      "cell_type": "markdown",
      "metadata": {
        "id": "h_Q7EllxRHLx"
      },
      "source": [
        "Se observa que la relación de los datos no es del todo lineal, pero se construirán los modelos de regresión lineal simple y polinómico con las mismas variables."
      ]
    },
    {
      "cell_type": "markdown",
      "metadata": {
        "id": "f5VbED7PRIHN"
      },
      "source": [
        "## Datos de entrenamiento y datos de validación\n",
        "\n",
        "Se parten los datos 70% datos de entrenamiento y 30% datos de validación"
      ]
    },
    {
      "cell_type": "code",
      "execution_count": 52,
      "metadata": {
        "id": "vjQd7yC5_NCd"
      },
      "outputs": [],
      "source": [
        "overall = datos[['Overall']].to_numpy()\n",
        "valor = datos[['Valor']].to_numpy()"
      ]
    },
    {
      "cell_type": "markdown",
      "metadata": {
        "id": "tWz_GErp_gtf"
      },
      "source": [
        "Ahora que se tiene la variable independiente overall y la variable dependiente valor, el siguiente paso es dividir estos datos en conjuntos de entrenamiento y prueba o validación.\n",
        "\n",
        "Se utiiza el método *train_test_split()* que forma parte de la librería Scikit-Learn.\n",
        "\n",
        "El argumento test_size establece el 30% para datos de validación por lo que el 70% pertenece a los datos de entrenamiento"
      ]
    },
    {
      "cell_type": "code",
      "execution_count": 53,
      "metadata": {
        "id": "yZ8f9OqB_r_V"
      },
      "outputs": [],
      "source": [
        "overall_train, overall_test, valor_train, valor_test = train_test_split(overall, valor, test_size=0.3, random_state=2000)"
      ]
    },
    {
      "cell_type": "code",
      "execution_count": 54,
      "metadata": {
        "colab": {
          "base_uri": "https://localhost:8080/"
        },
        "id": "AmdF9jeC_9Lu",
        "outputId": "4a7272e7-52f4-486f-ccff-67e377b23ba2"
      },
      "outputs": [
        {
          "data": {
            "text/plain": [
              "array([[56],\n",
              "       [64],\n",
              "       [68],\n",
              "       ...,\n",
              "       [75],\n",
              "       [71],\n",
              "       [70]], dtype=int64)"
            ]
          },
          "execution_count": 54,
          "metadata": {},
          "output_type": "execute_result"
        }
      ],
      "source": [
        "overall_train"
      ]
    },
    {
      "cell_type": "markdown",
      "metadata": {
        "id": "izQBmH3_BC_t"
      },
      "source": [
        "## Modelos de regresión"
      ]
    },
    {
      "cell_type": "markdown",
      "metadata": {
        "id": "BdhlN1qGAAnp"
      },
      "source": [
        "### Modelo de Regresión Lineal Simple"
      ]
    },
    {
      "cell_type": "code",
      "execution_count": 55,
      "metadata": {
        "colab": {
          "base_uri": "https://localhost:8080/"
        },
        "id": "wTpePudVANm2",
        "outputId": "6de241d1-5359-4c63-b299-58e20be3eac2"
      },
      "outputs": [
        {
          "data": {
            "text/html": [
              "<style>#sk-container-id-6 {color: black;background-color: white;}#sk-container-id-6 pre{padding: 0;}#sk-container-id-6 div.sk-toggleable {background-color: white;}#sk-container-id-6 label.sk-toggleable__label {cursor: pointer;display: block;width: 100%;margin-bottom: 0;padding: 0.3em;box-sizing: border-box;text-align: center;}#sk-container-id-6 label.sk-toggleable__label-arrow:before {content: \"▸\";float: left;margin-right: 0.25em;color: #696969;}#sk-container-id-6 label.sk-toggleable__label-arrow:hover:before {color: black;}#sk-container-id-6 div.sk-estimator:hover label.sk-toggleable__label-arrow:before {color: black;}#sk-container-id-6 div.sk-toggleable__content {max-height: 0;max-width: 0;overflow: hidden;text-align: left;background-color: #f0f8ff;}#sk-container-id-6 div.sk-toggleable__content pre {margin: 0.2em;color: black;border-radius: 0.25em;background-color: #f0f8ff;}#sk-container-id-6 input.sk-toggleable__control:checked~div.sk-toggleable__content {max-height: 200px;max-width: 100%;overflow: auto;}#sk-container-id-6 input.sk-toggleable__control:checked~label.sk-toggleable__label-arrow:before {content: \"▾\";}#sk-container-id-6 div.sk-estimator input.sk-toggleable__control:checked~label.sk-toggleable__label {background-color: #d4ebff;}#sk-container-id-6 div.sk-label input.sk-toggleable__control:checked~label.sk-toggleable__label {background-color: #d4ebff;}#sk-container-id-6 input.sk-hidden--visually {border: 0;clip: rect(1px 1px 1px 1px);clip: rect(1px, 1px, 1px, 1px);height: 1px;margin: -1px;overflow: hidden;padding: 0;position: absolute;width: 1px;}#sk-container-id-6 div.sk-estimator {font-family: monospace;background-color: #f0f8ff;border: 1px dotted black;border-radius: 0.25em;box-sizing: border-box;margin-bottom: 0.5em;}#sk-container-id-6 div.sk-estimator:hover {background-color: #d4ebff;}#sk-container-id-6 div.sk-parallel-item::after {content: \"\";width: 100%;border-bottom: 1px solid gray;flex-grow: 1;}#sk-container-id-6 div.sk-label:hover label.sk-toggleable__label {background-color: #d4ebff;}#sk-container-id-6 div.sk-serial::before {content: \"\";position: absolute;border-left: 1px solid gray;box-sizing: border-box;top: 0;bottom: 0;left: 50%;z-index: 0;}#sk-container-id-6 div.sk-serial {display: flex;flex-direction: column;align-items: center;background-color: white;padding-right: 0.2em;padding-left: 0.2em;position: relative;}#sk-container-id-6 div.sk-item {position: relative;z-index: 1;}#sk-container-id-6 div.sk-parallel {display: flex;align-items: stretch;justify-content: center;background-color: white;position: relative;}#sk-container-id-6 div.sk-item::before, #sk-container-id-6 div.sk-parallel-item::before {content: \"\";position: absolute;border-left: 1px solid gray;box-sizing: border-box;top: 0;bottom: 0;left: 50%;z-index: -1;}#sk-container-id-6 div.sk-parallel-item {display: flex;flex-direction: column;z-index: 1;position: relative;background-color: white;}#sk-container-id-6 div.sk-parallel-item:first-child::after {align-self: flex-end;width: 50%;}#sk-container-id-6 div.sk-parallel-item:last-child::after {align-self: flex-start;width: 50%;}#sk-container-id-6 div.sk-parallel-item:only-child::after {width: 0;}#sk-container-id-6 div.sk-dashed-wrapped {border: 1px dashed gray;margin: 0 0.4em 0.5em 0.4em;box-sizing: border-box;padding-bottom: 0.4em;background-color: white;}#sk-container-id-6 div.sk-label label {font-family: monospace;font-weight: bold;display: inline-block;line-height: 1.2em;}#sk-container-id-6 div.sk-label-container {text-align: center;}#sk-container-id-6 div.sk-container {/* jupyter's `normalize.less` sets `[hidden] { display: none; }` but bootstrap.min.css set `[hidden] { display: none !important; }` so we also need the `!important` here to be able to override the default hidden behavior on the sphinx rendered scikit-learn.org. See: https://github.com/scikit-learn/scikit-learn/issues/21755 */display: inline-block !important;position: relative;}#sk-container-id-6 div.sk-text-repr-fallback {display: none;}</style><div id=\"sk-container-id-6\" class=\"sk-top-container\"><div class=\"sk-text-repr-fallback\"><pre>LinearRegression()</pre><b>In a Jupyter environment, please rerun this cell to show the HTML representation or trust the notebook. <br />On GitHub, the HTML representation is unable to render, please try loading this page with nbviewer.org.</b></div><div class=\"sk-container\" hidden><div class=\"sk-item\"><div class=\"sk-estimator sk-toggleable\"><input class=\"sk-toggleable__control sk-hidden--visually\" id=\"sk-estimator-id-6\" type=\"checkbox\" checked><label for=\"sk-estimator-id-6\" class=\"sk-toggleable__label sk-toggleable__label-arrow\">LinearRegression</label><div class=\"sk-toggleable__content\"><pre>LinearRegression()</pre></div></div></div></div></div>"
            ],
            "text/plain": [
              "LinearRegression()"
            ]
          },
          "execution_count": 55,
          "metadata": {},
          "output_type": "execute_result"
        }
      ],
      "source": [
        "modelo_ls = LinearRegression()\n",
        "modelo_ls.fit(overall_train, valor_train)"
      ]
    },
    {
      "cell_type": "markdown",
      "metadata": {
        "id": "-21QLnoAAZhl"
      },
      "source": [
        "#### Coeficientes del modelo\n",
        "\n",
        "Se determinan los valores de a y b de la fórmula\n",
        "$$\n",
        "Y=a+bx \n",
        "$$\n",
        "ó\n",
        "$$\n",
        "Y=β0+β1⋅x\n",
        "$$"
      ]
    },
    {
      "cell_type": "code",
      "execution_count": 56,
      "metadata": {
        "colab": {
          "base_uri": "https://localhost:8080/"
        },
        "id": "K3fEPSzyAb7V",
        "outputId": "1bb8a0cf-44d0-4f07-9f9c-8239dda8884d"
      },
      "outputs": [
        {
          "name": "stdout",
          "output_type": "stream",
          "text": [
            "Valor de a:  [-30564097.50108849]\n",
            "Valor de b;  [[497782.15742378]]\n"
          ]
        }
      ],
      "source": [
        "a = modelo_ls.intercept_\n",
        "b = modelo_ls.coef_\n",
        "\n",
        "print(\"Valor de a: \", a)\n",
        "print(\"Valor de b; \", b)\n"
      ]
    },
    {
      "cell_type": "markdown",
      "metadata": {
        "id": "-E15rZz1BPT_"
      },
      "source": [
        "#### Linea de tendencia del modelo\n",
        "Con la el valor de los valores de tendencia o valores ajustados del modelo se visualiza la recta de tendencia del modelo.\n",
        "\n",
        "La gráfica g se construye por partes, primero la dispersión, segundo la linea de tendencia, tercero se agrega el título, para luego solo mostrar la gráfica g."
      ]
    },
    {
      "cell_type": "code",
      "execution_count": 57,
      "metadata": {
        "colab": {
          "base_uri": "https://localhost:8080/",
          "height": 294
        },
        "id": "9BzI0JHeBZyA",
        "outputId": "0605bdd2-5cd8-4536-be52-b98ec127a06d"
      },
      "outputs": [
        {
          "data": {
            "text/plain": [
              "[<matplotlib.lines.Line2D at 0x158f721fee0>]"
            ]
          },
          "execution_count": 57,
          "metadata": {},
          "output_type": "execute_result"
        },
        {
          "data": {
            "image/png": "[encoded data removed]",
            "text/plain": [
              "<Figure size 640x480 with 1 Axes>"
            ]
          },
          "metadata": {},
          "output_type": "display_data"
        }
      ],
      "source": [
        "linea_tendencia = modelo_ls.predict(overall_train)\n",
        "plt.plot(overall_train, valor_train, 'o', color= 'blue')\n",
        "plt.plot(overall_train, linea_tendencia, color=\"red\")"
      ]
    },
    {
      "cell_type": "markdown",
      "metadata": {
        "id": "AtpzJHeWB2wd"
      },
      "source": [
        "Se observa visualmente que la linea recta no es precisamente el mejor modelo para realizar predicciones."
      ]
    },
    {
      "cell_type": "markdown",
      "metadata": {
        "id": "Ze-yJ0W9AxQ3"
      },
      "source": [
        "### Predicciones\n",
        "\n",
        "Las predicciones se hacen con el conjunto de datos de validación.\n"
      ]
    },
    {
      "cell_type": "code",
      "execution_count": 58,
      "metadata": {
        "colab": {
          "base_uri": "https://localhost:8080/"
        },
        "id": "ScNZ547BA0Rm",
        "outputId": "c3ef57fd-a87c-43f7-83d2-a5cabed83fa2"
      },
      "outputs": [
        {
          "data": {
            "text/plain": [
              "array([[  796178.4166097 ],\n",
              "       [  298396.25918591],\n",
              "       [ -199385.89823787],\n",
              "       ...,\n",
              "       [-1692732.37050921],\n",
              "       [ -697168.05566164],\n",
              "       [ 6271782.14827128]])"
            ]
          },
          "execution_count": 58,
          "metadata": {},
          "output_type": "execute_result"
        }
      ],
      "source": [
        "predicciones = modelo_ls.predict(overall_test)\n",
        "predicciones"
      ]
    },
    {
      "cell_type": "markdown",
      "metadata": {
        "id": "wrdhWi22CE8m"
      },
      "source": [
        "### Determinando métricas\n",
        "\n",
        "Crear un data.frame llamado comparaciones a partir de la creación de un diccionario con los valores reales del conjunto de entrenamiento y las predicciones calculadas.\n",
        "\n",
        "Con la función flatten().tolist() convierte el arreglo a una lista de una dimensión.\n",
        "\n"
      ]
    },
    {
      "cell_type": "code",
      "execution_count": 59,
      "metadata": {
        "colab": {
          "base_uri": "https://localhost:8080/",
          "height": 423
        },
        "id": "Cs3-EjB3CJu2",
        "outputId": "bfaf4b12-7862-4c59-9735-17bdae010b45"
      },
      "outputs": [
        {
          "data": {
            "text/html": [
              "<div>\n",
              "<style scoped>\n",
              "    .dataframe tbody tr th:only-of-type {\n",
              "        vertical-align: middle;\n",
              "    }\n",
              "\n",
              "    .dataframe tbody tr th {\n",
              "        vertical-align: top;\n",
              "    }\n",
              "\n",
              "    .dataframe thead th {\n",
              "        text-align: right;\n",
              "    }\n",
              "</style>\n",
              "<table border=\"1\" class=\"dataframe\">\n",
              "  <thead>\n",
              "    <tr style=\"text-align: right;\">\n",
              "      <th></th>\n",
              "      <th>Overall</th>\n",
              "      <th>Real</th>\n",
              "      <th>Predicho</th>\n",
              "    </tr>\n",
              "  </thead>\n",
              "  <tbody>\n",
              "    <tr>\n",
              "      <th>0</th>\n",
              "      <td>63</td>\n",
              "      <td>375000</td>\n",
              "      <td>7.961784e+05</td>\n",
              "    </tr>\n",
              "    <tr>\n",
              "      <th>1</th>\n",
              "      <td>62</td>\n",
              "      <td>650000</td>\n",
              "      <td>2.983963e+05</td>\n",
              "    </tr>\n",
              "    <tr>\n",
              "      <th>2</th>\n",
              "      <td>61</td>\n",
              "      <td>550000</td>\n",
              "      <td>-1.993859e+05</td>\n",
              "    </tr>\n",
              "    <tr>\n",
              "      <th>3</th>\n",
              "      <td>67</td>\n",
              "      <td>900000</td>\n",
              "      <td>2.787307e+06</td>\n",
              "    </tr>\n",
              "    <tr>\n",
              "      <th>4</th>\n",
              "      <td>57</td>\n",
              "      <td>30000</td>\n",
              "      <td>-2.190515e+06</td>\n",
              "    </tr>\n",
              "    <tr>\n",
              "      <th>...</th>\n",
              "      <td>...</td>\n",
              "      <td>...</td>\n",
              "      <td>...</td>\n",
              "    </tr>\n",
              "    <tr>\n",
              "      <th>5368</th>\n",
              "      <td>67</td>\n",
              "      <td>750000</td>\n",
              "      <td>2.787307e+06</td>\n",
              "    </tr>\n",
              "    <tr>\n",
              "      <th>5369</th>\n",
              "      <td>66</td>\n",
              "      <td>90000</td>\n",
              "      <td>2.289525e+06</td>\n",
              "    </tr>\n",
              "    <tr>\n",
              "      <th>5370</th>\n",
              "      <td>58</td>\n",
              "      <td>250000</td>\n",
              "      <td>-1.692732e+06</td>\n",
              "    </tr>\n",
              "    <tr>\n",
              "      <th>5371</th>\n",
              "      <td>60</td>\n",
              "      <td>280000</td>\n",
              "      <td>-6.971681e+05</td>\n",
              "    </tr>\n",
              "    <tr>\n",
              "      <th>5372</th>\n",
              "      <td>74</td>\n",
              "      <td>5500000</td>\n",
              "      <td>6.271782e+06</td>\n",
              "    </tr>\n",
              "  </tbody>\n",
              "</table>\n",
              "<p>5373 rows × 3 columns</p>\n",
              "</div>"
            ],
            "text/plain": [
              "      Overall     Real      Predicho\n",
              "0          63   375000  7.961784e+05\n",
              "1          62   650000  2.983963e+05\n",
              "2          61   550000 -1.993859e+05\n",
              "3          67   900000  2.787307e+06\n",
              "4          57    30000 -2.190515e+06\n",
              "...       ...      ...           ...\n",
              "5368       67   750000  2.787307e+06\n",
              "5369       66    90000  2.289525e+06\n",
              "5370       58   250000 -1.692732e+06\n",
              "5371       60   280000 -6.971681e+05\n",
              "5372       74  5500000  6.271782e+06\n",
              "\n",
              "[5373 rows x 3 columns]"
            ]
          },
          "execution_count": 59,
          "metadata": {},
          "output_type": "execute_result"
        }
      ],
      "source": [
        "diccionario = {'Overall': overall_test .flatten().tolist(),\n",
        "                'Real' : valor_test.flatten().tolist(), \n",
        "               'Predicho' : predicciones.flatten().tolist()}\n",
        "diccionario\n",
        "\n",
        "comparaciones = pd.DataFrame(diccionario)\n",
        "comparaciones"
      ]
    },
    {
      "cell_type": "markdown",
      "metadata": {
        "id": "FGcBBgT4CgVx"
      },
      "source": [
        "¡Salen predicciones negativas!, ¿que significa? , no debiera haber predicciones negativas, sin embargo, esto sucede porque el modelo así lo calcula por lo estricto de la linea de recta de tendencia.\n",
        "\n",
        "#### R Square\n",
        "\n",
        "Es el valor de la correlación al cuadrado de las predicciones y los valores reales.Se interpreta como la representación que tienen la variable indeéndiente sobre la variabel dependinte. En este caso, que tanto Overall representa a Valor en los datos.\n",
        "\n",
        "R2 es el coeficiente de determinación, y tiene que ver con la capacidad de un modelo para predecir futuros resultados\n"
      ]
    },
    {
      "cell_type": "code",
      "execution_count": 60,
      "metadata": {
        "colab": {
          "base_uri": "https://localhost:8080/"
        },
        "id": "Dpq_LTwqC3jt",
        "outputId": "ad964177-4d54-4c1a-cd5d-5c88c0140d83"
      },
      "outputs": [
        {
          "name": "stdout",
          "output_type": "stream",
          "text": [
            "R Square : 0.3889\n",
            "R Square : 0.38490488725946626\n"
          ]
        }
      ],
      "source": [
        "# r = np.corrcoef(overall_train.flatten().tolist(), valor_train.flatten().tolist())\n",
        "# r = r ** 2\n",
        "# r = r.reshape(-1,2)\n",
        "# r = r[0, 1]\n",
        "# print('R Square :', np.round(r, 4) )\n",
        "\n",
        "# Con lo real vs predicciones\n",
        "r = np.corrcoef(comparaciones['Real'], comparaciones['Predicho'])\n",
        "r = r ** 2\n",
        "r = r.reshape(-1,2)\n",
        "r = r[0, 1]\n",
        "print('R Square :', np.round(r, 4) )\n",
        "\n",
        "# con r2_score([2, 5, 9], [3, 5, 11])\n",
        "print('R Square :', r2_score(comparaciones['Real'], comparaciones['Predicho'] ))\n"
      ]
    },
    {
      "cell_type": "markdown",
      "metadata": {
        "id": "xC9k_lfsDBnY"
      },
      "source": [
        "El valor de R Square es por debajo del 40% por lo que no sobrepasa el 50% como critero, por lo cual, por este criterio el modelo **NO SE ACEPTA**."
      ]
    },
    {
      "cell_type": "markdown",
      "metadata": {
        "id": "4a8TR9DjDV4Z"
      },
      "source": [
        "#### rmse\n",
        "\n",
        "$$\n",
        "rmse = \\sqrt{\\frac{\\sum(predicho_i - real_i)^{2}}{n}}\n",
        "$$\n"
      ]
    },
    {
      "cell_type": "code",
      "execution_count": 61,
      "metadata": {
        "colab": {
          "base_uri": "https://localhost:8080/"
        },
        "id": "MdqA4LHjDiB_",
        "outputId": "e2046ce0-b0b0-4681-b7ae-de723dabe76e"
      },
      "outputs": [
        {
          "name": "stdout",
          "output_type": "stream",
          "text": [
            "Mean Squared Error: MSE 23405588813031.473\n",
            "Root Mean Squared Error RMSE: 4837932.286941548\n"
          ]
        }
      ],
      "source": [
        "print('Mean Squared Error: MSE', metrics.mean_squared_error(valor_test, predicciones))\n",
        "print('Root Mean Squared Error RMSE:', np.sqrt(metrics.mean_squared_error(valor_test, predicciones)))\n"
      ]
    },
    {
      "cell_type": "markdown",
      "metadata": {
        "id": "VFr_zwiWDuDI"
      },
      "source": [
        "El valor de **rmse** está por encima los 2,000,000 (dos millones) por lo que de acuerdo a la métrica inicial establecida el modelo **¡NO SE ACEPTA!**\n",
        "\n"
      ]
    },
    {
      "cell_type": "markdown",
      "metadata": {
        "id": "qcfyU1f0FJLH"
      },
      "source": [
        "### Modelo de Regresión Polinomial de segundo nivel\n",
        "\n",
        "Desde Sklearn con PolynomialFeatures, se crea un objeto polinómico de segundo nivel. Se crea otro objeto de X_poly a partir de los datos de entrenamiento y finalmente se cra el modelo polinómico de segundo nivel."
      ]
    },
    {
      "cell_type": "code",
      "execution_count": 62,
      "metadata": {
        "colab": {
          "base_uri": "https://localhost:8080/"
        },
        "id": "DdE7qwW-FWb_",
        "outputId": "321ba43f-ba5a-4715-e662-59383b830476"
      },
      "outputs": [
        {
          "data": {
            "text/html": [
              "<style>#sk-container-id-7 {color: black;background-color: white;}#sk-container-id-7 pre{padding: 0;}#sk-container-id-7 div.sk-toggleable {background-color: white;}#sk-container-id-7 label.sk-toggleable__label {cursor: pointer;display: block;width: 100%;margin-bottom: 0;padding: 0.3em;box-sizing: border-box;text-align: center;}#sk-container-id-7 label.sk-toggleable__label-arrow:before {content: \"▸\";float: left;margin-right: 0.25em;color: #696969;}#sk-container-id-7 label.sk-toggleable__label-arrow:hover:before {color: black;}#sk-container-id-7 div.sk-estimator:hover label.sk-toggleable__label-arrow:before {color: black;}#sk-container-id-7 div.sk-toggleable__content {max-height: 0;max-width: 0;overflow: hidden;text-align: left;background-color: #f0f8ff;}#sk-container-id-7 div.sk-toggleable__content pre {margin: 0.2em;color: black;border-radius: 0.25em;background-color: #f0f8ff;}#sk-container-id-7 input.sk-toggleable__control:checked~div.sk-toggleable__content {max-height: 200px;max-width: 100%;overflow: auto;}#sk-container-id-7 input.sk-toggleable__control:checked~label.sk-toggleable__label-arrow:before {content: \"▾\";}#sk-container-id-7 div.sk-estimator input.sk-toggleable__control:checked~label.sk-toggleable__label {background-color: #d4ebff;}#sk-container-id-7 div.sk-label input.sk-toggleable__control:checked~label.sk-toggleable__label {background-color: #d4ebff;}#sk-container-id-7 input.sk-hidden--visually {border: 0;clip: rect(1px 1px 1px 1px);clip: rect(1px, 1px, 1px, 1px);height: 1px;margin: -1px;overflow: hidden;padding: 0;position: absolute;width: 1px;}#sk-container-id-7 div.sk-estimator {font-family: monospace;background-color: #f0f8ff;border: 1px dotted black;border-radius: 0.25em;box-sizing: border-box;margin-bottom: 0.5em;}#sk-container-id-7 div.sk-estimator:hover {background-color: #d4ebff;}#sk-container-id-7 div.sk-parallel-item::after {content: \"\";width: 100%;border-bottom: 1px solid gray;flex-grow: 1;}#sk-container-id-7 div.sk-label:hover label.sk-toggleable__label {background-color: #d4ebff;}#sk-container-id-7 div.sk-serial::before {content: \"\";position: absolute;border-left: 1px solid gray;box-sizing: border-box;top: 0;bottom: 0;left: 50%;z-index: 0;}#sk-container-id-7 div.sk-serial {display: flex;flex-direction: column;align-items: center;background-color: white;padding-right: 0.2em;padding-left: 0.2em;position: relative;}#sk-container-id-7 div.sk-item {position: relative;z-index: 1;}#sk-container-id-7 div.sk-parallel {display: flex;align-items: stretch;justify-content: center;background-color: white;position: relative;}#sk-container-id-7 div.sk-item::before, #sk-container-id-7 div.sk-parallel-item::before {content: \"\";position: absolute;border-left: 1px solid gray;box-sizing: border-box;top: 0;bottom: 0;left: 50%;z-index: -1;}#sk-container-id-7 div.sk-parallel-item {display: flex;flex-direction: column;z-index: 1;position: relative;background-color: white;}#sk-container-id-7 div.sk-parallel-item:first-child::after {align-self: flex-end;width: 50%;}#sk-container-id-7 div.sk-parallel-item:last-child::after {align-self: flex-start;width: 50%;}#sk-container-id-7 div.sk-parallel-item:only-child::after {width: 0;}#sk-container-id-7 div.sk-dashed-wrapped {border: 1px dashed gray;margin: 0 0.4em 0.5em 0.4em;box-sizing: border-box;padding-bottom: 0.4em;background-color: white;}#sk-container-id-7 div.sk-label label {font-family: monospace;font-weight: bold;display: inline-block;line-height: 1.2em;}#sk-container-id-7 div.sk-label-container {text-align: center;}#sk-container-id-7 div.sk-container {/* jupyter's `normalize.less` sets `[hidden] { display: none; }` but bootstrap.min.css set `[hidden] { display: none !important; }` so we also need the `!important` here to be able to override the default hidden behavior on the sphinx rendered scikit-learn.org. See: https://github.com/scikit-learn/scikit-learn/issues/21755 */display: inline-block !important;position: relative;}#sk-container-id-7 div.sk-text-repr-fallback {display: none;}</style><div id=\"sk-container-id-7\" class=\"sk-top-container\"><div class=\"sk-text-repr-fallback\"><pre>LinearRegression()</pre><b>In a Jupyter environment, please rerun this cell to show the HTML representation or trust the notebook. <br />On GitHub, the HTML representation is unable to render, please try loading this page with nbviewer.org.</b></div><div class=\"sk-container\" hidden><div class=\"sk-item\"><div class=\"sk-estimator sk-toggleable\"><input class=\"sk-toggleable__control sk-hidden--visually\" id=\"sk-estimator-id-7\" type=\"checkbox\" checked><label for=\"sk-estimator-id-7\" class=\"sk-toggleable__label sk-toggleable__label-arrow\">LinearRegression</label><div class=\"sk-toggleable__content\"><pre>LinearRegression()</pre></div></div></div></div></div>"
            ],
            "text/plain": [
              "LinearRegression()"
            ]
          },
          "execution_count": 62,
          "metadata": {},
          "output_type": "execute_result"
        }
      ],
      "source": [
        "from sklearn.preprocessing import PolynomialFeatures\n",
        "poly_reg =  PolynomialFeatures(degree = 2)\n",
        "overall_poly = poly_reg.fit_transform(overall_train)\n",
        "modelo_poly2 = LinearRegression()\n",
        "modelo_poly2.fit(overall_poly, valor_train)\n",
        "\n"
      ]
    },
    {
      "cell_type": "markdown",
      "metadata": {
        "id": "MHwtdG8DKx3n"
      },
      "source": [
        "#### Curva de tendencia\n",
        "\n"
      ]
    },
    {
      "cell_type": "code",
      "execution_count": 63,
      "metadata": {
        "colab": {
          "base_uri": "https://localhost:8080/",
          "height": 276
        },
        "id": "rivaOunXK0SH",
        "outputId": "7e3ffe6c-d41c-4d93-edfc-91b5342dab6b"
      },
      "outputs": [
        {
          "data": {
            "image/png": "[encoded data removed]",
            "text/plain": [
              "<Figure size 640x480 with 1 Axes>"
            ]
          },
          "metadata": {},
          "output_type": "display_data"
        }
      ],
      "source": [
        "     #                     model.predict(overall_poly)\n",
        "curva_tendencia = modelo_poly2.predict(poly_reg.fit_transform(overall_train))\n",
        "plt.scatter(overall_train, valor_train, color = 'b', )\n",
        "plt.scatter(overall_train, curva_tendencia, color='r', linestyle = 'solid')\n",
        "plt.show()\n"
      ]
    },
    {
      "cell_type": "markdown",
      "metadata": {
        "id": "vLr01nXeWdPm"
      },
      "source": [
        "#### Predicciones\n",
        "\n"
      ]
    },
    {
      "cell_type": "code",
      "execution_count": 64,
      "metadata": {
        "colab": {
          "base_uri": "https://localhost:8080/"
        },
        "id": "trzSDm8lWjkd",
        "outputId": "f8d19210-4a6f-42ed-9574-21d5319285fd"
      },
      "outputs": [
        {
          "data": {
            "text/plain": [
              "array([[ -897656.18936387],\n",
              "       [-1024003.01627657],\n",
              "       [-1055820.00074741],\n",
              "       ...,\n",
              "       [ -584091.89950833],\n",
              "       [ -993107.14277628],\n",
              "       [ 6731128.50784275]])"
            ]
          },
          "execution_count": 64,
          "metadata": {},
          "output_type": "execute_result"
        }
      ],
      "source": [
        "predicciones = modelo_poly2.predict(poly_reg.fit_transform(overall_test))\n",
        "predicciones"
      ]
    },
    {
      "cell_type": "markdown",
      "metadata": {
        "id": "AjVKpZFHWwoN"
      },
      "source": [
        "### Determinando métricas\n",
        "\n",
        "Crear un data.frame llamado comparaciones a partir de la creación de un diccionario con los valores reales del conjunto de entrenamiento y las predicciones calculadas.\n",
        "\n",
        "Con la función flatten().tolist() convierte el arreglo a \n",
        "una lista de una dimensión.\n",
        "\n"
      ]
    },
    {
      "cell_type": "code",
      "execution_count": 65,
      "metadata": {
        "colab": {
          "base_uri": "https://localhost:8080/",
          "height": 676
        },
        "id": "8mPY9OaMWxmd",
        "outputId": "b575dd66-40ba-4a4d-a38a-bb26f65dd567"
      },
      "outputs": [
        {
          "data": {
            "text/html": [
              "<div>\n",
              "<style scoped>\n",
              "    .dataframe tbody tr th:only-of-type {\n",
              "        vertical-align: middle;\n",
              "    }\n",
              "\n",
              "    .dataframe tbody tr th {\n",
              "        vertical-align: top;\n",
              "    }\n",
              "\n",
              "    .dataframe thead th {\n",
              "        text-align: right;\n",
              "    }\n",
              "</style>\n",
              "<table border=\"1\" class=\"dataframe\">\n",
              "  <thead>\n",
              "    <tr style=\"text-align: right;\">\n",
              "      <th></th>\n",
              "      <th>Overall</th>\n",
              "      <th>Real</th>\n",
              "      <th>Predicho</th>\n",
              "    </tr>\n",
              "  </thead>\n",
              "  <tbody>\n",
              "    <tr>\n",
              "      <th>0</th>\n",
              "      <td>63</td>\n",
              "      <td>375000</td>\n",
              "      <td>-8.976562e+05</td>\n",
              "    </tr>\n",
              "    <tr>\n",
              "      <th>1</th>\n",
              "      <td>62</td>\n",
              "      <td>650000</td>\n",
              "      <td>-1.024003e+06</td>\n",
              "    </tr>\n",
              "    <tr>\n",
              "      <th>2</th>\n",
              "      <td>61</td>\n",
              "      <td>550000</td>\n",
              "      <td>-1.055820e+06</td>\n",
              "    </tr>\n",
              "    <tr>\n",
              "      <th>3</th>\n",
              "      <td>67</td>\n",
              "      <td>900000</td>\n",
              "      <td>5.530295e+05</td>\n",
              "    </tr>\n",
              "    <tr>\n",
              "      <th>4</th>\n",
              "      <td>57</td>\n",
              "      <td>30000</td>\n",
              "      <td>-2.377895e+05</td>\n",
              "    </tr>\n",
              "    <tr>\n",
              "      <th>5</th>\n",
              "      <td>58</td>\n",
              "      <td>160000</td>\n",
              "      <td>-5.840919e+05</td>\n",
              "    </tr>\n",
              "    <tr>\n",
              "      <th>6</th>\n",
              "      <td>61</td>\n",
              "      <td>300000</td>\n",
              "      <td>-1.055820e+06</td>\n",
              "    </tr>\n",
              "    <tr>\n",
              "      <th>7</th>\n",
              "      <td>68</td>\n",
              "      <td>1300000</td>\n",
              "      <td>1.152026e+06</td>\n",
              "    </tr>\n",
              "    <tr>\n",
              "      <th>8</th>\n",
              "      <td>70</td>\n",
              "      <td>1800000</td>\n",
              "      <td>2.633607e+06</td>\n",
              "    </tr>\n",
              "    <tr>\n",
              "      <th>9</th>\n",
              "      <td>69</td>\n",
              "      <td>550000</td>\n",
              "      <td>1.845551e+06</td>\n",
              "    </tr>\n",
              "    <tr>\n",
              "      <th>10</th>\n",
              "      <td>66</td>\n",
              "      <td>1400000</td>\n",
              "      <td>4.856335e+04</td>\n",
              "    </tr>\n",
              "    <tr>\n",
              "      <th>11</th>\n",
              "      <td>60</td>\n",
              "      <td>425000</td>\n",
              "      <td>-9.931071e+05</td>\n",
              "    </tr>\n",
              "    <tr>\n",
              "      <th>12</th>\n",
              "      <td>71</td>\n",
              "      <td>550000</td>\n",
              "      <td>3.516193e+06</td>\n",
              "    </tr>\n",
              "    <tr>\n",
              "      <th>13</th>\n",
              "      <td>59</td>\n",
              "      <td>270000</td>\n",
              "      <td>-8.358644e+05</td>\n",
              "    </tr>\n",
              "    <tr>\n",
              "      <th>14</th>\n",
              "      <td>69</td>\n",
              "      <td>775000</td>\n",
              "      <td>1.845551e+06</td>\n",
              "    </tr>\n",
              "    <tr>\n",
              "      <th>15</th>\n",
              "      <td>71</td>\n",
              "      <td>3600000</td>\n",
              "      <td>3.516193e+06</td>\n",
              "    </tr>\n",
              "    <tr>\n",
              "      <th>16</th>\n",
              "      <td>64</td>\n",
              "      <td>550000</td>\n",
              "      <td>-6.767795e+05</td>\n",
              "    </tr>\n",
              "    <tr>\n",
              "      <th>17</th>\n",
              "      <td>53</td>\n",
              "      <td>100000</td>\n",
              "      <td>2.092718e+06</td>\n",
              "    </tr>\n",
              "    <tr>\n",
              "      <th>18</th>\n",
              "      <td>62</td>\n",
              "      <td>270000</td>\n",
              "      <td>-1.024003e+06</td>\n",
              "    </tr>\n",
              "    <tr>\n",
              "      <th>19</th>\n",
              "      <td>56</td>\n",
              "      <td>150000</td>\n",
              "      <td>2.030427e+05</td>\n",
              "    </tr>\n",
              "  </tbody>\n",
              "</table>\n",
              "</div>"
            ],
            "text/plain": [
              "    Overall     Real      Predicho\n",
              "0        63   375000 -8.976562e+05\n",
              "1        62   650000 -1.024003e+06\n",
              "2        61   550000 -1.055820e+06\n",
              "3        67   900000  5.530295e+05\n",
              "4        57    30000 -2.377895e+05\n",
              "5        58   160000 -5.840919e+05\n",
              "6        61   300000 -1.055820e+06\n",
              "7        68  1300000  1.152026e+06\n",
              "8        70  1800000  2.633607e+06\n",
              "9        69   550000  1.845551e+06\n",
              "10       66  1400000  4.856335e+04\n",
              "11       60   425000 -9.931071e+05\n",
              "12       71   550000  3.516193e+06\n",
              "13       59   270000 -8.358644e+05\n",
              "14       69   775000  1.845551e+06\n",
              "15       71  3600000  3.516193e+06\n",
              "16       64   550000 -6.767795e+05\n",
              "17       53   100000  2.092718e+06\n",
              "18       62   270000 -1.024003e+06\n",
              "19       56   150000  2.030427e+05"
            ]
          },
          "execution_count": 65,
          "metadata": {},
          "output_type": "execute_result"
        }
      ],
      "source": [
        "diccionario = {'Overall': overall_test.flatten().tolist(),\n",
        "                'Real' : valor_test.flatten().tolist(), \n",
        "               'Predicho' : predicciones.flatten().tolist()}\n",
        "diccionario\n",
        "\n",
        "comparaciones = pd.DataFrame(diccionario)\n",
        "comparaciones.head(20)"
      ]
    },
    {
      "cell_type": "markdown",
      "metadata": {
        "id": "5TKNFQAKS9zT"
      },
      "source": [
        "#### R Square\n",
        "\n"
      ]
    },
    {
      "cell_type": "code",
      "execution_count": 66,
      "metadata": {
        "colab": {
          "base_uri": "https://localhost:8080/"
        },
        "id": "Nd6kGpAuS_ET",
        "outputId": "4f460140-94f8-4a3c-c514-ebf6d75f743e"
      },
      "outputs": [
        {
          "name": "stdout",
          "output_type": "stream",
          "text": [
            "R Square : 0.7725\n",
            "R Square : 0.7667222410123955\n"
          ]
        }
      ],
      "source": [
        "# Con lo real vs predicciones\n",
        "r = np.corrcoef(comparaciones['Real'], comparaciones['Predicho'])\n",
        "r = r ** 2\n",
        "r = r.reshape(-1,2)\n",
        "r = r[0, 1]\n",
        "print('R Square :', np.round(r, 4) )\n",
        "\n",
        "# con r2_score([2, 5, 9], [3, 5, 11])\n",
        "print('R Square :', r2_score(comparaciones['Real'], comparaciones['Predicho'] ))"
      ]
    },
    {
      "cell_type": "markdown",
      "metadata": {
        "id": "QPkmufVNTH1Z"
      },
      "source": [
        "Como el valor de R Square está por encima del 50% el modelo **¡ SE ACEPTA!**"
      ]
    },
    {
      "cell_type": "markdown",
      "metadata": {
        "id": "G5teI4QdS_jL"
      },
      "source": [
        "#### rmse\n"
      ]
    },
    {
      "cell_type": "code",
      "execution_count": 67,
      "metadata": {
        "colab": {
          "base_uri": "https://localhost:8080/"
        },
        "id": "vmPGV4w3TBW6",
        "outputId": "70f0641a-22b6-4450-d747-de99f718fc02"
      },
      "outputs": [
        {
          "name": "stdout",
          "output_type": "stream",
          "text": [
            "Mean Squared Error: MSE 8876681334310.205\n",
            "Root Mean Squared Error RMSE: 2979375.9974716525\n"
          ]
        }
      ],
      "source": [
        "print('Mean Squared Error: MSE', metrics.mean_squared_error(valor_test, predicciones))\n",
        "print('Root Mean Squared Error RMSE:', np.sqrt(metrics.mean_squared_error(valor_test, predicciones)))"
      ]
    },
    {
      "cell_type": "markdown",
      "metadata": {
        "id": "dOKudKhGTd0U"
      },
      "source": [
        "El valor de **rmse** está por encima los 2,000,000 (dos millones) por lo que de acuerdo a la métrica inicial establecida el modelo polinomial de segunda potencia  **¡NO SE ACEPTA!**"
      ]
    },
    {
      "cell_type": "markdown",
      "metadata": {
        "id": "9F5jkZYDUTTa"
      },
      "source": [
        "### Modelo de Regresión Polinomial de quinto nivel"
      ]
    },
    {
      "cell_type": "code",
      "execution_count": 68,
      "metadata": {
        "colab": {
          "base_uri": "https://localhost:8080/"
        },
        "id": "-4xigSpDUYdj",
        "outputId": "b18ec44a-24ba-4b39-b258-89ea47865bdf"
      },
      "outputs": [
        {
          "data": {
            "text/html": [
              "<style>#sk-container-id-8 {color: black;background-color: white;}#sk-container-id-8 pre{padding: 0;}#sk-container-id-8 div.sk-toggleable {background-color: white;}#sk-container-id-8 label.sk-toggleable__label {cursor: pointer;display: block;width: 100%;margin-bottom: 0;padding: 0.3em;box-sizing: border-box;text-align: center;}#sk-container-id-8 label.sk-toggleable__label-arrow:before {content: \"▸\";float: left;margin-right: 0.25em;color: #696969;}#sk-container-id-8 label.sk-toggleable__label-arrow:hover:before {color: black;}#sk-container-id-8 div.sk-estimator:hover label.sk-toggleable__label-arrow:before {color: black;}#sk-container-id-8 div.sk-toggleable__content {max-height: 0;max-width: 0;overflow: hidden;text-align: left;background-color: #f0f8ff;}#sk-container-id-8 div.sk-toggleable__content pre {margin: 0.2em;color: black;border-radius: 0.25em;background-color: #f0f8ff;}#sk-container-id-8 input.sk-toggleable__control:checked~div.sk-toggleable__content {max-height: 200px;max-width: 100%;overflow: auto;}#sk-container-id-8 input.sk-toggleable__control:checked~label.sk-toggleable__label-arrow:before {content: \"▾\";}#sk-container-id-8 div.sk-estimator input.sk-toggleable__control:checked~label.sk-toggleable__label {background-color: #d4ebff;}#sk-container-id-8 div.sk-label input.sk-toggleable__control:checked~label.sk-toggleable__label {background-color: #d4ebff;}#sk-container-id-8 input.sk-hidden--visually {border: 0;clip: rect(1px 1px 1px 1px);clip: rect(1px, 1px, 1px, 1px);height: 1px;margin: -1px;overflow: hidden;padding: 0;position: absolute;width: 1px;}#sk-container-id-8 div.sk-estimator {font-family: monospace;background-color: #f0f8ff;border: 1px dotted black;border-radius: 0.25em;box-sizing: border-box;margin-bottom: 0.5em;}#sk-container-id-8 div.sk-estimator:hover {background-color: #d4ebff;}#sk-container-id-8 div.sk-parallel-item::after {content: \"\";width: 100%;border-bottom: 1px solid gray;flex-grow: 1;}#sk-container-id-8 div.sk-label:hover label.sk-toggleable__label {background-color: #d4ebff;}#sk-container-id-8 div.sk-serial::before {content: \"\";position: absolute;border-left: 1px solid gray;box-sizing: border-box;top: 0;bottom: 0;left: 50%;z-index: 0;}#sk-container-id-8 div.sk-serial {display: flex;flex-direction: column;align-items: center;background-color: white;padding-right: 0.2em;padding-left: 0.2em;position: relative;}#sk-container-id-8 div.sk-item {position: relative;z-index: 1;}#sk-container-id-8 div.sk-parallel {display: flex;align-items: stretch;justify-content: center;background-color: white;position: relative;}#sk-container-id-8 div.sk-item::before, #sk-container-id-8 div.sk-parallel-item::before {content: \"\";position: absolute;border-left: 1px solid gray;box-sizing: border-box;top: 0;bottom: 0;left: 50%;z-index: -1;}#sk-container-id-8 div.sk-parallel-item {display: flex;flex-direction: column;z-index: 1;position: relative;background-color: white;}#sk-container-id-8 div.sk-parallel-item:first-child::after {align-self: flex-end;width: 50%;}#sk-container-id-8 div.sk-parallel-item:last-child::after {align-self: flex-start;width: 50%;}#sk-container-id-8 div.sk-parallel-item:only-child::after {width: 0;}#sk-container-id-8 div.sk-dashed-wrapped {border: 1px dashed gray;margin: 0 0.4em 0.5em 0.4em;box-sizing: border-box;padding-bottom: 0.4em;background-color: white;}#sk-container-id-8 div.sk-label label {font-family: monospace;font-weight: bold;display: inline-block;line-height: 1.2em;}#sk-container-id-8 div.sk-label-container {text-align: center;}#sk-container-id-8 div.sk-container {/* jupyter's `normalize.less` sets `[hidden] { display: none; }` but bootstrap.min.css set `[hidden] { display: none !important; }` so we also need the `!important` here to be able to override the default hidden behavior on the sphinx rendered scikit-learn.org. See: https://github.com/scikit-learn/scikit-learn/issues/21755 */display: inline-block !important;position: relative;}#sk-container-id-8 div.sk-text-repr-fallback {display: none;}</style><div id=\"sk-container-id-8\" class=\"sk-top-container\"><div class=\"sk-text-repr-fallback\"><pre>LinearRegression()</pre><b>In a Jupyter environment, please rerun this cell to show the HTML representation or trust the notebook. <br />On GitHub, the HTML representation is unable to render, please try loading this page with nbviewer.org.</b></div><div class=\"sk-container\" hidden><div class=\"sk-item\"><div class=\"sk-estimator sk-toggleable\"><input class=\"sk-toggleable__control sk-hidden--visually\" id=\"sk-estimator-id-8\" type=\"checkbox\" checked><label for=\"sk-estimator-id-8\" class=\"sk-toggleable__label sk-toggleable__label-arrow\">LinearRegression</label><div class=\"sk-toggleable__content\"><pre>LinearRegression()</pre></div></div></div></div></div>"
            ],
            "text/plain": [
              "LinearRegression()"
            ]
          },
          "execution_count": 68,
          "metadata": {},
          "output_type": "execute_result"
        }
      ],
      "source": [
        "poly_reg =  PolynomialFeatures(degree = 5)\n",
        "overall_poly = poly_reg.fit_transform(overall_train)\n",
        "modelo_poly5 = LinearRegression()\n",
        "modelo_poly5.fit(overall_poly, valor_train)\n"
      ]
    },
    {
      "cell_type": "markdown",
      "metadata": {
        "id": "lRhttU0wUgva"
      },
      "source": [
        "#### Curva de tendencia\n"
      ]
    },
    {
      "cell_type": "code",
      "execution_count": 69,
      "metadata": {
        "colab": {
          "base_uri": "https://localhost:8080/",
          "height": 276
        },
        "id": "MMxgnT7rUiD_",
        "outputId": "74c7ba8c-1289-4e30-f0dc-37bee5409b27"
      },
      "outputs": [
        {
          "data": {
            "image/png": "[encoded data removed]",
            "text/plain": [
              "<Figure size 640x480 with 1 Axes>"
            ]
          },
          "metadata": {},
          "output_type": "display_data"
        }
      ],
      "source": [
        "curva_tendencia = modelo_poly5.predict(poly_reg.fit_transform(overall_train))\n",
        "plt.scatter(overall_train, valor_train, color = 'b', )\n",
        "plt.scatter(overall_train, curva_tendencia, color='r', linestyle = 'solid')\n",
        "plt.show()"
      ]
    },
    {
      "cell_type": "markdown",
      "metadata": {
        "id": "xYhWcqXUUogi"
      },
      "source": [
        "Se observa que la curva de tendencia tiene mejor ajuste que los anteriores modelos.\n"
      ]
    },
    {
      "cell_type": "markdown",
      "metadata": {
        "id": "V7YhI7O7UzAV"
      },
      "source": [
        "#### Predicciones"
      ]
    },
    {
      "cell_type": "code",
      "execution_count": 70,
      "metadata": {
        "colab": {
          "base_uri": "https://localhost:8080/"
        },
        "id": "pziBB4MCU1zj",
        "outputId": "959c884b-d60a-43f5-996f-078edce002f6"
      },
      "outputs": [
        {
          "data": {
            "text/plain": [
              "array([[ 378449.47351536],\n",
              "       [ 328782.6611748 ],\n",
              "       [ 293593.61511126],\n",
              "       ...,\n",
              "       [ 224812.50228319],\n",
              "       [ 267296.26889375],\n",
              "       [4783587.45387694]])"
            ]
          },
          "execution_count": 70,
          "metadata": {},
          "output_type": "execute_result"
        }
      ],
      "source": [
        "predicciones = modelo_poly5.predict(poly_reg.fit_transform(overall_test))\n",
        "predicciones"
      ]
    },
    {
      "cell_type": "markdown",
      "metadata": {
        "id": "dkRciXpvU8r7"
      },
      "source": [
        "### Determinando métricas\n",
        "\n",
        "Crear un data.frame llamado comparaciones a partir de la creación de un diccionario con los valores reales del conjunto de entrenamiento y las predicciones calculadas.\n",
        "\n",
        "Con la función flatten().tolist() convierte el arreglo a una lista de una dimensión."
      ]
    },
    {
      "cell_type": "code",
      "execution_count": 71,
      "metadata": {
        "colab": {
          "base_uri": "https://localhost:8080/",
          "height": 676
        },
        "id": "JPxD5dbEU_rT",
        "outputId": "82e31608-5d18-4199-9a0a-98271fd7d6c6"
      },
      "outputs": [
        {
          "data": {
            "text/html": [
              "<div>\n",
              "<style scoped>\n",
              "    .dataframe tbody tr th:only-of-type {\n",
              "        vertical-align: middle;\n",
              "    }\n",
              "\n",
              "    .dataframe tbody tr th {\n",
              "        vertical-align: top;\n",
              "    }\n",
              "\n",
              "    .dataframe thead th {\n",
              "        text-align: right;\n",
              "    }\n",
              "</style>\n",
              "<table border=\"1\" class=\"dataframe\">\n",
              "  <thead>\n",
              "    <tr style=\"text-align: right;\">\n",
              "      <th></th>\n",
              "      <th>Overall</th>\n",
              "      <th>Real</th>\n",
              "      <th>Predicho</th>\n",
              "    </tr>\n",
              "  </thead>\n",
              "  <tbody>\n",
              "    <tr>\n",
              "      <th>0</th>\n",
              "      <td>63</td>\n",
              "      <td>375000</td>\n",
              "      <td>3.784495e+05</td>\n",
              "    </tr>\n",
              "    <tr>\n",
              "      <th>1</th>\n",
              "      <td>62</td>\n",
              "      <td>650000</td>\n",
              "      <td>3.287827e+05</td>\n",
              "    </tr>\n",
              "    <tr>\n",
              "      <th>2</th>\n",
              "      <td>61</td>\n",
              "      <td>550000</td>\n",
              "      <td>2.935936e+05</td>\n",
              "    </tr>\n",
              "    <tr>\n",
              "      <th>3</th>\n",
              "      <td>67</td>\n",
              "      <td>900000</td>\n",
              "      <td>8.769967e+05</td>\n",
              "    </tr>\n",
              "    <tr>\n",
              "      <th>4</th>\n",
              "      <td>57</td>\n",
              "      <td>30000</td>\n",
              "      <td>2.030950e+05</td>\n",
              "    </tr>\n",
              "    <tr>\n",
              "      <th>5</th>\n",
              "      <td>58</td>\n",
              "      <td>160000</td>\n",
              "      <td>2.248125e+05</td>\n",
              "    </tr>\n",
              "    <tr>\n",
              "      <th>6</th>\n",
              "      <td>61</td>\n",
              "      <td>300000</td>\n",
              "      <td>2.935936e+05</td>\n",
              "    </tr>\n",
              "    <tr>\n",
              "      <th>7</th>\n",
              "      <td>68</td>\n",
              "      <td>1300000</td>\n",
              "      <td>1.126873e+06</td>\n",
              "    </tr>\n",
              "    <tr>\n",
              "      <th>8</th>\n",
              "      <td>70</td>\n",
              "      <td>1800000</td>\n",
              "      <td>1.866850e+06</td>\n",
              "    </tr>\n",
              "    <tr>\n",
              "      <th>9</th>\n",
              "      <td>69</td>\n",
              "      <td>550000</td>\n",
              "      <td>1.451811e+06</td>\n",
              "    </tr>\n",
              "    <tr>\n",
              "      <th>10</th>\n",
              "      <td>66</td>\n",
              "      <td>1400000</td>\n",
              "      <td>6.886299e+05</td>\n",
              "    </tr>\n",
              "    <tr>\n",
              "      <th>11</th>\n",
              "      <td>60</td>\n",
              "      <td>425000</td>\n",
              "      <td>2.672963e+05</td>\n",
              "    </tr>\n",
              "    <tr>\n",
              "      <th>12</th>\n",
              "      <td>71</td>\n",
              "      <td>550000</td>\n",
              "      <td>2.388569e+06</td>\n",
              "    </tr>\n",
              "    <tr>\n",
              "      <th>13</th>\n",
              "      <td>59</td>\n",
              "      <td>270000</td>\n",
              "      <td>2.454698e+05</td>\n",
              "    </tr>\n",
              "    <tr>\n",
              "      <th>14</th>\n",
              "      <td>69</td>\n",
              "      <td>775000</td>\n",
              "      <td>1.451811e+06</td>\n",
              "    </tr>\n",
              "    <tr>\n",
              "      <th>15</th>\n",
              "      <td>71</td>\n",
              "      <td>3600000</td>\n",
              "      <td>2.388569e+06</td>\n",
              "    </tr>\n",
              "    <tr>\n",
              "      <th>16</th>\n",
              "      <td>64</td>\n",
              "      <td>550000</td>\n",
              "      <td>4.493918e+05</td>\n",
              "    </tr>\n",
              "    <tr>\n",
              "      <th>17</th>\n",
              "      <td>53</td>\n",
              "      <td>100000</td>\n",
              "      <td>9.598239e+04</td>\n",
              "    </tr>\n",
              "    <tr>\n",
              "      <th>18</th>\n",
              "      <td>62</td>\n",
              "      <td>270000</td>\n",
              "      <td>3.287827e+05</td>\n",
              "    </tr>\n",
              "    <tr>\n",
              "      <th>19</th>\n",
              "      <td>56</td>\n",
              "      <td>150000</td>\n",
              "      <td>1.791142e+05</td>\n",
              "    </tr>\n",
              "  </tbody>\n",
              "</table>\n",
              "</div>"
            ],
            "text/plain": [
              "    Overall     Real      Predicho\n",
              "0        63   375000  3.784495e+05\n",
              "1        62   650000  3.287827e+05\n",
              "2        61   550000  2.935936e+05\n",
              "3        67   900000  8.769967e+05\n",
              "4        57    30000  2.030950e+05\n",
              "5        58   160000  2.248125e+05\n",
              "6        61   300000  2.935936e+05\n",
              "7        68  1300000  1.126873e+06\n",
              "8        70  1800000  1.866850e+06\n",
              "9        69   550000  1.451811e+06\n",
              "10       66  1400000  6.886299e+05\n",
              "11       60   425000  2.672963e+05\n",
              "12       71   550000  2.388569e+06\n",
              "13       59   270000  2.454698e+05\n",
              "14       69   775000  1.451811e+06\n",
              "15       71  3600000  2.388569e+06\n",
              "16       64   550000  4.493918e+05\n",
              "17       53   100000  9.598239e+04\n",
              "18       62   270000  3.287827e+05\n",
              "19       56   150000  1.791142e+05"
            ]
          },
          "execution_count": 71,
          "metadata": {},
          "output_type": "execute_result"
        }
      ],
      "source": [
        "diccionario = {'Overall': overall_test.flatten().tolist(),\n",
        "                'Real' : valor_test.flatten().tolist(), \n",
        "               'Predicho' : predicciones.flatten().tolist()}\n",
        "diccionario\n",
        "\n",
        "comparaciones = pd.DataFrame(diccionario)\n",
        "comparaciones.head(20)"
      ]
    },
    {
      "cell_type": "markdown",
      "metadata": {
        "id": "cSZ0Yk4dVSQ1"
      },
      "source": [
        "#### R  Square\n"
      ]
    },
    {
      "cell_type": "code",
      "execution_count": 72,
      "metadata": {
        "colab": {
          "base_uri": "https://localhost:8080/"
        },
        "id": "kVtb5in4VV8E",
        "outputId": "a3e300b7-7ac1-4798-f4f3-645cd7c260eb"
      },
      "outputs": [
        {
          "name": "stdout",
          "output_type": "stream",
          "text": [
            "R Square : 0.915\n",
            "R Square : 0.9148564980391203\n"
          ]
        }
      ],
      "source": [
        "# Con lo real vs predicciones\n",
        "r = np.corrcoef(comparaciones['Real'], comparaciones['Predicho'])\n",
        "r = r ** 2\n",
        "r = r.reshape(-1,2)\n",
        "r = r[0, 1]\n",
        "print('R Square :', np.round(r, 4) )\n",
        "\n",
        "# con r2_score([2, 5, 9], [3, 5, 11])\n",
        "print('R Square :', r2_score(comparaciones['Real'], comparaciones['Predicho'] ))"
      ]
    },
    {
      "cell_type": "markdown",
      "metadata": {
        "id": "j56DLS-mVjUi"
      },
      "source": [
        "Como el valor de R Square está por encima del 50% el modelo **¡SE ACEPTA!**, inclusive está mejor que el modelo de regresión polinomial de segundo nivel."
      ]
    },
    {
      "cell_type": "markdown",
      "metadata": {
        "id": "Km23JzccVWRY"
      },
      "source": [
        "#### rmse"
      ]
    },
    {
      "cell_type": "code",
      "execution_count": 73,
      "metadata": {
        "colab": {
          "base_uri": "https://localhost:8080/"
        },
        "id": "L21r38_OVYC3",
        "outputId": "abe49053-8623-4931-9c62-116a364c523b"
      },
      "outputs": [
        {
          "name": "stdout",
          "output_type": "stream",
          "text": [
            "Mean Squared Error: MSE 3239879094663.7373\n",
            "Root Mean Squared Error RMSE: 1799966.414871049\n"
          ]
        }
      ],
      "source": [
        "print('Mean Squared Error: MSE', metrics.mean_squared_error(valor_test, predicciones))\n",
        "print('Root Mean Squared Error RMSE:', np.sqrt(metrics.mean_squared_error(valor_test, predicciones)))"
      ]
    },
    {
      "cell_type": "markdown",
      "metadata": {
        "id": "fwuTTf8xVw7N"
      },
      "source": [
        "El modelo **SI** **¡SE ACEPTA!** ya que el valor de **rmse** etá por debajo de los 2,000,000 (dos millones) que fue una métrica inicial establecida. ESte modelo se acepta en mejor en comparación con el polinómioc d esegndo nivel y el modelo de regresipon lineal simple."
      ]
    },
    {
      "cell_type": "markdown",
      "metadata": {
        "id": "MjpwKG2XUJ3z"
      },
      "source": [
        "# Interpretación\n",
        "No nos fue posible usar la semilla recomendada de los 4 ultimos numeros de nuestro numero de control, por lo que se decidio utilizar 2000 como semilla, para lo cual se comporto de la siguiente manera:\n",
        "\n",
        " Se obtuvo un **rmse** aceptable con un valor de **1799966.414871049** usando la regresión polinómica quinto nivel\n",
        " \n",
        " Con los distintos modelos obtuvimos lo siguiente, donde la regresion polinomica de quinto nivel para esta seminlla en especifico:\n",
        " \n",
        " 1. Regresión polinómica quinto nivel -> 1799966.414871049\n",
        " 2. Regresión polinómica segundo nivel -> 2979375.9974716525\n",
        " 3. Regresión Lineal Simple -> 4837932.286941548\n"
      ]
    },
    {
      "cell_type": "markdown",
      "metadata": {
        "id": "Tt5yzkjfHSx-"
      },
      "source": [
        "# Bibliografía\n",
        "\n",
        "[https://ichi.pro/es/regresion-polinomial-con-python-73720766034197](https://ichi.pro/es/regresion-polinomial-con-python-73720766034197)\n",
        "\n",
        "[https://ichi.pro/es/regresion-polinomial-en-python-239345094233430](https://ichi.pro/es/regresion-polinomial-en-python-239345094233430)"
      ]
    }
  ],
  "metadata": {
    "colab": {
      "authorship_tag": "ABX9TyM/XhIGzhXpVG6FFDKpHWj3",
      "collapsed_sections": [],
      "include_colab_link": true,
      "name": "Caso 2. Comparación y evaluación de métricas de regresión lineal simple vs regresión polinomial con datos FIFA Python.ipynb",
      "provenance": []
    },
    "kernelspec": {
      "display_name": "Python 3.10.8 64-bit (microsoft store)",
      "language": "python",
      "name": "python3"
    },
    "language_info": {
      "codemirror_mode": {
        "name": "ipython",
        "version": 3
      },
      "file_extension": ".py",
      "mimetype": "text/x-python",
      "name": "python",
      "nbconvert_exporter": "python",
      "pygments_lexer": "ipython3",
      "version": "3.10.8"
    },
    "vscode": {
      "interpreter": {
        "hash": "2ab61dab0ad8370fc61856a8ba95d56b359e45188f1b1883e5173a8a5e025242"
      }
    }
  },
  "nbformat": 4,
  "nbformat_minor": 0
}
