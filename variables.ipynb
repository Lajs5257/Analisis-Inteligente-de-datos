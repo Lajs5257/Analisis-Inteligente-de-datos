{
  "nbformat": 4,
  "nbformat_minor": 0,
  "metadata": {
    "colab": {
      "name": "variables.ipynb",
      "provenance": [],
      "collapsed_sections": [],
      "authorship_tag": "ABX9TyNHc7W8ZUhxOIOCqZZHKr61",
      "include_colab_link": true
    },
    "kernelspec": {
      "name": "python3",
      "display_name": "Python 3"
    },
    "language_info": {
      "name": "python"
    }
  },
  "cells": [
    {
      "cell_type": "markdown",
      "metadata": {
        "id": "view-in-github",
        "colab_type": "text"
      },
      "source": [
        "<a href=\"https://colab.research.google.com/github/rpizarrog/Analisis-Inteligente-de-datos-prueba/blob/main/variables.ipynb\" target=\"_parent\"><img src=\"https://colab.research.google.com/assets/colab-badge.svg\" alt=\"Open In Colab\"/></a>"
      ]
    },
    {
      "cell_type": "code",
      "metadata": {
        "id": "jMzAyGh0pSAF"
      },
      "source": [
        ""
      ],
      "execution_count": null,
      "outputs": []
    },
    {
      "cell_type": "markdown",
      "metadata": {
        "id": "mte2kaTam-S9"
      },
      "source": [
        "Variables\n",
        "\n",
        "Tipos de variabes en Python y tipos de datos\n",
        "enteros\n",
        "\n",
        "*   enteros\n",
        "*   flotantes\n",
        "*   boolenos\n",
        "*   char o string\n",
        "\n"
      ]
    },
    {
      "cell_type": "code",
      "metadata": {
        "id": "ZAOmKHNqmwNZ"
      },
      "source": [
        "a = 20\n",
        "b = 20\n",
        "c = 3.1415\n",
        "d = 0.545\n",
        "\n",
        "e = True\n",
        "f = False\n",
        "\n",
        "nombre = \"Ruben\"\n",
        "carrera = \"Sistemas\"\n",
        "\n",
        "\n",
        "\n"
      ],
      "execution_count": 2,
      "outputs": []
    },
    {
      "cell_type": "markdown",
      "metadata": {
        "id": "JqIgHQj0nrqN"
      },
      "source": [
        "Visualizar variables y tipo de dato que tiene\n"
      ]
    },
    {
      "cell_type": "code",
      "metadata": {
        "colab": {
          "base_uri": "https://localhost:8080/"
        },
        "id": "ZOsbF_OInvp1",
        "outputId": "a16c7ce9-a534-42ef-9282-979a62636746"
      },
      "source": [
        "print (a)\n",
        "type(a)\n"
      ],
      "execution_count": 3,
      "outputs": [
        {
          "output_type": "stream",
          "name": "stdout",
          "text": [
            "20\n"
          ]
        },
        {
          "output_type": "execute_result",
          "data": {
            "text/plain": [
              "int"
            ]
          },
          "metadata": {},
          "execution_count": 3
        }
      ]
    },
    {
      "cell_type": "code",
      "metadata": {
        "colab": {
          "base_uri": "https://localhost:8080/"
        },
        "id": "EbXKtwNdn992",
        "outputId": "56d6d5c7-8c47-41f4-8e50-b7be45ee0e8d"
      },
      "source": [
        "print (c)\n",
        "type(c)"
      ],
      "execution_count": 4,
      "outputs": [
        {
          "output_type": "stream",
          "name": "stdout",
          "text": [
            "3.1415\n"
          ]
        },
        {
          "output_type": "execute_result",
          "data": {
            "text/plain": [
              "float"
            ]
          },
          "metadata": {},
          "execution_count": 4
        }
      ]
    },
    {
      "cell_type": "code",
      "metadata": {
        "colab": {
          "base_uri": "https://localhost:8080/"
        },
        "id": "1Da6gjEEoD49",
        "outputId": "58386261-408c-482c-e6bc-dcfa4ecb769e"
      },
      "source": [
        "print(e, f)\n",
        "print(type(e))\n",
        "print(type(f))"
      ],
      "execution_count": 8,
      "outputs": [
        {
          "output_type": "stream",
          "name": "stdout",
          "text": [
            "True False\n",
            "<class 'bool'>\n",
            "<class 'bool'>\n"
          ]
        }
      ]
    },
    {
      "cell_type": "code",
      "metadata": {
        "colab": {
          "base_uri": "https://localhost:8080/"
        },
        "id": "I4SfHFzBoUXu",
        "outputId": "52befc86-e7cf-4da0-f2e7-b192a7a8ec7a"
      },
      "source": [
        "print(nombre)\n",
        "type(nombre)"
      ],
      "execution_count": 9,
      "outputs": [
        {
          "output_type": "stream",
          "name": "stdout",
          "text": [
            "Ruben\n"
          ]
        },
        {
          "output_type": "execute_result",
          "data": {
            "text/plain": [
              "str"
            ]
          },
          "metadata": {},
          "execution_count": 9
        }
      ]
    }
  ]
}