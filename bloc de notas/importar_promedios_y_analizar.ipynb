{
  "nbformat": 4,
  "nbformat_minor": 0,
  "metadata": {
    "colab": {
      "name": "importar promedios y analizar.ipynb",
      "provenance": [],
      "collapsed_sections": []
    },
    "kernelspec": {
      "name": "python3",
      "display_name": "Python 3"
    },
    "language_info": {
      "name": "python"
    }
  },
  "cells": [
    {
      "cell_type": "markdown",
      "metadata": {
        "id": "M18OHiWBhEv7"
      },
      "source": [
        "# Importar datos\n",
        "\n",
        "## Objetivo\n",
        "Leer datos de un archivo csv del conjunto de promedios de alumnos y analizar las observaciones\n",
        "\n",
        "## Descripción \n",
        "\n",
        "Leer el archivo de promedios.csv y determinar algunos estadísticos\n",
        "\n",
        "Determinar la media y la desviación estándar de los datos\n",
        "\n",
        "Elaborar un histograma de los datos para identificar frecuencias numéricas\n",
        "\n",
        "## Desarrollo\n",
        "\n",
        "### Importar los datos\n",
        "Se utliza la función read_csv() de la librería pandas para importar daos en formato csv\n",
        "\n",
        "\n",
        "\n"
      ]
    },
    {
      "cell_type": "code",
      "metadata": {
        "id": "lGOPxLXoiFGb"
      },
      "source": [
        "import pandas as pd\n",
        "promedios = pd.read_csv(\"https://raw.githubusercontent.com/rpizarrog/Analisis-Inteligente-de-datos-prueba/main/datos/promedios.csv\")\n",
        "\n"
      ],
      "execution_count": null,
      "outputs": []
    },
    {
      "cell_type": "code",
      "metadata": {
        "id": "bYc8RkV6hEK1"
      },
      "source": [
        ""
      ],
      "execution_count": null,
      "outputs": []
    },
    {
      "cell_type": "markdown",
      "metadata": {
        "id": "DBeQZz6YidSJ"
      },
      "source": [
        "### Mostrar los datos\n",
        "Se visualizan los datos"
      ]
    },
    {
      "cell_type": "code",
      "metadata": {
        "colab": {
          "base_uri": "https://localhost:8080/"
        },
        "id": "xxatGNDahG9R",
        "outputId": "2edbc09a-b8f2-4dcf-c5be-2612d162e5d6"
      },
      "source": [
        "print(promedios)"
      ],
      "execution_count": null,
      "outputs": [
        {
          "output_type": "stream",
          "name": "stdout",
          "text": [
            "        no   promedio\n",
            "0        1  91.608914\n",
            "1        2  86.685638\n",
            "2        3  84.062916\n",
            "3        4  80.946240\n",
            "4        5  88.497999\n",
            "...    ...        ...\n",
            "5595  5596  87.749383\n",
            "5596  5597  86.643837\n",
            "5597  5598  88.444287\n",
            "5598  5599  88.198064\n",
            "5599  5600  83.749403\n",
            "\n",
            "[5600 rows x 2 columns]\n"
          ]
        }
      ]
    },
    {
      "cell_type": "markdown",
      "metadata": {
        "id": "OfvoimvXkbHq"
      },
      "source": [
        "Determinar la media con la función mean()"
      ]
    },
    {
      "cell_type": "code",
      "metadata": {
        "colab": {
          "base_uri": "https://localhost:8080/"
        },
        "id": "j4-U5Azsk5E6",
        "outputId": "f32bd41c-9088-4a94-81cc-28c4961ca1b5"
      },
      "source": [
        "import numpy as np\n",
        "\n",
        "np.mean(promedios, 0)\n",
        "\n",
        "\n",
        "\n"
      ],
      "execution_count": 35,
      "outputs": [
        {
          "output_type": "execute_result",
          "data": {
            "text/plain": [
              "no          2800.500000\n",
              "promedio      84.014145\n",
              "dtype: float64"
            ]
          },
          "metadata": {},
          "execution_count": 35
        }
      ]
    },
    {
      "cell_type": "code",
      "metadata": {
        "id": "26Vepye2mNlE"
      },
      "source": [
        ""
      ],
      "execution_count": 35,
      "outputs": []
    }
  ]
}