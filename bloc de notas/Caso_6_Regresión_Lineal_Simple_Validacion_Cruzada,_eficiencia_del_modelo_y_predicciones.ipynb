{
  "nbformat": 4,
  "nbformat_minor": 0,
  "metadata": {
    "colab": {
      "name": "Caso 6. Regresión Lineal Simple. Validacion Cruzada, eficiencia del modelo y predicciones ",
      "provenance": [],
      "collapsed_sections": [],
      "authorship_tag": "ABX9TyO52Bq3k+gatx1E0u1vLEO8",
      "include_colab_link": true
    },
    "kernelspec": {
      "name": "python3",
      "display_name": "Python 3"
    },
    "language_info": {
      "name": "python"
    }
  },
  "cells": [
    {
      "cell_type": "markdown",
      "metadata": {
        "id": "view-in-github",
        "colab_type": "text"
      },
      "source": [
        "<a href=\"https://colab.research.google.com/github/rpizarrog/Analisis-Inteligente-de-datos/blob/main/bloc%20de%20notas/Caso_6_Regresi%C3%B3n_Lineal_Simple_Validacion_Cruzada%2C_eficiencia_del_modelo_y_predicciones.ipynb\" target=\"_parent\"><img src=\"https://colab.research.google.com/assets/colab-badge.svg\" alt=\"Open In Colab\"/></a>"
      ]
    },
    {
      "cell_type": "markdown",
      "metadata": {
        "id": "FzFkFc3mux6J"
      },
      "source": [
        "# Caso 6. Regresión Lineal Simple. Validacion Cruzada, eficiencia del modelo y predicciones\n",
        "## Autor: Rubén Pizarro\n",
        "## Fecha: 29-Oct-2021"
      ]
    },
    {
      "cell_type": "markdown",
      "metadata": {
        "id": "Ew2EzDcfe8jJ"
      },
      "source": [
        "# Objetivo\n",
        "\n",
        "Aplicar un modelo de regresión lineal simple mediante validación cruzada a datos de poblacion y casos COVID evaluando los estadísticos del modelo y la eficiencia del modelo, con ello determinar predicciones para su adecuada interpretación."
      ]
    },
    {
      "cell_type": "markdown",
      "metadata": {
        "id": "8uqEcMxoe_jR"
      },
      "source": [
        "# Descripción\n",
        "\n",
        "Se realizan las siguientes acciones: \n",
        "\n",
        "* Se cargan las librerías adecuadas\n",
        "* Se cargan los datos\n",
        "  * Cargar datos de cantidad de habitantes de una población de municipios y sus casos confirmados de COVID. Los datos son casos confirmados en periodo de 02-02-2020 al 18-09-2021 en formado DD-MM-AAAA (dia-mes-año).\n",
        "Archivo csv localizado en: github.\n",
        "  * Fuente obtenida de datos del gobierno de México de texto del vínculo. \n",
        "* Se describe los datos\n",
        "* Se encuentra el valor de la correlación para ver la relación entre las dos variables\n",
        "* Se visualiza datos medainte el hisograma y la dispersión de las variables independiente población y dependiente confirmados.\n",
        "* Se determinan los datos de entrenamiento y los datos de validación\n",
        "* Se crea el modelo\n",
        "* Se intrepreta el estadístico de R Square\n",
        "* Se hacen predicciones\n",
        "* Se realizan interpretaciones del caso"
      ]
    },
    {
      "cell_type": "markdown",
      "metadata": {
        "id": "TSeeftqyfAd5"
      },
      "source": [
        "# Desarrollo\n",
        "\n",
        "## Cargar librerías\n",
        "\n",
        "\n",
        "\n",
        "\n",
        "\n"
      ]
    },
    {
      "cell_type": "code",
      "metadata": {
        "id": "Y9owQWXWkj-S",
        "colab": {
          "base_uri": "https://localhost:8080/"
        },
        "outputId": "bc8c88bb-8e89-4087-d84c-b41e566f3e4d"
      },
      "source": [
        "import pandas as pd\n",
        "import numpy as np\n",
        "\n",
        "# Gráficos\n",
        "# ==============================================================================\n",
        "import matplotlib.pyplot as plt\n",
        "from matplotlib import style\n",
        "import seaborn as sns\n",
        "\n",
        "# Preprocesado y modelado\n",
        "# ==============================================================================\n",
        "from scipy.stats import  pearsonr # Para correlación\n",
        "from sklearn.linear_model import LinearRegression # Para regresión\n",
        "from sklearn.model_selection import train_test_split # Partir datos\n",
        "from sklearn.metrics import r2_score\n",
        "from sklearn.metrics import r2_score # R Square\n",
        "from sklearn.metrics import mean_squared_error \n",
        "import statsmodels.api as sm\n",
        "import statsmodels.formula.api as smf"
      ],
      "execution_count": 2,
      "outputs": [
        {
          "output_type": "stream",
          "name": "stderr",
          "text": [
            "/usr/local/lib/python3.7/dist-packages/statsmodels/tools/_testing.py:19: FutureWarning: pandas.util.testing is deprecated. Use the functions in the public API at pandas.testing instead.\n",
            "  import pandas.util.testing as tm\n"
          ]
        }
      ]
    },
    {
      "cell_type": "markdown",
      "metadata": {
        "id": "TTV5B0LkkwTZ"
      },
      "source": [
        "## Cargar datos\n",
        "\n"
      ]
    },
    {
      "cell_type": "code",
      "metadata": {
        "colab": {
          "base_uri": "https://localhost:8080/"
        },
        "id": "9elDdxoSkxUj",
        "outputId": "b9229e16-d75a-46ef-e6cb-510f8a67bc09"
      },
      "source": [
        "\n",
        "datos = pd.read_csv(\"https://raw.githubusercontent.com/rpizarrog/Analisis-Inteligente-de-datos/main/datos/poblacion%20confirmados%20municipio.csv\")\n",
        "\n",
        "datos.shape # La estructura de los datos"
      ],
      "execution_count": 3,
      "outputs": [
        {
          "output_type": "execute_result",
          "data": {
            "text/plain": [
              "(2457, 4)"
            ]
          },
          "metadata": {},
          "execution_count": 3
        }
      ]
    },
    {
      "cell_type": "markdown",
      "metadata": {
        "id": "r7LAImtkljUi"
      },
      "source": [
        "### Describir los datos\n",
        "Mostrando los datos\n"
      ]
    },
    {
      "cell_type": "code",
      "metadata": {
        "colab": {
          "base_uri": "https://localhost:8080/",
          "height": 423
        },
        "id": "PuDqyAJfl1jz",
        "outputId": "8fc17c3d-69bb-457a-98eb-e343a81c07eb"
      },
      "source": [
        "datos"
      ],
      "execution_count": 4,
      "outputs": [
        {
          "output_type": "execute_result",
          "data": {
            "text/html": [
              "<div>\n",
              "<style scoped>\n",
              "    .dataframe tbody tr th:only-of-type {\n",
              "        vertical-align: middle;\n",
              "    }\n",
              "\n",
              "    .dataframe tbody tr th {\n",
              "        vertical-align: top;\n",
              "    }\n",
              "\n",
              "    .dataframe thead th {\n",
              "        text-align: right;\n",
              "    }\n",
              "</style>\n",
              "<table border=\"1\" class=\"dataframe\">\n",
              "  <thead>\n",
              "    <tr style=\"text-align: right;\">\n",
              "      <th></th>\n",
              "      <th>cve_ent</th>\n",
              "      <th>nombre</th>\n",
              "      <th>poblacion</th>\n",
              "      <th>confirmados</th>\n",
              "    </tr>\n",
              "  </thead>\n",
              "  <tbody>\n",
              "    <tr>\n",
              "      <th>0</th>\n",
              "      <td>16046</td>\n",
              "      <td>Juarez</td>\n",
              "      <td>15290</td>\n",
              "      <td>203</td>\n",
              "    </tr>\n",
              "    <tr>\n",
              "      <th>1</th>\n",
              "      <td>16047</td>\n",
              "      <td>Jungapeo</td>\n",
              "      <td>22358</td>\n",
              "      <td>92</td>\n",
              "    </tr>\n",
              "    <tr>\n",
              "      <th>2</th>\n",
              "      <td>16048</td>\n",
              "      <td>Lagunillas</td>\n",
              "      <td>5862</td>\n",
              "      <td>53</td>\n",
              "    </tr>\n",
              "    <tr>\n",
              "      <th>3</th>\n",
              "      <td>16049</td>\n",
              "      <td>Madero</td>\n",
              "      <td>18769</td>\n",
              "      <td>72</td>\n",
              "    </tr>\n",
              "    <tr>\n",
              "      <th>4</th>\n",
              "      <td>5035</td>\n",
              "      <td>Torreon</td>\n",
              "      <td>744247</td>\n",
              "      <td>19402</td>\n",
              "    </tr>\n",
              "    <tr>\n",
              "      <th>...</th>\n",
              "      <td>...</td>\n",
              "      <td>...</td>\n",
              "      <td>...</td>\n",
              "      <td>...</td>\n",
              "    </tr>\n",
              "    <tr>\n",
              "      <th>2452</th>\n",
              "      <td>32053</td>\n",
              "      <td>Villa Gonzalez Ortega</td>\n",
              "      <td>13945</td>\n",
              "      <td>142</td>\n",
              "    </tr>\n",
              "    <tr>\n",
              "      <th>2453</th>\n",
              "      <td>32054</td>\n",
              "      <td>Villa Hidalgo</td>\n",
              "      <td>20177</td>\n",
              "      <td>112</td>\n",
              "    </tr>\n",
              "    <tr>\n",
              "      <th>2454</th>\n",
              "      <td>32055</td>\n",
              "      <td>Villanueva</td>\n",
              "      <td>31804</td>\n",
              "      <td>497</td>\n",
              "    </tr>\n",
              "    <tr>\n",
              "      <th>2455</th>\n",
              "      <td>32056</td>\n",
              "      <td>Zacatecas</td>\n",
              "      <td>155533</td>\n",
              "      <td>9764</td>\n",
              "    </tr>\n",
              "    <tr>\n",
              "      <th>2456</th>\n",
              "      <td>32058</td>\n",
              "      <td>Santa Maria de la Paz</td>\n",
              "      <td>2855</td>\n",
              "      <td>38</td>\n",
              "    </tr>\n",
              "  </tbody>\n",
              "</table>\n",
              "<p>2457 rows × 4 columns</p>\n",
              "</div>"
            ],
            "text/plain": [
              "      cve_ent                 nombre  poblacion  confirmados\n",
              "0       16046                 Juarez      15290          203\n",
              "1       16047               Jungapeo      22358           92\n",
              "2       16048             Lagunillas       5862           53\n",
              "3       16049                 Madero      18769           72\n",
              "4        5035                Torreon     744247        19402\n",
              "...       ...                    ...        ...          ...\n",
              "2452    32053  Villa Gonzalez Ortega      13945          142\n",
              "2453    32054          Villa Hidalgo      20177          112\n",
              "2454    32055             Villanueva      31804          497\n",
              "2455    32056              Zacatecas     155533         9764\n",
              "2456    32058  Santa Maria de la Paz       2855           38\n",
              "\n",
              "[2457 rows x 4 columns]"
            ]
          },
          "metadata": {},
          "execution_count": 4
        }
      ]
    },
    {
      "cell_type": "markdown",
      "metadata": {
        "id": "xq45N5Qzl6s6"
      },
      "source": [
        "Análisis descriptivo"
      ]
    },
    {
      "cell_type": "code",
      "metadata": {
        "colab": {
          "base_uri": "https://localhost:8080/",
          "height": 300
        },
        "id": "FCRUO5ozlmUK",
        "outputId": "b3b33588-cfc9-499d-e20a-5f1a38d2efd9"
      },
      "source": [
        "datos[[\"poblacion\", \"confirmados\"]].describe() # Estadísticos elementales"
      ],
      "execution_count": 5,
      "outputs": [
        {
          "output_type": "execute_result",
          "data": {
            "text/html": [
              "<div>\n",
              "<style scoped>\n",
              "    .dataframe tbody tr th:only-of-type {\n",
              "        vertical-align: middle;\n",
              "    }\n",
              "\n",
              "    .dataframe tbody tr th {\n",
              "        vertical-align: top;\n",
              "    }\n",
              "\n",
              "    .dataframe thead th {\n",
              "        text-align: right;\n",
              "    }\n",
              "</style>\n",
              "<table border=\"1\" class=\"dataframe\">\n",
              "  <thead>\n",
              "    <tr style=\"text-align: right;\">\n",
              "      <th></th>\n",
              "      <th>poblacion</th>\n",
              "      <th>confirmados</th>\n",
              "    </tr>\n",
              "  </thead>\n",
              "  <tbody>\n",
              "    <tr>\n",
              "      <th>count</th>\n",
              "      <td>2.457000e+03</td>\n",
              "      <td>2457.000000</td>\n",
              "    </tr>\n",
              "    <tr>\n",
              "      <th>mean</th>\n",
              "      <td>5.201151e+04</td>\n",
              "      <td>1452.297924</td>\n",
              "    </tr>\n",
              "    <tr>\n",
              "      <th>std</th>\n",
              "      <td>1.475537e+05</td>\n",
              "      <td>7135.481990</td>\n",
              "    </tr>\n",
              "    <tr>\n",
              "      <th>min</th>\n",
              "      <td>9.500000e+01</td>\n",
              "      <td>0.000000</td>\n",
              "    </tr>\n",
              "    <tr>\n",
              "      <th>25%</th>\n",
              "      <td>4.470000e+03</td>\n",
              "      <td>18.000000</td>\n",
              "    </tr>\n",
              "    <tr>\n",
              "      <th>50%</th>\n",
              "      <td>1.413700e+04</td>\n",
              "      <td>87.000000</td>\n",
              "    </tr>\n",
              "    <tr>\n",
              "      <th>75%</th>\n",
              "      <td>3.709900e+04</td>\n",
              "      <td>390.000000</td>\n",
              "    </tr>\n",
              "    <tr>\n",
              "      <th>max</th>\n",
              "      <td>1.815551e+06</td>\n",
              "      <td>147221.000000</td>\n",
              "    </tr>\n",
              "  </tbody>\n",
              "</table>\n",
              "</div>"
            ],
            "text/plain": [
              "          poblacion    confirmados\n",
              "count  2.457000e+03    2457.000000\n",
              "mean   5.201151e+04    1452.297924\n",
              "std    1.475537e+05    7135.481990\n",
              "min    9.500000e+01       0.000000\n",
              "25%    4.470000e+03      18.000000\n",
              "50%    1.413700e+04      87.000000\n",
              "75%    3.709900e+04     390.000000\n",
              "max    1.815551e+06  147221.000000"
            ]
          },
          "metadata": {},
          "execution_count": 5
        }
      ]
    },
    {
      "cell_type": "markdown",
      "metadata": {
        "id": "IKsyXbKEmF7b"
      },
      "source": [
        "## Histograma"
      ]
    },
    {
      "cell_type": "code",
      "metadata": {
        "colab": {
          "base_uri": "https://localhost:8080/",
          "height": 294
        },
        "id": "pm4Rboi5euI6",
        "outputId": "a4aec6db-8bd5-41d0-a46a-b17cbdc25b88"
      },
      "source": [
        "datos[[\"poblacion\", \"confirmados\"]].hist()\n",
        "plt.show()"
      ],
      "execution_count": 6,
      "outputs": [
        {
          "output_type": "display_data",
          "data": {
            "image/png": "[encoded data removed]",
            "text/plain": [
              "<Figure size 432x288 with 2 Axes>"
            ]
          },
          "metadata": {
            "needs_background": "light"
          }
        }
      ]
    },
    {
      "cell_type": "markdown",
      "metadata": {
        "id": "2V5Vz31TmWCb"
      },
      "source": [
        "## Correlación\n",
        "\n",
        "Se encuentra la correlación entre la variable independiente poblción con la variable dependiente confirmados.\n"
      ]
    },
    {
      "cell_type": "code",
      "metadata": {
        "colab": {
          "base_uri": "https://localhost:8080/"
        },
        "id": "bd0-CqvJn30k",
        "outputId": "9332140f-f247-40da-c50a-25fc6815fdba"
      },
      "source": [
        "corr_test = pearsonr(x = datos['poblacion'], y =  datos['confirmados'])\n",
        "print(\"Coeficiente de correlación de Pearson: \", corr_test[0])\n",
        "print(\"P-value: \", corr_test[1])"
      ],
      "execution_count": 7,
      "outputs": [
        {
          "output_type": "stream",
          "name": "stdout",
          "text": [
            "Coeficiente de correlación de Pearson:  0.7955600277967804\n",
            "P-value:  0.0\n"
          ]
        }
      ]
    },
    {
      "cell_type": "markdown",
      "metadata": {
        "id": "kqwyNnDoobT7"
      },
      "source": [
        "Fórmula de Correlación de Parson:\n",
        "\n",
        "$$\n",
        "\\displaystyle \\text{Coef. de correlación de Pearson} (r) = \\frac{cov(x,y)} {s_xs_y} =\\frac{\\sum(x_i-\\bar{x})(yi-\\bar{y})} {(N-1)s_xs_y}\\\\\n",
        "$$\n",
        "\n",
        "\n",
        "De acuerdo a la tabla de correlación de Pearson siguiente: \n",
        "Se emplean como medida de la fuerza de asociación entre dos variables (tamaño del efecto):\n",
        "\n",
        "* 0: asociación nula.\n",
        "* 0.1: asociación pequeña.\n",
        "* 0.3: asociación mediana.\n",
        "* 0.5: asociación moderada.\n",
        "* **0.7: asociación alta.**\n",
        "* 0.9: asociación muy alta.\n",
        "\n",
        "El grado de relación es una asociación entre las variables población y casos confirmados es alta de acuerdo al valor de la Correlación de Pearson."
      ]
    },
    {
      "cell_type": "markdown",
      "metadata": {
        "id": "VG1m7JdonHkb"
      },
      "source": [
        "Se sacan vectores de poblacion y confirmados respectivamente\n"
      ]
    },
    {
      "cell_type": "markdown",
      "metadata": {
        "id": "hGNOYvx4nozT"
      },
      "source": [
        "### Diagrama de dispersión"
      ]
    },
    {
      "cell_type": "code",
      "metadata": {
        "colab": {
          "base_uri": "https://localhost:8080/",
          "height": 279
        },
        "id": "uJOujZEUnbWq",
        "outputId": "fb54f189-f380-47cc-a84e-c17f39da61e5"
      },
      "source": [
        "fig, ax = plt.subplots(1, 1, figsize=(6,4))\n",
        "ax.scatter(x=datos[\"poblacion\"], y=datos[\"confirmados\"], alpha= 0.8)\n",
        "ax.set_xlabel('POBLACION')\n",
        "ax.set_ylabel('CONFIRMADOS');"
      ],
      "execution_count": 8,
      "outputs": [
        {
          "output_type": "display_data",
          "data": {
            "image/png": "[encoded data removed]",
            "text/plain": [
              "<Figure size 432x288 with 1 Axes>"
            ]
          },
          "metadata": {
            "needs_background": "light"
          }
        }
      ]
    },
    {
      "cell_type": "markdown",
      "metadata": {
        "id": "ImuyF8e7puK0"
      },
      "source": [
        "## Validación cruzada\n",
        "\n",
        "La validación cruzada consiste en dividir el conjunto de datos en dos partes:\n",
        "\n",
        "datos de entrenamiento para crear el modelo y evaluar la eficiencia del mismo y datos de validación para probar el modelo haciendo prediccciones\n",
        "\n",
        "Se utilizan las variables siguientes: \n",
        "  * X_entrena_poblacion Son los valores de poblacion para entrenar el modelo\n",
        "  * X_valida_poblacion. Son los valores de poblacion para probar el modelo\n",
        "  * y_entrena_poblacion. Son los valores de confirmados para entrenar el \n",
        "  modelo\n",
        "  * y_valida_confirma. Son los valores de confirmados con los cuales se compara las predicciones \n",
        "\n",
        "* datos de validación para probar el modelo haciendo prediccciones"
      ]
    },
    {
      "cell_type": "markdown",
      "metadata": {
        "id": "CzhdIcRwp-l7"
      },
      "source": [
        "### Partiendo los datos\n"
      ]
    },
    {
      "cell_type": "code",
      "metadata": {
        "id": "zq3ZBMQ-qhgz"
      },
      "source": [
        "poblacion = datos[['poblacion']]\n",
        "confirmados = datos['confirmados']\n",
        "# poblacion\n",
        "# confirmados\n"
      ],
      "execution_count": 9,
      "outputs": []
    },
    {
      "cell_type": "code",
      "metadata": {
        "id": "aAr9PJgjt7fl"
      },
      "source": [
        "entrena_poblacion, valida_poblacion, entrena_confirma, valida_confirma = train_test_split(\n",
        "                                        poblacion.values.reshape(-1,1),\n",
        "                                        confirmados.values.reshape(-1,1),\n",
        "                                        train_size   = 0.8,\n",
        "                                        random_state = 2021,\n",
        "                                        shuffle      = True\n",
        "                                    )\n"
      ],
      "execution_count": 10,
      "outputs": []
    },
    {
      "cell_type": "markdown",
      "metadata": {
        "id": "qnwc58Z-u2Ic"
      },
      "source": [
        "Los datos de entrenamiento representan el 80% del total de los datos y el 20% es para datos de validación.\n",
        "\n",
        "El modelo se construye con los datos de entrenamiento, en este caso con las variables identificados con entrena_poblacion y entrena_confirma\n",
        "\n"
      ]
    },
    {
      "cell_type": "markdown",
      "metadata": {
        "id": "wumt-FTnvUC0"
      },
      "source": [
        "## Construyendo el modelo\n",
        "Se construye el modelo de regresión lineal\n"
      ]
    },
    {
      "cell_type": "markdown",
      "metadata": {
        "id": "XM6oUSs_l7PW"
      },
      "source": [
        ""
      ]
    },
    {
      "cell_type": "code",
      "metadata": {
        "colab": {
          "base_uri": "https://localhost:8080/"
        },
        "id": "bsl0NFn1vSIc",
        "outputId": "d8201ad2-bfee-4562-aa22-97d73444dfc0"
      },
      "source": [
        "modelo = LinearRegression()\n",
        "modelo.fit(X = entrena_poblacion.reshape(-1, 1), y = entrena_confirma)"
      ],
      "execution_count": 11,
      "outputs": [
        {
          "output_type": "execute_result",
          "data": {
            "text/plain": [
              "LinearRegression(copy_X=True, fit_intercept=True, n_jobs=None, normalize=False)"
            ]
          },
          "metadata": {},
          "execution_count": 11
        }
      ]
    },
    {
      "cell_type": "markdown",
      "metadata": {
        "id": "k3ruFBJTwQXt"
      },
      "source": [
        "### Evaluando el modelo\n",
        "\n",
        "\n"
      ]
    },
    {
      "cell_type": "code",
      "metadata": {
        "colab": {
          "base_uri": "https://localhost:8080/"
        },
        "id": "okM5hVjSwS_c",
        "outputId": "26c109f4-2066-4158-de41-696a252edd5f"
      },
      "source": [
        "print(\"Coeficiente de la intercepción:\", modelo.intercept_)\n",
        "print(\"Coeficiente de la pendiente\", modelo.coef_)\n",
        "print(\"Coeficiente de determinación R^2 o R Square:\", modelo.score(X = entrena_poblacion, y = entrena_confirma))"
      ],
      "execution_count": 12,
      "outputs": [
        {
          "output_type": "stream",
          "name": "stdout",
          "text": [
            "Coeficiente de la intercepción: [-498.98263469]\n",
            "Coeficiente de la pendiente [[0.03636327]]\n",
            "Coeficiente de determinación R^2 o R Square: 0.6231784216977491\n"
          ]
        }
      ]
    },
    {
      "cell_type": "markdown",
      "metadata": {
        "id": "LqccaIJUy2ks"
      },
      "source": [
        "El valor de coeficiente de determinación 0.6231784216977491 en regresión lineal simple significa la representatividad que tiene la población con respecto a los casos confirmados o lo que es lo mismo, el valor de la población representa un 62.31% el valor de los casos confirmados.\n",
        "\n",
        "R2  describe la proporción de varianza de la variable respuesta explicada \n",
        "por el modelo y relativa a la varianza total.\n",
        "\n",
        "R2 explica la variabilidad de los datos de la variable de respuesta, o la variable independiente población explica en un 62% la variable confirmados.\n",
        "\n"
      ]
    },
    {
      "cell_type": "markdown",
      "metadata": {
        "id": "QF54atfamBvP"
      },
      "source": [
        "## Predicciones\n",
        "\n",
        "Realizar cinco predicciones con los datos de validacion\n",
        "\n",
        "Predecir casos confirmados con 31803\n",
        "\n",
        "Se tiene la certeza que la rpedicción de casos confirmados rerepsenta es representada en un 60% aproximadamente.\n",
        "\n",
        "\n"
      ]
    },
    {
      "cell_type": "code",
      "metadata": {
        "colab": {
          "base_uri": "https://localhost:8080/"
        },
        "id": "ZSfPCs7z59Ci",
        "outputId": "92140397-6132-4955-e116-b1d4cabf6312"
      },
      "source": [
        "prediccion = modelo.predict([[31803]]) \n",
        "print(int(prediccion))"
      ],
      "execution_count": 21,
      "outputs": [
        {
          "output_type": "stream",
          "name": "stdout",
          "text": [
            "657\n"
          ]
        }
      ]
    },
    {
      "cell_type": "markdown",
      "metadata": {
        "id": "oK-nqEhA6FGy"
      },
      "source": [
        ""
      ]
    },
    {
      "cell_type": "markdown",
      "metadata": {
        "id": "vEqGXAESuJZA"
      },
      "source": [
        "\n",
        "# Interpretación\n",
        "\n",
        "¿Que te deja el caso?, describir un párrafo sobre el conenido del caso.\n",
        "¿Qué significa el valor de correlación de Kendak?\n",
        "¿Porqué y para qué usar datos de entrenamiento y de validación en los modelos de machine learning?\n",
        "¿Que significa el valor de R Square en la regresión lineal y lo que representan en las predicciones?\n",
        "\n",
        "Para la predicción una de 31803 habitantes se estima una cantidad de 657 casos confirmados de acuerdo y conforme a un modelo de regresión lineal que tienen un valor de 62.31% como coficiente de determinación que significa lo que representa población a los casos conirmados del conjuto de datos.\n",
        "\n"
      ]
    }
  ]
}