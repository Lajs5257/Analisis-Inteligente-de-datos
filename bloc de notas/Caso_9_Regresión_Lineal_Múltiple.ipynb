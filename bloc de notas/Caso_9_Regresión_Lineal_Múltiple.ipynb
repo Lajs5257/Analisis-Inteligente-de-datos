{
  "nbformat": 4,
  "nbformat_minor": 0,
  "metadata": {
    "colab": {
      "name": "Caso 9.Regresión Lineal Múltiple.ipynb",
      "provenance": [],
      "collapsed_sections": [],
      "authorship_tag": "ABX9TyPDyoM3WdaxFQFMEXHIQQjH",
      "include_colab_link": true
    },
    "kernelspec": {
      "name": "python3",
      "display_name": "Python 3"
    },
    "language_info": {
      "name": "python"
    }
  },
  "cells": [
    {
      "cell_type": "markdown",
      "metadata": {
        "id": "view-in-github",
        "colab_type": "text"
      },
      "source": [
        "<a href=\"https://colab.research.google.com/github/rpizarrog/Analisis-Inteligente-de-datos/blob/main/bloc%20de%20notas/Caso_9_Regresi%C3%B3n_Lineal_M%C3%BAltiple.ipynb\" target=\"_parent\"><img src=\"https://colab.research.google.com/assets/colab-badge.svg\" alt=\"Open In Colab\"/></a>"
      ]
    },
    {
      "cell_type": "markdown",
      "metadata": {
        "id": "02pqfqQTrOTP"
      },
      "source": [
        "Caso 8. Regresión Lineal Múltiple\n",
        "\n",
        "Rubén Pizarro Gurrola\n",
        "Octubre 2021\n",
        "\n"
      ]
    },
    {
      "cell_type": "markdown",
      "metadata": {
        "id": "-da64ZVsrWWP"
      },
      "source": [
        "# Objetivo\n",
        "\n",
        "Construir e interpretar modelos de regresión lineal multiple\n"
      ]
    },
    {
      "cell_type": "markdown",
      "metadata": {
        "id": "1JPjgkPorb33"
      },
      "source": [
        "# Descripción\n",
        "\n",
        "Se cargan librerías necesarias\n",
        "Se cargan o generan los datos\n",
        "Se fragmentan los datos en datos de entrenamiento y validación\n",
        "Se contruye el modelo de regresión lineal múñtile\n",
        "Se interpretan los estadíticos del modelo R Square Adjusted y los coeficientes de la acuación \n",
        "\n",
        "$$\n",
        "y = a + \\beta_0 \\cdot{x_1} + \\beta_1\\cdot{x_2} + \\beta_2\\cdot{x_3} + ... + \\beta_k \\cdot {x_k} + \\epsilon\n",
        "$$ \n",
        "\n",
        "\n",
        "# Marco conceptual\n",
        "\n",
        "En la mayoría de los problemas de investigación en los que se aplica el análisis de regresión se necesita más de una variable independiente para el modelo de regresión. \n",
        "\n",
        "La complejidad de la mayoría de mecanismos científicos es tal que, con el fin de predecir una respuesta importante, se requiere un modelo de regresión múltiple. Cuando un modelo es lineal en los coeficientes se denomina modelo de regresión lineal múltiple.\n",
        "\n",
        "Para el caso de k variables independientes, el modelo que da x1,x2,...,xk, y y como la variable dependiente.x1,x2,...,xk son las variables que afectan a la variable dependiente en el modelo de regresión lineal múltiple. \n",
        "\n",
        "Muchos problemas de investigación y de la industria, requieren la estimación de las relaciones existentes entre el patrón de variabilidad de una variable aleatoria y los valores de una o más variables aleatorias. \n",
        "\n",
        "Al generar un modelo de regresión linel múltiple es importante identificar los estadísticos de R2 R Square, que se denomina coeficiente de determinación y es una medida de la proporción de la variabilidad explicada por el modelo ajustado. \n",
        "\n",
        "De igual forma, el valor de R2 ajustado o coeficiente de determinación ajustado, es una variación de R2 que proporciona un ajuste para los grados de libertad. R Square ajustado está diseñado para proporcionar un estadístico que castigue un modelo sobreajustado, de manera que se puede esperar que favorezca al modelo.\n",
        "\n",
        "Una variable Y puede predecirse conforme y de cuerdo con\n",
        "\n",
        "$$\n",
        "y = a + \\beta_0 \\cdot{x_1} + \\beta_1\\cdot{x_2} + \\beta_2\\cdot{x_3} + ... + \\beta_k \\cdot {x_k} + \\epsilon\n",
        "$$ \n",
        "\n",
        "# Desarrollo\n",
        "\n",
        "## Cargar librerías\n",
        "\n",
        "\n",
        "\n",
        "\n"
      ]
    },
    {
      "cell_type": "code",
      "metadata": {
        "id": "qu5qgkg4wFDY"
      },
      "source": [
        "import pandas as pd\n",
        "import numpy as np\n",
        "\n",
        "# Gráficos\n",
        "# ==============================================================================\n",
        "import matplotlib.pyplot as plt\n",
        "from matplotlib import style\n",
        "import seaborn as sns\n",
        "\n",
        "# Configuración matplotlib\n",
        "# ==============================================================================\n",
        "plt.style.use('ggplot')\n",
        "\n",
        "# Configuración warnings\n",
        "# ==============================================================================\n",
        "\n",
        "# Preprocesado y análisis y para correlaciones\n",
        "# ==============================================================================\n",
        "import statsmodels.api as sm\n",
        "from scipy import stats\n",
        "from scipy.stats import pearsonr\n",
        "\n",
        "\n",
        "from pandas import DataFrame,Series\n",
        "# from sklearn.cross_validation import train_test_split\n",
        "from sklearn.model_selection import train_test_split # Partir datos\n",
        "from sklearn.linear_model import LinearRegression\n",
        "\n",
        "import warnings\n",
        "warnings.filterwarnings('ignore')"
      ],
      "execution_count": 15,
      "outputs": []
    },
    {
      "cell_type": "code",
      "metadata": {
        "id": "wNQzkb2WIUbE"
      },
      "source": [
        ""
      ],
      "execution_count": 15,
      "outputs": []
    },
    {
      "cell_type": "markdown",
      "metadata": {
        "id": "5pBMkxZ-IO1c"
      },
      "source": [
        ""
      ]
    },
    {
      "cell_type": "markdown",
      "metadata": {
        "id": "ilKhZcBOwGG4"
      },
      "source": [
        "## Cargar los datos\n",
        "\n",
        "Se crean tres vectores y a partir de estos se construye un conjunto de datos.\n",
        "\n",
        "\n"
      ]
    },
    {
      "cell_type": "code",
      "metadata": {
        "colab": {
          "base_uri": "https://localhost:8080/",
          "height": 237
        },
        "id": "z_RSQwyTFK_U",
        "outputId": "0d52a01b-b2d6-4069-e6b1-4a86c2d0f102"
      },
      "source": [
        "tv = [230.1, 44.5, 17.2, 151.5, 180.8, 8.7, 57.5, 120.2, 8.6, 199.8, 66.1, 214.7,\n",
        "      23.8, 97.5, 204.1, 195.4, 67.8, 281.4, 69.2, 147.3, 218.4, 237.4, 13.2,\n",
        "      228.3, 62.3, 262.9, 142.9, 240.1, 248.8, 70.6, 292.9, 112.9, 97.2, 265.6,\n",
        "      95.7, 290.7, 266.9, 74.7, 43.1, 228.0, 202.5, 177.0, 293.6, 206.9, 25.1,\n",
        "      175.1, 89.7, 239.9, 227.2, 66.9, 199.8, 100.4, 216.4, 182.6, 262.7, 198.9,\n",
        "      7.3, 136.2, 210.8, 210.7, 53.5, 261.3, 239.3, 102.7, 131.1, 69.0, 31.5,\n",
        "      139.3, 237.4, 216.8, 199.1, 109.8, 26.8, 129.4, 213.4, 16.9, 27.5, 120.5,\n",
        "      5.4, 116.0, 76.4, 239.8, 75.3, 68.4, 213.5, 193.2, 76.3, 110.7, 88.3, 109.8,\n",
        "      134.3, 28.6, 217.7, 250.9, 107.4, 163.3, 197.6, 184.9, 289.7, 135.2, 222.4,\n",
        "      296.4, 280.2, 187.9, 238.2, 137.9, 25.0, 90.4, 13.1, 255.4, 225.8, 241.7, 175.7,\n",
        "      209.6, 78.2, 75.1, 139.2, 76.4, 125.7, 19.4, 141.3, 18.8, 224.0, 123.1, 229.5,\n",
        "      87.2, 7.8, 80.2, 220.3, 59.6, 0.7, 265.2, 8.4, 219.8, 36.9, 48.3, 25.6, 273.7,\n",
        "      43.0, 184.9, 73.4, 193.7, 220.5, 104.6, 96.2, 140.3, 240.1, 243.2, 38.0, 44.7,\n",
        "      280.7, 121.0, 197.6, 171.3, 187.8, 4.1, 93.9, 149.8, 11.7, 131.7, 172.5, 85.7,\n",
        "      188.4, 163.5, 117.2, 234.5, 17.9, 206.8, 215.4, 284.3, 50.0, 164.5, 19.6, 168.4,\n",
        "      222.4, 276.9, 248.4, 170.2, 276.7, 165.6, 156.6, 218.5, 56.2, 287.6, 253.8, 205.0,\n",
        "      139.5, 191.1, 286.0, 18.7, 39.5, 75.5, 17.2, 166.8, 149.7, 38.2, 94.2, 177.0,\n",
        "      283.6, 232.1]\n",
        "\n",
        "radio = [37.8, 39.3, 45.9, 41.3, 10.8, 48.9, 32.8, 19.6, 2.1, 2.6, 5.8, 24.0, 35.1,\n",
        "         7.6, 32.9, 47.7, 36.6, 39.6, 20.5, 23.9, 27.7, 5.1, 15.9, 16.9, 12.6, 3.5,\n",
        "         29.3, 16.7, 27.1, 16.0, 28.3, 17.4, 1.5, 20.0, 1.4, 4.1, 43.8, 49.4, 26.7,\n",
        "         37.7, 22.3, 33.4, 27.7, 8.4, 25.7, 22.5, 9.9, 41.5, 15.8, 11.7, 3.1, 9.6,\n",
        "         41.7, 46.2, 28.8, 49.4, 28.1, 19.2, 49.6, 29.5, 2.0, 42.7, 15.5, 29.6, 42.8,\n",
        "         9.3, 24.6, 14.5, 27.5, 43.9, 30.6, 14.3, 33.0, 5.7, 24.6, 43.7, 1.6, 28.5,\n",
        "         29.9, 7.7, 26.7, 4.1, 20.3, 44.5, 43.0, 18.4, 27.5, 40.6, 25.5, 47.8, 4.9,\n",
        "         1.5, 33.5, 36.5, 14.0, 31.6, 3.5, 21.0, 42.3, 41.7, 4.3, 36.3, 10.1, 17.2,\n",
        "         34.3, 46.4, 11.0, 0.3, 0.4, 26.9, 8.2, 38.0, 15.4, 20.6, 46.8, 35.0, 14.3,\n",
        "         0.8, 36.9, 16.0, 26.8, 21.7, 2.4, 34.6, 32.3, 11.8, 38.9, 0.0, 49.0, 12.0,\n",
        "         39.6, 2.9, 27.2, 33.5, 38.6, 47.0, 39.0, 28.9, 25.9, 43.9, 17.0, 35.4, 33.2,\n",
        "         5.7, 14.8, 1.9, 7.3, 49.0, 40.3, 25.8, 13.9, 8.4, 23.3, 39.7, 21.1, 11.6, 43.5,\n",
        "         1.3, 36.9, 18.4, 18.1, 35.8, 18.1, 36.8, 14.7, 3.4, 37.6, 5.2, 23.6, 10.6, 11.6,\n",
        "         20.9, 20.1, 7.1, 3.4, 48.9, 30.2, 7.8, 2.3, 10.0, 2.6, 5.4, 5.7, 43.0, 21.3, 45.1,\n",
        "         2.1, 28.7, 13.9, 12.1, 41.1, 10.8, 4.1, 42.0, 35.6, 3.7, 4.9, 9.3, 42.0, 8.6]\n",
        "\n",
        "periodico = [69.2, 45.1, 69.3, 58.5, 58.4, 75.0, 23.5, 11.6, 1.0, 21.2, 24.2, 4.0,\n",
        "             65.9, 7.2, 46.0, 52.9, 114.0, 55.8, 18.3, 19.1, 53.4, 23.5, 49.6, 26.2,\n",
        "             18.3, 19.5, 12.6, 22.9, 22.9, 40.8, 43.2, 38.6, 30.0, 0.3, 7.4, 8.5, 5.0,\n",
        "             45.7, 35.1, 32.0, 31.6, 38.7, 1.8, 26.4, 43.3, 31.5, 35.7, 18.5, 49.9,\n",
        "             36.8, 34.6, 3.6, 39.6, 58.7, 15.9, 60.0, 41.4, 16.6, 37.7, 9.3, 21.4, 54.7,\n",
        "             27.3, 8.4, 28.9, 0.9, 2.2, 10.2, 11.0, 27.2, 38.7, 31.7, 19.3, 31.3, 13.1,\n",
        "             89.4, 20.7, 14.2, 9.4, 23.1, 22.3, 36.9, 32.5, 35.6, 33.8, 65.7, 16.0, 63.2,\n",
        "             73.4, 51.4, 9.3, 33.0, 59.0, 72.3, 10.9, 52.9, 5.9, 22.0, 51.2, 45.9, 49.8,\n",
        "             100.9, 21.4, 17.9, 5.3, 59.0, 29.7, 23.2, 25.6, 5.5, 56.5, 23.2, 2.4, 10.7,\n",
        "             34.5, 52.7, 25.6, 14.8, 79.2, 22.3, 46.2, 50.4, 15.6, 12.4, 74.2, 25.9, 50.6,\n",
        "             9.2, 3.2, 43.1, 8.7, 43.0, 2.1, 45.1, 65.6, 8.5, 9.3, 59.7, 20.5, 1.7, 12.9,\n",
        "             75.6, 37.9, 34.4, 38.9, 9.0, 8.7, 44.3, 11.9, 20.6, 37.0, 48.7, 14.2, 37.7,\n",
        "             9.5, 5.7, 50.5, 24.3, 45.2, 34.6, 30.7, 49.3, 25.6, 7.4, 5.4, 84.8, 21.6, 19.4,\n",
        "             57.6, 6.4, 18.4, 47.4, 17.0, 12.8, 13.1, 41.8, 20.3, 35.2, 23.7, 17.6, 8.3,\n",
        "             27.4, 29.7, 71.8, 30.0, 19.6, 26.6, 18.2, 3.7, 23.4, 5.8, 6.0, 31.6, 3.6, 6.0,\n",
        "             13.8, 8.1, 6.4, 66.2, 8.7]\n",
        "\n",
        "ventas = [22.1, 10.4, 9.3, 18.5, 12.9, 7.2, 11.8, 13.2, 4.8, 10.6, 8.6, 17.4, 9.2, 9.7,\n",
        "          19.0, 22.4, 12.5, 24.4, 11.3, 14.6, 18.0, 12.5, 5.6, 15.5, 9.7, 12.0, 15.0, 15.9,\n",
        "          18.9, 10.5, 21.4, 11.9, 9.6, 17.4, 9.5, 12.8, 25.4, 14.7, 10.1, 21.5, 16.6, 17.1,\n",
        "          20.7, 12.9, 8.5, 14.9, 10.6, 23.2, 14.8, 9.7, 11.4, 10.7, 22.6, 21.2, 20.2, 23.7,\n",
        "          5.5, 13.2, 23.8, 18.4, 8.1, 24.2, 15.7, 14.0, 18.0, 9.3, 9.5, 13.4, 18.9, 22.3,\n",
        "          18.3, 12.4, 8.8, 11.0, 17.0, 8.7, 6.9, 14.2, 5.3, 11.0, 11.8, 12.3, 11.3, 13.6,\n",
        "          21.7, 15.2, 12.0, 16.0, 12.9, 16.7, 11.2, 7.3, 19.4, 22.2, 11.5, 16.9, 11.7, 15.5,\n",
        "          25.4, 17.2, 11.7, 23.8, 14.8, 14.7, 20.7, 19.2, 7.2, 8.7, 5.3, 19.8, 13.4, 21.8,\n",
        "          14.1, 15.9, 14.6, 12.6, 12.2, 9.4, 15.9, 6.6, 15.5, 7.0, 11.6, 15.2, 19.7, 10.6,\n",
        "          6.6, 8.8, 24.7, 9.7, 1.6, 12.7, 5.7, 19.6, 10.8, 11.6, 9.5, 20.8, 9.6, 20.7, 10.9,\n",
        "          19.2, 20.1, 10.4, 11.4, 10.3, 13.2, 25.4, 10.9, 10.1, 16.1, 11.6, 16.6, 19.0, 15.6,\n",
        "          3.2, 15.3, 10.1, 7.3, 12.9, 14.4, 13.3, 14.9, 18.0, 11.9, 11.9, 8.0, 12.2, 17.1,\n",
        "          15.0, 8.4, 14.5, 7.6, 11.7, 11.5, 27.0, 20.2, 11.7, 11.8, 12.6, 10.5, 12.2, 8.7,\n",
        "          26.2, 17.6, 22.6, 10.3, 17.3, 15.9, 6.7, 10.8, 9.9, 5.9, 19.6, 17.3, 7.6, 9.7, 12.8,\n",
        "          25.5, 13.4]\n",
        "\n",
        "datos = pd.DataFrame({'tv': tv, 'radio': radio, 'periodico':periodico, 'ventas': ventas})\n",
        "\n",
        "datos[0:6:]\n",
        "\n",
        "\n",
        "\n"
      ],
      "execution_count": 45,
      "outputs": [
        {
          "output_type": "execute_result",
          "data": {
            "text/html": [
              "<div>\n",
              "<style scoped>\n",
              "    .dataframe tbody tr th:only-of-type {\n",
              "        vertical-align: middle;\n",
              "    }\n",
              "\n",
              "    .dataframe tbody tr th {\n",
              "        vertical-align: top;\n",
              "    }\n",
              "\n",
              "    .dataframe thead th {\n",
              "        text-align: right;\n",
              "    }\n",
              "</style>\n",
              "<table border=\"1\" class=\"dataframe\">\n",
              "  <thead>\n",
              "    <tr style=\"text-align: right;\">\n",
              "      <th></th>\n",
              "      <th>tv</th>\n",
              "      <th>radio</th>\n",
              "      <th>periodico</th>\n",
              "      <th>ventas</th>\n",
              "    </tr>\n",
              "  </thead>\n",
              "  <tbody>\n",
              "    <tr>\n",
              "      <th>0</th>\n",
              "      <td>230.1</td>\n",
              "      <td>37.8</td>\n",
              "      <td>69.2</td>\n",
              "      <td>22.1</td>\n",
              "    </tr>\n",
              "    <tr>\n",
              "      <th>1</th>\n",
              "      <td>44.5</td>\n",
              "      <td>39.3</td>\n",
              "      <td>45.1</td>\n",
              "      <td>10.4</td>\n",
              "    </tr>\n",
              "    <tr>\n",
              "      <th>2</th>\n",
              "      <td>17.2</td>\n",
              "      <td>45.9</td>\n",
              "      <td>69.3</td>\n",
              "      <td>9.3</td>\n",
              "    </tr>\n",
              "    <tr>\n",
              "      <th>3</th>\n",
              "      <td>151.5</td>\n",
              "      <td>41.3</td>\n",
              "      <td>58.5</td>\n",
              "      <td>18.5</td>\n",
              "    </tr>\n",
              "    <tr>\n",
              "      <th>4</th>\n",
              "      <td>180.8</td>\n",
              "      <td>10.8</td>\n",
              "      <td>58.4</td>\n",
              "      <td>12.9</td>\n",
              "    </tr>\n",
              "    <tr>\n",
              "      <th>5</th>\n",
              "      <td>8.7</td>\n",
              "      <td>48.9</td>\n",
              "      <td>75.0</td>\n",
              "      <td>7.2</td>\n",
              "    </tr>\n",
              "  </tbody>\n",
              "</table>\n",
              "</div>"
            ],
            "text/plain": [
              "      tv  radio  periodico  ventas\n",
              "0  230.1   37.8       69.2    22.1\n",
              "1   44.5   39.3       45.1    10.4\n",
              "2   17.2   45.9       69.3     9.3\n",
              "3  151.5   41.3       58.5    18.5\n",
              "4  180.8   10.8       58.4    12.9\n",
              "5    8.7   48.9       75.0     7.2"
            ]
          },
          "metadata": {},
          "execution_count": 45
        }
      ]
    },
    {
      "cell_type": "markdown",
      "metadata": {
        "id": "y4gS0DxxHqgu"
      },
      "source": [
        "### Estructura de los datos\n"
      ]
    },
    {
      "cell_type": "code",
      "metadata": {
        "colab": {
          "base_uri": "https://localhost:8080/"
        },
        "id": "LfRs4YNVHtxD",
        "outputId": "63dbdcdc-607d-483c-9dbb-be26639d1070"
      },
      "source": [
        "datos.info()"
      ],
      "execution_count": 17,
      "outputs": [
        {
          "output_type": "stream",
          "name": "stdout",
          "text": [
            "<class 'pandas.core.frame.DataFrame'>\n",
            "RangeIndex: 200 entries, 0 to 199\n",
            "Data columns (total 4 columns):\n",
            " #   Column     Non-Null Count  Dtype  \n",
            "---  ------     --------------  -----  \n",
            " 0   tv         200 non-null    float64\n",
            " 1   radio      200 non-null    float64\n",
            " 2   periodico  200 non-null    float64\n",
            " 3   ventas     200 non-null    float64\n",
            "dtypes: float64(4)\n",
            "memory usage: 6.4 KB\n"
          ]
        }
      ]
    },
    {
      "cell_type": "code",
      "metadata": {
        "colab": {
          "base_uri": "https://localhost:8080/",
          "height": 300
        },
        "id": "k9h9kmJmFXoU",
        "outputId": "1338c287-d8a7-439b-cce8-c9b1ddd19cc8"
      },
      "source": [
        "datos.describe()"
      ],
      "execution_count": 18,
      "outputs": [
        {
          "output_type": "execute_result",
          "data": {
            "text/html": [
              "<div>\n",
              "<style scoped>\n",
              "    .dataframe tbody tr th:only-of-type {\n",
              "        vertical-align: middle;\n",
              "    }\n",
              "\n",
              "    .dataframe tbody tr th {\n",
              "        vertical-align: top;\n",
              "    }\n",
              "\n",
              "    .dataframe thead th {\n",
              "        text-align: right;\n",
              "    }\n",
              "</style>\n",
              "<table border=\"1\" class=\"dataframe\">\n",
              "  <thead>\n",
              "    <tr style=\"text-align: right;\">\n",
              "      <th></th>\n",
              "      <th>tv</th>\n",
              "      <th>radio</th>\n",
              "      <th>periodico</th>\n",
              "      <th>ventas</th>\n",
              "    </tr>\n",
              "  </thead>\n",
              "  <tbody>\n",
              "    <tr>\n",
              "      <th>count</th>\n",
              "      <td>200.000000</td>\n",
              "      <td>200.000000</td>\n",
              "      <td>200.000000</td>\n",
              "      <td>200.000000</td>\n",
              "    </tr>\n",
              "    <tr>\n",
              "      <th>mean</th>\n",
              "      <td>147.042500</td>\n",
              "      <td>23.264000</td>\n",
              "      <td>30.554000</td>\n",
              "      <td>14.022500</td>\n",
              "    </tr>\n",
              "    <tr>\n",
              "      <th>std</th>\n",
              "      <td>85.854236</td>\n",
              "      <td>14.846809</td>\n",
              "      <td>21.778621</td>\n",
              "      <td>5.217457</td>\n",
              "    </tr>\n",
              "    <tr>\n",
              "      <th>min</th>\n",
              "      <td>0.700000</td>\n",
              "      <td>0.000000</td>\n",
              "      <td>0.300000</td>\n",
              "      <td>1.600000</td>\n",
              "    </tr>\n",
              "    <tr>\n",
              "      <th>25%</th>\n",
              "      <td>74.375000</td>\n",
              "      <td>9.975000</td>\n",
              "      <td>12.750000</td>\n",
              "      <td>10.375000</td>\n",
              "    </tr>\n",
              "    <tr>\n",
              "      <th>50%</th>\n",
              "      <td>149.750000</td>\n",
              "      <td>22.900000</td>\n",
              "      <td>25.750000</td>\n",
              "      <td>12.900000</td>\n",
              "    </tr>\n",
              "    <tr>\n",
              "      <th>75%</th>\n",
              "      <td>218.825000</td>\n",
              "      <td>36.525000</td>\n",
              "      <td>45.100000</td>\n",
              "      <td>17.400000</td>\n",
              "    </tr>\n",
              "    <tr>\n",
              "      <th>max</th>\n",
              "      <td>296.400000</td>\n",
              "      <td>49.600000</td>\n",
              "      <td>114.000000</td>\n",
              "      <td>27.000000</td>\n",
              "    </tr>\n",
              "  </tbody>\n",
              "</table>\n",
              "</div>"
            ],
            "text/plain": [
              "               tv       radio   periodico      ventas\n",
              "count  200.000000  200.000000  200.000000  200.000000\n",
              "mean   147.042500   23.264000   30.554000   14.022500\n",
              "std     85.854236   14.846809   21.778621    5.217457\n",
              "min      0.700000    0.000000    0.300000    1.600000\n",
              "25%     74.375000    9.975000   12.750000   10.375000\n",
              "50%    149.750000   22.900000   25.750000   12.900000\n",
              "75%    218.825000   36.525000   45.100000   17.400000\n",
              "max    296.400000   49.600000  114.000000   27.000000"
            ]
          },
          "metadata": {},
          "execution_count": 18
        }
      ]
    },
    {
      "cell_type": "markdown",
      "metadata": {
        "id": "l7GKPI7IF1d7"
      },
      "source": [
        "## Indice de correlación entre variables\n",
        "\n",
        "Pendiente"
      ]
    },
    {
      "cell_type": "markdown",
      "metadata": {
        "id": "xtwm0P-cH6-b"
      },
      "source": [
        "## Visualización de datos\n",
        "\n",
        "### Dispersión de los datos\n",
        "\n",
        "#### tv y ventas"
      ]
    },
    {
      "cell_type": "code",
      "metadata": {
        "colab": {
          "base_uri": "https://localhost:8080/",
          "height": 282
        },
        "id": "ARNxBYN6JJk6",
        "outputId": "7b63ee6e-b41a-4474-86df-cc6717c99ac9"
      },
      "source": [
        "fig, ax = plt.subplots(1, 1, figsize=(6,4))\n",
        "ax.scatter(x=datos.tv, y=datos.ventas, alpha= 0.8)\n",
        "ax.set_xlabel('tv')\n",
        "ax.set_ylabel('ventas');"
      ],
      "execution_count": 19,
      "outputs": [
        {
          "output_type": "display_data",
          "data": {
            "image/png": "[encoded data removed]",
            "text/plain": [
              "<Figure size 432x288 with 1 Axes>"
            ]
          },
          "metadata": {}
        }
      ]
    },
    {
      "cell_type": "markdown",
      "metadata": {
        "id": "1NCJ1yeyI9WM"
      },
      "source": [
        "#### radio y ventas"
      ]
    },
    {
      "cell_type": "code",
      "metadata": {
        "colab": {
          "base_uri": "https://localhost:8080/",
          "height": 282
        },
        "id": "omkVMFm4IG3M",
        "outputId": "c14d4bb2-8a71-43c1-ffb1-b4bc336f648d"
      },
      "source": [
        "\n",
        "fig, ax = plt.subplots(1, 1, figsize=(6,4))\n",
        "ax.scatter(x=datos.radio, y=datos.ventas, alpha= 0.8)\n",
        "ax.set_xlabel('radio')\n",
        "ax.set_ylabel('ventas');"
      ],
      "execution_count": 20,
      "outputs": [
        {
          "output_type": "display_data",
          "data": {
            "image/png": "[encoded data removed]",
            "text/plain": [
              "<Figure size 432x288 with 1 Axes>"
            ]
          },
          "metadata": {}
        }
      ]
    },
    {
      "cell_type": "code",
      "metadata": {
        "colab": {
          "base_uri": "https://localhost:8080/",
          "height": 282
        },
        "id": "BLo1a1sKF5mM",
        "outputId": "c002e075-38fc-4477-fe73-4c6498e3de7f"
      },
      "source": [
        "fig, ax = plt.subplots(1, 1, figsize=(6,4))\n",
        "ax.scatter(x=datos.periodico, y=datos.ventas, alpha= 0.8)\n",
        "ax.set_xlabel('periodico')\n",
        "ax.set_ylabel('ventas');"
      ],
      "execution_count": 21,
      "outputs": [
        {
          "output_type": "display_data",
          "data": {
            "image/png": "[encoded data removed]",
            "text/plain": [
              "<Figure size 432x288 with 1 Axes>"
            ]
          },
          "metadata": {}
        }
      ]
    },
    {
      "cell_type": "markdown",
      "metadata": {
        "id": "ylGok-2hJpfs"
      },
      "source": [
        "## Normalidad de los datos\n",
        "\n"
      ]
    },
    {
      "cell_type": "code",
      "metadata": {
        "colab": {
          "base_uri": "https://localhost:8080/",
          "height": 297
        },
        "id": "g0wLcAkmJs3z",
        "outputId": "0283b1a8-a920-479f-ea9d-0715d23c2f08"
      },
      "source": [
        "# Gráfico distribución variables\n",
        "# ==============================================================================\n",
        "fig, axs = plt.subplots(nrows=1, ncols=4, figsize=(10, 4))\n",
        "\n",
        "axs[0].hist(x=datos.tv, bins=20, color=\"#3182bd\", alpha=0.5)\n",
        "axs[0].plot(datos.tv, np.full_like(datos.tv, -0.01), '|k', markeredgewidth=1)\n",
        "axs[0].set_title('Distribución tv ')\n",
        "axs[0].set_xlabel('tv')\n",
        "axs[0].set_ylabel('counts')\n",
        "\n",
        "axs[1].hist(x=datos.radio, bins=20, color=\"#3182bd\", alpha=0.5)\n",
        "axs[1].plot(datos.radio, np.full_like(datos.radio, -0.01), '|k', markeredgewidth=1)\n",
        "axs[1].set_title('Distribución radio ')\n",
        "axs[1].set_xlabel('radio')\n",
        "axs[1].set_ylabel('counts')\n",
        "\n",
        "\n",
        "axs[2].hist(x=datos.periodico, bins=20, color=\"#3182bd\", alpha=0.5)\n",
        "axs[2].plot(datos.periodico, np.full_like(datos.periodico, -0.01), '|k', markeredgewidth=1)\n",
        "axs[2].set_title('Distribución periodico ')\n",
        "axs[2].set_xlabel('periodico')\n",
        "axs[2].set_ylabel('counts')\n",
        "\n",
        "axs[3].hist(x=datos.ventas, bins=20, color=\"#3182bd\", alpha=0.5)\n",
        "axs[3].plot(datos.ventas, np.full_like(datos.ventas, -0.01), '|k', markeredgewidth=1)\n",
        "axs[3].set_title('Distribución ventas ')\n",
        "axs[3].set_xlabel('ventas')\n",
        "axs[3].set_ylabel('counts')\n",
        "\n",
        "plt.tight_layout();"
      ],
      "execution_count": 22,
      "outputs": [
        {
          "output_type": "display_data",
          "data": {
            "image/png": "[encoded data removed]",
            "text/plain": [
              "<Figure size 720x288 with 4 Axes>"
            ]
          },
          "metadata": {}
        }
      ]
    },
    {
      "cell_type": "markdown",
      "metadata": {
        "id": "Rj5578Q0LBAs"
      },
      "source": [
        "## Correlación de las variables\n",
        "\n",
        "Se raliza cálculo de correlación con Pandas\n",
        "\n"
      ]
    },
    {
      "cell_type": "code",
      "metadata": {
        "colab": {
          "base_uri": "https://localhost:8080/"
        },
        "id": "-wQrVh77LIy6",
        "outputId": "b085dd57-df33-454d-db3d-67a67588f135"
      },
      "source": [
        "print(\"Correlación tv y ventas\")\n",
        "print('Correlación Pearson: ', datos['tv'].corr(datos['ventas'], method='pearson'))\n",
        "print('Correlación spearman: ', datos['tv'].corr(datos['ventas'], method='spearman'))\n",
        "print('Correlación kendall: ', datos['tv'].corr(datos['ventas'], method='kendall'))\n",
        "print()\n",
        "\n",
        "print(\"Correlación radio y ventas\")\n",
        "print('Correlación Pearson: ', datos['radio'].corr(datos['ventas'], method='pearson'))\n",
        "print('Correlación spearman: ', datos['radio'].corr(datos['ventas'], method='spearman'))\n",
        "print('Correlación kendall: ', datos['radio'].corr(datos['ventas'], method='kendall'))\n",
        "print()\n",
        "\n",
        "print(\"Correlación periodico y ventas\")\n",
        "print('Correlación Pearson: ', datos['periodico'].corr(datos['ventas'], method='pearson'))\n",
        "print('Correlación spearman: ', datos['periodico'].corr(datos['ventas'], method='spearman'))\n",
        "print('Correlación kendall: ', datos['periodico'].corr(datos['ventas'], method='kendall'))\n",
        "print()\n"
      ],
      "execution_count": 23,
      "outputs": [
        {
          "output_type": "stream",
          "name": "stdout",
          "text": [
            "Correlación tv y ventas\n",
            "Correlación Pearson:  0.7822244248616061\n",
            "Correlación spearman:  0.8006143768505688\n",
            "Correlación kendall:  0.6219463551009411\n",
            "\n",
            "Correlación radio y ventas\n",
            "Correlación Pearson:  0.5762225745710551\n",
            "Correlación spearman:  0.5543037314053145\n",
            "Correlación kendall:  0.41944746657916127\n",
            "\n",
            "Correlación periodico y ventas\n",
            "Correlación Pearson:  0.22829902637616528\n",
            "Correlación spearman:  0.19492188424873094\n",
            "Correlación kendall:  0.13227124597847204\n",
            "\n"
          ]
        }
      ]
    },
    {
      "cell_type": "markdown",
      "metadata": {
        "id": "b4liqsp4pFk4"
      },
      "source": [
        "## Crear el modelo de Regresión Lineal Múltiple\n",
        "\n",
        "### Identificar variables independientes tres o cuatro variables numéricas\n",
        "\n",
        "Las variables indepencientes del conjunto de datos son tv, radio y periodico y la variabe dependiente o de respuesta es ventas, de tal forma que una predicción estaría dada por la fórmula siguiente: \n",
        "\n",
        "$$\n",
        "ventas = a + \\beta_0 \\cdot{tv} + \\beta_1\\cdot{radio} + \\beta_2\\cdot{periodico} + \\epsilon\n",
        "$$\n",
        "\n",
        "### Crear datos de entrenamiento y validación\n",
        "\n",
        "Crear datos de entrenamiento y validación\n"
      ]
    },
    {
      "cell_type": "code",
      "metadata": {
        "colab": {
          "base_uri": "https://localhost:8080/"
        },
        "id": "E5zKwpxNr-kX",
        "outputId": "e2ef00b4-0ab0-4e79-9341-f036ea58f80d"
      },
      "source": [
        "X = datos[['tv', 'radio', 'periodico']]\n",
        "y = datos['ventas']\n",
        "\n",
        "X_train, X_test, y_train, y_test = train_test_split(\n",
        "                                        X,\n",
        "                                        y.values.reshape(-1,1),\n",
        "                                        train_size   = 0.8,\n",
        "                                        random_state = 1234,\n",
        "                                        shuffle      = True\n",
        "                                    )\n",
        "\n",
        "entrenamiento = X_train\n",
        "validacion = X_test\n",
        "\n",
        "\n",
        "print(entrenamiento)\n",
        "print(validacion)\n",
        "\n"
      ],
      "execution_count": 54,
      "outputs": [
        {
          "output_type": "stream",
          "name": "stdout",
          "text": [
            "        tv  radio  periodico\n",
            "146  240.1    7.3        8.7\n",
            "32    97.2    1.5       30.0\n",
            "43   206.9    8.4       26.4\n",
            "99   135.2   41.7       45.9\n",
            "88    88.3   25.5       73.4\n",
            "..     ...    ...        ...\n",
            "152  197.6   23.3       14.2\n",
            "116  139.2   14.3       25.6\n",
            "53   182.6   46.2       58.7\n",
            "38    43.1   26.7       35.1\n",
            "47   239.9   41.5       18.5\n",
            "\n",
            "[160 rows x 3 columns]\n",
            "        tv  radio  periodico\n",
            "197  177.0    9.3        6.4\n",
            "157  149.8    1.3       24.3\n",
            "31   112.9   17.4       38.6\n",
            "48   227.2   15.8       49.9\n",
            "63   102.7   29.6        8.4\n",
            "59   210.7   29.5        9.3\n",
            "5      8.7   48.9       75.0\n",
            "7    120.2   19.6       11.6\n",
            "117   76.4    0.8       14.8\n",
            "108   13.1    0.4       25.6\n",
            "141  193.7   35.4       75.6\n",
            "54   262.7   28.8       15.9\n",
            "102  280.2   10.1       21.4\n",
            "131  265.2    2.9       43.0\n",
            "172   19.6   20.1       17.0\n",
            "155    4.1   11.6        5.7\n",
            "126    7.8   38.9       50.6\n",
            "29    70.6   16.0       40.8\n",
            "74   213.4   24.6       13.1\n",
            "65    69.0    9.3        0.9\n",
            "137  273.7   28.9       59.7\n",
            "101  296.4   36.3      100.9\n",
            "189   18.7   12.1       23.4\n",
            "51   100.4    9.6        3.6\n",
            "92   217.7   33.5       59.0\n",
            "111  241.7   38.0       23.2\n",
            "9    199.8    2.6       21.2\n",
            "136   25.6   39.0        9.3\n",
            "125   87.2   11.8       25.9\n",
            "40   202.5   22.3       31.6\n",
            "6     57.5   32.8       23.5\n",
            "193  166.8   42.0        3.6\n",
            "150  280.7   13.9       37.0\n",
            "145  140.3    1.9        9.0\n",
            "123  123.1   34.6       12.4\n",
            "162  188.4   18.1       25.6\n",
            "93   250.9   36.5       72.3\n",
            "183  287.6   43.0       71.8\n",
            "170   50.0   11.6       18.4\n",
            "58   210.8   49.6       37.7\n"
          ]
        }
      ]
    },
    {
      "cell_type": "markdown",
      "metadata": {
        "id": "GWoeHl5ptwhH"
      },
      "source": [
        "## Modelo de regresión lineal múltiple\n"
      ]
    },
    {
      "cell_type": "code",
      "metadata": {
        "colab": {
          "base_uri": "https://localhost:8080/"
        },
        "id": "riFuCGTRt1i2",
        "outputId": "d174f114-ef8f-4c47-d8a4-af7a22c85601"
      },
      "source": [
        "from sklearn import linear_model\n",
        "# Construyendo el modelo el algoritmo de regresión lineal a utilizar\n",
        "modelo = linear_model.LinearRegression()\n",
        "\n",
        "# Construyendo el modelo de regresión lineal múptiple con datos de entrenamiento\n",
        "# Ajuste preparando y entrenanado el modelo\n",
        "modelo.fit(X_train, y_train)"
      ],
      "execution_count": 32,
      "outputs": [
        {
          "output_type": "execute_result",
          "data": {
            "text/plain": [
              "LinearRegression(copy_X=True, fit_intercept=True, n_jobs=None, normalize=False)"
            ]
          },
          "metadata": {},
          "execution_count": 32
        }
      ]
    },
    {
      "cell_type": "markdown",
      "metadata": {
        "id": "ic46dGcmpV8o"
      },
      "source": [
        "### Interpretar los valores constantes y los estadísticos significativos de cada variable\n",
        "\n",
        "\n",
        "\n"
      ]
    },
    {
      "cell_type": "code",
      "metadata": {
        "colab": {
          "base_uri": "https://localhost:8080/"
        },
        "id": "Oq3tUUA2unOG",
        "outputId": "322a5f17-c375-454a-c298-24bbeb15936e"
      },
      "source": [
        "print('DATOS DEL MODELO REGRESIÓN LINEAL MULTIPLE')\n",
        "print()\n",
        "\n",
        "print('Valor de las pendientes o coeficientes de cada variable tv, radio periódico:')\n",
        "print(modelo.coef_)\n",
        "\n",
        "print('Valor de la intersección o coeficiente a:')\n",
        "print(modelo.intercept_)\n",
        "\n",
        "print('Precisión del modelo:')\n",
        "print(modelo.score(X_train, y_train))\n",
        "\n",
        "print(\"Valor de R Adjusted\")\n",
        "\n"
      ],
      "execution_count": 38,
      "outputs": [
        {
          "output_type": "stream",
          "name": "stdout",
          "text": [
            "DATOS DEL MODELO REGRESIÓN LINEAL MULTIPLE\n",
            "\n",
            "Valor de las pendientes o coeficientes de cada variable tv, radio periódico:\n",
            "[[0.04560079 0.18927341 0.00237545]]\n",
            "Valor de la intersección o coeficiente a:\n",
            "[2.8496683]\n",
            "Precisión del modelo:\n",
            "0.8938358233693335\n",
            "Valor de R Adjusted\n",
            "[1059.32564369  279.49004028  170.20664265]\n"
          ]
        }
      ]
    },
    {
      "cell_type": "markdown",
      "metadata": {
        "id": "OqE0xmTnulXn"
      },
      "source": [
        "### Identificar e Interpretar el valor de R Square Ajustado\n",
        "\n",
        "Es la medida que refleja que tanto impacto o representatividad tienen las variables independientes sobre la variable dependiente.\n",
        "\n",
        "Busquen que sea por encima del 50%\n",
        "\n",
        "El valor de R square es de 0.8938 lo que significa que las variables representan un 89% el valor de las ventas, lo que cubre la expetativa del 50 establecida.\n",
        "\n"
      ]
    },
    {
      "cell_type": "markdown",
      "metadata": {
        "id": "4eSbIoRQqfIj"
      },
      "source": [
        "## Realizar predicciones con el modelo \n",
        "\n",
        "Utilizando alguos valores (observaciones o registros) del conjunto de datos de validacipon elaborar predicciones basados en la fórmula y también utilizando la función *predict*() de *Python*.\n",
        "\n"
      ]
    },
    {
      "cell_type": "markdown",
      "metadata": {
        "id": "PsLebtmv0fuZ"
      },
      "source": [
        "### Predicciones conforme a la fórmula\n",
        "\n",
        "$$\n",
        "ventas = 2.8496683 + 0.04560079  \\cdot{tv} + 0.18927341 \\cdot{radio} + 0.00237545\\cdot{periodico} + \\epsilon\n",
        "$$"
      ]
    },
    {
      "cell_type": "code",
      "metadata": {
        "colab": {
          "base_uri": "https://localhost:8080/"
        },
        "id": "65mMXlGp1FHn",
        "outputId": "e1449925-9734-462f-ef1e-81cbd262b3fa"
      },
      "source": [
        "tv = 8.7\n",
        "radio = 48.9     \n",
        "periodico = 75.0\n",
        "\n",
        "pred_ventas = (2.8496683+0.04560079 * tv) + (0.18927341 * radio) + (0.00237545 * periodico)\n"
      ],
      "execution_count": 41,
      "outputs": [
        {
          "output_type": "execute_result",
          "data": {
            "text/plain": [
              "12.680023671999999"
            ]
          },
          "metadata": {},
          "execution_count": 41
        }
      ]
    },
    {
      "cell_type": "markdown",
      "metadata": {
        "id": "vyZ6NmQH2pBN"
      },
      "source": [
        "### Predicciones usando predict\n"
      ]
    },
    {
      "cell_type": "code",
      "metadata": {
        "colab": {
          "base_uri": "https://localhost:8080/"
        },
        "id": "LmwtSNQX3KT-",
        "outputId": "68213e33-57f4-4bbb-e465-3762334186ab"
      },
      "source": [
        "\n",
        "print(X_test[0:6:])\n",
        "pred_ventas_2 = modelo.predict(X_test[0:6:])\n",
        "# pred_ventas_2\n",
        "\n",
        "print(pred_ventas_2)\n",
        "\n"
      ],
      "execution_count": 68,
      "outputs": [
        {
          "output_type": "stream",
          "name": "stdout",
          "text": [
            "        tv  radio  periodico\n",
            "197  177.0    9.3        6.4\n",
            "157  149.8    1.3       24.3\n",
            "31   112.9   17.4       38.6\n",
            "48   227.2   15.8       49.9\n",
            "63   102.7   29.6        8.4\n",
            "59   210.7   29.5        9.3\n",
            "[[12.69645443]\n",
            " [ 9.98444605]\n",
            " [11.38304742]\n",
            " [16.31922331]\n",
            " [13.15531642]\n",
            " [18.06341278]]\n"
          ]
        }
      ]
    },
    {
      "cell_type": "markdown",
      "metadata": {
        "id": "inzuAG30wIa3"
      },
      "source": [
        "# Interpretación\n",
        "\n",
        "Para valores de inversión en tv radio y periodico de 8.7,\t48.9 y\t75.0\tel conjunto datos tiene un valor real de ventas igual a 7.2, la prediccion de un modelo de regresión lineal múltiple genera un valor de 12.68. Hay diferencia ya que se tiene una representatividad del 89% que lo indica el estadístico R Square."
      ]
    },
    {
      "cell_type": "markdown",
      "metadata": {
        "id": "DbqLxp2XrA7_"
      },
      "source": [
        "# Referencia bibliográfica consultada\n",
        "\n",
        "https://www.cienciadedatos.net/documentos/py10-regresion-lineal-python.html\n",
        "\n",
        "https://www.cienciadedatos.net/documentos/pystats05-correlacion-lineal-python.html"
      ]
    }
  ]
}