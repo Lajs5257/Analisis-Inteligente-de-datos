{
  "nbformat": 4,
  "nbformat_minor": 0,
  "metadata": {
    "colab": {
      "name": "Caso 3. Frecuencias datos COVID.ipynb",
      "provenance": [],
      "collapsed_sections": [],
      "authorship_tag": "ABX9TyPSyGsS04BIWCyN0y4AhiZx",
      "include_colab_link": true
    },
    "kernelspec": {
      "name": "python3",
      "display_name": "Python 3"
    },
    "language_info": {
      "name": "python"
    }
  },
  "cells": [
    {
      "cell_type": "markdown",
      "metadata": {
        "id": "view-in-github",
        "colab_type": "text"
      },
      "source": [
        "<a href=\"https://colab.research.google.com/github/rpizarrog/Analisis-Inteligente-de-datos/blob/main/bloc%20de%20notas/Caso_3_Frecuencias_datos_COVID.ipynb\" target=\"_parent\"><img src=\"https://colab.research.google.com/assets/colab-badge.svg\" alt=\"Open In Colab\"/></a>"
      ]
    },
    {
      "cell_type": "markdown",
      "metadata": {
        "id": "n_xNLD7Phos4"
      },
      "source": [
        "# Caso 3. Análisis descriptivo de datos de aplicaciones de vacunas y fabricantes COVID\n",
        "\n",
        "# Objetivo\n",
        "\n",
        "Realizar un análisis descriptivo de frecuencias sobre los datos de aplicaciones de vacunas en distintos países  y fabricantes de las mismas de COVID.\n",
        "\n",
        "# Descripción\n",
        "\n",
        "Cargar los datos de COVID de la URL: (https://raw.githubusercontent.com/rpizarrog/Analisis-Inteligente-de-datos/main/datos/country%20vaccinations%20by%20manufacturer.csv). Fuente: [kaggle.com](https://kaggle.com)\n",
        "\n",
        "Resolver las siguientes necesidades de datos:\n",
        "\n",
        "1. ¿Cuál país ha tenido mas aplicaciones a lo largo del tiempo?, contar  count() los registros, ¿Será USA?\n",
        "\n",
        "2. ¿Cuál fabricante de vacunas ha tenido mas aplicaciones a lo largo del tiempo?, contar count() los registros ¿será Pfizer/BioNTech?\n",
        "\n",
        "3. ¿Cuántas vacunas se han aplicado por país?, sumar (total_vaccinations) la cantidad de aplicaciones por país?\n",
        "\n",
        "4. ¿Cuántas vacunas se han aplicado por fabricante?, sumar (total_vaccinations) las vacunas agrupadas por fabricante\n",
        "\n",
        "5. ¿En que mes se ha aplicado mas vacunas?, sumar (total_vaccinations) agrupada por mes\n",
        "\n",
        "Visualizar diagramas de barra por cada tipo de consulta, de las cinco preguntas visualizar diagramas de barras en donde el eje de las x es pais o fabricante y el eje de las y es la frecuencia y/o la suma de aplicaciones.\n",
        "\n",
        "# Desarrollo\n"
      ]
    },
    {
      "cell_type": "markdown",
      "metadata": {
        "id": "f9JFsak-iXm7"
      },
      "source": [
        "## Cargar datos\n",
        "\n"
      ]
    },
    {
      "cell_type": "markdown",
      "metadata": {
        "id": "iOIBTy0M_dDG"
      },
      "source": [
        ""
      ]
    },
    {
      "cell_type": "code",
      "metadata": {
        "colab": {
          "base_uri": "https://localhost:8080/",
          "height": 423
        },
        "id": "R-fF1gOciZty",
        "outputId": "c5d2a967-0de3-4c3d-ef52-da760bb7cbd5"
      },
      "source": [
        "import pandas as pd\n",
        "\n",
        "url = \"https://raw.githubusercontent.com/rpizarrog/Analisis-Inteligente-de-datos/main/datos/country%20vaccinations%20by%20manufacturer.csv\"\n",
        "covid = pd.read_csv(url)\n",
        "\n",
        "covid"
      ],
      "execution_count": 104,
      "outputs": [
        {
          "output_type": "execute_result",
          "data": {
            "text/html": [
              "<div>\n",
              "<style scoped>\n",
              "    .dataframe tbody tr th:only-of-type {\n",
              "        vertical-align: middle;\n",
              "    }\n",
              "\n",
              "    .dataframe tbody tr th {\n",
              "        vertical-align: top;\n",
              "    }\n",
              "\n",
              "    .dataframe thead th {\n",
              "        text-align: right;\n",
              "    }\n",
              "</style>\n",
              "<table border=\"1\" class=\"dataframe\">\n",
              "  <thead>\n",
              "    <tr style=\"text-align: right;\">\n",
              "      <th></th>\n",
              "      <th>location</th>\n",
              "      <th>date</th>\n",
              "      <th>vaccine</th>\n",
              "      <th>total_vaccinations</th>\n",
              "    </tr>\n",
              "  </thead>\n",
              "  <tbody>\n",
              "    <tr>\n",
              "      <th>0</th>\n",
              "      <td>Austria</td>\n",
              "      <td>2021-01-08</td>\n",
              "      <td>Johnson&amp;Johnson</td>\n",
              "      <td>0</td>\n",
              "    </tr>\n",
              "    <tr>\n",
              "      <th>1</th>\n",
              "      <td>Austria</td>\n",
              "      <td>2021-01-08</td>\n",
              "      <td>Moderna</td>\n",
              "      <td>0</td>\n",
              "    </tr>\n",
              "    <tr>\n",
              "      <th>2</th>\n",
              "      <td>Austria</td>\n",
              "      <td>2021-01-08</td>\n",
              "      <td>Oxford/AstraZeneca</td>\n",
              "      <td>0</td>\n",
              "    </tr>\n",
              "    <tr>\n",
              "      <th>3</th>\n",
              "      <td>Austria</td>\n",
              "      <td>2021-01-08</td>\n",
              "      <td>Pfizer/BioNTech</td>\n",
              "      <td>31020</td>\n",
              "    </tr>\n",
              "    <tr>\n",
              "      <th>4</th>\n",
              "      <td>Austria</td>\n",
              "      <td>2021-01-15</td>\n",
              "      <td>Johnson&amp;Johnson</td>\n",
              "      <td>0</td>\n",
              "    </tr>\n",
              "    <tr>\n",
              "      <th>...</th>\n",
              "      <td>...</td>\n",
              "      <td>...</td>\n",
              "      <td>...</td>\n",
              "      <td>...</td>\n",
              "    </tr>\n",
              "    <tr>\n",
              "      <th>10960</th>\n",
              "      <td>Uruguay</td>\n",
              "      <td>2021-08-07</td>\n",
              "      <td>Pfizer/BioNTech</td>\n",
              "      <td>1562360</td>\n",
              "    </tr>\n",
              "    <tr>\n",
              "      <th>10961</th>\n",
              "      <td>Uruguay</td>\n",
              "      <td>2021-08-07</td>\n",
              "      <td>Sinovac</td>\n",
              "      <td>3234519</td>\n",
              "    </tr>\n",
              "    <tr>\n",
              "      <th>10962</th>\n",
              "      <td>Uruguay</td>\n",
              "      <td>2021-08-08</td>\n",
              "      <td>Oxford/AstraZeneca</td>\n",
              "      <td>84121</td>\n",
              "    </tr>\n",
              "    <tr>\n",
              "      <th>10963</th>\n",
              "      <td>Uruguay</td>\n",
              "      <td>2021-08-08</td>\n",
              "      <td>Pfizer/BioNTech</td>\n",
              "      <td>1562430</td>\n",
              "    </tr>\n",
              "    <tr>\n",
              "      <th>10964</th>\n",
              "      <td>Uruguay</td>\n",
              "      <td>2021-08-08</td>\n",
              "      <td>Sinovac</td>\n",
              "      <td>3234526</td>\n",
              "    </tr>\n",
              "  </tbody>\n",
              "</table>\n",
              "<p>10965 rows × 4 columns</p>\n",
              "</div>"
            ],
            "text/plain": [
              "      location        date             vaccine  total_vaccinations\n",
              "0      Austria  2021-01-08     Johnson&Johnson                   0\n",
              "1      Austria  2021-01-08             Moderna                   0\n",
              "2      Austria  2021-01-08  Oxford/AstraZeneca                   0\n",
              "3      Austria  2021-01-08     Pfizer/BioNTech               31020\n",
              "4      Austria  2021-01-15     Johnson&Johnson                   0\n",
              "...        ...         ...                 ...                 ...\n",
              "10960  Uruguay  2021-08-07     Pfizer/BioNTech             1562360\n",
              "10961  Uruguay  2021-08-07             Sinovac             3234519\n",
              "10962  Uruguay  2021-08-08  Oxford/AstraZeneca               84121\n",
              "10963  Uruguay  2021-08-08     Pfizer/BioNTech             1562430\n",
              "10964  Uruguay  2021-08-08             Sinovac             3234526\n",
              "\n",
              "[10965 rows x 4 columns]"
            ]
          },
          "metadata": {},
          "execution_count": 104
        }
      ]
    },
    {
      "cell_type": "markdown",
      "metadata": {
        "id": "F49CeHm9jCw4"
      },
      "source": [
        "### Variables\n",
        "\n",
        "El conjunto de datos se interpreta como la cantidad de aplicacioens de vacunas a persnas que se hicieron en fechas específicas en el periodo de 2021-01-08 al 2021-08-08, es decir 7 meses de recopilación de datos.\n",
        "\n",
        "\n",
        "* location. Significa el pais en donde se aplica la vacuna.\n",
        "* date. La fecha en que se aplica en formato \"YYYY-MM-DD\".\n",
        "* vaccine. Singifica el fabricante de la vacuna.\n",
        "* total_vaccinations La cantidad de vacunas que se aplicaron en esa fecha en ese paíes de ese fabricante.\n",
        "\n"
      ]
    },
    {
      "cell_type": "markdown",
      "metadata": {
        "id": "75Y0D_PDkUz4"
      },
      "source": [
        "## Frecuencia de aplicaciones por país\n",
        "\n",
        "1. ¿Cuál país ha tenido mas aplicaciones a lo largo del \n",
        "tiempo?, contar  count() los registros, ¿Será USA?\n",
        "\n",
        "Urilizar la función groupby utilizando el tipo de variable de interés location.\n"
      ]
    },
    {
      "cell_type": "code",
      "metadata": {
        "colab": {
          "base_uri": "https://localhost:8080/"
        },
        "id": "5kGWXUtjlKfQ",
        "outputId": "b06fcf4e-5da2-40f7-c5e5-324c8dd645f3"
      },
      "source": [
        "from numpy.ma.core import sort\n",
        "frec_pais= covid.groupby(['location']).count() \n",
        "print(frec_pais)\n",
        "\n"
      ],
      "execution_count": 105,
      "outputs": [
        {
          "output_type": "stream",
          "name": "stdout",
          "text": [
            "               date  vaccine  total_vaccinations\n",
            "location                                        \n",
            "Austria         124      124                 124\n",
            "Belgium         104      104                 104\n",
            "Bulgaria        107      107                 107\n",
            "Chile           565      565                 565\n",
            "Croatia         116      116                 116\n",
            "Cyprus          100      100                 100\n",
            "Czechia         744      744                 744\n",
            "Denmark          95       95                  95\n",
            "Estonia         105      105                 105\n",
            "Finland         127      127                 127\n",
            "France          712      712                 712\n",
            "Germany         900      900                 900\n",
            "Hong Kong       336      336                 336\n",
            "Hungary         158      158                 158\n",
            "Iceland         884      884                 884\n",
            "Ireland         113      113                 113\n",
            "Italy           746      746                 746\n",
            "Japan           225      225                 225\n",
            "Latvia          749      749                 749\n",
            "Liechtenstein    52       52                  52\n",
            "Lithuania       731      731                 731\n",
            "Luxembourg      106      106                 106\n",
            "Malta            91       91                  91\n",
            "Netherlands     128      128                 128\n",
            "Poland          128      128                 128\n",
            "Portugal        122      122                 122\n",
            "Romania         669      669                 669\n",
            "Slovakia        118      118                 118\n",
            "Slovenia         98       98                  98\n",
            "Spain           124      124                 124\n",
            "Sweden           89       89                  89\n",
            "Switzerland     454      454                 454\n",
            "United States   556      556                 556\n",
            "Uruguay         489      489                 489\n"
          ]
        }
      ]
    },
    {
      "cell_type": "markdown",
      "metadata": {
        "id": "IPKQrlVQoMrh"
      },
      "source": [
        "### Ordenando frecuencias"
      ]
    },
    {
      "cell_type": "code",
      "metadata": {
        "colab": {
          "base_uri": "https://localhost:8080/"
        },
        "id": "KjJNGG6roR9S",
        "outputId": "a977fd42-137a-45de-dafc-9eaf454bc7e0"
      },
      "source": [
        "frec_pais_orden = frec_pais.sort_values('total_vaccinations', ascending = False)\n",
        "print(frec_pais_orden)"
      ],
      "execution_count": 106,
      "outputs": [
        {
          "output_type": "stream",
          "name": "stdout",
          "text": [
            "               date  vaccine  total_vaccinations\n",
            "location                                        \n",
            "Germany         900      900                 900\n",
            "Iceland         884      884                 884\n",
            "Latvia          749      749                 749\n",
            "Italy           746      746                 746\n",
            "Czechia         744      744                 744\n",
            "Lithuania       731      731                 731\n",
            "France          712      712                 712\n",
            "Romania         669      669                 669\n",
            "Chile           565      565                 565\n",
            "United States   556      556                 556\n",
            "Uruguay         489      489                 489\n",
            "Switzerland     454      454                 454\n",
            "Hong Kong       336      336                 336\n",
            "Japan           225      225                 225\n",
            "Hungary         158      158                 158\n",
            "Netherlands     128      128                 128\n",
            "Poland          128      128                 128\n",
            "Finland         127      127                 127\n",
            "Austria         124      124                 124\n",
            "Spain           124      124                 124\n",
            "Portugal        122      122                 122\n",
            "Slovakia        118      118                 118\n",
            "Croatia         116      116                 116\n",
            "Ireland         113      113                 113\n",
            "Bulgaria        107      107                 107\n",
            "Luxembourg      106      106                 106\n",
            "Estonia         105      105                 105\n",
            "Belgium         104      104                 104\n",
            "Cyprus          100      100                 100\n",
            "Slovenia         98       98                  98\n",
            "Denmark          95       95                  95\n",
            "Malta            91       91                  91\n",
            "Sweden           89       89                  89\n",
            "Liechtenstein    52       52                  52\n"
          ]
        }
      ]
    },
    {
      "cell_type": "markdown",
      "metadata": {
        "id": "0J4ybi5Um9lK"
      },
      "source": [
        "Alemania ha aplicado en mas ocasiones en fechas diferentes vacunas con con un total de 900 aplicaciones eguinda de islandia con 884; por el contrario países que menos aplicaciones tiene son Sweden con 89 y Liechtenstein con 52 aplicaoines en fechas distintas."
      ]
    },
    {
      "cell_type": "markdown",
      "metadata": {
        "id": "9Frl8XI1oxHS"
      },
      "source": [
        "### Visualizando frecuencias\n",
        "\n",
        "Se visualiza el top cinco de los registros de los países con mas aplicaciones de vacunas en fechas diferentes\n",
        "\n",
        "\n"
      ]
    },
    {
      "cell_type": "code",
      "metadata": {
        "colab": {
          "base_uri": "https://localhost:8080/",
          "height": 349
        },
        "id": "x6TJJlUwpGaS",
        "outputId": "dde56af9-e137-4e6d-a6a7-6d14740febdc"
      },
      "source": [
        "\n",
        "frec_pais_orden.head()['date'].plot(kind='bar',title='Frecuencia de aplicaciones', \n",
        "                                   xlabel=\"Países\", ylabel=\"Frecuencia\" ) \n",
        "\n",
        "\n",
        "\n"
      ],
      "execution_count": 107,
      "outputs": [
        {
          "output_type": "execute_result",
          "data": {
            "text/plain": [
              "<matplotlib.axes._subplots.AxesSubplot at 0x7f5bda1b14d0>"
            ]
          },
          "metadata": {},
          "execution_count": 107
        },
        {
          "output_type": "display_data",
          "data": {
            "image/png": "[encoded data removed]",
            "text/plain": [
              "<Figure size 432x288 with 1 Axes>"
            ]
          },
          "metadata": {
            "needs_background": "light"
          }
        }
      ]
    },
    {
      "cell_type": "markdown",
      "metadata": {
        "id": "stHiVTSpsrbB"
      },
      "source": [
        "Países con menos aplicaciones en fechas diferentes"
      ]
    },
    {
      "cell_type": "code",
      "metadata": {
        "colab": {
          "base_uri": "https://localhost:8080/",
          "height": 371
        },
        "id": "WyknPUZsr-GC",
        "outputId": "24cdf83e-8c0d-45aa-cd15-e979e60e32a8"
      },
      "source": [
        "frec_pais_orden.tail()['date'].plot(kind='bar',title='Frecuencia de aplicaciones', \n",
        "                                   xlabel=\"Países\", ylabel=\"Frecuencia\" )"
      ],
      "execution_count": 108,
      "outputs": [
        {
          "output_type": "execute_result",
          "data": {
            "text/plain": [
              "<matplotlib.axes._subplots.AxesSubplot at 0x7f5bd9e28910>"
            ]
          },
          "metadata": {},
          "execution_count": 108
        },
        {
          "output_type": "display_data",
          "data": {
            "image/png": "[encoded data removed]",
            "text/plain": [
              "<Figure size 432x288 with 1 Axes>"
            ]
          },
          "metadata": {
            "needs_background": "light"
          }
        }
      ]
    },
    {
      "cell_type": "markdown",
      "metadata": {
        "id": "UxQprtPG_fuU"
      },
      "source": [
        "## Frecuencia de aplicaciones por fabricante\n",
        "\n",
        "2. ¿Cuál fabricante de vacunas ha tenido mas aplicaciones a lo largo del \n",
        "tiempo?, contar count() los registros ¿será Pfizer/BioNTech?\n",
        "\n",
        "\n",
        "Se crea un conjunto de datos de la frecudncia de vacunas por fabricante."
      ]
    },
    {
      "cell_type": "code",
      "metadata": {
        "colab": {
          "base_uri": "https://localhost:8080/"
        },
        "id": "02Jg3tC4_oha",
        "outputId": "39236dab-c461-4774-ad7c-21c15c987c59"
      },
      "source": [
        "frec_fabr= covid.groupby(['vaccine']).count() \n",
        "print(frec_fabr)"
      ],
      "execution_count": 109,
      "outputs": [
        {
          "output_type": "stream",
          "name": "stdout",
          "text": [
            "                    location  date  total_vaccinations\n",
            "vaccine                                               \n",
            "CanSino                   64    64                  64\n",
            "Johnson&Johnson         1658  1658                1658\n",
            "Moderna                 2765  2765                2765\n",
            "Oxford/AstraZeneca      2345  2345                2345\n",
            "Pfizer/BioNTech         3556  3556                3556\n",
            "Sinopharm/Beijing         25    25                  25\n",
            "Sinovac                  513   513                 513\n",
            "Sputnik V                 39    39                  39\n"
          ]
        }
      ]
    },
    {
      "cell_type": "markdown",
      "metadata": {
        "id": "qN9A4Yb7AN0U"
      },
      "source": [
        "## Ordenando frecuencias\n",
        "\n",
        "Se ordena la tabla de frecuencia de mayor a menor."
      ]
    },
    {
      "cell_type": "code",
      "metadata": {
        "colab": {
          "base_uri": "https://localhost:8080/"
        },
        "id": "g_AK6vn6AZSy",
        "outputId": "dc81e6f4-e933-46f8-e153-226eecfc44e1"
      },
      "source": [
        "frec_fabr_orden = frec_fabr.sort_values('total_vaccinations', ascending = False)\n",
        "print(frec_fabr_orden)"
      ],
      "execution_count": 110,
      "outputs": [
        {
          "output_type": "stream",
          "name": "stdout",
          "text": [
            "                    location  date  total_vaccinations\n",
            "vaccine                                               \n",
            "Pfizer/BioNTech         3556  3556                3556\n",
            "Moderna                 2765  2765                2765\n",
            "Oxford/AstraZeneca      2345  2345                2345\n",
            "Johnson&Johnson         1658  1658                1658\n",
            "Sinovac                  513   513                 513\n",
            "CanSino                   64    64                  64\n",
            "Sputnik V                 39    39                  39\n",
            "Sinopharm/Beijing         25    25                  25\n"
          ]
        }
      ]
    },
    {
      "cell_type": "markdown",
      "metadata": {
        "id": "OTzEpsJpAx90"
      },
      "source": [
        "### Visualización de frecuencias"
      ]
    },
    {
      "cell_type": "code",
      "metadata": {
        "colab": {
          "base_uri": "https://localhost:8080/",
          "height": 403
        },
        "id": "-LvbddRaA7Ca",
        "outputId": "5effd946-d98d-4030-cbfe-3bbdc265794f"
      },
      "source": [
        "frec_fabr_orden['date'].plot(kind='bar',title='Frecuencia de aplicaciones', \n",
        "                                   xlabel=\"Fabricantes\", ylabel=\"Frecuencia\" ) \n"
      ],
      "execution_count": 111,
      "outputs": [
        {
          "output_type": "execute_result",
          "data": {
            "text/plain": [
              "<matplotlib.axes._subplots.AxesSubplot at 0x7f5bd9df3390>"
            ]
          },
          "metadata": {},
          "execution_count": 111
        },
        {
          "output_type": "display_data",
          "data": {
            "image/png": "[encoded data removed]",
            "text/plain": [
              "<Figure size 432x288 with 1 Axes>"
            ]
          },
          "metadata": {
            "needs_background": "light"
          }
        }
      ]
    },
    {
      "cell_type": "markdown",
      "metadata": {
        "id": "PCUhXqofBIHT"
      },
      "source": [
        "La vacuna Pfizer/BioNTech se ha aplica en 3556 ocasiones siendo la mayor de entre todos los fabricants y la vacuna Sputnik V es la menor con 39 en cantidad de ocasiones aplicadas de entre todas ellas.\n"
      ]
    },
    {
      "cell_type": "markdown",
      "metadata": {
        "id": "pKt6iOX0CRaE"
      },
      "source": [
        "## Suma de aplicaciones de vacunas por país\n",
        "\n",
        "3. ¿Cuántas vacunas se han aplicado por país?, sumar (total_vaccinations) la cantidad de aplicaciones por país?\n",
        "\n",
        "Se utiliza la función *sum()* por la variable *total_vaccinations* agrupadas por país con la variable *location*\n",
        "\n"
      ]
    },
    {
      "cell_type": "code",
      "metadata": {
        "colab": {
          "base_uri": "https://localhost:8080/"
        },
        "id": "eQ8rw1xeChdO",
        "outputId": "944676c2-4938-4c64-b2ff-dbc19e5264b4"
      },
      "source": [
        "pais_sum= covid.groupby(['location']).sum('total_vaccinations') \n",
        "print(pais_sum)"
      ],
      "execution_count": 112,
      "outputs": [
        {
          "output_type": "stream",
          "name": "stdout",
          "text": [
            "               total_vaccinations\n",
            "location                         \n",
            "Austria                 118511334\n",
            "Belgium                 162354528\n",
            "Bulgaria                 27931197\n",
            "Chile                  2629159998\n",
            "Croatia                  38864087\n",
            "Cyprus                   12211016\n",
            "Czechia                 840566515\n",
            "Denmark                  75191003\n",
            "Estonia                  15626971\n",
            "Finland                  68408812\n",
            "France                 5540732366\n",
            "Germany                7657809082\n",
            "Hong Kong               382021660\n",
            "Hungary                 164704986\n",
            "Iceland                  38744648\n",
            "Ireland                  52553510\n",
            "Italy                  5418168374\n",
            "Japan                  3910422920\n",
            "Latvia                  111034630\n",
            "Liechtenstein              451823\n",
            "Lithuania               240077306\n",
            "Luxembourg                7664316\n",
            "Malta                     9976920\n",
            "Netherlands             234720727\n",
            "Poland                  438336578\n",
            "Portugal                145482899\n",
            "Romania                1037741287\n",
            "Slovakia                 56050405\n",
            "Slovenia                 21103238\n",
            "Spain                   651194863\n",
            "Sweden                  128990325\n",
            "Switzerland             736032309\n",
            "United States         41524152779\n",
            "Uruguay                 397732230\n"
          ]
        }
      ]
    },
    {
      "cell_type": "markdown",
      "metadata": {
        "id": "-NX6kgFrDCUM"
      },
      "source": [
        "## Ordenando datos\n",
        "\n"
      ]
    },
    {
      "cell_type": "code",
      "metadata": {
        "colab": {
          "base_uri": "https://localhost:8080/"
        },
        "id": "Q-dp9Pw1DHzq",
        "outputId": "a1c453f2-d1d8-4962-e26c-bd75906601b2"
      },
      "source": [
        "pais_sum_orden = pais_sum.sort_values('total_vaccinations', ascending = False)\n",
        "print(pais_sum_orden)"
      ],
      "execution_count": 113,
      "outputs": [
        {
          "output_type": "stream",
          "name": "stdout",
          "text": [
            "               total_vaccinations\n",
            "location                         \n",
            "United States         41524152779\n",
            "Germany                7657809082\n",
            "France                 5540732366\n",
            "Italy                  5418168374\n",
            "Japan                  3910422920\n",
            "Chile                  2629159998\n",
            "Romania                1037741287\n",
            "Czechia                 840566515\n",
            "Switzerland             736032309\n",
            "Spain                   651194863\n",
            "Poland                  438336578\n",
            "Uruguay                 397732230\n",
            "Hong Kong               382021660\n",
            "Lithuania               240077306\n",
            "Netherlands             234720727\n",
            "Hungary                 164704986\n",
            "Belgium                 162354528\n",
            "Portugal                145482899\n",
            "Sweden                  128990325\n",
            "Austria                 118511334\n",
            "Latvia                  111034630\n",
            "Denmark                  75191003\n",
            "Finland                  68408812\n",
            "Slovakia                 56050405\n",
            "Ireland                  52553510\n",
            "Croatia                  38864087\n",
            "Iceland                  38744648\n",
            "Bulgaria                 27931197\n",
            "Slovenia                 21103238\n",
            "Estonia                  15626971\n",
            "Cyprus                   12211016\n",
            "Malta                     9976920\n",
            "Luxembourg                7664316\n",
            "Liechtenstein              451823\n"
          ]
        }
      ]
    },
    {
      "cell_type": "markdown",
      "metadata": {
        "id": "_K-okZ9ZDboz"
      },
      "source": [
        "### Visualizando datos\n",
        "\n",
        "Se visualizan las suma de vacunados por pais, primero los mayores y la segunda visualzia los menores en cantidad de vacunados.\n",
        "\n"
      ]
    },
    {
      "cell_type": "code",
      "metadata": {
        "colab": {
          "base_uri": "https://localhost:8080/",
          "height": 371
        },
        "id": "PgUVS7asDq2U",
        "outputId": "f03b3b45-0883-4716-acf6-39d3724a3215"
      },
      "source": [
        "pais_sum_orden.head()['total_vaccinations'].plot(kind='bar',title='Personas vacunadas por País', \n",
        "                                   xlabel=\"Países\", ylabel=\"Suma de vacunados\" ) \n"
      ],
      "execution_count": 114,
      "outputs": [
        {
          "output_type": "execute_result",
          "data": {
            "text/plain": [
              "<matplotlib.axes._subplots.AxesSubplot at 0x7f5bd9d784d0>"
            ]
          },
          "metadata": {},
          "execution_count": 114
        },
        {
          "output_type": "display_data",
          "data": {
            "image/png": "[encoded data removed]",
            "text/plain": [
              "<Figure size 432x288 with 1 Axes>"
            ]
          },
          "metadata": {
            "needs_background": "light"
          }
        }
      ]
    },
    {
      "cell_type": "markdown",
      "metadata": {
        "id": "S6eeIgWSD2OT"
      },
      "source": [
        "Estados Unidos es el páis que más personas vacunadas tiene una suma mayor a los de 41,524 (millones de personas) seguido de Alemania con 7,657 (millones de personas) aproximadamente."
      ]
    },
    {
      "cell_type": "code",
      "metadata": {
        "colab": {
          "base_uri": "https://localhost:8080/",
          "height": 371
        },
        "id": "AnPaoBGBE5s2",
        "outputId": "12354848-91e2-466e-95a8-25f35652666f"
      },
      "source": [
        "pais_sum_orden.tail()['total_vaccinations'].plot(kind='bar',title='Personas vacunadas por País', \n",
        "                                   xlabel=\"Países\", ylabel=\"Suma de vacunados\" )"
      ],
      "execution_count": 115,
      "outputs": [
        {
          "output_type": "execute_result",
          "data": {
            "text/plain": [
              "<matplotlib.axes._subplots.AxesSubplot at 0x7f5bd9d02410>"
            ]
          },
          "metadata": {},
          "execution_count": 115
        },
        {
          "output_type": "display_data",
          "data": {
            "image/png": "[encoded data removed]",
            "text/plain": [
              "<Figure size 432x288 with 1 Axes>"
            ]
          },
          "metadata": {
            "needs_background": "light"
          }
        }
      ]
    },
    {
      "cell_type": "markdown",
      "metadata": {
        "id": "GM1gsJmxFFVs"
      },
      "source": [
        "Los países que menos personas han vacunado son Luxembourg por encima de 7 millones de personas y Liechtenstein por debajo de las quinientas mil personas con valor de 451823 vacunas."
      ]
    },
    {
      "cell_type": "markdown",
      "metadata": {
        "id": "5BrkH0sqFoGs"
      },
      "source": [
        "## Suma de aplicaciones de vacunas por fabricante\n",
        "\n",
        "4. ¿Cuántas vacunas se han aplicado por fabricante?, sumar (total_vaccinations) las vacunas agrupadas por fabricante"
      ]
    },
    {
      "cell_type": "code",
      "metadata": {
        "id": "TSS_bQZ3IDBj"
      },
      "source": [
        ""
      ],
      "execution_count": 115,
      "outputs": []
    },
    {
      "cell_type": "code",
      "metadata": {
        "colab": {
          "base_uri": "https://localhost:8080/"
        },
        "id": "5gNy7Q63Gq9F",
        "outputId": "364bead5-9852-43ee-9a7c-4b5d6582438a"
      },
      "source": [
        "fabr_sum= covid.groupby(['vaccine']).sum('total_vaccinations') \n",
        "print(fabr_sum)"
      ],
      "execution_count": 116,
      "outputs": [
        {
          "output_type": "stream",
          "name": "stdout",
          "text": [
            "                    total_vaccinations\n",
            "vaccine                               \n",
            "CanSino                       22498727\n",
            "Johnson&Johnson             1748108075\n",
            "Moderna                    20286391475\n",
            "Oxford/AstraZeneca          3631156763\n",
            "Pfizer/BioNTech            44569701150\n",
            "Sinopharm/Beijing             34668398\n",
            "Sinovac                     2572589889\n",
            "Sputnik V                     29611165\n"
          ]
        }
      ]
    },
    {
      "cell_type": "markdown",
      "metadata": {
        "id": "NScslrz9HJke"
      },
      "source": [
        "## Visualización de datos\n",
        "\n"
      ]
    },
    {
      "cell_type": "code",
      "metadata": {
        "colab": {
          "base_uri": "https://localhost:8080/",
          "height": 403
        },
        "id": "54dqKfbiHNE7",
        "outputId": "d4b291ea-a4a5-4ea7-f70f-b317d8cafdce"
      },
      "source": [
        "fabr_sum['total_vaccinations'].plot(kind='bar',title='Personas vacunadas por Fabricante', \n",
        "                                   xlabel=\"Fabricantes\", ylabel=\"Suma de vacunados\" ) "
      ],
      "execution_count": 117,
      "outputs": [
        {
          "output_type": "execute_result",
          "data": {
            "text/plain": [
              "<matplotlib.axes._subplots.AxesSubplot at 0x7f5bd9c7d9d0>"
            ]
          },
          "metadata": {},
          "execution_count": 117
        },
        {
          "output_type": "display_data",
          "data": {
            "image/png": "[encoded data removed]",
            "text/plain": [
              "<Figure size 432x288 with 1 Axes>"
            ]
          },
          "metadata": {
            "needs_background": "light"
          }
        }
      ]
    },
    {
      "cell_type": "markdown",
      "metadata": {
        "id": "VbgfzaOlHYkc"
      },
      "source": [
        "La vacuna del fabricante Pfizer/BioNTech es la vacuna que más se ha aplicado a nivel mundial con una suma de 44,569,701,150 (por encima de los 44,569 millones de aplicaciones)."
      ]
    },
    {
      "cell_type": "markdown",
      "metadata": {
        "id": "zgvGmSIoILmF"
      },
      "source": [
        "## Suma de aplicaciones por meses\n",
        "\n",
        "Se agrupan los datos por meses sumando la variable .\n",
        "\n",
        "Antes de utilizar funciones de fecha se identifica el tipo de datos date siendo este una serie de valores de tipo fecha o date.\n",
        "\n",
        "Luego convertir a tipo datetime la variable date del data frame covid para poder utilizar funciones de agregados con fechas."
      ]
    },
    {
      "cell_type": "code",
      "metadata": {
        "colab": {
          "base_uri": "https://localhost:8080/"
        },
        "id": "dVm5Bm41IT9c",
        "outputId": "259097d8-f7fa-436d-d8f9-8af045a5eaac"
      },
      "source": [
        "import datetime as dt\n",
        "\n",
        "print(type(covid['date']))\n",
        "\n",
        "# df['date'] = pd.to_datetime(date)\n",
        "covid['date'] = pd.to_datetime(covid['date'])\n",
        "\n",
        "\n"
      ],
      "execution_count": 118,
      "outputs": [
        {
          "output_type": "stream",
          "name": "stdout",
          "text": [
            "<class 'pandas.core.series.Series'>\n"
          ]
        }
      ]
    },
    {
      "cell_type": "markdown",
      "metadata": {
        "id": "fU247IexVUCV"
      },
      "source": [
        "Agrupar por fecha\n",
        "\n"
      ]
    },
    {
      "cell_type": "code",
      "metadata": {
        "colab": {
          "base_uri": "https://localhost:8080/"
        },
        "id": "e_Wzr09PVV9v",
        "outputId": "7d26ca9f-d5d9-4f79-c1e4-73b83a1eb470"
      },
      "source": [
        "\n",
        "mes_sum = covid.groupby(covid['date'].dt.month).sum('total_vaccinations')\n",
        "print(mes_sum)\n"
      ],
      "execution_count": 119,
      "outputs": [
        {
          "output_type": "stream",
          "name": "stdout",
          "text": [
            "      total_vaccinations\n",
            "date                    \n",
            "1              452121623\n",
            "2             1883457386\n",
            "3             4765802019\n",
            "4             8608005615\n",
            "5            12963339621\n",
            "6            17070467058\n",
            "7            21745775771\n",
            "8             5404963283\n",
            "12                793266\n"
          ]
        }
      ]
    },
    {
      "cell_type": "markdown",
      "metadata": {
        "id": "KH_Hmot6Xib7"
      },
      "source": [
        "## Visualización de datos"
      ]
    },
    {
      "cell_type": "code",
      "metadata": {
        "id": "XsI6kb_tXngn"
      },
      "source": [
        ""
      ],
      "execution_count": 119,
      "outputs": []
    },
    {
      "cell_type": "markdown",
      "metadata": {
        "id": "ukHYfAkzSxkQ"
      },
      "source": [
        "El mes que más vacunas se han aplicado a nivel mundial es mes de Julio (mes 7) con una suma exacta de 21,745,775,771 dosis aplicadas aproximadamente mas de 21,000 millones de aplicaciones."
      ]
    },
    {
      "cell_type": "code",
      "metadata": {
        "colab": {
          "base_uri": "https://localhost:8080/",
          "height": 315
        },
        "id": "UrvOlQhkYDwW",
        "outputId": "59b48c5f-78dd-415b-b304-5a94fd5c557f"
      },
      "source": [
        "mes_sum['total_vaccinations'].plot(kind='bar',title='Vacunaciones por mes', \n",
        "                                   xlabel=\"Meses\", ylabel=\"Suma de vacunados\" )"
      ],
      "execution_count": 120,
      "outputs": [
        {
          "output_type": "execute_result",
          "data": {
            "text/plain": [
              "<matplotlib.axes._subplots.AxesSubplot at 0x7f5bd9bfd290>"
            ]
          },
          "metadata": {},
          "execution_count": 120
        },
        {
          "output_type": "display_data",
          "data": {
            "image/png": "[encoded data removed]",
            "text/plain": [
              "<Figure size 432x288 with 1 Axes>"
            ]
          },
          "metadata": {
            "needs_background": "light"
          }
        }
      ]
    }
  ]
}