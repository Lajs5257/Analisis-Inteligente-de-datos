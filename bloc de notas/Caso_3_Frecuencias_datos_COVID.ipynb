{
  "nbformat": 4,
  "nbformat_minor": 0,
  "metadata": {
    "colab": {
      "name": "Caso 3. Frecuencias datos COVID.ipynb",
      "provenance": [],
      "collapsed_sections": [],
      "authorship_tag": "ABX9TyP8hXOIWHfHDE8DuJJ3svPm",
      "include_colab_link": true
    },
    "kernelspec": {
      "name": "python3",
      "display_name": "Python 3"
    },
    "language_info": {
      "name": "python"
    }
  },
  "cells": [
    {
      "cell_type": "markdown",
      "metadata": {
        "id": "view-in-github",
        "colab_type": "text"
      },
      "source": [
        "<a href=\"https://colab.research.google.com/github/rpizarrog/Analisis-Inteligente-de-datos/blob/main/bloc%20de%20notas/Caso_3_Frecuencias_datos_COVID.ipynb\" target=\"_parent\"><img src=\"https://colab.research.google.com/assets/colab-badge.svg\" alt=\"Open In Colab\"/></a>"
      ]
    },
    {
      "cell_type": "code",
      "metadata": {
        "id": "ro-Ux475hnXX"
      },
      "source": [
        ""
      ],
      "execution_count": null,
      "outputs": []
    },
    {
      "cell_type": "markdown",
      "metadata": {
        "id": "n_xNLD7Phos4"
      },
      "source": [
        "# Caso 3. Análisis descriptivo de datos de aplicaciones de vacunas y fabricantes COVID\n",
        "\n",
        "# Objetivo\n",
        "\n",
        "Realizar un análisis descriptivo de frecuencias sobre los datos de aplicaciones de vacunas en distintos países  y fabricantes de las mismas de COVID.\n",
        "\n",
        "# Descripción\n",
        "\n",
        "Cargar los datos de COVID de la URL: (https://raw.githubusercontent.com/rpizarrog/Analisis-Inteligente-de-datos/main/datos/country%20vaccinations%20by%20manufacturer.csv). Fuente: [kaggle.com](https://kaggle.com)\n",
        "\n",
        "# Desarrollo\n",
        "\n",
        "\n",
        "\n"
      ]
    },
    {
      "cell_type": "markdown",
      "metadata": {
        "id": "f9JFsak-iXm7"
      },
      "source": [
        "## Cargar datos\n",
        "\n"
      ]
    },
    {
      "cell_type": "code",
      "metadata": {
        "colab": {
          "base_uri": "https://localhost:8080/",
          "height": 423
        },
        "id": "R-fF1gOciZty",
        "outputId": "81ba1e6b-8ffa-4bde-dd3e-e61e05849d87"
      },
      "source": [
        "import pandas as pd\n",
        "\n",
        "url = \"https://raw.githubusercontent.com/rpizarrog/Analisis-Inteligente-de-datos/main/datos/country%20vaccinations%20by%20manufacturer.csv\"\n",
        "covid = pd.read_csv(url)\n",
        "\n",
        "covid"
      ],
      "execution_count": 3,
      "outputs": [
        {
          "output_type": "execute_result",
          "data": {
            "text/html": [
              "<div>\n",
              "<style scoped>\n",
              "    .dataframe tbody tr th:only-of-type {\n",
              "        vertical-align: middle;\n",
              "    }\n",
              "\n",
              "    .dataframe tbody tr th {\n",
              "        vertical-align: top;\n",
              "    }\n",
              "\n",
              "    .dataframe thead th {\n",
              "        text-align: right;\n",
              "    }\n",
              "</style>\n",
              "<table border=\"1\" class=\"dataframe\">\n",
              "  <thead>\n",
              "    <tr style=\"text-align: right;\">\n",
              "      <th></th>\n",
              "      <th>location</th>\n",
              "      <th>date</th>\n",
              "      <th>vaccine</th>\n",
              "      <th>total_vaccinations</th>\n",
              "    </tr>\n",
              "  </thead>\n",
              "  <tbody>\n",
              "    <tr>\n",
              "      <th>0</th>\n",
              "      <td>Austria</td>\n",
              "      <td>2021-01-08</td>\n",
              "      <td>Johnson&amp;Johnson</td>\n",
              "      <td>0</td>\n",
              "    </tr>\n",
              "    <tr>\n",
              "      <th>1</th>\n",
              "      <td>Austria</td>\n",
              "      <td>2021-01-08</td>\n",
              "      <td>Moderna</td>\n",
              "      <td>0</td>\n",
              "    </tr>\n",
              "    <tr>\n",
              "      <th>2</th>\n",
              "      <td>Austria</td>\n",
              "      <td>2021-01-08</td>\n",
              "      <td>Oxford/AstraZeneca</td>\n",
              "      <td>0</td>\n",
              "    </tr>\n",
              "    <tr>\n",
              "      <th>3</th>\n",
              "      <td>Austria</td>\n",
              "      <td>2021-01-08</td>\n",
              "      <td>Pfizer/BioNTech</td>\n",
              "      <td>31020</td>\n",
              "    </tr>\n",
              "    <tr>\n",
              "      <th>4</th>\n",
              "      <td>Austria</td>\n",
              "      <td>2021-01-15</td>\n",
              "      <td>Johnson&amp;Johnson</td>\n",
              "      <td>0</td>\n",
              "    </tr>\n",
              "    <tr>\n",
              "      <th>...</th>\n",
              "      <td>...</td>\n",
              "      <td>...</td>\n",
              "      <td>...</td>\n",
              "      <td>...</td>\n",
              "    </tr>\n",
              "    <tr>\n",
              "      <th>10960</th>\n",
              "      <td>Uruguay</td>\n",
              "      <td>2021-08-07</td>\n",
              "      <td>Pfizer/BioNTech</td>\n",
              "      <td>1562360</td>\n",
              "    </tr>\n",
              "    <tr>\n",
              "      <th>10961</th>\n",
              "      <td>Uruguay</td>\n",
              "      <td>2021-08-07</td>\n",
              "      <td>Sinovac</td>\n",
              "      <td>3234519</td>\n",
              "    </tr>\n",
              "    <tr>\n",
              "      <th>10962</th>\n",
              "      <td>Uruguay</td>\n",
              "      <td>2021-08-08</td>\n",
              "      <td>Oxford/AstraZeneca</td>\n",
              "      <td>84121</td>\n",
              "    </tr>\n",
              "    <tr>\n",
              "      <th>10963</th>\n",
              "      <td>Uruguay</td>\n",
              "      <td>2021-08-08</td>\n",
              "      <td>Pfizer/BioNTech</td>\n",
              "      <td>1562430</td>\n",
              "    </tr>\n",
              "    <tr>\n",
              "      <th>10964</th>\n",
              "      <td>Uruguay</td>\n",
              "      <td>2021-08-08</td>\n",
              "      <td>Sinovac</td>\n",
              "      <td>3234526</td>\n",
              "    </tr>\n",
              "  </tbody>\n",
              "</table>\n",
              "<p>10965 rows × 4 columns</p>\n",
              "</div>"
            ],
            "text/plain": [
              "      location        date             vaccine  total_vaccinations\n",
              "0      Austria  2021-01-08     Johnson&Johnson                   0\n",
              "1      Austria  2021-01-08             Moderna                   0\n",
              "2      Austria  2021-01-08  Oxford/AstraZeneca                   0\n",
              "3      Austria  2021-01-08     Pfizer/BioNTech               31020\n",
              "4      Austria  2021-01-15     Johnson&Johnson                   0\n",
              "...        ...         ...                 ...                 ...\n",
              "10960  Uruguay  2021-08-07     Pfizer/BioNTech             1562360\n",
              "10961  Uruguay  2021-08-07             Sinovac             3234519\n",
              "10962  Uruguay  2021-08-08  Oxford/AstraZeneca               84121\n",
              "10963  Uruguay  2021-08-08     Pfizer/BioNTech             1562430\n",
              "10964  Uruguay  2021-08-08             Sinovac             3234526\n",
              "\n",
              "[10965 rows x 4 columns]"
            ]
          },
          "metadata": {},
          "execution_count": 3
        }
      ]
    },
    {
      "cell_type": "markdown",
      "metadata": {
        "id": "F49CeHm9jCw4"
      },
      "source": [
        "### Variables\n",
        "* location. Significa el pais en donde se aplica la vacuna\n",
        "* date. La fecha en que se aplica en formato \"YYYY-MM-DD\"\n",
        "* vaccine. Singiica el fabricant de la vacuna\n",
        "total_vaccinations La cantidad de cacunas que se aplicaron en esa fecha en ese paíes de ese fabricante\n",
        "\n"
      ]
    },
    {
      "cell_type": "markdown",
      "metadata": {
        "id": "75Y0D_PDkUz4"
      },
      "source": [
        "## Frecuencia de aplicaciones por país\n",
        "\n",
        "¿Cuál país ha tenido mas aplicaciones a lo largo del \n",
        "tiempo?, contar  count() los registros, ¿Será USA?\n",
        "\n",
        "Urilizar la función groupby contando por el tipo de variable de interés location.\n"
      ]
    },
    {
      "cell_type": "code",
      "metadata": {
        "colab": {
          "base_uri": "https://localhost:8080/"
        },
        "id": "5kGWXUtjlKfQ",
        "outputId": "5f8faf27-ae1a-4e37-ccc4-038c535cd573"
      },
      "source": [
        "from numpy.ma.core import sort\n",
        "frec_pais= covid.groupby(['location']).count() \n",
        "print(frec_pais)\n",
        "\n"
      ],
      "execution_count": 11,
      "outputs": [
        {
          "output_type": "stream",
          "name": "stdout",
          "text": [
            "               date  vaccine  total_vaccinations\n",
            "location                                        \n",
            "Austria         124      124                 124\n",
            "Belgium         104      104                 104\n",
            "Bulgaria        107      107                 107\n",
            "Chile           565      565                 565\n",
            "Croatia         116      116                 116\n",
            "Cyprus          100      100                 100\n",
            "Czechia         744      744                 744\n",
            "Denmark          95       95                  95\n",
            "Estonia         105      105                 105\n",
            "Finland         127      127                 127\n",
            "France          712      712                 712\n",
            "Germany         900      900                 900\n",
            "Hong Kong       336      336                 336\n",
            "Hungary         158      158                 158\n",
            "Iceland         884      884                 884\n",
            "Ireland         113      113                 113\n",
            "Italy           746      746                 746\n",
            "Japan           225      225                 225\n",
            "Latvia          749      749                 749\n",
            "Liechtenstein    52       52                  52\n",
            "Lithuania       731      731                 731\n",
            "Luxembourg      106      106                 106\n",
            "Malta            91       91                  91\n",
            "Netherlands     128      128                 128\n",
            "Poland          128      128                 128\n",
            "Portugal        122      122                 122\n",
            "Romania         669      669                 669\n",
            "Slovakia        118      118                 118\n",
            "Slovenia         98       98                  98\n",
            "Spain           124      124                 124\n",
            "Sweden           89       89                  89\n",
            "Switzerland     454      454                 454\n",
            "United States   556      556                 556\n",
            "Uruguay         489      489                 489\n"
          ]
        }
      ]
    },
    {
      "cell_type": "markdown",
      "metadata": {
        "id": "IPKQrlVQoMrh"
      },
      "source": [
        "### Ordenando datos"
      ]
    },
    {
      "cell_type": "code",
      "metadata": {
        "colab": {
          "base_uri": "https://localhost:8080/"
        },
        "id": "KjJNGG6roR9S",
        "outputId": "b41a78f2-110b-4cda-fb4d-fd26ea30978f"
      },
      "source": [
        "frc_pais_orden = frec_pais.sort_values('total_vaccinations', ascending = False)\n",
        "print(frc_pais_orden)"
      ],
      "execution_count": 10,
      "outputs": [
        {
          "output_type": "stream",
          "name": "stdout",
          "text": [
            "               date  vaccine  total_vaccinations\n",
            "location                                        \n",
            "Germany         900      900                 900\n",
            "Iceland         884      884                 884\n",
            "Latvia          749      749                 749\n",
            "Italy           746      746                 746\n",
            "Czechia         744      744                 744\n",
            "Lithuania       731      731                 731\n",
            "France          712      712                 712\n",
            "Romania         669      669                 669\n",
            "Chile           565      565                 565\n",
            "United States   556      556                 556\n",
            "Uruguay         489      489                 489\n",
            "Switzerland     454      454                 454\n",
            "Hong Kong       336      336                 336\n",
            "Japan           225      225                 225\n",
            "Hungary         158      158                 158\n",
            "Netherlands     128      128                 128\n",
            "Poland          128      128                 128\n",
            "Finland         127      127                 127\n",
            "Austria         124      124                 124\n",
            "Spain           124      124                 124\n",
            "Portugal        122      122                 122\n",
            "Slovakia        118      118                 118\n",
            "Croatia         116      116                 116\n",
            "Ireland         113      113                 113\n",
            "Bulgaria        107      107                 107\n",
            "Luxembourg      106      106                 106\n",
            "Estonia         105      105                 105\n",
            "Belgium         104      104                 104\n",
            "Cyprus          100      100                 100\n",
            "Slovenia         98       98                  98\n",
            "Denmark          95       95                  95\n",
            "Malta            91       91                  91\n",
            "Sweden           89       89                  89\n",
            "Liechtenstein    52       52                  52\n"
          ]
        }
      ]
    },
    {
      "cell_type": "markdown",
      "metadata": {
        "id": "0J4ybi5Um9lK"
      },
      "source": [
        "Alemania ha aplicado en mas ocasiones en fechas diferentes vacunas con con un total de 900 aplicaciones eguinda de islandia con 884; por el contrario países que menos aplicaciones tiene son Sweden con 89 y Liechtenstein con 52 aplicaoines en fechas distintas."
      ]
    },
    {
      "cell_type": "markdown",
      "metadata": {
        "id": "9Frl8XI1oxHS"
      },
      "source": [
        "## Visualizando frecuencias\n",
        "\n"
      ]
    },
    {
      "cell_type": "code",
      "metadata": {
        "colab": {
          "base_uri": "https://localhost:8080/",
          "height": 371
        },
        "id": "x6TJJlUwpGaS",
        "outputId": "68c8eee2-5280-41e5-d4e9-97bf3bdbb6e5"
      },
      "source": [
        "# plot = covid['total_vaccinations'].value_counts().plot(kind='bar',\n",
        "#                               title='Frecuencia de aplicaciones')\n",
        "\n",
        "frc_pais_orden['date'].plot(kind='bar',title='Frecuencia de aplicaciones')  \n",
        "\n"
      ],
      "execution_count": 23,
      "outputs": [
        {
          "output_type": "execute_result",
          "data": {
            "text/plain": [
              "<matplotlib.axes._subplots.AxesSubplot at 0x7f658f75d890>"
            ]
          },
          "metadata": {},
          "execution_count": 23
        },
        {
          "output_type": "display_data",
          "data": {
            "image/png": "[encoded data removed]",
            "text/plain": [
              "<Figure size 432x288 with 1 Axes>"
            ]
          },
          "metadata": {
            "needs_background": "light"
          }
        }
      ]
    }
  ]
}