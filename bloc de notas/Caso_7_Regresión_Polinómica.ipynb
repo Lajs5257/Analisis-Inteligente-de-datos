{
  "nbformat": 4,
  "nbformat_minor": 0,
  "metadata": {
    "colab": {
      "name": "Caso 7. Regresión Polinómica.ipynb",
      "provenance": [],
      "collapsed_sections": [],
      "authorship_tag": "ABX9TyPlp03uQNT1RruAYtivpuOZ",
      "include_colab_link": true
    },
    "kernelspec": {
      "name": "python3",
      "display_name": "Python 3"
    },
    "language_info": {
      "name": "python"
    }
  },
  "cells": [
    {
      "cell_type": "markdown",
      "metadata": {
        "id": "view-in-github",
        "colab_type": "text"
      },
      "source": [
        "<a href=\"https://colab.research.google.com/github/rpizarrog/Analisis-Inteligente-de-datos/blob/main/bloc%20de%20notas/Caso_7_Regresi%C3%B3n_Polin%C3%B3mica.ipynb\" target=\"_parent\"><img src=\"https://colab.research.google.com/assets/colab-badge.svg\" alt=\"Open In Colab\"/></a>"
      ]
    },
    {
      "cell_type": "markdown",
      "metadata": {
        "id": "xFRp8ASaPQWF"
      },
      "source": [
        "# CASO 7. Regresión Polnómica\n",
        "Rubén Pizarro Gurrola\n",
        "04-Oct-2021"
      ]
    },
    {
      "cell_type": "code",
      "metadata": {
        "id": "_aRwsWuFPPw2"
      },
      "source": [
        ""
      ],
      "execution_count": 223,
      "outputs": []
    },
    {
      "cell_type": "markdown",
      "metadata": {
        "id": "0TjxqenwPbPE"
      },
      "source": [
        "# Objetivo\n",
        "\n",
        "Desarrollar predicciones y evaluación de modelos de regresión polinómica coparado con modelos de regresión simple."
      ]
    },
    {
      "cell_type": "markdown",
      "metadata": {
        "id": "SPGYpEHRPzk0"
      },
      "source": [
        "# Descripción\n",
        "\n",
        "Se elabora un modelo de regresión lineal simple y se comparar con un modelo de regresión polinómica conforme y de acuerdo al valor R square o Coeficiente de Determinación. \n",
        "\n",
        "Los datos se obtienen https://www.kaggle.com/akram24/position-salaries\n",
        "\n",
        "La fuente original del ejemplo se encuentra en https://www.ellaberintodefalken.com/2019/12/regresion-polinomica-polinomial.html\n",
        "\n",
        "\n"
      ]
    },
    {
      "cell_type": "markdown",
      "metadata": {
        "id": "tfzyb1eRP0-8"
      },
      "source": [
        "# Marco teórico\n",
        "\n",
        "Los modelos lineales tienen la ventaja de ser fácilmente interpretables, sin embargo, pueden tener limitaciones importantes en capacidad predictiva. Esto se debe a que, la asunción de linealidad, es con frecuencia una aproximación demasiado simple para describir las relaciones reales entre variables. A continuación, se describen métodos que permiten relajar la condición de linealidad intentando mantener al mismo tiempo una interpretabilidad alta.\n",
        "\n",
        "La forma más sencilla de incorporar flexibilidad a un modelo lineal es introduciendo nuevos predictores obtenidos al elevar a distintas potencias el predictor original.\n",
        "\n",
        "Partiendo del modelo lineal: \n",
        "$$ y = β0 + β1xi + ϵi$$\n",
        "\n",
        "Ahora se rpetende una ecuacuón polinomial\n",
        "$$\n",
        "y = β0 + β1{x_i} +β2{x_i}^2+β3{x_i}^3...+βn{x_i}^n+ϵi\n",
        "$$\n",
        "\n",
        "\n",
        "\n"
      ]
    },
    {
      "cell_type": "markdown",
      "metadata": {
        "id": "M5g9dtIfSbhN"
      },
      "source": [
        "# Desarrollo \n",
        "## Cargar los datos\n",
        "\n"
      ]
    },
    {
      "cell_type": "code",
      "metadata": {
        "id": "xGw12hbhSfTs",
        "colab": {
          "base_uri": "https://localhost:8080/"
        },
        "outputId": "1b32c981-30cf-4049-91a6-091626a0a7c5"
      },
      "source": [
        "import pandas as pd\n",
        " \n",
        "datos = pd.read_csv('https://raw.githubusercontent.com/rpizarrog/Analisis-Inteligente-de-datos/main/datos/Position_Salaries.csv')\n",
        "print (datos)"
      ],
      "execution_count": 224,
      "outputs": [
        {
          "output_type": "stream",
          "name": "stdout",
          "text": [
            "            Position  Level   Salary\n",
            "0   Business Analyst      1    45000\n",
            "1  Junior Consultant      2    50000\n",
            "2  Senior Consultant      3    60000\n",
            "3            Manager      4    80000\n",
            "4    Country Manager      5   110000\n",
            "5     Region Manager      6   150000\n",
            "6            Partner      7   200000\n",
            "7     Senior Partner      8   300000\n",
            "8            C-level      9   500000\n",
            "9                CEO     10  1000000\n"
          ]
        }
      ]
    },
    {
      "cell_type": "code",
      "metadata": {
        "id": "JkxnrtQhk_zG"
      },
      "source": [
        ""
      ],
      "execution_count": 224,
      "outputs": []
    },
    {
      "cell_type": "markdown",
      "metadata": {
        "id": "KuQtuwvIeZ93"
      },
      "source": [
        "## Crear el modelo de regresión lineal\n",
        "\n"
      ]
    },
    {
      "cell_type": "code",
      "metadata": {
        "colab": {
          "base_uri": "https://localhost:8080/"
        },
        "id": "6OUGOuEreeWk",
        "outputId": "388b7976-62e1-4768-9fc5-15d8a1a0d5d7"
      },
      "source": [
        "\n",
        "from matplotlib import pyplot as plt\n",
        " \n",
        "# Conertirlo a arreglos independiente \n",
        "x = datos['Level'].values.reshape(-1, 1) # Variable independiente\n",
        "y = datos['Salary'].values.reshape(-1, 1) # Variable dependiente\n",
        "\n",
        "print(x)"
      ],
      "execution_count": 225,
      "outputs": [
        {
          "output_type": "stream",
          "name": "stdout",
          "text": [
            "[[ 1]\n",
            " [ 2]\n",
            " [ 3]\n",
            " [ 4]\n",
            " [ 5]\n",
            " [ 6]\n",
            " [ 7]\n",
            " [ 8]\n",
            " [ 9]\n",
            " [10]]\n"
          ]
        }
      ]
    },
    {
      "cell_type": "code",
      "metadata": {
        "colab": {
          "base_uri": "https://localhost:8080/"
        },
        "id": "dza5Pl5pep4k",
        "outputId": "fcb4686d-4edb-40da-d484-db26f77ad687"
      },
      "source": [
        "print(y)"
      ],
      "execution_count": 226,
      "outputs": [
        {
          "output_type": "stream",
          "name": "stdout",
          "text": [
            "[[  45000]\n",
            " [  50000]\n",
            " [  60000]\n",
            " [  80000]\n",
            " [ 110000]\n",
            " [ 150000]\n",
            " [ 200000]\n",
            " [ 300000]\n",
            " [ 500000]\n",
            " [1000000]]\n"
          ]
        }
      ]
    },
    {
      "cell_type": "markdown",
      "metadata": {
        "id": "q8uStizreyX0"
      },
      "source": [
        "### Visualizar datos\n",
        "Se construye la gráfica de dispersión con los datos\n"
      ]
    },
    {
      "cell_type": "code",
      "metadata": {
        "colab": {
          "base_uri": "https://localhost:8080/",
          "height": 293
        },
        "id": "9x4Uygooe008",
        "outputId": "fad8843a-d142-44d7-f599-a261daa937c7"
      },
      "source": [
        "plt.scatter(x,y)"
      ],
      "execution_count": 227,
      "outputs": [
        {
          "output_type": "execute_result",
          "data": {
            "text/plain": [
              "<matplotlib.collections.PathCollection at 0x7f264dd0a650>"
            ]
          },
          "metadata": {},
          "execution_count": 227
        },
        {
          "output_type": "display_data",
          "data": {
            "image/png": "[encoded data removed]",
            "text/plain": [
              "<Figure size 432x288 with 1 Axes>"
            ]
          },
          "metadata": {
            "needs_background": "light"
          }
        }
      ]
    },
    {
      "cell_type": "markdown",
      "metadata": {
        "id": "UYBYFMXfe9l1"
      },
      "source": [
        "### Crear modelo de regresión lineal simple\n"
      ]
    },
    {
      "cell_type": "code",
      "metadata": {
        "colab": {
          "base_uri": "https://localhost:8080/",
          "height": 276
        },
        "id": "i2WpPHVnfAM-",
        "outputId": "5fea6a68-8309-4afd-9b73-98d8c4d90a74"
      },
      "source": [
        "from sklearn.linear_model import LinearRegression\n",
        " \n",
        "modelo_lin = LinearRegression()\n",
        "modelo_lin.fit(x, y)\n",
        "y_pred = modelo_lin.predict(x)\n",
        " \n",
        "plt.scatter(x, y)\n",
        "plt.plot(x, y_pred, color='r')\n",
        "plt.show()"
      ],
      "execution_count": 228,
      "outputs": [
        {
          "output_type": "display_data",
          "data": {
            "image/png": "[encoded data removed]",
            "text/plain": [
              "<Figure size 432x288 with 1 Axes>"
            ]
          },
          "metadata": {
            "needs_background": "light"
          }
        }
      ]
    },
    {
      "cell_type": "markdown",
      "metadata": {
        "id": "6MYd_SHxfF-M"
      },
      "source": [
        "Se observa que una linea recta no es el mejor ajuste para el modelo, es decir, se puedier aencontrar un mejor modelo para estos datos en donde la eficiencia del mismo fuera mejor.\n",
        "\n",
        "Se evalúa el modleo con base en el valor e R Sqare o coeficiente de determinación.\n"
      ]
    },
    {
      "cell_type": "markdown",
      "metadata": {
        "id": "IVFgNm1dfQu1"
      },
      "source": [
        "### Evaluación del modelo con R Square"
      ]
    },
    {
      "cell_type": "code",
      "metadata": {
        "colab": {
          "base_uri": "https://localhost:8080/"
        },
        "id": "hQJW0kO7fT48",
        "outputId": "6e65219e-9b20-4179-8bf9-c017279ab567"
      },
      "source": [
        "import numpy as np\n",
        "from sklearn.metrics import mean_squared_error, r2_score\n",
        " \n",
        "rmse = np.sqrt(mean_squared_error(y,y_pred))\n",
        "r2 = r2_score(y,y_pred)\n",
        "print ('RMSE: ' + str(rmse))\n",
        "print ('R2: ' + str(r2))"
      ],
      "execution_count": 229,
      "outputs": [
        {
          "output_type": "stream",
          "name": "stdout",
          "text": [
            "RMSE: 163388.73519272613\n",
            "R2: 0.6690412331929895\n"
          ]
        }
      ]
    },
    {
      "cell_type": "markdown",
      "metadata": {
        "id": "_DzrBnyxnQY2"
      },
      "source": [
        "### Coeficientes en el modelo de regresión lineal simple\n"
      ]
    },
    {
      "cell_type": "code",
      "metadata": {
        "colab": {
          "base_uri": "https://localhost:8080/"
        },
        "id": "vk4VY-5LnUmG",
        "outputId": "475b360b-4480-453f-d2f3-6259b00e287b"
      },
      "source": [
        "b0 = modelo_lin.intercept_\n",
        "print (b0)"
      ],
      "execution_count": 230,
      "outputs": [
        {
          "output_type": "stream",
          "name": "stdout",
          "text": [
            "[-195333.33333333]\n"
          ]
        }
      ]
    },
    {
      "cell_type": "code",
      "metadata": {
        "colab": {
          "base_uri": "https://localhost:8080/"
        },
        "id": "lVoX9Uw4n76t",
        "outputId": "ee817a82-2cce-41f7-e2d2-424b87443aeb"
      },
      "source": [
        "b1 = modelo_lin.coef_\n",
        "print(b1)"
      ],
      "execution_count": 231,
      "outputs": [
        {
          "output_type": "stream",
          "name": "stdout",
          "text": [
            "[[80878.78787879]]\n"
          ]
        }
      ]
    },
    {
      "cell_type": "markdown",
      "metadata": {
        "id": "7yV4y3ZMoCp8"
      },
      "source": [
        "$$ y = b0 + b1x_i$$\n",
        "$$ y.prediccion = -195333.3333333 + 80878.78787879 \\times level$$\n",
        "\n"
      ]
    },
    {
      "cell_type": "markdown",
      "metadata": {
        "id": "GLMrI9PIoZpd"
      },
      "source": [
        "###  Predecir un valor de 5 confome a fórmula\n"
      ]
    },
    {
      "cell_type": "code",
      "metadata": {
        "colab": {
          "base_uri": "https://localhost:8080/"
        },
        "id": "qCvA6AhooePm",
        "outputId": "062d342c-53de-47ee-975f-ef8b6fbd490f"
      },
      "source": [
        "\n",
        "prediccion = -195333.333333 + 80878.78787879 * 5\n",
        "\n",
        "print(prediccion)"
      ],
      "execution_count": 232,
      "outputs": [
        {
          "output_type": "stream",
          "name": "stdout",
          "text": [
            "209060.60606095\n"
          ]
        }
      ]
    },
    {
      "cell_type": "markdown",
      "metadata": {
        "id": "yyqI4Ui-skft"
      },
      "source": [
        "### Predecir un valor de 5 conforme a la función predict()"
      ]
    },
    {
      "cell_type": "code",
      "metadata": {
        "colab": {
          "base_uri": "https://localhost:8080/"
        },
        "id": "0Fv0V247sq6N",
        "outputId": "fbe07f9e-eb4f-4904-bbcd-68af834758d5"
      },
      "source": [
        "pred = modelo_lin.predict([[5]])\n",
        "print(pred)"
      ],
      "execution_count": 233,
      "outputs": [
        {
          "output_type": "stream",
          "name": "stdout",
          "text": [
            "[[209060.60606061]]\n"
          ]
        }
      ]
    },
    {
      "cell_type": "markdown",
      "metadata": {
        "id": "J3Imr1yfkDqt"
      },
      "source": [
        "## Modelo de regresión polinómica al cuadrado\n",
        "\n"
      ]
    },
    {
      "cell_type": "markdown",
      "metadata": {
        "id": "IriItbbGfWME"
      },
      "source": [
        "De acuerdo al modelo de regresión lineal simple la variable independiente *Level* representa ek 66.90% la variable dependiente *Salary*"
      ]
    },
    {
      "cell_type": "code",
      "metadata": {
        "colab": {
          "base_uri": "https://localhost:8080/"
        },
        "id": "wD95GQHPlBO1",
        "outputId": "a7ef288d-a329-4a98-d364-b2be6ae99ce8"
      },
      "source": [
        "from sklearn.preprocessing import PolynomialFeatures\n",
        " \n",
        "polyn = PolynomialFeatures(degree=2)\n",
        "\n",
        "x_poly = polyn.fit_transform(x)\n",
        "print(x)\n",
        "print(x_poly)"
      ],
      "execution_count": 234,
      "outputs": [
        {
          "output_type": "stream",
          "name": "stdout",
          "text": [
            "[[ 1]\n",
            " [ 2]\n",
            " [ 3]\n",
            " [ 4]\n",
            " [ 5]\n",
            " [ 6]\n",
            " [ 7]\n",
            " [ 8]\n",
            " [ 9]\n",
            " [10]]\n",
            "[[  1.   1.   1.]\n",
            " [  1.   2.   4.]\n",
            " [  1.   3.   9.]\n",
            " [  1.   4.  16.]\n",
            " [  1.   5.  25.]\n",
            " [  1.   6.  36.]\n",
            " [  1.   7.  49.]\n",
            " [  1.   8.  64.]\n",
            " [  1.   9.  81.]\n",
            " [  1.  10. 100.]]\n"
          ]
        }
      ]
    },
    {
      "cell_type": "markdown",
      "metadata": {
        "id": "uQj0r2kTlsAt"
      },
      "source": [
        "### Modelo polinómico ajustado al cuadrado\n",
        "\n"
      ]
    },
    {
      "cell_type": "code",
      "metadata": {
        "colab": {
          "base_uri": "https://localhost:8080/",
          "height": 311
        },
        "id": "Wdk4wHkalwJ0",
        "outputId": "e79683f4-21cc-474d-f3b9-21c7dea9fc8b"
      },
      "source": [
        "modelo_pol2 = LinearRegression()\n",
        "modelo_pol2.fit(x_poly, y)\n",
        "\n",
        "y_pred = modelo_pol2.predict(x_poly)\n",
        "\n",
        "\n",
        " \n",
        "plt.scatter(x, y)\n",
        "plt.plot(x, y_pred, color='r')\n",
        "plt.show()\n",
        " \n",
        "rmse = np.sqrt(mean_squared_error(y,y_pred))\n",
        "r2 = r2_score(y,y_pred)\n",
        "print ('RMSE: ' + str(rmse))\n",
        "print ('R2: ' + str(r2))"
      ],
      "execution_count": 235,
      "outputs": [
        {
          "output_type": "display_data",
          "data": {
            "image/png": "[encoded data removed]",
            "text/plain": [
              "<Figure size 432x288 with 1 Axes>"
            ]
          },
          "metadata": {
            "needs_background": "light"
          }
        },
        {
          "output_type": "stream",
          "name": "stdout",
          "text": [
            "RMSE: 82212.12400451249\n",
            "R2: 0.9162082221443942\n"
          ]
        }
      ]
    },
    {
      "cell_type": "markdown",
      "metadata": {
        "id": "C_o3wohCmA7c"
      },
      "source": [
        "El valor de R Square o coeficiente de determinación con un modelo de regresión polinómico a la segunda potencia es de 91.62% que significa que tanto representa la variable independiente **level** a la variable ependiente **salary** en el conjunto de datos.\n",
        "\n"
      ]
    },
    {
      "cell_type": "markdown",
      "metadata": {
        "id": "_NoaEc-kpZl-"
      },
      "source": [
        "### Coeficientes en el modelo de regresión polinómica al cuadrado\n",
        "\n",
        "\n",
        "\n"
      ]
    },
    {
      "cell_type": "code",
      "metadata": {
        "colab": {
          "base_uri": "https://localhost:8080/"
        },
        "id": "-hxR7UPSpiC1",
        "outputId": "216feea1-f1bc-463a-ee3f-e81d61b1f2aa"
      },
      "source": [
        "b0 = modelo_pol2.intercept_\n",
        "print(b0)"
      ],
      "execution_count": 236,
      "outputs": [
        {
          "output_type": "stream",
          "name": "stdout",
          "text": [
            "[232166.66666667]\n"
          ]
        }
      ]
    },
    {
      "cell_type": "code",
      "metadata": {
        "colab": {
          "base_uri": "https://localhost:8080/"
        },
        "id": "fEYiSeoYpxzt",
        "outputId": "45be874a-5c9c-4ed8-849a-af93bf4f68ea"
      },
      "source": [
        "b1 = modelo_pol2.coef_\n",
        "print(b1)"
      ],
      "execution_count": 237,
      "outputs": [
        {
          "output_type": "stream",
          "name": "stdout",
          "text": [
            "[[      0.         -132871.21212121   19431.81818182]]\n"
          ]
        }
      ]
    },
    {
      "cell_type": "markdown",
      "metadata": {
        "id": "PkqOdRagqWrf"
      },
      "source": [
        "$$\n",
        "y = β0 + β1{x_i} +β2{x_i}^2+β3{x_i}^3...+βn{x_i}^n+ϵi\n",
        "$$\n",
        "\n"
      ]
    },
    {
      "cell_type": "markdown",
      "metadata": {
        "id": "wc2zve9Pq7fE"
      },
      "source": [
        "### Predecir conforme a la fórmula\n",
        "\n",
        "Valor de level igual a 5 "
      ]
    },
    {
      "cell_type": "code",
      "metadata": {
        "colab": {
          "base_uri": "https://localhost:8080/"
        },
        "id": "QtRr70lNqw08",
        "outputId": "1eaa18b1-0877-4749-f2d6-88d306cb080c"
      },
      "source": [
        "prediccion = 232166.66666667 + (-132871.21212121 * 5) + (19431.81818182 * pow(5, 2))\n",
        "print(prediccion)"
      ],
      "execution_count": 238,
      "outputs": [
        {
          "output_type": "stream",
          "name": "stdout",
          "text": [
            "53606.06060611992\n"
          ]
        }
      ]
    },
    {
      "cell_type": "code",
      "metadata": {
        "colab": {
          "base_uri": "https://localhost:8080/"
        },
        "id": "9Coqh9JEt_F_",
        "outputId": "be75eb1a-593d-4484-ab15-c962dc53f445"
      },
      "source": [
        "pred = modelo_pol2.predict(polyn.fit_transform([[5]]))\n",
        "print(pred)"
      ],
      "execution_count": 239,
      "outputs": [
        {
          "output_type": "stream",
          "name": "stdout",
          "text": [
            "[[53606.06060606]]\n"
          ]
        }
      ]
    },
    {
      "cell_type": "markdown",
      "metadata": {
        "id": "wYwL2816qmbk"
      },
      "source": [
        "\n",
        "\n",
        "\n",
        "# Interpretación \n",
        "\n",
        "¿Cuál de los dos modelos tiene mejor ajuste?. Resp. El modelo polinómico para este conjunto de datos.\n",
        "\n",
        "¿Podrá haber otro modelo con mejor ajuste para este conjunto d edatos?. Probar con un modelo polinómico a la tercera potencia."
      ]
    },
    {
      "cell_type": "markdown",
      "metadata": {
        "id": "cRUHVALpFzto"
      },
      "source": [
        "## Modelo polinómico ajustado al cubo"
      ]
    },
    {
      "cell_type": "code",
      "metadata": {
        "colab": {
          "base_uri": "https://localhost:8080/"
        },
        "id": "dMGp1q2uF1ck",
        "outputId": "e029bdce-21cf-44b7-c9fc-3d0364b7769d"
      },
      "source": [
        "polyn3 = PolynomialFeatures(degree=3)\n",
        "\n",
        "x_poly3 = polyn3.fit_transform(x)\n",
        "print(x)\n",
        "print(x_poly3)"
      ],
      "execution_count": 240,
      "outputs": [
        {
          "output_type": "stream",
          "name": "stdout",
          "text": [
            "[[ 1]\n",
            " [ 2]\n",
            " [ 3]\n",
            " [ 4]\n",
            " [ 5]\n",
            " [ 6]\n",
            " [ 7]\n",
            " [ 8]\n",
            " [ 9]\n",
            " [10]]\n",
            "[[   1.    1.    1.    1.]\n",
            " [   1.    2.    4.    8.]\n",
            " [   1.    3.    9.   27.]\n",
            " [   1.    4.   16.   64.]\n",
            " [   1.    5.   25.  125.]\n",
            " [   1.    6.   36.  216.]\n",
            " [   1.    7.   49.  343.]\n",
            " [   1.    8.   64.  512.]\n",
            " [   1.    9.   81.  729.]\n",
            " [   1.   10.  100. 1000.]]\n"
          ]
        }
      ]
    },
    {
      "cell_type": "markdown",
      "metadata": {
        "id": "591A1sxeGKWE"
      },
      "source": [
        "### Modelo polinómico al cubo"
      ]
    },
    {
      "cell_type": "code",
      "metadata": {
        "colab": {
          "base_uri": "https://localhost:8080/",
          "height": 311
        },
        "id": "4Sov4wQHGbS8",
        "outputId": "8bedbe1c-b7ca-4cf1-818d-e3719b0e6741"
      },
      "source": [
        "modelo_pol3 = LinearRegression()\n",
        "modelo_pol3.fit(x_poly3, y)\n",
        "\n",
        "y_pred = modelo_pol3.predict(x_poly3)\n",
        "\n",
        "\n",
        " \n",
        "plt.scatter(x, y)\n",
        "plt.plot(x, y_pred, color='r')\n",
        "plt.show()\n",
        " \n",
        "rmse = np.sqrt(mean_squared_error(y,y_pred))\n",
        "r2 = r2_score(y,y_pred)\n",
        "print ('RMSE: ' + str(rmse))\n",
        "print ('R2: ' + str(r2))"
      ],
      "execution_count": 241,
      "outputs": [
        {
          "output_type": "display_data",
          "data": {
            "image/png": "[encoded data removed]",
            "text/plain": [
              "<Figure size 432x288 with 1 Axes>"
            ]
          },
          "metadata": {
            "needs_background": "light"
          }
        },
        {
          "output_type": "stream",
          "name": "stdout",
          "text": [
            "RMSE: 38931.50401232919\n",
            "R2: 0.9812097727913367\n"
          ]
        }
      ]
    },
    {
      "cell_type": "markdown",
      "metadata": {
        "id": "sAR0uBCBGy6N"
      },
      "source": [
        "Parece que la ecuación a la tercera potencia se obtiene un valor de R Sware muy alto, el 98% de representatividad de la variable **Level** a la variable **Salary**.\n",
        "\n"
      ]
    },
    {
      "cell_type": "markdown",
      "metadata": {
        "id": "-gWi-OAlHQEF"
      },
      "source": [
        "### Coeficientes en el modelo de regresión polinómica al cubo"
      ]
    },
    {
      "cell_type": "code",
      "metadata": {
        "colab": {
          "base_uri": "https://localhost:8080/"
        },
        "id": "iIjZaxKoHSoV",
        "outputId": "7e68cc20-4bba-4cdf-93dc-06d754770047"
      },
      "source": [
        "b0 = modelo_pol3.intercept_\n",
        "print(b0)"
      ],
      "execution_count": 242,
      "outputs": [
        {
          "output_type": "stream",
          "name": "stdout",
          "text": [
            "[-121333.33333331]\n"
          ]
        }
      ]
    },
    {
      "cell_type": "code",
      "metadata": {
        "colab": {
          "base_uri": "https://localhost:8080/"
        },
        "id": "CCVwkAFbHZwm",
        "outputId": "6d95a41c-2d57-4248-d7d2-4b0979fb658a"
      },
      "source": [
        "b1 = modelo_pol3.coef_\n",
        "print(b1)"
      ],
      "execution_count": 243,
      "outputs": [
        {
          "output_type": "stream",
          "name": "stdout",
          "text": [
            "[[     0.         180664.33566432 -48548.95104895   4120.04662005]]\n"
          ]
        }
      ]
    },
    {
      "cell_type": "markdown",
      "metadata": {
        "id": "K4O8zHBoHmK8"
      },
      "source": [
        "### Predecir \n",
        "\n",
        "#### Predecir conforme a fórmula\n",
        "\n",
        "Valor de Lebel = 5\n",
        "\n"
      ]
    },
    {
      "cell_type": "code",
      "metadata": {
        "colab": {
          "base_uri": "https://localhost:8080/"
        },
        "id": "aAnDN0cQHp10",
        "outputId": "6c4ebf7c-95e6-485f-a04c-20927886dea9"
      },
      "source": [
        "prediccion = -121333.33333331 + (180664.33566432 * 5) + (-48548.95104895 * pow(5, 2) + (4120.04662005 * pow(5,3)))\n",
        "print(prediccion)"
      ],
      "execution_count": 244,
      "outputs": [
        {
          "output_type": "stream",
          "name": "stdout",
          "text": [
            "83270.39627079002\n"
          ]
        }
      ]
    },
    {
      "cell_type": "markdown",
      "metadata": {
        "id": "_9sCZR2KH-f1"
      },
      "source": [
        "#### Predecir conforme a función predict()\n"
      ]
    },
    {
      "cell_type": "code",
      "metadata": {
        "colab": {
          "base_uri": "https://localhost:8080/"
        },
        "id": "UqeEGEIgIBoR",
        "outputId": "e87cbe2e-2336-4e55-bfd9-75dd3e2589ec"
      },
      "source": [
        "pred = modelo_pol3.predict(polyn3.fit_transform([[5]]))\n",
        "print(pred)"
      ],
      "execution_count": 245,
      "outputs": [
        {
          "output_type": "stream",
          "name": "stdout",
          "text": [
            "[[83270.39627039]]\n"
          ]
        }
      ]
    }
  ]
}