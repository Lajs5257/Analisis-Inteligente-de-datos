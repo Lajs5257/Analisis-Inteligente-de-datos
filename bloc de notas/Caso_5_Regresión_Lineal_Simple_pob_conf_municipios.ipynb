{
  "nbformat": 4,
  "nbformat_minor": 0,
  "metadata": {
    "colab": {
      "name": "Caso 5. Regresión Lineal Simple pob conf municipios.ipynb",
      "provenance": [],
      "collapsed_sections": [],
      "authorship_tag": "ABX9TyN4UCxewP14tcCRmyCE4vME",
      "include_colab_link": true
    },
    "kernelspec": {
      "name": "python3",
      "display_name": "Python 3"
    },
    "language_info": {
      "name": "python"
    }
  },
  "cells": [
    {
      "cell_type": "markdown",
      "metadata": {
        "id": "view-in-github",
        "colab_type": "text"
      },
      "source": [
        "<a href=\"https://colab.research.google.com/github/rpizarrog/Analisis-Inteligente-de-datos/blob/main/bloc%20de%20notas/Caso_5_Regresi%C3%B3n_Lineal_Simple_pob_conf_municipios.ipynb\" target=\"_parent\"><img src=\"https://colab.research.google.com/assets/colab-badge.svg\" alt=\"Open In Colab\"/></a>"
      ]
    },
    {
      "cell_type": "code",
      "metadata": {
        "id": "bhC4NTvffpMZ"
      },
      "source": [
        ""
      ],
      "execution_count": null,
      "outputs": []
    },
    {
      "cell_type": "markdown",
      "metadata": {
        "id": "Ss2fcm20fpoL"
      },
      "source": [
        "# Caso 5. Regresión Lineal Simple. Datos de poblacion y confirmados de Municipios\n",
        "\n",
        "## Objetivo \n",
        "\n",
        "Realizar una tarea de predicción de casos confirmados en datos de municipois de la República Mexicana mediante el algoritmo de machine learnig de regresión lineal simple.\n",
        "\n",
        "## Descripción\n",
        "\n",
        "* Cargar datos de cantidad de habitantes de una población de municipios y sus casos confirmados de COVID.\n",
        "Los datos son casos confirmados en periodo de 02-02-2020 al 18-09-2021 en formado DD-MM-AAAA (dia-mes-año).\n",
        "* Archivo csv localizado en: [github](https://raw.githubusercontent.com/rpizarrog/Analisis-Inteligente-de-datos/main/datos/poblacion%20confirmados%20municipio.csv).\n",
        "* Fuente obtenida de datos del gobierno de México de [texto del vínculo](https://datos.covid-19.conacyt.mx/#DownZCSV).\n",
        "* Explorar los datos.\n",
        "* Definir la varible independiente y la variable dependiente.\n",
        "* Aplicar el modelo de regresión lineal simple.\n",
        "* Evaluar el modelo, con error cuadrado medio y su significado.\n",
        "* Hacer estimaciones para una cirta cantidad de población para determinar cuantos casos confirmados serían. Son Predicciones.\n",
        "\n",
        "\n",
        "\n",
        "\n",
        "## Fundamento Teórico\n",
        "\n",
        "Pendiente\n"
      ]
    },
    {
      "cell_type": "markdown",
      "metadata": {
        "id": "sqK2gpC3hQCJ"
      },
      "source": [
        "## Desarrollo\n",
        "\n",
        "### Librerías\n",
        "\n",
        "\n"
      ]
    },
    {
      "cell_type": "code",
      "metadata": {
        "id": "wbsCXxXxhps8"
      },
      "source": [
        "# Datos\n",
        "import numpy as np\n",
        "import pandas as pd\n",
        "import seaborn as sb\n",
        "\n",
        "# Gráficos\n",
        "import matplotlib.pyplot as plt\n",
        "%matplotlib inline\n",
        "from mpl_toolkits.mplot3d import Axes3D\n",
        "from matplotlib import cm\n",
        "plt.rcParams['figure.figsize'] = (16, 9)\n",
        "plt.style.use('ggplot')\n",
        "\n",
        "# Regresiones lineales\n",
        "from sklearn import linear_model\n",
        "from sklearn.metrics import mean_squared_error, r2_score"
      ],
      "execution_count": null,
      "outputs": []
    },
    {
      "cell_type": "markdown",
      "metadata": {
        "id": "PwPpOYrJiAT1"
      },
      "source": [
        "### Cargar los datos\n",
        "\n"
      ]
    },
    {
      "cell_type": "code",
      "metadata": {
        "colab": {
          "base_uri": "https://localhost:8080/"
        },
        "id": "luJBWu3RiYSE",
        "outputId": "f69aedcf-33e0-41de-9771-613d3172d625"
      },
      "source": [
        "\n",
        "datos = pd.read_csv(\"https://raw.githubusercontent.com/rpizarrog/Analisis-Inteligente-de-datos/main/datos/poblacion%20confirmados%20municipio.csv\")\n",
        "\n",
        "datos.shape # La estructura de los datos \n",
        "\n"
      ],
      "execution_count": 38,
      "outputs": [
        {
          "output_type": "execute_result",
          "data": {
            "text/plain": [
              "(2457, 4)"
            ]
          },
          "metadata": {},
          "execution_count": 38
        }
      ]
    },
    {
      "cell_type": "code",
      "metadata": {
        "colab": {
          "base_uri": "https://localhost:8080/",
          "height": 300
        },
        "id": "6YYt8kKLilAt",
        "outputId": "240bfd68-8007-47dd-9c9a-75f81b54cf00"
      },
      "source": [
        "datos[[\"poblacion\", \"confirmados\"]].describe() # Estadísticos elementales"
      ],
      "execution_count": 39,
      "outputs": [
        {
          "output_type": "execute_result",
          "data": {
            "text/html": [
              "<div>\n",
              "<style scoped>\n",
              "    .dataframe tbody tr th:only-of-type {\n",
              "        vertical-align: middle;\n",
              "    }\n",
              "\n",
              "    .dataframe tbody tr th {\n",
              "        vertical-align: top;\n",
              "    }\n",
              "\n",
              "    .dataframe thead th {\n",
              "        text-align: right;\n",
              "    }\n",
              "</style>\n",
              "<table border=\"1\" class=\"dataframe\">\n",
              "  <thead>\n",
              "    <tr style=\"text-align: right;\">\n",
              "      <th></th>\n",
              "      <th>poblacion</th>\n",
              "      <th>confirmados</th>\n",
              "    </tr>\n",
              "  </thead>\n",
              "  <tbody>\n",
              "    <tr>\n",
              "      <th>count</th>\n",
              "      <td>2.457000e+03</td>\n",
              "      <td>2457.000000</td>\n",
              "    </tr>\n",
              "    <tr>\n",
              "      <th>mean</th>\n",
              "      <td>5.201151e+04</td>\n",
              "      <td>1452.297924</td>\n",
              "    </tr>\n",
              "    <tr>\n",
              "      <th>std</th>\n",
              "      <td>1.475537e+05</td>\n",
              "      <td>7135.481990</td>\n",
              "    </tr>\n",
              "    <tr>\n",
              "      <th>min</th>\n",
              "      <td>9.500000e+01</td>\n",
              "      <td>0.000000</td>\n",
              "    </tr>\n",
              "    <tr>\n",
              "      <th>25%</th>\n",
              "      <td>4.470000e+03</td>\n",
              "      <td>18.000000</td>\n",
              "    </tr>\n",
              "    <tr>\n",
              "      <th>50%</th>\n",
              "      <td>1.413700e+04</td>\n",
              "      <td>87.000000</td>\n",
              "    </tr>\n",
              "    <tr>\n",
              "      <th>75%</th>\n",
              "      <td>3.709900e+04</td>\n",
              "      <td>390.000000</td>\n",
              "    </tr>\n",
              "    <tr>\n",
              "      <th>max</th>\n",
              "      <td>1.815551e+06</td>\n",
              "      <td>147221.000000</td>\n",
              "    </tr>\n",
              "  </tbody>\n",
              "</table>\n",
              "</div>"
            ],
            "text/plain": [
              "          poblacion    confirmados\n",
              "count  2.457000e+03    2457.000000\n",
              "mean   5.201151e+04    1452.297924\n",
              "std    1.475537e+05    7135.481990\n",
              "min    9.500000e+01       0.000000\n",
              "25%    4.470000e+03      18.000000\n",
              "50%    1.413700e+04      87.000000\n",
              "75%    3.709900e+04     390.000000\n",
              "max    1.815551e+06  147221.000000"
            ]
          },
          "metadata": {},
          "execution_count": 39
        }
      ]
    },
    {
      "cell_type": "code",
      "metadata": {
        "colab": {
          "base_uri": "https://localhost:8080/",
          "height": 423
        },
        "id": "j2JZETRQiswz",
        "outputId": "b539e1ea-6131-44e6-d069-9cc6b3525d29"
      },
      "source": [
        "datos"
      ],
      "execution_count": 40,
      "outputs": [
        {
          "output_type": "execute_result",
          "data": {
            "text/html": [
              "<div>\n",
              "<style scoped>\n",
              "    .dataframe tbody tr th:only-of-type {\n",
              "        vertical-align: middle;\n",
              "    }\n",
              "\n",
              "    .dataframe tbody tr th {\n",
              "        vertical-align: top;\n",
              "    }\n",
              "\n",
              "    .dataframe thead th {\n",
              "        text-align: right;\n",
              "    }\n",
              "</style>\n",
              "<table border=\"1\" class=\"dataframe\">\n",
              "  <thead>\n",
              "    <tr style=\"text-align: right;\">\n",
              "      <th></th>\n",
              "      <th>cve_ent</th>\n",
              "      <th>nombre</th>\n",
              "      <th>poblacion</th>\n",
              "      <th>confirmados</th>\n",
              "    </tr>\n",
              "  </thead>\n",
              "  <tbody>\n",
              "    <tr>\n",
              "      <th>0</th>\n",
              "      <td>16046</td>\n",
              "      <td>Juarez</td>\n",
              "      <td>15290</td>\n",
              "      <td>203</td>\n",
              "    </tr>\n",
              "    <tr>\n",
              "      <th>1</th>\n",
              "      <td>16047</td>\n",
              "      <td>Jungapeo</td>\n",
              "      <td>22358</td>\n",
              "      <td>92</td>\n",
              "    </tr>\n",
              "    <tr>\n",
              "      <th>2</th>\n",
              "      <td>16048</td>\n",
              "      <td>Lagunillas</td>\n",
              "      <td>5862</td>\n",
              "      <td>53</td>\n",
              "    </tr>\n",
              "    <tr>\n",
              "      <th>3</th>\n",
              "      <td>16049</td>\n",
              "      <td>Madero</td>\n",
              "      <td>18769</td>\n",
              "      <td>72</td>\n",
              "    </tr>\n",
              "    <tr>\n",
              "      <th>4</th>\n",
              "      <td>5035</td>\n",
              "      <td>Torreon</td>\n",
              "      <td>744247</td>\n",
              "      <td>19402</td>\n",
              "    </tr>\n",
              "    <tr>\n",
              "      <th>...</th>\n",
              "      <td>...</td>\n",
              "      <td>...</td>\n",
              "      <td>...</td>\n",
              "      <td>...</td>\n",
              "    </tr>\n",
              "    <tr>\n",
              "      <th>2452</th>\n",
              "      <td>32053</td>\n",
              "      <td>Villa Gonzalez Ortega</td>\n",
              "      <td>13945</td>\n",
              "      <td>142</td>\n",
              "    </tr>\n",
              "    <tr>\n",
              "      <th>2453</th>\n",
              "      <td>32054</td>\n",
              "      <td>Villa Hidalgo</td>\n",
              "      <td>20177</td>\n",
              "      <td>112</td>\n",
              "    </tr>\n",
              "    <tr>\n",
              "      <th>2454</th>\n",
              "      <td>32055</td>\n",
              "      <td>Villanueva</td>\n",
              "      <td>31804</td>\n",
              "      <td>497</td>\n",
              "    </tr>\n",
              "    <tr>\n",
              "      <th>2455</th>\n",
              "      <td>32056</td>\n",
              "      <td>Zacatecas</td>\n",
              "      <td>155533</td>\n",
              "      <td>9764</td>\n",
              "    </tr>\n",
              "    <tr>\n",
              "      <th>2456</th>\n",
              "      <td>32058</td>\n",
              "      <td>Santa Maria de la Paz</td>\n",
              "      <td>2855</td>\n",
              "      <td>38</td>\n",
              "    </tr>\n",
              "  </tbody>\n",
              "</table>\n",
              "<p>2457 rows × 4 columns</p>\n",
              "</div>"
            ],
            "text/plain": [
              "      cve_ent                 nombre  poblacion  confirmados\n",
              "0       16046                 Juarez      15290          203\n",
              "1       16047               Jungapeo      22358           92\n",
              "2       16048             Lagunillas       5862           53\n",
              "3       16049                 Madero      18769           72\n",
              "4        5035                Torreon     744247        19402\n",
              "...       ...                    ...        ...          ...\n",
              "2452    32053  Villa Gonzalez Ortega      13945          142\n",
              "2453    32054          Villa Hidalgo      20177          112\n",
              "2454    32055             Villanueva      31804          497\n",
              "2455    32056              Zacatecas     155533         9764\n",
              "2456    32058  Santa Maria de la Paz       2855           38\n",
              "\n",
              "[2457 rows x 4 columns]"
            ]
          },
          "metadata": {},
          "execution_count": 40
        }
      ]
    },
    {
      "cell_type": "markdown",
      "metadata": {
        "id": "p7SzHXlajYeM"
      },
      "source": [
        "### Visualización de datos\n",
        "\n",
        "#### Histograma\n",
        "\n",
        "Se visualizan los histogramas únicamente de las variables numericas dependiente e independiente.\n",
        "\n"
      ]
    },
    {
      "cell_type": "code",
      "metadata": {
        "colab": {
          "base_uri": "https://localhost:8080/",
          "height": 567
        },
        "id": "x9i4fdB0nDV6",
        "outputId": "79bbcb85-4f94-4f36-b242-4581e6a72f3d"
      },
      "source": [
        "# datos.drop(['cve_ent','nombre'],1).hist()\n",
        "datos[[\"poblacion\", \"confirmados\"]].hist()\n",
        "plt.show()"
      ],
      "execution_count": 41,
      "outputs": [
        {
          "output_type": "display_data",
          "data": {
            "image/png": "[encoded data removed]",
            "text/plain": [
              "<Figure size 1152x648 with 2 Axes>"
            ]
          },
          "metadata": {}
        }
      ]
    },
    {
      "cell_type": "markdown",
      "metadata": {
        "id": "52SFvMropnk9"
      },
      "source": [
        "Las variables no tienen un comportamiento gaussiaado o que parten de una distribución normal lo que conlleva a dudar de si vale la pena aplicar regresión lienal simple.\n",
        "Se recomienda hacer pruebas de normalidad, perndiente ..."
      ]
    },
    {
      "cell_type": "markdown",
      "metadata": {
        "id": "wwKolBC6qd5F"
      },
      "source": [
        "Diagrama de dispersión\n"
      ]
    },
    {
      "cell_type": "code",
      "metadata": {
        "colab": {
          "base_uri": "https://localhost:8080/",
          "height": 550
        },
        "id": "B1Y7H2OEqf5E",
        "outputId": "e491e066-38c8-473c-850d-b5811e4ef7dd"
      },
      "source": [
        "plt.scatter(datos['poblacion'], datos['confirmados'], c='blue')\n",
        "plt.show()"
      ],
      "execution_count": 42,
      "outputs": [
        {
          "output_type": "display_data",
          "data": {
            "image/png": "[encoded data removed]",
            "text/plain": [
              "<Figure size 1152x648 with 1 Axes>"
            ]
          },
          "metadata": {}
        }
      ]
    },
    {
      "cell_type": "markdown",
      "metadata": {
        "id": "u70KsAdljf60"
      },
      "source": [
        "### Aplicar modelos de regresión\n",
        "\n",
        "Se utiliza la función linear_model.LinearRegression() para construir la regresión lineal.\n",
        "\n",
        "Se almacena la regresiín en una variable llamada regr\n",
        "\n",
        "Se construye un modelo de entrenamiento con todos los datos."
      ]
    },
    {
      "cell_type": "code",
      "metadata": {
        "colab": {
          "base_uri": "https://localhost:8080/"
        },
        "id": "fy1r2dg7j4AB",
        "outputId": "f7bdd344-26ad-4edd-a586-fc54ab71f996"
      },
      "source": [
        "regr = linear_model.LinearRegression()\n",
        "poblacion = np.array(datos['poblacion'])\n",
        "\n",
        "poblacion\n",
        "\n",
        "confirmados = np.array(datos['confirmados'])\n",
        "confirmados\n",
        "\n",
        "\n",
        "\n",
        "\n"
      ],
      "execution_count": 47,
      "outputs": [
        {
          "output_type": "execute_result",
          "data": {
            "text/plain": [
              "array([ 203,   92,   53, ...,  497, 9764,   38])"
            ]
          },
          "metadata": {},
          "execution_count": 47
        }
      ]
    },
    {
      "cell_type": "code",
      "metadata": {
        "colab": {
          "base_uri": "https://localhost:8080/"
        },
        "id": "orgYaGMPk_Aw",
        "outputId": "f57011f2-cc87-4d79-a583-7543e38858aa"
      },
      "source": [
        "regr.fit(poblacion.reshape(-1, 1), confirmados)"
      ],
      "execution_count": 48,
      "outputs": [
        {
          "output_type": "execute_result",
          "data": {
            "text/plain": [
              "LinearRegression(copy_X=True, fit_intercept=True, n_jobs=None, normalize=False)"
            ]
          },
          "metadata": {},
          "execution_count": 48
        }
      ]
    },
    {
      "cell_type": "markdown",
      "metadata": {
        "id": "8yF4uP2DnOKa"
      },
      "source": [
        "### Objeto de prediccion\n",
        "\n",
        "Se construye objeto de prediccion para construir la recta lineal\n",
        "\n"
      ]
    },
    {
      "cell_type": "code",
      "metadata": {
        "colab": {
          "base_uri": "https://localhost:8080/"
        },
        "id": "YxbXNqmVnU_w",
        "outputId": "37352c70-01fd-4746-9a72-b78bc73b77b3"
      },
      "source": [
        "y_pred = regr.predict(poblacion.reshape(-1, 1))\n",
        "y_pred\n"
      ],
      "execution_count": 49,
      "outputs": [
        {
          "output_type": "execute_result",
          "data": {
            "text/plain": [
              "array([  39.54377041,  311.46466101, -323.17130551, ...,  674.87223495,\n",
              "       5434.98823285, -438.85694756])"
            ]
          },
          "metadata": {},
          "execution_count": 49
        }
      ]
    },
    {
      "cell_type": "markdown",
      "metadata": {
        "id": "hbIFftAQjj68"
      },
      "source": [
        "### Evaluar el modelo\n",
        "\n",
        "Se muestran los valores de los coeficientes de la ecuación \n",
        "\n",
        "$$\n",
        "Y = \\beta0 + \\beta1\\cdot{x_i}\n",
        "$$"
      ]
    },
    {
      "cell_type": "code",
      "metadata": {
        "colab": {
          "base_uri": "https://localhost:8080/"
        },
        "id": "1zPeaxXYoDby",
        "outputId": "6e388564-d546-4f88-afb7-c0426672a267"
      },
      "source": [
        "print('Coefficients: \\n', regr.coef_)\n",
        "\n",
        "# Este es el valor donde corta el eje Y (en X=0)\n",
        "print('Independent term: \\n', regr.intercept_)\n",
        " \n",
        "# Error Cuadrado Medio\n",
        "print(\"Mean squared error: %.2f\" % mean_squared_error(confirmados, y_pred))\n",
        " \n",
        "# Puntaje de Varianza. El mejor puntaje es un 1.0\n",
        "print('Variance score: %.2f' % r2_score(confirmados, y_pred))"
      ],
      "execution_count": 50,
      "outputs": [
        {
          "output_type": "stream",
          "name": "stdout",
          "text": [
            "Coefficients: \n",
            " [0.03847211]\n",
            "Independent term: \n",
            " -548.6948285271917\n",
            "Mean squared error: 18682525.19\n",
            "Variance score: 0.63\n"
          ]
        }
      ]
    },
    {
      "cell_type": "code",
      "metadata": {
        "id": "ff5i_Cwku9mQ"
      },
      "source": [
        ""
      ],
      "execution_count": null,
      "outputs": []
    },
    {
      "cell_type": "markdown",
      "metadata": {
        "id": "8sFMTuQwpjM4"
      },
      "source": [
        "$$ \\beta0 = -548.6948285271917$$\n",
        "$$\\beta1 = 0.03847211$$\n"
      ]
    },
    {
      "cell_type": "markdown",
      "metadata": {
        "id": "E8xicShGoztQ"
      },
      "source": [
        "$$\n",
        "Y = −548.6948285271917 + 0.0.0.03847211 \\cdot{x_i}\n",
        "$$"
      ]
    },
    {
      "cell_type": "markdown",
      "metadata": {
        "id": "MMTQmKt5jlrE"
      },
      "source": [
        "¿Cuántos casos confirmados debiera para una pobción 500000\n",
        "\n"
      ]
    },
    {
      "cell_type": "markdown",
      "metadata": {
        "id": "IyaeBIc9pJzR"
      },
      "source": [
        "$$ Y = -548.6948285271917 + 0.03847211 \\times{50000}$$\n",
        "$$ 1374.911 = -548.69482852719177 + 0.03847211 \\times{50000} $$\n"
      ]
    },
    {
      "cell_type": "markdown",
      "metadata": {
        "id": "r7B7mN3urnqS"
      },
      "source": [
        "### Visualizar recta\n",
        "\n",
        "\n",
        "\n"
      ]
    },
    {
      "cell_type": "code",
      "metadata": {
        "colab": {
          "base_uri": "https://localhost:8080/",
          "height": 550
        },
        "id": "tDr56_HLsdaB",
        "outputId": "94727dd8-ee1c-43a8-e87a-e1bade9669e9"
      },
      "source": [
        "plt.scatter(datos['poblacion'], datos['confirmados'], c='blue')\n",
        "plt.plot(poblacion, y_pred, c='green')\n",
        "plt.show()"
      ],
      "execution_count": 52,
      "outputs": [
        {
          "output_type": "display_data",
          "data": {
            "image/png": "[encoded data removed]",
            "text/plain": [
              "<Figure size 1152x648 with 1 Axes>"
            ]
          },
          "metadata": {}
        }
      ]
    },
    {
      "cell_type": "markdown",
      "metadata": {
        "id": "nrgKyGWsjlxt"
      },
      "source": [
        "### Predecir valores\n",
        "\n",
        "¿Cual es la prediccion de casos confirmados para una pobacion de 50,000?\n",
        "\n",
        "¿Cual es la prediccion de casos confirmados para una pobacion de 100,000?\n",
        "\n",
        "¿Cual es la prediccion de casos confirmados para una pobacion de 200,000?"
      ]
    },
    {
      "cell_type": "code",
      "metadata": {
        "colab": {
          "base_uri": "https://localhost:8080/"
        },
        "id": "iPKhmqf7q_mS",
        "outputId": "81cf3bb5-caa4-47df-cc98-c684fc487a25"
      },
      "source": [
        "prediccion = regr.predict([[50000]])\n",
        "print(int(prediccion))\n"
      ],
      "execution_count": 53,
      "outputs": [
        {
          "output_type": "stream",
          "name": "stdout",
          "text": [
            "1374\n"
          ]
        }
      ]
    },
    {
      "cell_type": "code",
      "metadata": {
        "colab": {
          "base_uri": "https://localhost:8080/"
        },
        "id": "ZWm1H8jf93s5",
        "outputId": "b3b7b4e6-03f1-488d-eb9d-feed929fb46a"
      },
      "source": [
        "prediccion = regr.predict([[100000]])\n",
        "print(int(prediccion))"
      ],
      "execution_count": 54,
      "outputs": [
        {
          "output_type": "stream",
          "name": "stdout",
          "text": [
            "3298\n"
          ]
        }
      ]
    },
    {
      "cell_type": "code",
      "metadata": {
        "colab": {
          "base_uri": "https://localhost:8080/"
        },
        "id": "DFVce7Js94Yk",
        "outputId": "df6216c4-2196-4489-fc3c-39875d8eea2f"
      },
      "source": [
        "prediccion = regr.predict([[250000]])\n",
        "print(int(prediccion))"
      ],
      "execution_count": 55,
      "outputs": [
        {
          "output_type": "stream",
          "name": "stdout",
          "text": [
            "9069\n"
          ]
        }
      ]
    },
    {
      "cell_type": "code",
      "metadata": {
        "colab": {
          "base_uri": "https://localhost:8080/"
        },
        "id": "2r0icOyl4jqV",
        "outputId": "8dfa352d-7cdf-40ea-b6fb-0affb02f9b98"
      },
      "source": [
        "prediccion = regr.predict([[500000]])\n",
        "print(int(prediccion))"
      ],
      "execution_count": 56,
      "outputs": [
        {
          "output_type": "stream",
          "name": "stdout",
          "text": [
            "18687\n"
          ]
        }
      ]
    },
    {
      "cell_type": "code",
      "metadata": {
        "colab": {
          "base_uri": "https://localhost:8080/"
        },
        "id": "66xmAxpA5Gjk",
        "outputId": "353050ab-bcea-4e69-9748-dbfac9807929"
      },
      "source": [
        "prediccion = regr.predict([[750000]])\n",
        "print(int(prediccion))"
      ],
      "execution_count": null,
      "outputs": [
        {
          "output_type": "stream",
          "name": "stdout",
          "text": [
            "210691\n"
          ]
        }
      ]
    },
    {
      "cell_type": "markdown",
      "metadata": {
        "id": "66LGb3sQukni"
      },
      "source": [
        "## Interpretación\n",
        "\n",
        "La regresión lineal en el contexto de las predicciones permite mediane la ecuación de mínimos cuadrados identificar los coefientes $b0$ y $b1$ que p-ermite hacer y constrir predicciones para cualquier valor de $x_i$\n",
        "\n",
        "En este caso 5, la regresión lineal explica la relación lineal entre pobación y casos confimados de COVID, se hicieron rpedicciones con varios valores de pobación generando predicciones conforme la recta y la ecuación y sus coeficientes..\n",
        "\n",
        "Para una población de $50000$ se estima una catidad de casos confiramdos alrededor de $1374$.\n",
        "\n",
        "Pendiente de alumnos ...\n",
        "\n"
      ]
    }
  ]
}