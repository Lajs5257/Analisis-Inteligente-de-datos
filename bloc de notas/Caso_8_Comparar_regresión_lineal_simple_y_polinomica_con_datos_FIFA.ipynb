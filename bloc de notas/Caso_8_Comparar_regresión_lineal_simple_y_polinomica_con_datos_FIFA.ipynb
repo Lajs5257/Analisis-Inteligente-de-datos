{
  "nbformat": 4,
  "nbformat_minor": 0,
  "metadata": {
    "colab": {
      "name": "Caso 8. Comparar regresión lineal simple y polinomica con datos FIFA.ipynb",
      "provenance": [],
      "collapsed_sections": [],
      "authorship_tag": "ABX9TyMaYH81W3v4zXUOuI0Y/RS/",
      "include_colab_link": true
    },
    "kernelspec": {
      "name": "python3",
      "display_name": "Python 3"
    },
    "language_info": {
      "name": "python"
    }
  },
  "cells": [
    {
      "cell_type": "markdown",
      "metadata": {
        "id": "view-in-github",
        "colab_type": "text"
      },
      "source": [
        "<a href=\"https://colab.research.google.com/github/rpizarrog/Analisis-Inteligente-de-datos/blob/main/bloc%20de%20notas/Caso_8_Comparar_regresi%C3%B3n_lineal_simple_y_polinomica_con_datos_FIFA.ipynb\" target=\"_parent\"><img src=\"https://colab.research.google.com/assets/colab-badge.svg\" alt=\"Open In Colab\"/></a>"
      ]
    },
    {
      "cell_type": "markdown",
      "metadata": {
        "id": "mbvx4vf01-bH"
      },
      "source": [
        "# Caso 8. Comparar regresiones lineal simple  y polinómica con datos de FIFA\n",
        "\n",
        "# Objetivo\n",
        "\n",
        "Contruir modelos de regresión lineal simple y polinómica con la finalidad de evaluar la métrica R Square y determinar la utilidad de las predicciones en cada modelo.\n",
        "\n",
        "\n",
        "\n"
      ]
    },
    {
      "cell_type": "markdown",
      "metadata": {
        "id": "HZtphDzu2aJt"
      },
      "source": [
        "# Descripción\n",
        "\n",
        "* Cargar librerías\n",
        "* Cargar datos\n",
        "* Identificar variables de interés: variable independiente y la variable dependiente de los datos\n",
        "* Construir datos de entrenamiento\n",
        "* Construir datos de validación\n",
        "* Modelo lineal simple\n",
        "  * Construir el modelo \n",
        "  * Evaluar el modelo con R Square o coeficiente de determinación\n",
        "  * Interpretar el modelo\n",
        "  * Predicciones \n",
        "* Modelo polinómico de segunda potencia  \n",
        "  * Construir el modelo polinómico de segunda potencia\n",
        "  * Evaluar el modelo con R Square o coeficiente de determinación\n",
        "  * Interpretar el modelo\n",
        "  * Predicciones \n",
        "* Modelo polinómico de quinta potencia    \n",
        "  * Construir un modelo polinómico de quinta potencia\n",
        "  * Evaluar el moldeo con R Square o coeficiente de determinación\n",
        "  * Interpretar el modelo\n",
        "  * Predicciones \n",
        "* Interpretacicón del caso  "
      ]
    },
    {
      "cell_type": "code",
      "metadata": {
        "id": "pth9eyOT11oi"
      },
      "source": [
        ""
      ],
      "execution_count": 200,
      "outputs": []
    },
    {
      "cell_type": "markdown",
      "metadata": {
        "id": "Yikigugw2uIV"
      },
      "source": [
        "# Desarrollo\n",
        "\n",
        "## Cargar librerías"
      ]
    },
    {
      "cell_type": "code",
      "metadata": {
        "id": "S_wcu7DM3AEV"
      },
      "source": [
        "\n",
        "import pandas as pd\n",
        "import numpy as np\n",
        "\n",
        "# Gráficos\n",
        "# ==============================================================================\n",
        "import matplotlib.pyplot as plt\n",
        "from matplotlib import style\n",
        "import seaborn as sns\n",
        "\n",
        "# Preprocesado y modelado\n",
        "# ==============================================================================\n",
        "from scipy.stats import  pearsonr # Para correlación\n",
        "from sklearn.linear_model import LinearRegression # Para regresión\n",
        "from sklearn.model_selection import train_test_split # Partir datos\n",
        "from sklearn.metrics import r2_score\n",
        "from sklearn.metrics import r2_score # R Square\n",
        "from sklearn.metrics import mean_squared_error \n",
        "import statsmodels.api as sm\n",
        "import statsmodels.formula.api as smf\n",
        "\n",
        "\n"
      ],
      "execution_count": 201,
      "outputs": []
    },
    {
      "cell_type": "markdown",
      "metadata": {
        "id": "gECRvDVy3xVm"
      },
      "source": [
        "## Cargar los datos"
      ]
    },
    {
      "cell_type": "code",
      "metadata": {
        "colab": {
          "base_uri": "https://localhost:8080/",
          "height": 423
        },
        "id": "iiXiDtfP3zgG",
        "outputId": "3e354495-1770-4b6a-fdab-47c8027ce584"
      },
      "source": [
        "datos = pd.read_csv(\"https://raw.githubusercontent.com/rpizarrog/Analisis-Inteligente-de-datos/main/datos/datos.fifa.csv\", encoding= 'unicode_escape')\n",
        "datos[['Overall', 'Valor']]\n",
        "\n"
      ],
      "execution_count": 202,
      "outputs": [
        {
          "output_type": "execute_result",
          "data": {
            "text/html": [
              "<div>\n",
              "<style scoped>\n",
              "    .dataframe tbody tr th:only-of-type {\n",
              "        vertical-align: middle;\n",
              "    }\n",
              "\n",
              "    .dataframe tbody tr th {\n",
              "        vertical-align: top;\n",
              "    }\n",
              "\n",
              "    .dataframe thead th {\n",
              "        text-align: right;\n",
              "    }\n",
              "</style>\n",
              "<table border=\"1\" class=\"dataframe\">\n",
              "  <thead>\n",
              "    <tr style=\"text-align: right;\">\n",
              "      <th></th>\n",
              "      <th>Overall</th>\n",
              "      <th>Valor</th>\n",
              "    </tr>\n",
              "  </thead>\n",
              "  <tbody>\n",
              "    <tr>\n",
              "      <th>0</th>\n",
              "      <td>94</td>\n",
              "      <td>110500000</td>\n",
              "    </tr>\n",
              "    <tr>\n",
              "      <th>1</th>\n",
              "      <td>94</td>\n",
              "      <td>77000000</td>\n",
              "    </tr>\n",
              "    <tr>\n",
              "      <th>2</th>\n",
              "      <td>92</td>\n",
              "      <td>118500000</td>\n",
              "    </tr>\n",
              "    <tr>\n",
              "      <th>3</th>\n",
              "      <td>91</td>\n",
              "      <td>72000000</td>\n",
              "    </tr>\n",
              "    <tr>\n",
              "      <th>4</th>\n",
              "      <td>91</td>\n",
              "      <td>102000000</td>\n",
              "    </tr>\n",
              "    <tr>\n",
              "      <th>...</th>\n",
              "      <td>...</td>\n",
              "      <td>...</td>\n",
              "    </tr>\n",
              "    <tr>\n",
              "      <th>17950</th>\n",
              "      <td>47</td>\n",
              "      <td>60000</td>\n",
              "    </tr>\n",
              "    <tr>\n",
              "      <th>17951</th>\n",
              "      <td>47</td>\n",
              "      <td>60000</td>\n",
              "    </tr>\n",
              "    <tr>\n",
              "      <th>17952</th>\n",
              "      <td>47</td>\n",
              "      <td>60000</td>\n",
              "    </tr>\n",
              "    <tr>\n",
              "      <th>17953</th>\n",
              "      <td>47</td>\n",
              "      <td>60000</td>\n",
              "    </tr>\n",
              "    <tr>\n",
              "      <th>17954</th>\n",
              "      <td>46</td>\n",
              "      <td>60000</td>\n",
              "    </tr>\n",
              "  </tbody>\n",
              "</table>\n",
              "<p>17955 rows × 2 columns</p>\n",
              "</div>"
            ],
            "text/plain": [
              "       Overall      Valor\n",
              "0           94  110500000\n",
              "1           94   77000000\n",
              "2           92  118500000\n",
              "3           91   72000000\n",
              "4           91  102000000\n",
              "...        ...        ...\n",
              "17950       47      60000\n",
              "17951       47      60000\n",
              "17952       47      60000\n",
              "17953       47      60000\n",
              "17954       46      60000\n",
              "\n",
              "[17955 rows x 2 columns]"
            ]
          },
          "metadata": {},
          "execution_count": 202
        }
      ]
    },
    {
      "cell_type": "markdown",
      "metadata": {
        "id": "PWPL4cxz4xEH"
      },
      "source": [
        "Las variables de interés son Overall como variable independiente que significa el valor cuantitativo entre 0 y 100 de un jugador de futbol a nivel internacional y la variable Valor que es el estimado económico que vale un jugador de fútbol a nivel mundial\n",
        "\n"
      ]
    },
    {
      "cell_type": "code",
      "metadata": {
        "colab": {
          "base_uri": "https://localhost:8080/",
          "height": 300
        },
        "id": "jul6QX2i5SGu",
        "outputId": "6e50096a-1643-4276-8362-1f65f74193f1"
      },
      "source": [
        "datos[['Overall', 'Valor']].describe()"
      ],
      "execution_count": 203,
      "outputs": [
        {
          "output_type": "execute_result",
          "data": {
            "text/html": [
              "<div>\n",
              "<style scoped>\n",
              "    .dataframe tbody tr th:only-of-type {\n",
              "        vertical-align: middle;\n",
              "    }\n",
              "\n",
              "    .dataframe tbody tr th {\n",
              "        vertical-align: top;\n",
              "    }\n",
              "\n",
              "    .dataframe thead th {\n",
              "        text-align: right;\n",
              "    }\n",
              "</style>\n",
              "<table border=\"1\" class=\"dataframe\">\n",
              "  <thead>\n",
              "    <tr style=\"text-align: right;\">\n",
              "      <th></th>\n",
              "      <th>Overall</th>\n",
              "      <th>Valor</th>\n",
              "    </tr>\n",
              "  </thead>\n",
              "  <tbody>\n",
              "    <tr>\n",
              "      <th>count</th>\n",
              "      <td>17955.000000</td>\n",
              "      <td>1.795500e+04</td>\n",
              "    </tr>\n",
              "    <tr>\n",
              "      <th>mean</th>\n",
              "      <td>66.228237</td>\n",
              "      <td>2.444530e+06</td>\n",
              "    </tr>\n",
              "    <tr>\n",
              "      <th>std</th>\n",
              "      <td>6.921015</td>\n",
              "      <td>5.626715e+06</td>\n",
              "    </tr>\n",
              "    <tr>\n",
              "      <th>min</th>\n",
              "      <td>46.000000</td>\n",
              "      <td>1.000000e+04</td>\n",
              "    </tr>\n",
              "    <tr>\n",
              "      <th>25%</th>\n",
              "      <td>62.000000</td>\n",
              "      <td>3.250000e+05</td>\n",
              "    </tr>\n",
              "    <tr>\n",
              "      <th>50%</th>\n",
              "      <td>66.000000</td>\n",
              "      <td>7.000000e+05</td>\n",
              "    </tr>\n",
              "    <tr>\n",
              "      <th>75%</th>\n",
              "      <td>71.000000</td>\n",
              "      <td>2.100000e+06</td>\n",
              "    </tr>\n",
              "    <tr>\n",
              "      <th>max</th>\n",
              "      <td>94.000000</td>\n",
              "      <td>1.185000e+08</td>\n",
              "    </tr>\n",
              "  </tbody>\n",
              "</table>\n",
              "</div>"
            ],
            "text/plain": [
              "            Overall         Valor\n",
              "count  17955.000000  1.795500e+04\n",
              "mean      66.228237  2.444530e+06\n",
              "std        6.921015  5.626715e+06\n",
              "min       46.000000  1.000000e+04\n",
              "25%       62.000000  3.250000e+05\n",
              "50%       66.000000  7.000000e+05\n",
              "75%       71.000000  2.100000e+06\n",
              "max       94.000000  1.185000e+08"
            ]
          },
          "metadata": {},
          "execution_count": 203
        }
      ]
    },
    {
      "cell_type": "markdown",
      "metadata": {
        "id": "zCMMTA2l60j_"
      },
      "source": [
        "## Diagrama de dispersión de los datos\n",
        "\n",
        "Se muestra el diagrama de dispersión con todo el conjunto de datos"
      ]
    },
    {
      "cell_type": "code",
      "metadata": {
        "colab": {
          "base_uri": "https://localhost:8080/",
          "height": 293
        },
        "id": "_lwH1Qg7678u",
        "outputId": "efb370fa-7ea1-4bfd-dbca-e2dc3307d005"
      },
      "source": [
        "from matplotlib import pyplot as plt\n",
        " \n",
        "# Convertirlo a arreglos independiente \n",
        "x = datos['Overall'].values.reshape(-1, 1) # Variable independiente\n",
        "y = datos['Valor'].values.reshape(-1, 1) # Variable dependiente\n",
        "plt.scatter(x,y)"
      ],
      "execution_count": 204,
      "outputs": [
        {
          "output_type": "execute_result",
          "data": {
            "text/plain": [
              "<matplotlib.collections.PathCollection at 0x7f9e7061d190>"
            ]
          },
          "metadata": {},
          "execution_count": 204
        },
        {
          "output_type": "display_data",
          "data": {
            "image/png": "[encoded data removed]",
            "text/plain": [
              "<Figure size 432x288 with 1 Axes>"
            ]
          },
          "metadata": {
            "needs_background": "light"
          }
        }
      ]
    },
    {
      "cell_type": "markdown",
      "metadata": {
        "id": "Etd1rw687bWn"
      },
      "source": [
        "## Construir datos de entrenamiento y validación"
      ]
    },
    {
      "cell_type": "code",
      "metadata": {
        "id": "ANF76onl7hs3"
      },
      "source": [
        "Overall = datos['Overall']\n",
        "Valor = datos['Valor']\n",
        "\n",
        "\n",
        "entrena_Overall, valida_Overall, entrena_Valor, valida_Valor = train_test_split(\n",
        "                                        Overall.values.reshape(-1,1),\n",
        "                                        Valor.values.reshape(-1,1),\n",
        "                                        train_size   = 0.8,\n",
        "                                        random_state = 2021,\n",
        "                                        shuffle      = True\n",
        "                                    )\n",
        "\n"
      ],
      "execution_count": 205,
      "outputs": []
    },
    {
      "cell_type": "markdown",
      "metadata": {
        "id": "PdmJDoV9C1vh"
      },
      "source": [
        "### Datos de entrenamiento"
      ]
    },
    {
      "cell_type": "code",
      "metadata": {
        "colab": {
          "base_uri": "https://localhost:8080/",
          "height": 423
        },
        "id": "lJsO8fIoB7Z4",
        "outputId": "01764b84-86b9-40e8-bf8d-0407f9f850b6"
      },
      "source": [
        "entrenamiento = pd.DataFrame(np.concatenate((entrena_Overall, entrena_Valor), axis=1))\n",
        "entrenamiento.columns = ['Overall', 'Valor']\n",
        "entrenamiento"
      ],
      "execution_count": 206,
      "outputs": [
        {
          "output_type": "execute_result",
          "data": {
            "text/html": [
              "<div>\n",
              "<style scoped>\n",
              "    .dataframe tbody tr th:only-of-type {\n",
              "        vertical-align: middle;\n",
              "    }\n",
              "\n",
              "    .dataframe tbody tr th {\n",
              "        vertical-align: top;\n",
              "    }\n",
              "\n",
              "    .dataframe thead th {\n",
              "        text-align: right;\n",
              "    }\n",
              "</style>\n",
              "<table border=\"1\" class=\"dataframe\">\n",
              "  <thead>\n",
              "    <tr style=\"text-align: right;\">\n",
              "      <th></th>\n",
              "      <th>Overall</th>\n",
              "      <th>Valor</th>\n",
              "    </tr>\n",
              "  </thead>\n",
              "  <tbody>\n",
              "    <tr>\n",
              "      <th>0</th>\n",
              "      <td>49</td>\n",
              "      <td>40000</td>\n",
              "    </tr>\n",
              "    <tr>\n",
              "      <th>1</th>\n",
              "      <td>59</td>\n",
              "      <td>220000</td>\n",
              "    </tr>\n",
              "    <tr>\n",
              "      <th>2</th>\n",
              "      <td>53</td>\n",
              "      <td>90000</td>\n",
              "    </tr>\n",
              "    <tr>\n",
              "      <th>3</th>\n",
              "      <td>69</td>\n",
              "      <td>140000</td>\n",
              "    </tr>\n",
              "    <tr>\n",
              "      <th>4</th>\n",
              "      <td>60</td>\n",
              "      <td>290000</td>\n",
              "    </tr>\n",
              "    <tr>\n",
              "      <th>...</th>\n",
              "      <td>...</td>\n",
              "      <td>...</td>\n",
              "    </tr>\n",
              "    <tr>\n",
              "      <th>14359</th>\n",
              "      <td>60</td>\n",
              "      <td>325000</td>\n",
              "    </tr>\n",
              "    <tr>\n",
              "      <th>14360</th>\n",
              "      <td>57</td>\n",
              "      <td>220000</td>\n",
              "    </tr>\n",
              "    <tr>\n",
              "      <th>14361</th>\n",
              "      <td>73</td>\n",
              "      <td>3700000</td>\n",
              "    </tr>\n",
              "    <tr>\n",
              "      <th>14362</th>\n",
              "      <td>52</td>\n",
              "      <td>110000</td>\n",
              "    </tr>\n",
              "    <tr>\n",
              "      <th>14363</th>\n",
              "      <td>69</td>\n",
              "      <td>1000000</td>\n",
              "    </tr>\n",
              "  </tbody>\n",
              "</table>\n",
              "<p>14364 rows × 2 columns</p>\n",
              "</div>"
            ],
            "text/plain": [
              "       Overall    Valor\n",
              "0           49    40000\n",
              "1           59   220000\n",
              "2           53    90000\n",
              "3           69   140000\n",
              "4           60   290000\n",
              "...        ...      ...\n",
              "14359       60   325000\n",
              "14360       57   220000\n",
              "14361       73  3700000\n",
              "14362       52   110000\n",
              "14363       69  1000000\n",
              "\n",
              "[14364 rows x 2 columns]"
            ]
          },
          "metadata": {},
          "execution_count": 206
        }
      ]
    },
    {
      "cell_type": "markdown",
      "metadata": {
        "id": "uBqqXVCaC-mo"
      },
      "source": [
        "### Datos de validación"
      ]
    },
    {
      "cell_type": "code",
      "metadata": {
        "colab": {
          "base_uri": "https://localhost:8080/",
          "height": 423
        },
        "id": "WEyeYwkPB2cp",
        "outputId": "7e7a4725-e8b8-457c-e3c1-2dae560f857e"
      },
      "source": [
        "validacion = pd.DataFrame(np.concatenate((valida_Overall, valida_Valor), axis=1))\n",
        "validacion.columns = ['Overall', 'Valor']\n",
        "validacion"
      ],
      "execution_count": 207,
      "outputs": [
        {
          "output_type": "execute_result",
          "data": {
            "text/html": [
              "<div>\n",
              "<style scoped>\n",
              "    .dataframe tbody tr th:only-of-type {\n",
              "        vertical-align: middle;\n",
              "    }\n",
              "\n",
              "    .dataframe tbody tr th {\n",
              "        vertical-align: top;\n",
              "    }\n",
              "\n",
              "    .dataframe thead th {\n",
              "        text-align: right;\n",
              "    }\n",
              "</style>\n",
              "<table border=\"1\" class=\"dataframe\">\n",
              "  <thead>\n",
              "    <tr style=\"text-align: right;\">\n",
              "      <th></th>\n",
              "      <th>Overall</th>\n",
              "      <th>Valor</th>\n",
              "    </tr>\n",
              "  </thead>\n",
              "  <tbody>\n",
              "    <tr>\n",
              "      <th>0</th>\n",
              "      <td>75</td>\n",
              "      <td>7500000</td>\n",
              "    </tr>\n",
              "    <tr>\n",
              "      <th>1</th>\n",
              "      <td>62</td>\n",
              "      <td>450000</td>\n",
              "    </tr>\n",
              "    <tr>\n",
              "      <th>2</th>\n",
              "      <td>63</td>\n",
              "      <td>400000</td>\n",
              "    </tr>\n",
              "    <tr>\n",
              "      <th>3</th>\n",
              "      <td>74</td>\n",
              "      <td>5000000</td>\n",
              "    </tr>\n",
              "    <tr>\n",
              "      <th>4</th>\n",
              "      <td>66</td>\n",
              "      <td>400000</td>\n",
              "    </tr>\n",
              "    <tr>\n",
              "      <th>...</th>\n",
              "      <td>...</td>\n",
              "      <td>...</td>\n",
              "    </tr>\n",
              "    <tr>\n",
              "      <th>3586</th>\n",
              "      <td>70</td>\n",
              "      <td>1300000</td>\n",
              "    </tr>\n",
              "    <tr>\n",
              "      <th>3587</th>\n",
              "      <td>64</td>\n",
              "      <td>500000</td>\n",
              "    </tr>\n",
              "    <tr>\n",
              "      <th>3588</th>\n",
              "      <td>62</td>\n",
              "      <td>325000</td>\n",
              "    </tr>\n",
              "    <tr>\n",
              "      <th>3589</th>\n",
              "      <td>60</td>\n",
              "      <td>210000</td>\n",
              "    </tr>\n",
              "    <tr>\n",
              "      <th>3590</th>\n",
              "      <td>60</td>\n",
              "      <td>400000</td>\n",
              "    </tr>\n",
              "  </tbody>\n",
              "</table>\n",
              "<p>3591 rows × 2 columns</p>\n",
              "</div>"
            ],
            "text/plain": [
              "      Overall    Valor\n",
              "0          75  7500000\n",
              "1          62   450000\n",
              "2          63   400000\n",
              "3          74  5000000\n",
              "4          66   400000\n",
              "...       ...      ...\n",
              "3586       70  1300000\n",
              "3587       64   500000\n",
              "3588       62   325000\n",
              "3589       60   210000\n",
              "3590       60   400000\n",
              "\n",
              "[3591 rows x 2 columns]"
            ]
          },
          "metadata": {},
          "execution_count": 207
        }
      ]
    },
    {
      "cell_type": "markdown",
      "metadata": {
        "id": "B7fsZQI5thYs"
      },
      "source": [
        "### Diagrama de dispersión con datos de entrenamiento"
      ]
    },
    {
      "cell_type": "code",
      "metadata": {
        "colab": {
          "base_uri": "https://localhost:8080/",
          "height": 293
        },
        "id": "CBFFPFubtQ5u",
        "outputId": "ba273685-0ef4-4eeb-9695-878b0b18ff14"
      },
      "source": [
        "x = entrenamiento['Overall'].values.reshape(-1, 1) # Variable independiente\n",
        "y = entrenamiento['Valor'].values.reshape(-1, 1) # Variable dependiente\n",
        "plt.scatter(x,y)"
      ],
      "execution_count": 252,
      "outputs": [
        {
          "output_type": "execute_result",
          "data": {
            "text/plain": [
              "<matplotlib.collections.PathCollection at 0x7f9e704f4f50>"
            ]
          },
          "metadata": {},
          "execution_count": 252
        },
        {
          "output_type": "display_data",
          "data": {
            "image/png": "[encoded data removed]",
            "text/plain": [
              "<Figure size 432x288 with 1 Axes>"
            ]
          },
          "metadata": {
            "needs_background": "light"
          }
        }
      ]
    },
    {
      "cell_type": "markdown",
      "metadata": {
        "id": "TwC7d4m9DbZ4"
      },
      "source": [
        "## Modelo de regresión lineal simple\n",
        "\n"
      ]
    },
    {
      "cell_type": "markdown",
      "metadata": {
        "id": "Jsg28AeADo44"
      },
      "source": [
        "### Construyendo el modelo de regresión lineal simple"
      ]
    },
    {
      "cell_type": "code",
      "metadata": {
        "id": "q6u7SZwVEHIp"
      },
      "source": [
        "modelo_lin = LinearRegression()\n",
        "modelo_lin.fit(X = entrena_Overall.reshape(-1, 1), y = entrena_Valor)\n",
        "\n",
        "y_pred = modelo_lin.predict(Overall)"
      ],
      "execution_count": 253,
      "outputs": []
    },
    {
      "cell_type": "markdown",
      "metadata": {
        "id": "Mf6Ik5EBDkFo"
      },
      "source": [
        "### Evaluando el modelo de regresión lineal simple"
      ]
    },
    {
      "cell_type": "code",
      "metadata": {
        "colab": {
          "base_uri": "https://localhost:8080/"
        },
        "id": "83A0sAjmEWcY",
        "outputId": "fdd98896-5291-49c7-e560-774bab760609"
      },
      "source": [
        "print(\"Coeficiente de la intercepción:\", modelo_lin.intercept_)\n",
        "print(\"Coeficiente de la pendiente\", modelo_lin.coef_)\n",
        "print(\"Coeficiente de determinación R^2 o R Square:\", modelo_lin.score(X = entrena_Overall, y = entrena_Valor))"
      ],
      "execution_count": 254,
      "outputs": [
        {
          "output_type": "stream",
          "name": "stdout",
          "text": [
            "Coeficiente de la intercepción: [-31818186.001252]\n",
            "Coeficiente de la pendiente [[517268.60261868]]\n",
            "Coeficiente de determinación R^2 o R Square: 0.3931398886597335\n"
          ]
        }
      ]
    },
    {
      "cell_type": "markdown",
      "metadata": {
        "id": "2JUTXEN8t3C1"
      },
      "source": [
        "Se construye la recta de regresión con los datos de entrenamiento y el modelo construído a partir de estos datos."
      ]
    },
    {
      "cell_type": "code",
      "metadata": {
        "colab": {
          "base_uri": "https://localhost:8080/",
          "height": 276
        },
        "id": "G_7ztRgFt1-m",
        "outputId": "fa26351e-693f-4014-92c4-c1c67ca11053"
      },
      "source": [
        "plt.scatter(x, y)\n",
        "plt.plot(Overall, y_pred, color='r')\n",
        "plt.show()"
      ],
      "execution_count": 255,
      "outputs": [
        {
          "output_type": "display_data",
          "data": {
            "image/png": "[encoded data removed]",
            "text/plain": [
              "<Figure size 432x288 with 1 Axes>"
            ]
          },
          "metadata": {
            "needs_background": "light"
          }
        }
      ]
    },
    {
      "cell_type": "markdown",
      "metadata": {
        "id": "VY59I4_VEprR"
      },
      "source": [
        "### Interpretar el modelo de regresión lineal simple\n",
        "\n",
        "En la gráfica de dispersión de las variables Overall y Valor se observa una relación entre las variables de manera curva o polinómica y poco lineal.\n",
        "\n",
        "El modelo de regresión lineal simple presenta un valor de R Square de 39.31%, significa que la variable Overall representa ese porcentaje sobre la variable Valor.\n",
        "\n",
        "Si hay cantidades de Overall por debajo de 60 o aproximado menor que 60 cualquier predicción sale negativa."
      ]
    },
    {
      "cell_type": "markdown",
      "metadata": {
        "id": "iSCs4oGJE_G6"
      },
      "source": [
        "#### Predicciones regresión lineal simple\n",
        "\n",
        "Se elige algun valor del conjunto de datos de validación para comparar el valor real con el valor de la predicción con el modelo de regresión lineal simple.\n",
        "\n",
        "Se elige el registro 10, 500 y 1000 y del conjunto de datos de validacion.\n",
        "\n"
      ]
    },
    {
      "cell_type": "code",
      "metadata": {
        "colab": {
          "base_uri": "https://localhost:8080/"
        },
        "id": "ynryW3FHdLZj",
        "outputId": "534aba74-2794-4a00-95ce-c091b86dbf0e"
      },
      "source": [
        "\n",
        "registro = 10\n",
        "print(validacion.loc[registro])\n",
        "\n",
        "a_predecir = validacion.loc[registro,'Overall']\n",
        "\n",
        "print(a_predecir)\n",
        "pred_lin = modelo_lin.predict([[a_predecir]])\n",
        "pred_lin\n",
        "print(\"La predición con el modelo lineal simple de un valor de \", a_predecir, \" es de \", float(pred_lin), \" la real conforme a datos de validación es de: \", validacion.loc[registro,'Valor'])\n"
      ],
      "execution_count": 256,
      "outputs": [
        {
          "output_type": "stream",
          "name": "stdout",
          "text": [
            "Overall        57\n",
            "Valor      160000\n",
            "Name: 10, dtype: int64\n",
            "57\n",
            "La predición con el modelo lineal simple de un valor de  57  es de  -2333875.6519870013  la real conforme a datos de validación es de:  160000\n"
          ]
        }
      ]
    },
    {
      "cell_type": "code",
      "metadata": {
        "colab": {
          "base_uri": "https://localhost:8080/"
        },
        "id": "acDiEkyDviOP",
        "outputId": "b0f62b04-549c-4496-be23-a900ab5839ef"
      },
      "source": [
        "registro = 500\n",
        "print(validacion.loc[registro])\n",
        "\n",
        "a_predecir = validacion.loc[registro,'Overall']\n",
        "\n",
        "print(a_predecir)\n",
        "pred_lin = modelo_lin.predict([[a_predecir]])\n",
        "pred_lin\n",
        "print(\"La predición con el modelo lineal simple de un valor de \", a_predecir, \" es de \", float(pred_lin), \" la real conforme a datos de validación es de: \", validacion.loc[registro,'Valor'])"
      ],
      "execution_count": 257,
      "outputs": [
        {
          "output_type": "stream",
          "name": "stdout",
          "text": [
            "Overall          79\n",
            "Valor      11500000\n",
            "Name: 500, dtype: int64\n",
            "79\n",
            "La predición con el modelo lineal simple de un valor de  79  es de  9046033.60562405  la real conforme a datos de validación es de:  11500000\n"
          ]
        }
      ]
    },
    {
      "cell_type": "code",
      "metadata": {
        "colab": {
          "base_uri": "https://localhost:8080/"
        },
        "id": "IG8sZzdOySeP",
        "outputId": "a595ca06-ecf3-45bd-ad2a-a38dd4eecce0"
      },
      "source": [
        "registro = 1000\n",
        "print(validacion.loc[registro])\n",
        "\n",
        "a_predecir = validacion.loc[registro,'Overall']\n",
        "\n",
        "print(a_predecir)\n",
        "pred_lin = modelo_lin.predict([[a_predecir]])\n",
        "pred_lin\n",
        "print(\"La predición con el modelo lineal simple de un valor de \", a_predecir, \" es de \", float(pred_lin), \" la real conforme a datos de validación es de: \", validacion.loc[registro,'Valor'])"
      ],
      "execution_count": 258,
      "outputs": [
        {
          "output_type": "stream",
          "name": "stdout",
          "text": [
            "Overall        58\n",
            "Valor      230000\n",
            "Name: 1000, dtype: int64\n",
            "58\n",
            "La predición con el modelo lineal simple de un valor de  58  es de  -1816607.0493683182  la real conforme a datos de validación es de:  230000\n"
          ]
        }
      ]
    },
    {
      "cell_type": "markdown",
      "metadata": {
        "id": "1Kz_d6tEyb_n"
      },
      "source": [
        "## Modelo polinómico de segundo nivel\n",
        "\n",
        "Se crea un modelo polinómico con los mismos datos de entremiento y evaluar el R Square así como las predicciones con los datos de validación.\n",
        "\n",
        "primero se crea una variable polyn que tiene características de una ecuación se segundo nivel.\n"
      ]
    },
    {
      "cell_type": "code",
      "metadata": {
        "colab": {
          "base_uri": "https://localhost:8080/"
        },
        "id": "ziuYXFcI5dcI",
        "outputId": "39262775-3965-49b8-8e6a-033bb02c7760"
      },
      "source": [
        "from sklearn.preprocessing import PolynomialFeatures\n",
        " \n",
        "polyn = PolynomialFeatures(degree=2)\n",
        "\n",
        "x_poly = polyn.fit_transform(Overall)\n",
        "\n",
        "print(Overall)\n",
        "print(x_poly)"
      ],
      "execution_count": 259,
      "outputs": [
        {
          "output_type": "stream",
          "name": "stdout",
          "text": [
            "[[49]\n",
            " [59]\n",
            " [53]\n",
            " ...\n",
            " [73]\n",
            " [52]\n",
            " [69]]\n",
            "[[1.000e+00 4.900e+01 2.401e+03]\n",
            " [1.000e+00 5.900e+01 3.481e+03]\n",
            " [1.000e+00 5.300e+01 2.809e+03]\n",
            " ...\n",
            " [1.000e+00 7.300e+01 5.329e+03]\n",
            " [1.000e+00 5.200e+01 2.704e+03]\n",
            " [1.000e+00 6.900e+01 4.761e+03]]\n"
          ]
        }
      ]
    },
    {
      "cell_type": "markdown",
      "metadata": {
        "id": "ix6DaU5t5wUA"
      },
      "source": [
        "Luego se crea el modelo de regresión polinomial de segundo nivel\n"
      ]
    },
    {
      "cell_type": "code",
      "metadata": {
        "colab": {
          "base_uri": "https://localhost:8080/",
          "height": 553
        },
        "id": "T0L0gwez523A",
        "outputId": "fc2d23d3-5600-4510-b698-7c37b40397bd"
      },
      "source": [
        "modelo_pol2 = LinearRegression()\n",
        "modelo_pol2.fit(x_poly, y)\n",
        "\n",
        "y_pred = modelo_pol2.predict(x_poly)\n",
        "print(x)\n",
        "print(y_pred)\n",
        "\n",
        " \n",
        "plt.scatter(Overall, Valor)\n",
        "plt.plot(x, y_pred, color='r')\n",
        "plt.show()\n",
        " \n",
        "rmse = np.sqrt(mean_squared_error(Valor,y_pred))\n",
        "r2 = r2_score(Valor,y_pred)\n",
        "print ('RMSE: ' + str(rmse))\n",
        "print ('R2: ' + str(r2))"
      ],
      "execution_count": 261,
      "outputs": [
        {
          "output_type": "stream",
          "name": "stdout",
          "text": [
            "[[49]\n",
            " [59]\n",
            " [53]\n",
            " ...\n",
            " [73]\n",
            " [52]\n",
            " [69]]\n",
            "[[6352454.74800411]\n",
            " [-891369.42030916]\n",
            " [2261636.76331106]\n",
            " ...\n",
            " [5673313.18720078]\n",
            " [3135180.21981338]\n",
            " [1808875.72277549]]\n"
          ]
        },
        {
          "output_type": "display_data",
          "data": {
            "image/png": "[encoded data removed]",
            "text/plain": [
              "<Figure size 432x288 with 1 Axes>"
            ]
          },
          "metadata": {
            "needs_background": "light"
          }
        },
        {
          "output_type": "stream",
          "name": "stdout",
          "text": [
            "RMSE: 2796715.519337346\n",
            "R2: 0.7594680604382035\n"
          ]
        }
      ]
    }
  ]
}