{
  "nbformat": 4,
  "nbformat_minor": 0,
  "metadata": {
    "colab": {
      "name": "Caso 8. Comparar regresión lineal simple y polinomica con datos FIFA.ipynb",
      "provenance": [],
      "collapsed_sections": [],
      "authorship_tag": "ABX9TyNqNPDIqwcJcQFGKWRfL+fA",
      "include_colab_link": true
    },
    "kernelspec": {
      "name": "python3",
      "display_name": "Python 3"
    },
    "language_info": {
      "name": "python"
    }
  },
  "cells": [
    {
      "cell_type": "markdown",
      "metadata": {
        "id": "view-in-github",
        "colab_type": "text"
      },
      "source": [
        "<a href=\"https://colab.research.google.com/github/rpizarrog/Analisis-Inteligente-de-datos/blob/main/bloc%20de%20notas/Caso_8_Comparar_regresi%C3%B3n_lineal_simple_y_polinomica_con_datos_FIFA.ipynb\" target=\"_parent\"><img src=\"https://colab.research.google.com/assets/colab-badge.svg\" alt=\"Open In Colab\"/></a>"
      ]
    },
    {
      "cell_type": "markdown",
      "metadata": {
        "id": "mbvx4vf01-bH"
      },
      "source": [
        "# Caso 8. Comparar regresiones lineal simple  y polinómica con datos de FIFA\n",
        "\n",
        "# Objetivo\n",
        "\n",
        "Contruir modelos de regresión lineal simple y polinómica con la finalidad de evaluar la métrica R Square y determinar la utilidad de las predicciones en cada modelo.\n",
        "\n",
        "\n",
        "\n"
      ]
    },
    {
      "cell_type": "markdown",
      "metadata": {
        "id": "HZtphDzu2aJt"
      },
      "source": [
        "# Descripción\n",
        "\n",
        "* Cargar librerías\n",
        "* Cargar datos\n",
        "* Identificar variables de interés: variable independiente y la variable dependiente de los datos\n",
        "* Construir datos de entrenamiento\n",
        "* Construir datos de validación\n",
        "* Modelo lineal simple\n",
        "  * Construir el modelo \n",
        "  * Evaluar el modelo con R Square o coeficiente de determinación\n",
        "  * Interpretar el modelo\n",
        "  * Predicciones \n",
        "* Modelo polinómico de segunda potencia  \n",
        "  * Construir el modelo polinómico de segunda potencia\n",
        "  * Evaluar el modelo con R Square o coeficiente de determinación\n",
        "  * Interpretar el modelo\n",
        "  * Predicciones \n",
        "* Modelo polinómico de quinta potencia    \n",
        "  * Construir un modelo polinómico de quinta potencia\n",
        "  * Evaluar el moldeo con R Square o coeficiente de determinación\n",
        "  * Interpretar el modelo\n",
        "  * Predicciones \n",
        "* Interpretacicón del caso  "
      ]
    },
    {
      "cell_type": "code",
      "metadata": {
        "id": "pth9eyOT11oi"
      },
      "source": [
        ""
      ],
      "execution_count": 200,
      "outputs": []
    },
    {
      "cell_type": "markdown",
      "metadata": {
        "id": "Yikigugw2uIV"
      },
      "source": [
        "# Desarrollo\n",
        "\n",
        "## Cargar librerías"
      ]
    },
    {
      "cell_type": "code",
      "metadata": {
        "id": "S_wcu7DM3AEV"
      },
      "source": [
        "\n",
        "import pandas as pd\n",
        "import numpy as np\n",
        "\n",
        "# Gráficos\n",
        "# ==============================================================================\n",
        "import matplotlib.pyplot as plt\n",
        "from matplotlib import style\n",
        "import seaborn as sns\n",
        "\n",
        "# Preprocesado y modelado\n",
        "# ==============================================================================\n",
        "from scipy.stats import  pearsonr # Para correlación\n",
        "from sklearn.linear_model import LinearRegression # Para regresión\n",
        "from sklearn.model_selection import train_test_split # Partir datos\n",
        "from sklearn.metrics import r2_score\n",
        "from sklearn.metrics import r2_score # R Square\n",
        "from sklearn.metrics import mean_squared_error \n",
        "import statsmodels.api as sm\n",
        "import statsmodels.formula.api as smf\n",
        "\n",
        "\n"
      ],
      "execution_count": 201,
      "outputs": []
    },
    {
      "cell_type": "markdown",
      "metadata": {
        "id": "gECRvDVy3xVm"
      },
      "source": [
        "## Cargar los datos"
      ]
    },
    {
      "cell_type": "code",
      "metadata": {
        "colab": {
          "base_uri": "https://localhost:8080/",
          "height": 423
        },
        "id": "iiXiDtfP3zgG",
        "outputId": "3e354495-1770-4b6a-fdab-47c8027ce584"
      },
      "source": [
        "datos = pd.read_csv(\"https://raw.githubusercontent.com/rpizarrog/Analisis-Inteligente-de-datos/main/datos/datos.fifa.csv\", encoding= 'unicode_escape')\n",
        "datos[['Overall', 'Valor']]\n",
        "\n"
      ],
      "execution_count": 202,
      "outputs": [
        {
          "output_type": "execute_result",
          "data": {
            "text/html": [
              "<div>\n",
              "<style scoped>\n",
              "    .dataframe tbody tr th:only-of-type {\n",
              "        vertical-align: middle;\n",
              "    }\n",
              "\n",
              "    .dataframe tbody tr th {\n",
              "        vertical-align: top;\n",
              "    }\n",
              "\n",
              "    .dataframe thead th {\n",
              "        text-align: right;\n",
              "    }\n",
              "</style>\n",
              "<table border=\"1\" class=\"dataframe\">\n",
              "  <thead>\n",
              "    <tr style=\"text-align: right;\">\n",
              "      <th></th>\n",
              "      <th>Overall</th>\n",
              "      <th>Valor</th>\n",
              "    </tr>\n",
              "  </thead>\n",
              "  <tbody>\n",
              "    <tr>\n",
              "      <th>0</th>\n",
              "      <td>94</td>\n",
              "      <td>110500000</td>\n",
              "    </tr>\n",
              "    <tr>\n",
              "      <th>1</th>\n",
              "      <td>94</td>\n",
              "      <td>77000000</td>\n",
              "    </tr>\n",
              "    <tr>\n",
              "      <th>2</th>\n",
              "      <td>92</td>\n",
              "      <td>118500000</td>\n",
              "    </tr>\n",
              "    <tr>\n",
              "      <th>3</th>\n",
              "      <td>91</td>\n",
              "      <td>72000000</td>\n",
              "    </tr>\n",
              "    <tr>\n",
              "      <th>4</th>\n",
              "      <td>91</td>\n",
              "      <td>102000000</td>\n",
              "    </tr>\n",
              "    <tr>\n",
              "      <th>...</th>\n",
              "      <td>...</td>\n",
              "      <td>...</td>\n",
              "    </tr>\n",
              "    <tr>\n",
              "      <th>17950</th>\n",
              "      <td>47</td>\n",
              "      <td>60000</td>\n",
              "    </tr>\n",
              "    <tr>\n",
              "      <th>17951</th>\n",
              "      <td>47</td>\n",
              "      <td>60000</td>\n",
              "    </tr>\n",
              "    <tr>\n",
              "      <th>17952</th>\n",
              "      <td>47</td>\n",
              "      <td>60000</td>\n",
              "    </tr>\n",
              "    <tr>\n",
              "      <th>17953</th>\n",
              "      <td>47</td>\n",
              "      <td>60000</td>\n",
              "    </tr>\n",
              "    <tr>\n",
              "      <th>17954</th>\n",
              "      <td>46</td>\n",
              "      <td>60000</td>\n",
              "    </tr>\n",
              "  </tbody>\n",
              "</table>\n",
              "<p>17955 rows × 2 columns</p>\n",
              "</div>"
            ],
            "text/plain": [
              "       Overall      Valor\n",
              "0           94  110500000\n",
              "1           94   77000000\n",
              "2           92  118500000\n",
              "3           91   72000000\n",
              "4           91  102000000\n",
              "...        ...        ...\n",
              "17950       47      60000\n",
              "17951       47      60000\n",
              "17952       47      60000\n",
              "17953       47      60000\n",
              "17954       46      60000\n",
              "\n",
              "[17955 rows x 2 columns]"
            ]
          },
          "metadata": {},
          "execution_count": 202
        }
      ]
    },
    {
      "cell_type": "markdown",
      "metadata": {
        "id": "PWPL4cxz4xEH"
      },
      "source": [
        "Las variables de interés son Overall como variable independiente que significa el valor cuantitativo entre 0 y 100 de un jugador de futbol a nivel internacional y la variable Valor que es el estimado económico que vale un jugador de fútbol a nivel mundial\n",
        "\n"
      ]
    },
    {
      "cell_type": "code",
      "metadata": {
        "colab": {
          "base_uri": "https://localhost:8080/",
          "height": 300
        },
        "id": "jul6QX2i5SGu",
        "outputId": "6e50096a-1643-4276-8362-1f65f74193f1"
      },
      "source": [
        "datos[['Overall', 'Valor']].describe()"
      ],
      "execution_count": 203,
      "outputs": [
        {
          "output_type": "execute_result",
          "data": {
            "text/html": [
              "<div>\n",
              "<style scoped>\n",
              "    .dataframe tbody tr th:only-of-type {\n",
              "        vertical-align: middle;\n",
              "    }\n",
              "\n",
              "    .dataframe tbody tr th {\n",
              "        vertical-align: top;\n",
              "    }\n",
              "\n",
              "    .dataframe thead th {\n",
              "        text-align: right;\n",
              "    }\n",
              "</style>\n",
              "<table border=\"1\" class=\"dataframe\">\n",
              "  <thead>\n",
              "    <tr style=\"text-align: right;\">\n",
              "      <th></th>\n",
              "      <th>Overall</th>\n",
              "      <th>Valor</th>\n",
              "    </tr>\n",
              "  </thead>\n",
              "  <tbody>\n",
              "    <tr>\n",
              "      <th>count</th>\n",
              "      <td>17955.000000</td>\n",
              "      <td>1.795500e+04</td>\n",
              "    </tr>\n",
              "    <tr>\n",
              "      <th>mean</th>\n",
              "      <td>66.228237</td>\n",
              "      <td>2.444530e+06</td>\n",
              "    </tr>\n",
              "    <tr>\n",
              "      <th>std</th>\n",
              "      <td>6.921015</td>\n",
              "      <td>5.626715e+06</td>\n",
              "    </tr>\n",
              "    <tr>\n",
              "      <th>min</th>\n",
              "      <td>46.000000</td>\n",
              "      <td>1.000000e+04</td>\n",
              "    </tr>\n",
              "    <tr>\n",
              "      <th>25%</th>\n",
              "      <td>62.000000</td>\n",
              "      <td>3.250000e+05</td>\n",
              "    </tr>\n",
              "    <tr>\n",
              "      <th>50%</th>\n",
              "      <td>66.000000</td>\n",
              "      <td>7.000000e+05</td>\n",
              "    </tr>\n",
              "    <tr>\n",
              "      <th>75%</th>\n",
              "      <td>71.000000</td>\n",
              "      <td>2.100000e+06</td>\n",
              "    </tr>\n",
              "    <tr>\n",
              "      <th>max</th>\n",
              "      <td>94.000000</td>\n",
              "      <td>1.185000e+08</td>\n",
              "    </tr>\n",
              "  </tbody>\n",
              "</table>\n",
              "</div>"
            ],
            "text/plain": [
              "            Overall         Valor\n",
              "count  17955.000000  1.795500e+04\n",
              "mean      66.228237  2.444530e+06\n",
              "std        6.921015  5.626715e+06\n",
              "min       46.000000  1.000000e+04\n",
              "25%       62.000000  3.250000e+05\n",
              "50%       66.000000  7.000000e+05\n",
              "75%       71.000000  2.100000e+06\n",
              "max       94.000000  1.185000e+08"
            ]
          },
          "metadata": {},
          "execution_count": 203
        }
      ]
    },
    {
      "cell_type": "markdown",
      "metadata": {
        "id": "zCMMTA2l60j_"
      },
      "source": [
        "## Diagrama de dispersión de los datos\n",
        "\n",
        "Se muestra el diagrama de dispersión con todo el conjunto de datos"
      ]
    },
    {
      "cell_type": "code",
      "metadata": {
        "colab": {
          "base_uri": "https://localhost:8080/",
          "height": 293
        },
        "id": "_lwH1Qg7678u",
        "outputId": "efb370fa-7ea1-4bfd-dbca-e2dc3307d005"
      },
      "source": [
        "from matplotlib import pyplot as plt\n",
        " \n",
        "# Convertirlo a arreglos independiente \n",
        "Overall = datos['Overall'].values.reshape(-1, 1) # Variable independiente\n",
        "Valor = datos['Valor'].values.reshape(-1, 1) # Variable dependiente\n",
        "plt.scatter(x,y)"
      ],
      "execution_count": 204,
      "outputs": [
        {
          "output_type": "execute_result",
          "data": {
            "text/plain": [
              "<matplotlib.collections.PathCollection at 0x7f9e7061d190>"
            ]
          },
          "metadata": {},
          "execution_count": 204
        },
        {
          "output_type": "display_data",
          "data": {
            "image/png": "[encoded data removed]",
            "text/plain": [
              "<Figure size 432x288 with 1 Axes>"
            ]
          },
          "metadata": {
            "needs_background": "light"
          }
        }
      ]
    },
    {
      "cell_type": "markdown",
      "metadata": {
        "id": "Etd1rw687bWn"
      },
      "source": [
        "## Construir datos de entrenamiento y validación"
      ]
    },
    {
      "cell_type": "code",
      "metadata": {
        "id": "ANF76onl7hs3"
      },
      "source": [
        "Overall = datos['Overall']\n",
        "Valor = datos['Valor']\n",
        "\n",
        "\n",
        "entrena_Overall, valida_Overall, entrena_Valor, valida_Valor = train_test_split(\n",
        "                                        Overall.values.reshape(-1,1),\n",
        "                                        Valor.values.reshape(-1,1),\n",
        "                                        train_size   = 0.8,\n",
        "                                        random_state = 2021,\n",
        "                                        shuffle      = True\n",
        "                                    )\n",
        "\n"
      ],
      "execution_count": 205,
      "outputs": []
    },
    {
      "cell_type": "markdown",
      "metadata": {
        "id": "PdmJDoV9C1vh"
      },
      "source": [
        "### Datos de entrenamiento"
      ]
    },
    {
      "cell_type": "code",
      "metadata": {
        "colab": {
          "base_uri": "https://localhost:8080/",
          "height": 423
        },
        "id": "lJsO8fIoB7Z4",
        "outputId": "01764b84-86b9-40e8-bf8d-0407f9f850b6"
      },
      "source": [
        "entrenamiento = pd.DataFrame(np.concatenate((entrena_Overall, entrena_Valor), axis=1))\n",
        "entrenamiento.columns = ['Overall', 'Valor']\n",
        "entrenamiento"
      ],
      "execution_count": 206,
      "outputs": [
        {
          "output_type": "execute_result",
          "data": {
            "text/html": [
              "<div>\n",
              "<style scoped>\n",
              "    .dataframe tbody tr th:only-of-type {\n",
              "        vertical-align: middle;\n",
              "    }\n",
              "\n",
              "    .dataframe tbody tr th {\n",
              "        vertical-align: top;\n",
              "    }\n",
              "\n",
              "    .dataframe thead th {\n",
              "        text-align: right;\n",
              "    }\n",
              "</style>\n",
              "<table border=\"1\" class=\"dataframe\">\n",
              "  <thead>\n",
              "    <tr style=\"text-align: right;\">\n",
              "      <th></th>\n",
              "      <th>Overall</th>\n",
              "      <th>Valor</th>\n",
              "    </tr>\n",
              "  </thead>\n",
              "  <tbody>\n",
              "    <tr>\n",
              "      <th>0</th>\n",
              "      <td>49</td>\n",
              "      <td>40000</td>\n",
              "    </tr>\n",
              "    <tr>\n",
              "      <th>1</th>\n",
              "      <td>59</td>\n",
              "      <td>220000</td>\n",
              "    </tr>\n",
              "    <tr>\n",
              "      <th>2</th>\n",
              "      <td>53</td>\n",
              "      <td>90000</td>\n",
              "    </tr>\n",
              "    <tr>\n",
              "      <th>3</th>\n",
              "      <td>69</td>\n",
              "      <td>140000</td>\n",
              "    </tr>\n",
              "    <tr>\n",
              "      <th>4</th>\n",
              "      <td>60</td>\n",
              "      <td>290000</td>\n",
              "    </tr>\n",
              "    <tr>\n",
              "      <th>...</th>\n",
              "      <td>...</td>\n",
              "      <td>...</td>\n",
              "    </tr>\n",
              "    <tr>\n",
              "      <th>14359</th>\n",
              "      <td>60</td>\n",
              "      <td>325000</td>\n",
              "    </tr>\n",
              "    <tr>\n",
              "      <th>14360</th>\n",
              "      <td>57</td>\n",
              "      <td>220000</td>\n",
              "    </tr>\n",
              "    <tr>\n",
              "      <th>14361</th>\n",
              "      <td>73</td>\n",
              "      <td>3700000</td>\n",
              "    </tr>\n",
              "    <tr>\n",
              "      <th>14362</th>\n",
              "      <td>52</td>\n",
              "      <td>110000</td>\n",
              "    </tr>\n",
              "    <tr>\n",
              "      <th>14363</th>\n",
              "      <td>69</td>\n",
              "      <td>1000000</td>\n",
              "    </tr>\n",
              "  </tbody>\n",
              "</table>\n",
              "<p>14364 rows × 2 columns</p>\n",
              "</div>"
            ],
            "text/plain": [
              "       Overall    Valor\n",
              "0           49    40000\n",
              "1           59   220000\n",
              "2           53    90000\n",
              "3           69   140000\n",
              "4           60   290000\n",
              "...        ...      ...\n",
              "14359       60   325000\n",
              "14360       57   220000\n",
              "14361       73  3700000\n",
              "14362       52   110000\n",
              "14363       69  1000000\n",
              "\n",
              "[14364 rows x 2 columns]"
            ]
          },
          "metadata": {},
          "execution_count": 206
        }
      ]
    },
    {
      "cell_type": "markdown",
      "metadata": {
        "id": "uBqqXVCaC-mo"
      },
      "source": [
        "### Datos de validación"
      ]
    },
    {
      "cell_type": "code",
      "metadata": {
        "colab": {
          "base_uri": "https://localhost:8080/",
          "height": 423
        },
        "id": "WEyeYwkPB2cp",
        "outputId": "7e7a4725-e8b8-457c-e3c1-2dae560f857e"
      },
      "source": [
        "validacion = pd.DataFrame(np.concatenate((valida_Overall, valida_Valor), axis=1))\n",
        "validacion.columns = ['Overall', 'Valor']\n",
        "validacion"
      ],
      "execution_count": 207,
      "outputs": [
        {
          "output_type": "execute_result",
          "data": {
            "text/html": [
              "<div>\n",
              "<style scoped>\n",
              "    .dataframe tbody tr th:only-of-type {\n",
              "        vertical-align: middle;\n",
              "    }\n",
              "\n",
              "    .dataframe tbody tr th {\n",
              "        vertical-align: top;\n",
              "    }\n",
              "\n",
              "    .dataframe thead th {\n",
              "        text-align: right;\n",
              "    }\n",
              "</style>\n",
              "<table border=\"1\" class=\"dataframe\">\n",
              "  <thead>\n",
              "    <tr style=\"text-align: right;\">\n",
              "      <th></th>\n",
              "      <th>Overall</th>\n",
              "      <th>Valor</th>\n",
              "    </tr>\n",
              "  </thead>\n",
              "  <tbody>\n",
              "    <tr>\n",
              "      <th>0</th>\n",
              "      <td>75</td>\n",
              "      <td>7500000</td>\n",
              "    </tr>\n",
              "    <tr>\n",
              "      <th>1</th>\n",
              "      <td>62</td>\n",
              "      <td>450000</td>\n",
              "    </tr>\n",
              "    <tr>\n",
              "      <th>2</th>\n",
              "      <td>63</td>\n",
              "      <td>400000</td>\n",
              "    </tr>\n",
              "    <tr>\n",
              "      <th>3</th>\n",
              "      <td>74</td>\n",
              "      <td>5000000</td>\n",
              "    </tr>\n",
              "    <tr>\n",
              "      <th>4</th>\n",
              "      <td>66</td>\n",
              "      <td>400000</td>\n",
              "    </tr>\n",
              "    <tr>\n",
              "      <th>...</th>\n",
              "      <td>...</td>\n",
              "      <td>...</td>\n",
              "    </tr>\n",
              "    <tr>\n",
              "      <th>3586</th>\n",
              "      <td>70</td>\n",
              "      <td>1300000</td>\n",
              "    </tr>\n",
              "    <tr>\n",
              "      <th>3587</th>\n",
              "      <td>64</td>\n",
              "      <td>500000</td>\n",
              "    </tr>\n",
              "    <tr>\n",
              "      <th>3588</th>\n",
              "      <td>62</td>\n",
              "      <td>325000</td>\n",
              "    </tr>\n",
              "    <tr>\n",
              "      <th>3589</th>\n",
              "      <td>60</td>\n",
              "      <td>210000</td>\n",
              "    </tr>\n",
              "    <tr>\n",
              "      <th>3590</th>\n",
              "      <td>60</td>\n",
              "      <td>400000</td>\n",
              "    </tr>\n",
              "  </tbody>\n",
              "</table>\n",
              "<p>3591 rows × 2 columns</p>\n",
              "</div>"
            ],
            "text/plain": [
              "      Overall    Valor\n",
              "0          75  7500000\n",
              "1          62   450000\n",
              "2          63   400000\n",
              "3          74  5000000\n",
              "4          66   400000\n",
              "...       ...      ...\n",
              "3586       70  1300000\n",
              "3587       64   500000\n",
              "3588       62   325000\n",
              "3589       60   210000\n",
              "3590       60   400000\n",
              "\n",
              "[3591 rows x 2 columns]"
            ]
          },
          "metadata": {},
          "execution_count": 207
        }
      ]
    },
    {
      "cell_type": "markdown",
      "metadata": {
        "id": "B7fsZQI5thYs"
      },
      "source": [
        "### Diagrama de dispersión con datos de entrenamiento"
      ]
    },
    {
      "cell_type": "code",
      "metadata": {
        "colab": {
          "base_uri": "https://localhost:8080/",
          "height": 293
        },
        "id": "CBFFPFubtQ5u",
        "outputId": "03818030-1c70-4325-e207-653c1950175e"
      },
      "source": [
        "Overall = entrenamiento['Overall'].values.reshape(-1, 1) # Variable independiente\n",
        "Valor = entrenamiento['Valor'].values.reshape(-1, 1) # Variable dependiente\n",
        "plt.scatter(x,y)"
      ],
      "execution_count": 266,
      "outputs": [
        {
          "output_type": "execute_result",
          "data": {
            "text/plain": [
              "<matplotlib.collections.PathCollection at 0x7f9e67600710>"
            ]
          },
          "metadata": {},
          "execution_count": 266
        },
        {
          "output_type": "display_data",
          "data": {
            "image/png": "[encoded data removed]",
            "text/plain": [
              "<Figure size 432x288 with 1 Axes>"
            ]
          },
          "metadata": {
            "needs_background": "light"
          }
        }
      ]
    },
    {
      "cell_type": "markdown",
      "metadata": {
        "id": "TwC7d4m9DbZ4"
      },
      "source": [
        "## Modelo de regresión lineal simple\n",
        "\n"
      ]
    },
    {
      "cell_type": "markdown",
      "metadata": {
        "id": "Jsg28AeADo44"
      },
      "source": [
        "### Construyendo el modelo de regresión lineal simple"
      ]
    },
    {
      "cell_type": "code",
      "metadata": {
        "id": "q6u7SZwVEHIp"
      },
      "source": [
        "modelo_lin = LinearRegression()\n",
        "modelo_lin.fit(X = entrena_Overall.reshape(-1, 1), y = entrena_Valor)\n",
        "\n",
        "y_pred = modelo_lin.predict(Overall)"
      ],
      "execution_count": 267,
      "outputs": []
    },
    {
      "cell_type": "markdown",
      "metadata": {
        "id": "Mf6Ik5EBDkFo"
      },
      "source": [
        "### Evaluando el modelo de regresión lineal simple"
      ]
    },
    {
      "cell_type": "code",
      "metadata": {
        "colab": {
          "base_uri": "https://localhost:8080/"
        },
        "id": "83A0sAjmEWcY",
        "outputId": "fdd98896-5291-49c7-e560-774bab760609"
      },
      "source": [
        "print(\"Coeficiente de la intercepción:\", modelo_lin.intercept_)\n",
        "print(\"Coeficiente de la pendiente\", modelo_lin.coef_)\n",
        "print(\"Coeficiente de determinación R^2 o R Square:\", modelo_lin.score(X = entrena_Overall, y = entrena_Valor))"
      ],
      "execution_count": 254,
      "outputs": [
        {
          "output_type": "stream",
          "name": "stdout",
          "text": [
            "Coeficiente de la intercepción: [-31818186.001252]\n",
            "Coeficiente de la pendiente [[517268.60261868]]\n",
            "Coeficiente de determinación R^2 o R Square: 0.3931398886597335\n"
          ]
        }
      ]
    },
    {
      "cell_type": "markdown",
      "metadata": {
        "id": "2JUTXEN8t3C1"
      },
      "source": [
        "Se construye la recta de regresión con los datos de entrenamiento y el modelo construído a partir de estos datos."
      ]
    },
    {
      "cell_type": "code",
      "metadata": {
        "colab": {
          "base_uri": "https://localhost:8080/",
          "height": 276
        },
        "id": "G_7ztRgFt1-m",
        "outputId": "0136a4f5-e97e-47f7-d991-d4ea22563b9f"
      },
      "source": [
        "plt.scatter(x, y)\n",
        "plt.plot(Overall, y_pred, color='r')\n",
        "plt.show()"
      ],
      "execution_count": 268,
      "outputs": [
        {
          "output_type": "display_data",
          "data": {
            "image/png": "[encoded data removed]",
            "text/plain": [
              "<Figure size 432x288 with 1 Axes>"
            ]
          },
          "metadata": {
            "needs_background": "light"
          }
        }
      ]
    },
    {
      "cell_type": "markdown",
      "metadata": {
        "id": "VY59I4_VEprR"
      },
      "source": [
        "### Interpretar el modelo de regresión lineal simple\n",
        "\n",
        "En la gráfica de dispersión de las variables Overall y Valor se observa una relación entre las variables de manera curva o polinómica y poco lineal.\n",
        "\n",
        "El modelo de regresión lineal simple presenta un valor de R Square de 39.31%, significa que la variable Overall representa ese porcentaje sobre la variable Valor.\n",
        "\n",
        "Si hay cantidades de Overall por debajo de 60 o aproximado menor que 60 cualquier predicción sale negativa."
      ]
    },
    {
      "cell_type": "markdown",
      "metadata": {
        "id": "iSCs4oGJE_G6"
      },
      "source": [
        "#### Predicciones regresión lineal simple\n",
        "\n",
        "Se elige algun valor del conjunto de datos de validación para comparar el valor real con el valor de la predicción con el modelo de regresión lineal simple.\n",
        "\n",
        "Se elige el registro 10, 500 y 1000 y del conjunto de datos de validacion.\n",
        "\n"
      ]
    },
    {
      "cell_type": "code",
      "metadata": {
        "colab": {
          "base_uri": "https://localhost:8080/"
        },
        "id": "ynryW3FHdLZj",
        "outputId": "48a79453-8d7a-46fd-9a26-a3b79104b8d3"
      },
      "source": [
        "\n",
        "registro = 10\n",
        "print(validacion.loc[registro])\n",
        "\n",
        "a_predecir = validacion.loc[registro,'Overall']\n",
        "\n",
        "print(a_predecir)\n",
        "pred_lin = modelo_lin.predict([[a_predecir]])\n",
        "pred_lin\n",
        "print(\"La predición con el modelo lineal simple de un valor de \", a_predecir, \" es de \", float(pred_lin), \" la real conforme a datos de validación es de: \", validacion.loc[registro,'Valor'])\n"
      ],
      "execution_count": 269,
      "outputs": [
        {
          "output_type": "stream",
          "name": "stdout",
          "text": [
            "Overall        57\n",
            "Valor      160000\n",
            "Name: 10, dtype: int64\n",
            "57\n",
            "La predición con el modelo lineal simple de un valor de  57  es de  -2333875.6519870013  la real conforme a datos de validación es de:  160000\n"
          ]
        }
      ]
    },
    {
      "cell_type": "code",
      "metadata": {
        "colab": {
          "base_uri": "https://localhost:8080/"
        },
        "id": "acDiEkyDviOP",
        "outputId": "7f72259e-41f4-4b09-a349-52864efe14e9"
      },
      "source": [
        "registro = 500\n",
        "print(validacion.loc[registro])\n",
        "\n",
        "a_predecir = validacion.loc[registro,'Overall']\n",
        "\n",
        "print(a_predecir)\n",
        "pred_lin = modelo_lin.predict([[a_predecir]])\n",
        "pred_lin\n",
        "print(\"La predición con el modelo lineal simple de un valor de \", a_predecir, \" es de \", float(pred_lin), \" la real conforme a datos de validación es de: \", validacion.loc[registro,'Valor'])"
      ],
      "execution_count": 270,
      "outputs": [
        {
          "output_type": "stream",
          "name": "stdout",
          "text": [
            "Overall          79\n",
            "Valor      11500000\n",
            "Name: 500, dtype: int64\n",
            "79\n",
            "La predición con el modelo lineal simple de un valor de  79  es de  9046033.60562405  la real conforme a datos de validación es de:  11500000\n"
          ]
        }
      ]
    },
    {
      "cell_type": "code",
      "metadata": {
        "colab": {
          "base_uri": "https://localhost:8080/"
        },
        "id": "IG8sZzdOySeP",
        "outputId": "26a6e994-5409-40f4-b61a-8e51b9cc8de3"
      },
      "source": [
        "registro = 1000\n",
        "print(validacion.loc[registro])\n",
        "\n",
        "a_predecir = validacion.loc[registro,'Overall']\n",
        "\n",
        "\n",
        "print(a_predecir)\n",
        "pred_lin = modelo_lin.predict([[a_predecir]])\n",
        "pred_lin\n",
        "print(\"La predición con el modelo lineal simple de un valor de \", a_predecir, \" es de \", float(pred_lin), \" la real conforme a datos de validación es de: \", validacion.loc[registro,'Valor'])"
      ],
      "execution_count": 271,
      "outputs": [
        {
          "output_type": "stream",
          "name": "stdout",
          "text": [
            "Overall        58\n",
            "Valor      230000\n",
            "Name: 1000, dtype: int64\n",
            "58\n",
            "La predición con el modelo lineal simple de un valor de  58  es de  -1816607.0493683182  la real conforme a datos de validación es de:  230000\n"
          ]
        }
      ]
    },
    {
      "cell_type": "markdown",
      "metadata": {
        "id": "1Kz_d6tEyb_n"
      },
      "source": [
        "## Modelo polinómico de segundo nivel\n",
        "\n",
        "Se crea un modelo polinómico con los mismos datos de entremiento y evaluar el R Square así como las predicciones con los datos de validación.\n",
        "\n",
        "primero se crea una variable polyn que tiene características de una ecuación se segundo nivel.\n"
      ]
    },
    {
      "cell_type": "code",
      "metadata": {
        "colab": {
          "base_uri": "https://localhost:8080/"
        },
        "id": "ziuYXFcI5dcI",
        "outputId": "0b5e193d-270b-4fc2-8b2e-c5fa4898f1ad"
      },
      "source": [
        "from sklearn.preprocessing import PolynomialFeatures\n",
        " \n",
        "polyn = PolynomialFeatures(degree=2)\n",
        "\n",
        "x_poly = polyn.fit_transform(Overall)\n",
        "\n",
        "print(Overall)\n",
        "print(x_poly)"
      ],
      "execution_count": 272,
      "outputs": [
        {
          "output_type": "stream",
          "name": "stdout",
          "text": [
            "[[49]\n",
            " [59]\n",
            " [53]\n",
            " ...\n",
            " [73]\n",
            " [52]\n",
            " [69]]\n",
            "[[1.000e+00 4.900e+01 2.401e+03]\n",
            " [1.000e+00 5.900e+01 3.481e+03]\n",
            " [1.000e+00 5.300e+01 2.809e+03]\n",
            " ...\n",
            " [1.000e+00 7.300e+01 5.329e+03]\n",
            " [1.000e+00 5.200e+01 2.704e+03]\n",
            " [1.000e+00 6.900e+01 4.761e+03]]\n"
          ]
        }
      ]
    },
    {
      "cell_type": "markdown",
      "metadata": {
        "id": "ix6DaU5t5wUA"
      },
      "source": [
        "Luego se crea el modelo de regresión polinomial de segundo nivel\n"
      ]
    },
    {
      "cell_type": "code",
      "metadata": {
        "colab": {
          "base_uri": "https://localhost:8080/",
          "height": 553
        },
        "id": "T0L0gwez523A",
        "outputId": "d5dc0b90-d6b4-4b4d-b61c-544f4a75e33c"
      },
      "source": [
        "modelo_pol2 = LinearRegression()\n",
        "modelo_pol2.fit(x_poly, Valor)\n",
        "\n",
        "y_pred = modelo_pol2.predict(x_poly)\n",
        "print(Overall)\n",
        "print(y_pred)\n",
        "\n",
        " \n",
        "plt.scatter(Overall, Valor)\n",
        "plt.plot(Overall, y_pred, color='r')\n",
        "plt.show()\n",
        " \n",
        "rmse = np.sqrt(mean_squared_error(Valor,y_pred))\n",
        "r2 = r2_score(Valor,y_pred)\n",
        "print ('RMSE: ' + str(rmse))\n",
        "print ('R2: ' + str(r2))"
      ],
      "execution_count": 276,
      "outputs": [
        {
          "output_type": "stream",
          "name": "stdout",
          "text": [
            "[[49]\n",
            " [59]\n",
            " [53]\n",
            " ...\n",
            " [73]\n",
            " [52]\n",
            " [69]]\n",
            "[[6352454.74800411]\n",
            " [-891369.42030916]\n",
            " [2261636.76331106]\n",
            " ...\n",
            " [5673313.18720078]\n",
            " [3135180.21981338]\n",
            " [1808875.72277549]]\n"
          ]
        },
        {
          "output_type": "display_data",
          "data": {
            "image/png": "[encoded data removed]",
            "text/plain": [
              "<Figure size 432x288 with 1 Axes>"
            ]
          },
          "metadata": {
            "needs_background": "light"
          }
        },
        {
          "output_type": "stream",
          "name": "stdout",
          "text": [
            "RMSE: 2796715.519337346\n",
            "R2: 0.7594680604382035\n"
          ]
        }
      ]
    },
    {
      "cell_type": "markdown",
      "metadata": {
        "id": "3oQJiIHMA7YG"
      },
      "source": [
        "El valor de R Square en el modelo polinómico de segundo nivel es del 75.94% en comparación con el modelo de regresión lineal simple de 39.31% es mucho mayor lo que representa una predicción más util y con mayor representatividad.\n",
        "\n"
      ]
    },
    {
      "cell_type": "markdown",
      "metadata": {
        "id": "HVfcXjWxBVKD"
      },
      "source": [
        "## Predicciones con modelo de regresió polinomila de segundo nivel\n"
      ]
    },
    {
      "cell_type": "code",
      "metadata": {
        "colab": {
          "base_uri": "https://localhost:8080/"
        },
        "id": "e2zDcvlmBeqi",
        "outputId": "2d406f40-c931-4b3d-a0f8-041b520a99e1"
      },
      "source": [
        "registro = 10\n",
        "print(validacion.loc[registro])\n",
        "\n",
        "a_predecir = validacion.loc[registro,'Overall']\n",
        "\n",
        "print(a_predecir)\n",
        "pred2 = modelo_pol2.predict(polyn.fit_transform([[a_predecir]]))\n",
        "print(pred2)"
      ],
      "execution_count": 279,
      "outputs": [
        {
          "output_type": "stream",
          "name": "stdout",
          "text": [
            "Overall        57\n",
            "Valor      160000\n",
            "Name: 10, dtype: int64\n",
            "57\n",
            "[[-238130.1315583]]\n"
          ]
        }
      ]
    },
    {
      "cell_type": "code",
      "metadata": {
        "colab": {
          "base_uri": "https://localhost:8080/"
        },
        "id": "FuZ_Euy9CGor",
        "outputId": "82e8f55d-14cf-47a5-df93-b26568821974"
      },
      "source": [
        "registro = 500\n",
        "print(validacion.loc[registro])\n",
        "\n",
        "a_predecir = validacion.loc[registro,'Overall']\n",
        "print(a_predecir)\n",
        "pred2 = modelo_pol2.predict(polyn.fit_transform([[a_predecir]]))\n",
        "print(pred2)"
      ],
      "execution_count": 280,
      "outputs": [
        {
          "output_type": "stream",
          "name": "stdout",
          "text": [
            "Overall          79\n",
            "Valor      11500000\n",
            "Name: 500, dtype: int64\n",
            "79\n",
            "[[14453190.17725804]]\n"
          ]
        }
      ]
    },
    {
      "cell_type": "code",
      "metadata": {
        "colab": {
          "base_uri": "https://localhost:8080/"
        },
        "id": "AOg4YraPCg6a",
        "outputId": "aa4ae076-e785-4f65-fb66-da91c7ea82d9"
      },
      "source": [
        "# registro = 500\n",
        "# print(validacion.loc[registro])\n",
        "\n",
        "a_predecir = 85\n",
        "print(a_predecir)\n",
        "pred2 = modelo_pol2.predict(polyn.fit_transform([[a_predecir]]))\n",
        "print(pred2)"
      ],
      "execution_count": 281,
      "outputs": [
        {
          "output_type": "stream",
          "name": "stdout",
          "text": [
            "85\n",
            "[[26812932.11941853]]\n"
          ]
        }
      ]
    },
    {
      "cell_type": "markdown",
      "metadata": {
        "id": "BRSDQQC6CzTK"
      },
      "source": [
        "## Modelo polinómico de quinto nivel\n",
        "\n"
      ]
    },
    {
      "cell_type": "code",
      "metadata": {
        "colab": {
          "base_uri": "https://localhost:8080/"
        },
        "id": "m1Fnu3LwC59y",
        "outputId": "7da4f820-f605-4e6d-e4aa-5000a80d5507"
      },
      "source": [
        "polyn = PolynomialFeatures(degree=5)\n",
        "\n",
        "x_poly = polyn.fit_transform(Overall)\n",
        "\n",
        "print(Overall)\n",
        "print(x_poly)"
      ],
      "execution_count": 283,
      "outputs": [
        {
          "output_type": "stream",
          "name": "stdout",
          "text": [
            "[[49]\n",
            " [59]\n",
            " [53]\n",
            " ...\n",
            " [73]\n",
            " [52]\n",
            " [69]]\n",
            "[[1.00000000e+00 4.90000000e+01 2.40100000e+03 1.17649000e+05\n",
            "  5.76480100e+06 2.82475249e+08]\n",
            " [1.00000000e+00 5.90000000e+01 3.48100000e+03 2.05379000e+05\n",
            "  1.21173610e+07 7.14924299e+08]\n",
            " [1.00000000e+00 5.30000000e+01 2.80900000e+03 1.48877000e+05\n",
            "  7.89048100e+06 4.18195493e+08]\n",
            " ...\n",
            " [1.00000000e+00 7.30000000e+01 5.32900000e+03 3.89017000e+05\n",
            "  2.83982410e+07 2.07307159e+09]\n",
            " [1.00000000e+00 5.20000000e+01 2.70400000e+03 1.40608000e+05\n",
            "  7.31161600e+06 3.80204032e+08]\n",
            " [1.00000000e+00 6.90000000e+01 4.76100000e+03 3.28509000e+05\n",
            "  2.26671210e+07 1.56403135e+09]]\n"
          ]
        }
      ]
    },
    {
      "cell_type": "code",
      "metadata": {
        "colab": {
          "base_uri": "https://localhost:8080/",
          "height": 553
        },
        "id": "s6iZypduDPxC",
        "outputId": "b3d7d6eb-ef6f-4aa1-9e0e-a99288d14ddd"
      },
      "source": [
        "modelo_pol5 = LinearRegression()\n",
        "modelo_pol5.fit(x_poly, Valor)\n",
        "\n",
        "y_pred = modelo_pol5.predict(x_poly)\n",
        "print(Overall)\n",
        "print(y_pred)\n",
        "\n",
        " \n",
        "plt.scatter(Overall, Valor)\n",
        "plt.plot(Overall, y_pred, color='r')\n",
        "plt.show()\n",
        " \n",
        "rmse = np.sqrt(mean_squared_error(Valor,y_pred))\n",
        "r2 = r2_score(Valor,y_pred)\n",
        "print ('RMSE: ' + str(rmse))\n",
        "print ('R2: ' + str(r2))"
      ],
      "execution_count": 285,
      "outputs": [
        {
          "output_type": "stream",
          "name": "stdout",
          "text": [
            "[[49]\n",
            " [59]\n",
            " [53]\n",
            " ...\n",
            " [73]\n",
            " [52]\n",
            " [69]]\n",
            "[[  54360.40926212]\n",
            " [ 244354.83312368]\n",
            " [  88575.94737327]\n",
            " ...\n",
            " [3787924.14516294]\n",
            " [  65532.12605059]\n",
            " [1442314.34486949]]\n"
          ]
        },
        {
          "output_type": "display_data",
          "data": {
            "image/png": "[encoded data removed]",
            "text/plain": [
              "<Figure size 432x288 with 1 Axes>"
            ]
          },
          "metadata": {
            "needs_background": "light"
          }
        },
        {
          "output_type": "stream",
          "name": "stdout",
          "text": [
            "RMSE: 1791820.4787536587\n",
            "R2: 0.9012663573094013\n"
          ]
        }
      ]
    },
    {
      "cell_type": "markdown",
      "metadata": {
        "id": "V457UpFhDdZ0"
      },
      "source": [
        "El valor de R Square en el modelo polinómico de quinto nivel esde 90.12% mayor que el valor del R Square del modelo polinómioc de egundo nivel con 75.94% en comparación con el modelo de regresión lineal simple de 39.31% es mucho mayor lo que representa una predicción más util y con mayor representatividad."
      ]
    },
    {
      "cell_type": "markdown",
      "metadata": {
        "id": "n3cJ0okmDx-D"
      },
      "source": [
        "## Predicciones con el modelo de regresión polinómico de quinto nivel\n"
      ]
    },
    {
      "cell_type": "markdown",
      "metadata": {
        "id": "s96khMXPD-kD"
      },
      "source": [
        ""
      ]
    },
    {
      "cell_type": "code",
      "metadata": {
        "colab": {
          "base_uri": "https://localhost:8080/"
        },
        "id": "uhcodK4KD-1L",
        "outputId": "27dada3d-0232-44d8-8563-060085e80b5d"
      },
      "source": [
        "registro = 10\n",
        "print(validacion.loc[registro])\n",
        "\n",
        "a_predecir = validacion.loc[registro,'Overall']\n",
        "\n",
        "print(a_predecir)\n",
        "pred5 = modelo_pol5.predict(polyn.fit_transform([[a_predecir]]))\n",
        "print(pred5)"
      ],
      "execution_count": 291,
      "outputs": [
        {
          "output_type": "stream",
          "name": "stdout",
          "text": [
            "Overall        57\n",
            "Valor      160000\n",
            "Name: 10, dtype: int64\n",
            "57\n",
            "[[196483.46624629]]\n"
          ]
        }
      ]
    },
    {
      "cell_type": "code",
      "metadata": {
        "colab": {
          "base_uri": "https://localhost:8080/"
        },
        "id": "If9iQja7ENUM",
        "outputId": "16d4b8ce-2f93-4b4e-b7ca-00d4afb1dbce"
      },
      "source": [
        "registro = 500\n",
        "print(validacion.loc[registro])\n",
        "\n",
        "a_predecir = validacion.loc[registro,'Overall']\n",
        "print(a_predecir)\n",
        "pred5 = modelo_pol5.predict(polyn.fit_transform([[a_predecir]]))\n",
        "print(pred5)"
      ],
      "execution_count": 292,
      "outputs": [
        {
          "output_type": "stream",
          "name": "stdout",
          "text": [
            "Overall          79\n",
            "Valor      11500000\n",
            "Name: 500, dtype: int64\n",
            "79\n",
            "[[12940891.80597259]]\n"
          ]
        }
      ]
    },
    {
      "cell_type": "code",
      "metadata": {
        "colab": {
          "base_uri": "https://localhost:8080/"
        },
        "id": "xblZXRywEj9F",
        "outputId": "847b750b-c1a2-46f7-82f5-b2be29b799ab"
      },
      "source": [
        "# registro = 500\n",
        "# print(validacion.loc[registro])\n",
        "\n",
        "a_predecir = 85\n",
        "print(a_predecir)\n",
        "pred5 = modelo_pol5.predict(polyn.fit_transform([[a_predecir]]))\n",
        "print(pred5)"
      ],
      "execution_count": 295,
      "outputs": [
        {
          "output_type": "stream",
          "name": "stdout",
          "text": [
            "85\n",
            "[[34733265.99466695]]\n"
          ]
        }
      ]
    },
    {
      "cell_type": "markdown",
      "metadata": {
        "id": "MxL3Kc7lFdXk"
      },
      "source": [
        ""
      ]
    },
    {
      "cell_type": "markdown",
      "metadata": {
        "id": "NPIPCNNTFdY_"
      },
      "source": [
        "# Interpretación de todo el caso\n",
        "\n",
        "Sus proias palabras"
      ]
    }
  ]
}