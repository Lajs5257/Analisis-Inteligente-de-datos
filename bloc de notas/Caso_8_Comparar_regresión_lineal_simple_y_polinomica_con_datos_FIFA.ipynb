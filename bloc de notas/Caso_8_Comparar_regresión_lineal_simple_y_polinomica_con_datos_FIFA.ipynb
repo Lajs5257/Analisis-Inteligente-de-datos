{
  "nbformat": 4,
  "nbformat_minor": 0,
  "metadata": {
    "colab": {
      "name": "Caso 8 Comparar regresión lineal simple y polinomica con datos FIFA.ipynb",
      "provenance": [],
      "collapsed_sections": [],
      "authorship_tag": "ABX9TyMh4DYo+fKmEJKZIIjaSP2g",
      "include_colab_link": true
    },
    "kernelspec": {
      "name": "python3",
      "display_name": "Python 3"
    },
    "language_info": {
      "name": "python"
    }
  },
  "cells": [
    {
      "cell_type": "markdown",
      "metadata": {
        "id": "view-in-github",
        "colab_type": "text"
      },
      "source": [
        "<a href=\"https://colab.research.google.com/github/rpizarrog/Analisis-Inteligente-de-datos/blob/main/bloc%20de%20notas/Caso_8_Comparar_regresi%C3%B3n_lineal_simple_y_polinomica_con_datos_FIFA.ipynb\" target=\"_parent\"><img src=\"https://colab.research.google.com/assets/colab-badge.svg\" alt=\"Open In Colab\"/></a>"
      ]
    },
    {
      "cell_type": "markdown",
      "metadata": {
        "id": "mbvx4vf01-bH"
      },
      "source": [
        "# Caso 8. Comparar regresiones lineal simple  y polinómica con datos de FIFA\n",
        "\n",
        "# Objetivo\n",
        "\n",
        "Contruir modelos de regresión lineal simple y polinómica con la finalidad de evaluar la métrica R Square y determinar la utilidad de las predicciones en cada modelo.\n",
        "\n",
        "\n",
        "\n"
      ]
    },
    {
      "cell_type": "markdown",
      "metadata": {
        "id": "HZtphDzu2aJt"
      },
      "source": [
        "# Descripción\n",
        "\n",
        "* Cargar librerías\n",
        "* Cargar datos\n",
        "* Identificar variables de interés: variable independiente y la variable dependiente de los datos\n",
        "* Construir datos de entrenamiento\n",
        "* Construir datos de validación\n",
        "* Construir modelo lineal\n",
        "* Evaluar el modelo con R Square o coeficiente de determinación\n",
        "* Interpretar el modelo\n",
        "* Construir un modelo polinómico de segunda potencia\n",
        "* Evaluar el modelo con R Square o coeficiente de determinación\n",
        "* Interpretar el modelo\n",
        "* Construir un modelo polinómico de quinta potencia\n",
        "* Evaluar el moldeo con R Square o coeficiente de determinación\n",
        "* Interpretar el modelo"
      ]
    },
    {
      "cell_type": "code",
      "metadata": {
        "id": "pth9eyOT11oi"
      },
      "source": [
        ""
      ],
      "execution_count": null,
      "outputs": []
    },
    {
      "cell_type": "markdown",
      "metadata": {
        "id": "Yikigugw2uIV"
      },
      "source": [
        "# Desarrollo"
      ]
    },
    {
      "cell_type": "code",
      "metadata": {
        "id": "S_wcu7DM3AEV"
      },
      "source": [
        ""
      ],
      "execution_count": null,
      "outputs": []
    }
  ]
}